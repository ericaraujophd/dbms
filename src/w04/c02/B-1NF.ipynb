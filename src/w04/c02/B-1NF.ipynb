{
 "cells": [
  {
   "cell_type": "markdown",
   "id": "653100c4",
   "metadata": {},
   "source": [
    "# First Normal Form (1NF)\n",
    "\n",
    "A table is in 1NF if it contains:\n",
    "\n",
    "* A primary key that uniquely identifies each row.\n",
    "* No multivalued columns (i.e., each column contains atomic values).\n"
   ]
  },
  {
   "cell_type": "markdown",
   "id": "557f1c74",
   "metadata": {},
   "source": [
    "## Table Violating 1NF\n",
    "| StudentID | Name  | Subjects         |\n",
    "|-----------|-------|------------------|\n",
    "| 1         | Alice | Math, Science    |\n",
    "| 2         | Bob   | History, Literature |\n",
    "\n",
    "**Why it violates 1NF:** The \"Subjects\" column contains non-atomic values (multiple subjects in a single cell)."
   ]
  },
  {
   "cell_type": "code",
   "execution_count": 3,
   "id": "a94f4a3e",
   "metadata": {},
   "outputs": [],
   "source": [
    "# Import SQLite library\n",
    "import sqlite3\n",
    "\n",
    "# Create an in-memory SQLite database\n",
    "connection = sqlite3.connect(':memory:')\n",
    "cursor = connection.cursor()"
   ]
  },
  {
   "cell_type": "code",
   "execution_count": 4,
   "id": "fce96d78",
   "metadata": {},
   "outputs": [
    {
     "name": "stdout",
     "output_type": "stream",
     "text": [
      "(1, 'Alice', 'Math, Science')\n",
      "(2, 'Bob', 'History, Literature')\n"
     ]
    }
   ],
   "source": [
    "# Create a table that violates 1NF\n",
    "cursor.execute('''\n",
    "CREATE TABLE Students (\n",
    "    StudentID INTEGER PRIMARY KEY,\n",
    "    Name TEXT,\n",
    "    Subjects TEXT\n",
    ")''')\n",
    "\n",
    "# Insert data with non-atomic values\n",
    "cursor.executemany('INSERT INTO Students (StudentID, Name, Subjects) VALUES (?, ?, ?)', [\n",
    "    (1, 'Alice', 'Math, Science'),\n",
    "    (2, 'Bob', 'History, Literature')\n",
    "])\n",
    "\n",
    "# Query the table\n",
    "cursor.execute('SELECT * FROM Students')\n",
    "for row in cursor.fetchall():\n",
    "    print(row)"
   ]
  },
  {
   "cell_type": "markdown",
   "id": "fab63ff6",
   "metadata": {},
   "source": [
    "## Converting to 1NF\n",
    "\n",
    "To achieve 1NF, we split the Subjects column into separate rows."
   ]
  },
  {
   "cell_type": "code",
   "execution_count": 5,
   "id": "b3357a73",
   "metadata": {},
   "outputs": [
    {
     "name": "stdout",
     "output_type": "stream",
     "text": [
      "(1, 'Alice', 'Math')\n",
      "(1, 'Alice', 'Science')\n",
      "(2, 'Bob', 'History')\n",
      "(2, 'Bob', 'Literature')\n"
     ]
    }
   ],
   "source": [
    "# Create a table in 1NF\n",
    "cursor.execute('''\n",
    "CREATE TABLE StudentSubjects (\n",
    "    StudentID INTEGER,\n",
    "    Name TEXT,\n",
    "    Subject TEXT,\n",
    "    PRIMARY KEY (StudentID, Subject)\n",
    ")''')\n",
    "\n",
    "# Insert data in 1NF\n",
    "cursor.executemany('INSERT INTO StudentSubjects (StudentID, Name, Subject) VALUES (?, ?, ?)', [\n",
    "    (1, 'Alice', 'Math'),\n",
    "    (1, 'Alice', 'Science'),\n",
    "    (2, 'Bob', 'History'),\n",
    "    (2, 'Bob', 'Literature')\n",
    "])\n",
    "\n",
    "# Query the 1NF table\n",
    "cursor.execute('SELECT * FROM StudentSubjects')\n",
    "for row in cursor.fetchall():\n",
    "    print(row)"
   ]
  }
 ],
 "metadata": {
  "kernelspec": {
   "display_name": ".venv",
   "language": "python",
   "name": "python3"
  },
  "language_info": {
   "codemirror_mode": {
    "name": "ipython",
    "version": 3
   },
   "file_extension": ".py",
   "mimetype": "text/x-python",
   "name": "python",
   "nbconvert_exporter": "python",
   "pygments_lexer": "ipython3",
   "version": "3.13.3"
  }
 },
 "nbformat": 4,
 "nbformat_minor": 5
}
