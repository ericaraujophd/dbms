{
 "cells": [
  {
   "cell_type": "markdown",
   "id": "40a5619c",
   "metadata": {},
   "source": [
    "# 📝 In-Class Activity: Exploring ACID Properties with SQLite\n",
    "\n",
    "## 🎯 Learning Objectives\n",
    "\n",
    "By the end of this activity, you will be able to:\n",
    "\n",
    "- Identify and explain each of the ACID properties.\n",
    "- Analyze the effects of transactions using SQLite.\n",
    "- Modify and experiment with SQL transaction behavior.\n",
    "- Reflect on real-world implications of ACID guarantees.\n"
   ]
  },
  {
   "cell_type": "markdown",
   "id": "a0bd0de1",
   "metadata": {},
   "source": [
    "## 📂 Setup Instructions\n",
    "\n",
    "1. Open the Jupyter notebook titled **`ACID_SQLite_Transactions.ipynb`**.\n",
    "2. Run each cell one at a time, observing the printed outputs.\n",
    "3. Answer the questions and complete the tasks below.\n"
   ]
  },
  {
   "cell_type": "markdown",
   "id": "f5a96626",
   "metadata": {},
   "source": [
    "## 🧠 Section 1: Atomicity\n",
    "\n",
    "> “A transaction should be all or nothing.”\n",
    "\n",
    "**1.1.** What happens to Alice’s balance when the simulated crash occurs?  \n",
    "**1.2.** Why is it important to call `rollback()` after an error?  \n",
    "**1.3.** Modify the code so the transfer completes without an error. What is the resulting balance for Alice and Bob?\n"
   ]
  },
  {
   "cell_type": "markdown",
   "id": "8232fa9e",
   "metadata": {},
   "source": [
    "## 🧩 Section 2: Consistency\n",
    "\n",
    "> “Only valid data should be stored.”\n",
    "\n",
    "**2.1.** Try removing the `CHECK(balance >= 0)` constraint from the table. What happens when Alice transfers 200 credits?  \n",
    "**2.2.** How does the constraint help ensure the database stays in a consistent state?  \n",
    "**2.3.** Add another constraint: each account must have a unique name. What SQL change is required?\n"
   ]
  },
  {
   "cell_type": "markdown",
   "id": "f8334368",
   "metadata": {},
   "source": [
    "## 🔐 Section 3: Isolation\n",
    "\n",
    "> “Concurrent transactions shouldn’t interfere.”\n",
    "\n",
    "**3.1.** In the simulation with two connections, do the changes from both transactions persist?  \n",
    "**3.2.** Add a `SELECT * FROM accounts` inside each transaction before committing. Do you see uncommitted changes?  \n",
    "**3.3.** What might go wrong in a real banking system if isolation is not enforced?\n"
   ]
  },
  {
   "cell_type": "markdown",
   "id": "4bab9428",
   "metadata": {},
   "source": [
    "## 💾 Section 4: Durability\n",
    "\n",
    "> “Committed data is safe—even after a crash.”\n",
    "\n",
    "**4.1.** After closing and reopening the database, does Alice’s bonus still exist?  \n",
    "**4.2.** Try simulating a crash by exiting Python after a `commit()` and restarting the notebook. Do changes persist?  \n",
    "**4.3.** Research: What does SQLite do under the hood to ensure durability?\n"
   ]
  },
  {
   "cell_type": "markdown",
   "id": "6b9f26b5",
   "metadata": {},
   "source": [
    "## 🔧 Hands-On Challenge\n",
    "\n",
    "**Task:**  \n",
    "Write a function that transfers funds from one user to another and logs each successful transaction in a separate `transactions` table. Include the following:\n",
    "\n",
    "- A `BEGIN` block for the transaction.\n",
    "- Updates to both users' balances.\n",
    "- A log insertion like:  \n",
    "  `INSERT INTO transactions (sender, receiver, amount, timestamp) VALUES (...)`\n",
    "- A commit at the end.\n",
    "\n",
    "**Bonus:** Add a `CHECK` constraint that prevents transferring more than 100 at a time.\n"
   ]
  },
  {
   "cell_type": "markdown",
   "id": "6b3d152e",
   "metadata": {},
   "source": [
    "## 💬 Reflection Questions\n",
    "\n",
    "**R1.** Which ACID property is most important in your opinion for banking systems? Why?  \n",
    "**R2.** What trade-offs might a system make if it wants to be fast but can't afford full isolation or durability?\n"
   ]
  }
 ],
 "metadata": {},
 "nbformat": 4,
 "nbformat_minor": 5
}
