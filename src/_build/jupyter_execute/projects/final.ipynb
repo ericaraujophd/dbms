{
 "cells": [
  {
   "cell_type": "markdown",
   "metadata": {},
   "source": [
    "#  Final Project\n",
    "\n",
    "![](./imgs/StressedWork.gif)"
   ]
  },
  {
   "cell_type": "markdown",
   "metadata": {},
   "source": [
    "## My final word to you (please read!)\n",
    "\n",
    "This is the final project for the course. I hope you enjoyed it and learned a lot. I also hope you are not too stressed out about the final project. If you are, take a deep breath and remember that you can do this! You have come so far and you are almost there.\n",
    "\n",
    "As said in our first class, I want to prepare you all to do good in job interviews. I want you to be able to answer questions about your projects and your experience. I want you to be able to explain your thought process and your code. I want you to be able to show off your skills and your knowledge. I want you to be able to impress your interviewers and get the job you want.\n",
    "\n",
    "That comes with a price: you need to get out of your comfort zone. You need to find the information you need to the problems you are trying to solve. You need to have the eagerness to learn and the curiosity to explore. You need to be able to communicate your ideas and your code clearly and effectively. You need to be able to take feedback and learn from it. You need to be able to adapt and change your approach when needed. You need to be able to think critically and solve problems creatively.\n",
    "\n",
    "That said, you need a lot! I know! But you are not alone. You have your classmates, your instructors, and your mentors to help you. You have the resources and the tools to learn and grow. You have the support and the encouragement to keep going. And I really hope you have the passion and the drive to succeed.\n",
    "\n",
    "This final project is going to take time. It will take effort. It will take dedication. This is not just a simple task. I want you to apply most of the things you learned in this course. I want you to use your creativity and your imagination. I want you to have fun and enjoy the process. I want you to be proud of what you create and what you accomplish.\n",
    "\n",
    "See my door open at NH293? You are always welcome. I will be there to discuss your struggles and to guide you. I won't give you answers. I won't do the work for you. I will help you find the answers and the solutions. I will help you learn and grow. I will help you succeed.\n",
    "\n",
    "Have a good time and good luck with your final project. I am looking forward to seeing what you create and how you grow. I am looking forward to seeing you succeed and thrive in your career. I am looking forward to seeing you shine and make a difference in the world.\n",
    "\n",
    "- [ ] I've read it. It touched my heart. I will do my best to succeed."
   ]
  },
  {
   "cell_type": "markdown",
   "metadata": {},
   "source": [
    "## 🎯 Goal\n",
    "\n",
    "Design and implement a complete database system from scratch for a domain of your choice (assigned by the instructor). You will:\n",
    "\n",
    "* Model a schema with MySQL syntax (even if implementation is in SQLite).\n",
    "* Implement tables and constraints that ensure data consistency.\n",
    "* Populate your database using a data generation tool.\n",
    "* Create and analyze meaningful SQL queries based on your dataset."
   ]
  },
  {
   "cell_type": "markdown",
   "metadata": {},
   "source": [
    "---\n",
    "\n",
    "## 🧱 Project Phases"
   ]
  },
  {
   "cell_type": "markdown",
   "metadata": {},
   "source": [
    "### Phase 0: Find out your theme and accept the assignment on GitHub\n",
    "\n"
   ]
  },
  {
   "cell_type": "markdown",
   "metadata": {},
   "source": [
    "---\n",
    "\n",
    "### Phase 1: Schema Design (ER → DDL)\n",
    "\n",
    "#### 1. Understand your theme\n",
    "\n",
    "You’ll receive a domain/theme (e.g., university system, e-commerce, airline bookings). Research what kinds of entities, attributes, and relationships are typically involved.\n",
    "\n",
    "#### 2. Design the schema\n",
    "\n",
    "* Identify entities, attributes, and relationships.\n",
    "* Create an ER diagram.\n",
    "* Translate your ER model into a SQL schema using MySQL syntax.\n",
    "* Use appropriate data types.\n",
    "* Define primary keys, foreign keys, and constraints (e.g., NOT NULL, UNIQUE, CHECK).\n",
    "* Normalize your tables to BCNF.\n",
    "\n",
    "\n",
    "\n",
    "#### 3. Deliverables:\n",
    "\n",
    "Your schema file (e.g., schema.sql) containing `CREATE TABLE` statements.\n",
    "\n",
    "#### FAQ\n",
    "\n",
    "- [What is a schema?](https://www.youtube.com/watch?v=3BZz8R7mqu0)\n",
    "- [What is an ER diagram?](https://www.youtube.com/watch?v=xsg9BDiwiJE)\n",
    "- [What is normalization?](https://www.youtube.com/watch?v=GFQaEYEc8_8)\n",
    "- [What do you mean with understand your theme?](https://letmegooglethat.com/?q=what+is+important+to+understand+about+airline+booking+databases%3F)\n"
   ]
  },
  {
   "cell_type": "markdown",
   "metadata": {},
   "source": [
    "---\n",
    "\n",
    "\n",
    "### Phase 2: Data Population\n",
    "\n",
    "#### 1. Generate test data\n",
    "\n",
    "Choose a data generation approach:\n",
    "\n",
    "* Automated: Use tools like Mockaroo, Faker, or DBMonster.\n",
    "* Manual CSVs: Generate fake data in Excel or Google Sheets and import it using SQL INSERT or COPY statements.\n",
    "* Find real data: Use Kaggle or other sources to find datasets that match your schema (extra credits for this approach).\n",
    "\t\n",
    "#### 2. Constraints-aware population\n",
    "\n",
    "Ensure that foreign key dependencies are respected during data generation. You can:\n",
    "\n",
    "* Create tables in dependency order.\n",
    "* Disable constraints temporarily (MySQL) if needed for bulk loading, then re-enable them.\n",
    "  \n",
    "#### 3. Deliverables:\n",
    "\n",
    "* Your data generation strategy (code snippets, templates, or CSVs).\n",
    "* A populated database (.db file) or a MySQL dump.\n",
    "\n",
    "#### FAQ\n",
    "\n",
    "- [Where can I find data for my project?](https://letmegooglethat.com/?q=where+can+I+find+data+for+my+database+project%3F)\n",
    "- [How to disable MySQL constraints?](https://letmegooglethat.com/?q=how+to+disable+mysql+constraints%3F)\n",
    "- [A quick guide for MySQL](https://www.tutorialspoint.com/mysql/mysql-quick-guide.htm)\n",
    "- [9 GUI options for MySQL that will save you tons of time](https://www.dronahq.com/best-mysql-guis/)"
   ]
  },
  {
   "cell_type": "markdown",
   "metadata": {},
   "source": [
    "### Phase 3: Query Design and Analysis\n",
    "\n",
    "#### 1. Write queries\n",
    "\n",
    "After your database is populated:\n",
    "\n",
    "* Write at least 8 SQL queries, showcasing your database’s usefulness.\n",
    "* Include at least:\n",
    "  * 2 queries using JOINs\n",
    "  * 2 queries using GROUP BY + HAVING\n",
    "  * 1 nested subquery\n",
    "  * 1 query with aggregate functions\n",
    "  * 1 query that reveals a non-obvious insight about your data\n",
    "  * 1 update or delete operation\n",
    "\n",
    "#### 2. Optimization and readability\n",
    "\n",
    "* Use aliases, indentation, and comments to improve clarity.\n",
    "* Optimize long queries for performance and structure.\n",
    "* Use EXPLAIN to analyze query performance and suggest improvements.\n",
    "  \n",
    "3.\tDeliverables:\n",
    "\n",
    "A file with your queries (e.g., queries.sql) and a short explanation for each. You may also use Jupyter Notebook or Markdown for better formatting and displaying results.\n",
    "\n",
    "#### FAQ\n",
    "\n",
    "- Can I do other queries besides the ones listed?\n",
    "  - Yes, but make sure to include the required ones. The list is a minimum requirement.\n",
    "- What do you mean by improving clarity?\n",
    "  - Use aliases, indentation, and comments to make your queries more readable. Avoid long lines and complex structures.\n",
    "- What do you mean by optimizing queries?\n",
    "  - Use EXPLAIN to analyze your queries and suggest improvements. Look for ways to reduce execution time and resource usage."
   ]
  },
  {
   "cell_type": "markdown",
   "metadata": {},
   "source": [
    "## 📦 Final Submission Package\n",
    "\n",
    "Your submission must include:\n",
    "\n",
    "* **schema.sql**: Your database schema.\n",
    "* **data/**: Any scripts, CSVs, or tools used for generating the data.\n",
    "* **queries.sql**: A list of your final SQL queries.\n",
    "* **report.md**: A brief report (1–2 pages) describing:\n",
    "  * The theme and its main entities.\n",
    "  * Design decisions (e.g., constraints, normalization).\n",
    "  * How you generated and loaded data.\n",
    "  * Highlights of your queries and what insights they produce.\n",
    "\n",
    "## Grading\n",
    "\n",
    "The project is worth 100 points.\n",
    "\n",
    "- 50 points for the schema and data population.\n",
    "- 30 points for the queries.\n",
    "- 20 points for the report.\n",
    "- Extra credits (5) for using Jupyter Notebook.\n",
    "- Extra credits (5) for using a real dataset.\n",
    "- Extra credits (5)  for a well-structured report.\n",
    "- Extra credits (5) for testability:\n",
    "  - Write a few queries that test constraints (e.g., trying to insert bad data).\n",
    "  - Include an optional **test_cases.sql** showing insertions that should fail or succeed.\n",
    "- Extra credits (5) for a good reflection on how you connect this project with your life decisions, such as how do you connect your faith with the task of building databases, or how do you connect your faith with the task of building a career in data science. This is a free space for you to express your thoughts and feelings. You can write about your struggles, your dreams, your fears, your hopes, or anything else that comes to your mind.\n",
    "\n",
    "Organize your repository well, so it is easy to find your files and to test them. Be hospitable!\n"
   ]
  },
  {
   "cell_type": "markdown",
   "metadata": {},
   "source": [
    "🧭 Notes\n",
    "\t•\tEven though the schema is in MySQL syntax, you can develop and test your queries using SQLite or MySQL-compatible environments.\n",
    "\t•\tAsk early if you’re unsure how to model a part of your domain.\n",
    "\t•\tYou may use ChatGPT, Stack Overflow, or documentation, but all work must be your own."
   ]
  }
 ],
 "metadata": {
  "language_info": {
   "codemirror_mode": {
    "name": "ipython",
    "version": 3
   },
   "file_extension": ".py",
   "mimetype": "text/x-python",
   "name": "python",
   "nbconvert_exporter": "python",
   "pygments_lexer": "ipython3",
   "version": "3.13.2"
  }
 },
 "nbformat": 4,
 "nbformat_minor": 2
}