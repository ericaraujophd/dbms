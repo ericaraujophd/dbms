{
 "cells": [
  {
   "cell_type": "markdown",
   "metadata": {},
   "source": [
    "# 🚘 Week 4 Project\n",
    "\n",
    "## Traffic Crashes Database\n",
    "\n",
    "![Traffic Crashes Database](./imgs/CarCrash.gif)"
   ]
  },
  {
   "cell_type": "markdown",
   "metadata": {},
   "source": [
    "The Chicago Data Portal contains a dataset of traffic crashes in Chicago from 2015 to present. The dataset includes information about the date, time, location, and severity of each crash, as well as the number of injuries and fatalities. The dataset is publicly available and can be accessed through the Chicago Data Portal.\n",
    "\n",
    "The data is divided in three parts: \n",
    "\n",
    "* [Traffic Crashes -- People](https://data.cityofchicago.org/Transportation/Traffic-Crashes-People/u6pd-qa9d/about_data)\n",
    "* [Traffic Crashes -- Vehicles](https://data.cityofchicago.org/Transportation/Traffic-Crashes-Vehicles/68nd-jvt3/about_data)\n",
    "* [Traffic Crashes -- Crashes](https://data.cityofchicago.org/Transportation/Traffic-Crashes-Crashes/85ca-t3if/about_data)\n",
    "\n",
    "The description of the databases and the attributes can be found in the links above. The data is available in CSV format and can be downloaded from the Chicago Data Portal. The dataset is updated regularly, so it is important to check for updates if you are using the data for analysis or research purposes."
   ]
  },
  {
   "cell_type": "markdown",
   "metadata": {},
   "source": [
    "## 🚨 Disclaimer\n",
    "\n",
    "This project is intentionally not clear in many parts. It is part of a learning process and is meant to be a challenge. The goal is to learn how to work with data, not to create a perfect project. The code may not be the most efficient or the best practice, but it is a learning experience. If you have any questions or suggestions, please feel free to reach out. Thank you for your understanding!"
   ]
  },
  {
   "cell_type": "markdown",
   "metadata": {},
   "source": [
    "## Step 0. Accept the assignment\n",
    "\n",
    "You will be using GitHub Classroom to complete this assignment. You will need to accept the assignment in order to get started. You can do this by clicking on the link below:\n",
    "\n",
    "[Accept the assignment](https://classroom.github.com/a/IiR4g5F9)\n",
    "\n",
    "After clicking and accepting, you need to click in the link for your repository. Click in the green button that says \"Code\" and copy the link that appears. \n",
    "\n",
    "To clone the repository, you can use the following command in your terminal:\n",
    "\n",
    "```bash\n",
    "git clone <repository_url>\n",
    "```\n",
    "\n",
    "Make sure to replace `<repository_url>` with the URL of your repository.\n",
    "\n",
    "CD into the directory of your repository:\n",
    "\n",
    "```bash\n",
    "cd <repository_name>\n",
    "```\n",
    "\n",
    "Make sure to replace `<repository_name>` with the name of your repository.\n",
    "\n",
    "From now on you can work using VS Code or any other IDE of your preference. Make sure to create a virtual environment (venv) if you are using Python. You can do this by running the following command in your terminal:\n",
    "\n",
    "```bash\n",
    "python3 -m venv .venv\n",
    "```\n",
    "\n",
    "Then, activate the virtual environment by running the following command:\n",
    "\n",
    "```bash\n",
    "source .venv/bin/activate\n",
    "```\n",
    "\n",
    "From now on, it is in your hands!\n",
    "\n",
    "All deliverables should be submitted through GitHub Classroom. You will need to create a new repository for this assignment, and then push your code to that repository."
   ]
  },
  {
   "cell_type": "markdown",
   "metadata": {},
   "source": [
    "## Step 1. Creating the database\n",
    "\n",
    "Once more, you will need to create tables and insert data into them. To create the tables, you might want to use the SQLite CLI or the `sqlite3` module in Python. You can also use the `pandas` library to read the csv files and insert the data into the database. You can also use DBeaver or DB Browser for SQLite to create the tables and insert the data. What is important is to have the tables ready to receive the data. Make sure you comply with the primary and foreign keys in order to answer the questions below.\n",
    "\n",
    "You can use the `to_sql` method of a pandas DataFrame to insert the data into the database. You can also use the `csv` module to read the csv files and insert the data into the database using SQL commands.\n",
    "\n",
    "You can also use the `pandas` library to read the csv files and insert the data into the database.\n",
    "\n",
    "Make sure to document well your database design and the relationships between the tables. You should also document any assumptions you made about the data and the relationships between the tables.\n"
   ]
  },
  {
   "cell_type": "markdown",
   "metadata": {},
   "source": [
    "## Step 2. Answering questions\n",
    "\n",
    "Once you have created the database and inserted the data into the tables, you should answer the following questions using SQL queries:\n",
    "\n",
    "1. What is the total number of crashes in Chicago from 2015 to present?\n",
    "2. What is the annual number of crashes in Chicago from 2015 to present?\n",
    "3. What is the average number of crashes per each month of the year in Chicago from 2015 to present?\n",
    "4. What is the day of the week with the highest number of crashes in Chicago from 2015 to present on average?\n",
    "5. What is the month with the highest number of crashes in Chicago from 2015 to present on average?\n",
    "6. What is the day of the week with the highest number of crashes in Chicago from 2015 to present?\n",
    "7. What is the weather condition with the highest number of crashes in Chicago from 2015 to present?\n",
    "8. What is the speed limit with the highest number of crashes in Chicago from 2015 to present (use posted_speed_limit)?\n",
    "9. What is the average number of passengers reported in accidents with rainy weather in Chicago from 2015 to present?\n",
    "\n",
    "Come up with 5 other queries involving at least two tables."
   ]
  },
  {
   "cell_type": "markdown",
   "metadata": {},
   "source": [
    "## Deliverables\n",
    "\n",
    "- A database file with the three tables and data from the csv files in SQLite (.db).\n",
    "- A file with the SQL queries you used to answer the questions above (.sql). Use comments to identify the questions you are answering with each query.\n",
    "- A file with the SQL queries you used to create the tables and insert the data into the tables (.sql and/or .py).\n",
    "- A file with the necessary information to understand your project. Remember to document any assumptions you made about the data and the relationships between the tables. You can use comments in your SQL code to document the relationships between the tables. This file can be a Jupyter Notebook or a PDF document. You can also use a Word document or any other tool of your choice. Make sure it is all documented and clearly explained for a non-technical audience.\n",
    "\n",
    "Use DBeaver to generate the schema of your database and include it in your report. You can also use DBeaver to generate the SQL code to create the tables and insert the data into the tables. You can use the \"Export\" feature of DBeaver to export the schema and data to a SQL file.\n",
    "\n",
    "Feel free to ask questions by email in case you have trouble understanding or completing the assignment. Once more, this is a learning process and I am here to help you. But also remember that part of the assignment is interpreting the data and coming up with your own conclusions. So, try to do your best and learn as much as you can from this assignment.\n",
    "\n",
    "To submit your assignment, just commit your code and push it to your repository. Make sure to include all the files mentioned above. You can also include any other files you think are necessary for the assignment."
   ]
  }
 ],
 "metadata": {
  "language_info": {
   "codemirror_mode": {
    "name": "ipython",
    "version": 3
   },
   "file_extension": ".py",
   "mimetype": "text/x-python",
   "name": "python",
   "nbconvert_exporter": "python",
   "pygments_lexer": "ipython3",
   "version": "3.13.2"
  }
 },
 "nbformat": 4,
 "nbformat_minor": 2
}