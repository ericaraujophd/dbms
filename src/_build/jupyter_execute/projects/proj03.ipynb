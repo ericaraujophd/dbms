{
 "cells": [
  {
   "cell_type": "markdown",
   "metadata": {},
   "source": [
    "# 🐸 Week 3 Project\n",
    "\n",
    "![Animal Crossing Nintendo](./imgs/Animal-Crossing-Nintendo.gif)"
   ]
  },
  {
   "cell_type": "markdown",
   "metadata": {},
   "source": [
    "This project intends to provide some experience organizing csv files into a database. For this task, you are given a set of csv files that contain information about the [**Animal Crossing New Horizons Catalog**](https://www.kaggle.com/datasets/jessicali9530/animal-crossing-new-horizons-nookplaza-dataset/data), a popular video game.\n",
    "\n",
    "According to the description of the dataset:\n",
    "\n",
    "> There are 30 csvs each listing various items, villagers, clothing, and other collectibles from the game. The data was collected by a dedicated group of AC fans who continue to collaborate and build this spreadsheet for public use. The database contains the original data and full list of contributors and raw data. At the time of writing, the only difference between the spreadsheet and this version is that the Kaggle version omits all columns with images of the items, but is otherwise identical."
   ]
  },
  {
   "cell_type": "markdown",
   "metadata": {},
   "source": [
    "As you will notice, there is no explicit description of the data. You will need to explore the data and understand it in order to complete the tasks below. You will also need to rely on your own understanding of the data and the relationships between the different tables. You can use the [Animal Crossing Wiki](https://animalcrossing.fandom.com/wiki/Animal_Crossing_Wiki) to help you understand the data and the relationships between the different tables.\n",
    "\n",
    "\n",
    "The goal of this project is to create a database that contains all the information in the csv files, and then answer some questions about the data using SQL queries."
   ]
  },
  {
   "cell_type": "markdown",
   "metadata": {},
   "source": [
    "## Step 0. Accept the assignment\n",
    "\n",
    "You will be using GitHub Classroom to complete this assignment. You will need to accept the assignment in order to get started. You can do this by clicking on the link below:\n",
    "\n",
    "[Accept the assignment](https://classroom.github.com/a/J4MNT0NZ)\n",
    "\n",
    "After clicking and accepting, you need to click in the link for your repository. Click in the green button that says \"Code\" and copy the link that appears. \n",
    "\n",
    "To clone the repository, you can use the following command in your terminal:\n",
    "\n",
    "```bash\n",
    "git clone <repository_url>\n",
    "```\n",
    "\n",
    "Make sure to replace `<repository_url>` with the URL of your repository.\n",
    "\n",
    "CD into the directory of your repository:\n",
    "\n",
    "```bash\n",
    "cd <repository_name>\n",
    "```\n",
    "\n",
    "Make sure to replace `<repository_name>` with the name of your repository.\n",
    "\n",
    "From now on you can work using VS Code or any other IDE of your preference. Make sure to create a virtual environment (venv) if you are using Python. You can do this by running the following command in your terminal:\n",
    "\n",
    "```bash\n",
    "python3 -m venv venv\n",
    "```\n",
    "\n",
    "Then, activate the virtual environment by running the following command:\n",
    "\n",
    "```bash\n",
    "source venv/bin/activate\n",
    "```\n",
    "\n",
    "From now on, it is in your hands!\n",
    "\n",
    "All deliverables should be submitted through GitHub Classroom. You will need to create a new repository for this assignment, and then push your code to that repository."
   ]
  },
  {
   "cell_type": "markdown",
   "metadata": {},
   "source": [
    "## Step 1. Creating the database\n",
    "\n",
    "You will need to create tables and insert data into them. You must use the `sqlite3` module to create a database and tables. You will need to create a table for each csv file, and then insert the data from the csv files into the tables. There are a few ways of doing that. Feel free to use the SQLite CLI or the `sqlite3` module in Python. \n",
    "\n",
    "You can also use the `pandas` library to read the csv files and insert the data into the database. You can use the `to_sql` method of a pandas DataFrame to insert the data into the database. You can also use the `csv` module to read the csv files and insert the data into the database using SQL commands.\n",
    "\n",
    "Before creating the tables, you should come up with the schema for the database. You should think about the relationships between the different tables and how to represent them in the database. You should also think about the data types of the columns in the tables.\n",
    "\n",
    "Make sure to document well your database schema and the relationships between the tables. You should also document any assumptions you made about the data and the relationships between the tables. You can use comments in your SQL code to document your schema and the relationships between the tables.\n",
    "\n",
    "```{note}\n",
    "As you will see, this dataset contains only the catalog of the elements of the game. We will keep working in this project to evolve it into a full database of the game. For now, we will only focus on the catalog of items.\n",
    "```\n",
    "\n",
    "The **recipes** table contains the materials and quantities to build the recipes. Make sure you create foreign keys to other tables so you can relate the recipes to the items. Think of other DIY elements in the other tables as connected to the recipes.\n",
    "\n",
    "Make sure you treat the NA values as NULL values in the database.\n",
    "\n"
   ]
  },
  {
   "cell_type": "markdown",
   "metadata": {},
   "source": [
    "## Step 2. Answering questions\n",
    "\n",
    "Once you have created the database and inserted the data into the tables, you should answer the following questions using SQL queries:\n",
    "1. What is the most expensive item in the game?\n",
    "2. What is the cheapest item in the game?\n",
    "3. What is the most expensive item in each category?\n",
    "4. What is the cheapest item in each category?\n",
    "7. What is the most expensive item in each color?\n",
    "8. What is the cheapest item in each color?\n",
    "9. What is the most expensive item in each style?\n",
    "10. What is the cheapest item in each style?\n",
    "11. What is the most expensive item in the recipes table? How would you calculate that?\n",
    "12. What is the cheapest item in the recipes table? How would you calculate that?\n"
   ]
  },
  {
   "cell_type": "markdown",
   "metadata": {},
   "source": [
    "## Deliverables\n",
    "\n",
    "- A database file with the tables and data from the csv files in SQLite (.db).\n",
    "- A file with the SQL queries you used to answer the questions above (.sql). Use comments to identify the questions you are answering with each query.\n",
    "- A file with the SQL queries you used to create the tables and insert the data into the tables (.sql). If (and only if) you used Python, please include the code you used to create the tables and insert the data into the tables (.py).\n",
    "- A README.md file with the documentation of the database schema and the relationships between the tables. You should also document any assumptions you made about the data and the relationships between the tables. You can use comments in your SQL code to document your schema and the relationships between the tables.\n",
    "\n",
    "If you are not familiar with Markdown, this is a good time to start learning it. Make sure you create a folder for the figures in your report on README.md. Use DBeaver to generate the schema of your database and include it in your report. You can also use DBeaver to generate the SQL code to create the tables and insert the data into the tables. You can use the \"Export\" feature of DBeaver to export the schema and data to a SQL file."
   ]
  }
 ],
 "metadata": {
  "language_info": {
   "codemirror_mode": {
    "name": "ipython",
    "version": 3
   },
   "file_extension": ".py",
   "mimetype": "text/x-python",
   "name": "python",
   "nbconvert_exporter": "python",
   "pygments_lexer": "ipython3",
   "version": "3.13.2"
  }
 },
 "nbformat": 4,
 "nbformat_minor": 2
}