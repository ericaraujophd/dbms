{
 "cells": [
  {
   "cell_type": "markdown",
   "metadata": {},
   "source": [
    "# CTE using WITH\n",
    "\n",
    "## 3.3.1 CTE using WITH\n",
    "CTE (Common Table Expression) is a temporary result set that you can reference within a SELECT, INSERT, UPDATE, or DELETE statement.\n",
    "It is defined using the WITH clause and can be thought of as a named temporary result set that you can use within your SQL statement.\n",
    "CTEs are useful for breaking down complex queries into simpler parts, improving readability and maintainability.\n",
    "CTEs can also be recursive, allowing you to perform hierarchical queries.\n",
    "CTEs are defined using the WITH clause, followed by the CTE name and the query that defines the CTE."
   ]
  }
 ],
 "metadata": {
  "kernelspec": {
   "display_name": ".venv",
   "language": "python",
   "name": "python3"
  },
  "language_info": {
   "codemirror_mode": {
    "name": "ipython",
    "version": 3
   },
   "file_extension": ".py",
   "mimetype": "text/x-python",
   "name": "python",
   "nbconvert_exporter": "python",
   "pygments_lexer": "ipython3",
   "version": "3.13.3"
  }
 },
 "nbformat": 4,
 "nbformat_minor": 2
}