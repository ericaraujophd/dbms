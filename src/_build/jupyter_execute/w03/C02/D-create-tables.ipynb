{
 "cells": [
  {
   "cell_type": "markdown",
   "metadata": {},
   "source": [
    "# 3.2 DDL: Many-to-Many Relationships\n",
    "\n",
    "Table design principles using DDL commands, such as CREATE TABLE, DROP TABLE, ALTER TABLE, CREATE INDEX, DROP INDEX, CREATE VIEW, DROP VIEW.\n",
    "\n",
    "Control columns values using constraints: primary keys, foreign keys, delete with CASCADE, CHECK, UNIQUE, NOT NULL, AUTOINCREMENT."
   ]
  },
  {
   "cell_type": "code",
   "execution_count": 1,
   "metadata": {},
   "outputs": [],
   "source": [
    "%%capture\n",
    "%load_ext sql\n",
    "%sql sqlite:///\n",
    "%config SqlMagic.style = '_DEPRECATED_DEFAULT'"
   ]
  },
  {
   "cell_type": "markdown",
   "metadata": {},
   "source": [
    "## Creating many-to-many relationships\n",
    "\n",
    "To create a many-to-many relationship, we need to create a junction table that contains foreign keys referencing the primary keys of the two tables we want to relate. This junction table will allow us to establish the many-to-many relationship between the two tables.\n",
    "\n",
    "As stated before, foreign keys will create a relation parent-child between the two tables. The parent table is the one that contains the primary key, while the child table is the one that contains the foreign key. In a many-to-many relationship, we will have two parent tables and one child table (the junction table).\n",
    "\n",
    "Let's see how this is done in SQL. We will create an example where our tables refer to a library system. We will have two tables: `books` and `authors`. Each book can have multiple authors, and each author can write multiple books. To create this many-to-many relationship, we will create a junction table called `book_authors` that will contain the foreign keys referencing the primary keys of the `books` and `authors` tables.\n",
    "\n",
    "```sql\n",
    "CREATE TABLE books (\n",
    "    book_id INTEGER PRIMARY KEY,\n",
    "    title TEXT NOT NULL,\n",
    "    publication_year INTEGER\n",
    ");\n",
    "CREATE TABLE authors (\n",
    "    author_id INTEGER PRIMARY KEY,\n",
    "    name TEXT NOT NULL\n",
    ");\n",
    "CREATE TABLE book_authors (\n",
    "    book_id INTEGER,\n",
    "    author_id INTEGER,\n",
    "    PRIMARY KEY (book_id, author_id),\n",
    "    FOREIGN KEY (book_id) REFERENCES books(book_id) ON DELETE CASCADE,\n",
    "    FOREIGN KEY (author_id) REFERENCES authors(author_id) ON DELETE CASCADE\n",
    ");\n",
    "```\n",
    "\n",
    "In this example, we have created three tables: `books`, `authors`, and `book_authors`. The `book_authors` table contains two foreign keys: `book_id` and `author_id`, which reference the primary keys of the `books` and `authors` tables, respectively. The `ON DELETE CASCADE` option ensures that if a book or an author is deleted, all corresponding entries in the `book_authors` table will also be deleted automatically.\n",
    "\n",
    "This way, we maintain referential integrity in our database."
   ]
  },
  {
   "cell_type": "code",
   "execution_count": 2,
   "metadata": {},
   "outputs": [
    {
     "name": "stdout",
     "output_type": "stream",
     "text": [
      " * sqlite:///\n",
      "Done.\n",
      "Done.\n",
      "Done.\n",
      "Done.\n",
      "Done.\n",
      "Done.\n"
     ]
    },
    {
     "data": {
      "text/plain": [
       "[]"
      ]
     },
     "execution_count": 2,
     "metadata": {},
     "output_type": "execute_result"
    }
   ],
   "source": [
    "%%sql\n",
    "\n",
    "-- Let's create the tables to play with\n",
    "\n",
    "DROP TABLE IF EXISTS books;\n",
    "DROP TABLE IF EXISTS authors;\n",
    "DROP TABLE IF EXISTS book_authors;\n",
    "\n",
    "CREATE TABLE books (\n",
    "    book_id INTEGER PRIMARY KEY,\n",
    "    title TEXT NOT NULL,\n",
    "    publication_year INTEGER\n",
    ");\n",
    "\n",
    "CREATE TABLE authors (\n",
    "    author_id INTEGER PRIMARY KEY,\n",
    "    name TEXT NOT NULL\n",
    ");\n",
    "\n",
    "CREATE TABLE book_authors (\n",
    "    book_id INTEGER,\n",
    "    author_id INTEGER,\n",
    "    PRIMARY KEY (book_id, author_id),\n",
    "    FOREIGN KEY (book_id) REFERENCES books(book_id) ON DELETE CASCADE,\n",
    "    FOREIGN KEY (author_id) REFERENCES authors(author_id) ON DELETE CASCADE\n",
    ");"
   ]
  },
  {
   "cell_type": "code",
   "execution_count": 3,
   "metadata": {},
   "outputs": [
    {
     "name": "stdout",
     "output_type": "stream",
     "text": [
      " * sqlite:///\n",
      "5 rows affected.\n",
      "4 rows affected.\n",
      "6 rows affected.\n"
     ]
    },
    {
     "data": {
      "text/plain": [
       "[]"
      ]
     },
     "execution_count": 3,
     "metadata": {},
     "output_type": "execute_result"
    }
   ],
   "source": [
    "%%sql\n",
    "-- Let's insert some data into the tables\n",
    "INSERT INTO books (book_id, title, publication_year) VALUES\n",
    "(1, 'To Kill a Mockingbird', 1960),\n",
    "(2, '1984', 1949),\n",
    "(3, 'The Great Gatsby', 1925),\n",
    "(4, 'Pride and Prejudice', 1813),\n",
    "(5, 'Emma', 1813);\n",
    "\n",
    "INSERT INTO authors (author_id, name) VALUES\n",
    "(1, 'Harper Lee'),\n",
    "(2, 'George Orwell'),\n",
    "(3, 'F. Scott Fitzgerald'),\n",
    "(4, 'Jane Austen');\n",
    "\n",
    "INSERT INTO book_authors (book_id, author_id) VALUES\n",
    "(1, 1),\n",
    "(2, 2),\n",
    "(3, 3),\n",
    "(4, 4),\n",
    "(1, 4), -- let's pretend Jane Austen wrote 'To Kill a Mockingbird' too\n",
    "(5, 5);"
   ]
  },
  {
   "cell_type": "code",
   "execution_count": 4,
   "metadata": {},
   "outputs": [
    {
     "name": "stdout",
     "output_type": "stream",
     "text": [
      " * sqlite:///\n",
      "Done.\n"
     ]
    },
    {
     "data": {
      "text/html": [
       "<table>\n",
       "    <thead>\n",
       "        <tr>\n",
       "            <th>title</th>\n",
       "            <th>name</th>\n",
       "        </tr>\n",
       "    </thead>\n",
       "    <tbody>\n",
       "        <tr>\n",
       "            <td>1984</td>\n",
       "            <td>George Orwell</td>\n",
       "        </tr>\n",
       "        <tr>\n",
       "            <td>Pride and Prejudice</td>\n",
       "            <td>Jane Austen</td>\n",
       "        </tr>\n",
       "        <tr>\n",
       "            <td>The Great Gatsby</td>\n",
       "            <td>F. Scott Fitzgerald</td>\n",
       "        </tr>\n",
       "        <tr>\n",
       "            <td>To Kill a Mockingbird</td>\n",
       "            <td>Harper Lee</td>\n",
       "        </tr>\n",
       "        <tr>\n",
       "            <td>To Kill a Mockingbird</td>\n",
       "            <td>Jane Austen</td>\n",
       "        </tr>\n",
       "    </tbody>\n",
       "</table>"
      ],
      "text/plain": [
       "[('1984', 'George Orwell'),\n",
       " ('Pride and Prejudice', 'Jane Austen'),\n",
       " ('The Great Gatsby', 'F. Scott Fitzgerald'),\n",
       " ('To Kill a Mockingbird', 'Harper Lee'),\n",
       " ('To Kill a Mockingbird', 'Jane Austen')]"
      ]
     },
     "execution_count": 4,
     "metadata": {},
     "output_type": "execute_result"
    }
   ],
   "source": [
    "%%sql\n",
    "\n",
    "-- Let's see the list of books and their authors\n",
    "SELECT b.title, a.name\n",
    "FROM books b\n",
    "JOIN book_authors ba ON b.book_id = ba.book_id\n",
    "JOIN authors a ON ba.author_id = a.author_id\n",
    "ORDER BY b.title;"
   ]
  },
  {
   "cell_type": "code",
   "execution_count": 5,
   "metadata": {},
   "outputs": [
    {
     "name": "stdout",
     "output_type": "stream",
     "text": [
      " * sqlite:///\n",
      "1 rows affected.\n",
      "Done.\n"
     ]
    },
    {
     "data": {
      "text/html": [
       "<table>\n",
       "    <thead>\n",
       "        <tr>\n",
       "            <th>title</th>\n",
       "            <th>name</th>\n",
       "        </tr>\n",
       "    </thead>\n",
       "    <tbody>\n",
       "        <tr>\n",
       "            <td>1984</td>\n",
       "            <td>George Orwell</td>\n",
       "        </tr>\n",
       "        <tr>\n",
       "            <td>Pride and Prejudice</td>\n",
       "            <td>Jane Austen</td>\n",
       "        </tr>\n",
       "        <tr>\n",
       "            <td>The Great Gatsby</td>\n",
       "            <td>F. Scott Fitzgerald</td>\n",
       "        </tr>\n",
       "    </tbody>\n",
       "</table>"
      ],
      "text/plain": [
       "[('1984', 'George Orwell'),\n",
       " ('Pride and Prejudice', 'Jane Austen'),\n",
       " ('The Great Gatsby', 'F. Scott Fitzgerald')]"
      ]
     },
     "execution_count": 5,
     "metadata": {},
     "output_type": "execute_result"
    }
   ],
   "source": [
    "%%sql\n",
    "\n",
    "-- Let's see what happens when we delete a book\n",
    "DELETE FROM books WHERE book_id = 1;\n",
    "-- Let's see the list of books and their authors again\n",
    "SELECT b.title, a.name\n",
    "FROM books b\n",
    "JOIN book_authors ba ON b.book_id = ba.book_id\n",
    "JOIN authors a ON ba.author_id = a.author_id\n",
    "ORDER BY b.title;"
   ]
  },
  {
   "cell_type": "code",
   "execution_count": 6,
   "metadata": {},
   "outputs": [
    {
     "name": "stdout",
     "output_type": "stream",
     "text": [
      " * sqlite:///\n",
      "Done.\n"
     ]
    },
    {
     "data": {
      "text/plain": [
       "[]"
      ]
     },
     "execution_count": 6,
     "metadata": {},
     "output_type": "execute_result"
    }
   ],
   "source": [
    "%%sql \n",
    "\n",
    "-- use this area to play with the database"
   ]
  }
 ],
 "metadata": {
  "kernelspec": {
   "display_name": ".venv",
   "language": "python",
   "name": "python3"
  },
  "language_info": {
   "codemirror_mode": {
    "name": "ipython",
    "version": 3
   },
   "file_extension": ".py",
   "mimetype": "text/x-python",
   "name": "python",
   "nbconvert_exporter": "python",
   "pygments_lexer": "ipython3",
   "version": "3.13.2"
  }
 },
 "nbformat": 4,
 "nbformat_minor": 2
}