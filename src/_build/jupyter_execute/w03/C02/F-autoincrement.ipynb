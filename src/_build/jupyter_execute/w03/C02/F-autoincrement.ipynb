{
 "cells": [
  {
   "cell_type": "markdown",
   "metadata": {},
   "source": [
    "# 3.2 DDL: AUTOINCREMENT\n",
    "\n",
    "Table design principles using DDL commands, such as CREATE TABLE, DROP TABLE, **ALTER TABLE**, CREATE INDEX, DROP INDEX, CREATE VIEW, DROP VIEW.\n",
    "\n",
    "Control columns values using constraints: primary keys, foreign keys, delete with CASCADE, CHECK, UNIQUE, NOT NULL, AUTOINCREMENT."
   ]
  },
  {
   "cell_type": "code",
   "execution_count": 1,
   "metadata": {},
   "outputs": [],
   "source": [
    "%%capture\n",
    "%load_ext sql\n",
    "%sql sqlite:///\n",
    "%config SqlMagic.style = '_DEPRECATED_DEFAULT'"
   ]
  },
  {
   "cell_type": "markdown",
   "metadata": {},
   "source": [
    "## ROWID and AUTOINCREMENT\n",
    "\n",
    "SQLite uses a 64-bit signed integer as the rowid for each row in a table. The rowid is a unique identifier for each row and is automatically assigned by SQLite when a new row is inserted into the table.\n",
    "\n",
    "Let's see how it works by creating a table for users without a primary key:"
   ]
  },
  {
   "cell_type": "code",
   "execution_count": 2,
   "metadata": {},
   "outputs": [
    {
     "name": "stdout",
     "output_type": "stream",
     "text": [
      " * sqlite:///\n",
      "Done.\n",
      "Done.\n",
      "4 rows affected.\n"
     ]
    },
    {
     "data": {
      "text/plain": [
       "[]"
      ]
     },
     "execution_count": 2,
     "metadata": {},
     "output_type": "execute_result"
    }
   ],
   "source": [
    "%%sql\n",
    "DROP TABLE IF EXISTS users;\n",
    "\n",
    "CREATE TABLE users (\n",
    "    name TEXT NOT NULL,\n",
    "    age INTEGER NOT NULL,\n",
    "    email TEXT NOT NULL UNIQUE\n",
    ");\n",
    "\n",
    "INSERT INTO users (name, age, email) VALUES\n",
    "    ('John', 32, 'john@john.com'),\n",
    "    ('Mary', 19, 'mary@mary.com'),\n",
    "    ('Roe', 22, 'roe@roe.com'),\n",
    "    ('Sean', 62, 'sean@sean.com');"
   ]
  },
  {
   "cell_type": "markdown",
   "metadata": {},
   "source": [
    "Now, let's query the data and see what happens:"
   ]
  },
  {
   "cell_type": "code",
   "execution_count": 3,
   "metadata": {},
   "outputs": [
    {
     "name": "stdout",
     "output_type": "stream",
     "text": [
      " * sqlite:///\n",
      "Done.\n"
     ]
    },
    {
     "data": {
      "text/html": [
       "<table>\n",
       "    <thead>\n",
       "        <tr>\n",
       "            <th>name</th>\n",
       "            <th>age</th>\n",
       "            <th>email</th>\n",
       "        </tr>\n",
       "    </thead>\n",
       "    <tbody>\n",
       "        <tr>\n",
       "            <td>John</td>\n",
       "            <td>32</td>\n",
       "            <td>john@john.com</td>\n",
       "        </tr>\n",
       "        <tr>\n",
       "            <td>Mary</td>\n",
       "            <td>19</td>\n",
       "            <td>mary@mary.com</td>\n",
       "        </tr>\n",
       "        <tr>\n",
       "            <td>Roe</td>\n",
       "            <td>22</td>\n",
       "            <td>roe@roe.com</td>\n",
       "        </tr>\n",
       "        <tr>\n",
       "            <td>Sean</td>\n",
       "            <td>62</td>\n",
       "            <td>sean@sean.com</td>\n",
       "        </tr>\n",
       "    </tbody>\n",
       "</table>"
      ],
      "text/plain": [
       "[('John', 32, 'john@john.com'),\n",
       " ('Mary', 19, 'mary@mary.com'),\n",
       " ('Roe', 22, 'roe@roe.com'),\n",
       " ('Sean', 62, 'sean@sean.com')]"
      ]
     },
     "execution_count": 3,
     "metadata": {},
     "output_type": "execute_result"
    }
   ],
   "source": [
    "%%sql\n",
    "SELECT name, age, email\n",
    "FROM users;"
   ]
  },
  {
   "cell_type": "markdown",
   "metadata": {},
   "source": [
    "As you can see, there is no primary key. However, there is! The rowid is automatically created by SQLite and is used as the primary key for the table. To see the rowid, we can use the following query:"
   ]
  },
  {
   "cell_type": "code",
   "execution_count": 4,
   "metadata": {},
   "outputs": [
    {
     "name": "stdout",
     "output_type": "stream",
     "text": [
      " * sqlite:///\n",
      "Done.\n"
     ]
    },
    {
     "data": {
      "text/html": [
       "<table>\n",
       "    <thead>\n",
       "        <tr>\n",
       "            <th>rowid</th>\n",
       "            <th>name</th>\n",
       "            <th>age</th>\n",
       "            <th>email</th>\n",
       "        </tr>\n",
       "    </thead>\n",
       "    <tbody>\n",
       "        <tr>\n",
       "            <td>1</td>\n",
       "            <td>John</td>\n",
       "            <td>32</td>\n",
       "            <td>john@john.com</td>\n",
       "        </tr>\n",
       "        <tr>\n",
       "            <td>2</td>\n",
       "            <td>Mary</td>\n",
       "            <td>19</td>\n",
       "            <td>mary@mary.com</td>\n",
       "        </tr>\n",
       "        <tr>\n",
       "            <td>3</td>\n",
       "            <td>Roe</td>\n",
       "            <td>22</td>\n",
       "            <td>roe@roe.com</td>\n",
       "        </tr>\n",
       "        <tr>\n",
       "            <td>4</td>\n",
       "            <td>Sean</td>\n",
       "            <td>62</td>\n",
       "            <td>sean@sean.com</td>\n",
       "        </tr>\n",
       "    </tbody>\n",
       "</table>"
      ],
      "text/plain": [
       "[(1, 'John', 32, 'john@john.com'),\n",
       " (2, 'Mary', 19, 'mary@mary.com'),\n",
       " (3, 'Roe', 22, 'roe@roe.com'),\n",
       " (4, 'Sean', 62, 'sean@sean.com')]"
      ]
     },
     "execution_count": 4,
     "metadata": {},
     "output_type": "execute_result"
    }
   ],
   "source": [
    "%%sql\n",
    "SELECT rowid, name, age, email\n",
    "FROM users;"
   ]
  },
  {
   "cell_type": "markdown",
   "metadata": {},
   "source": [
    "What if we have a primary key explicitly defined?"
   ]
  },
  {
   "cell_type": "code",
   "execution_count": 5,
   "metadata": {},
   "outputs": [
    {
     "name": "stdout",
     "output_type": "stream",
     "text": [
      " * sqlite:///\n",
      "Done.\n",
      "Done.\n",
      "4 rows affected.\n",
      "Done.\n"
     ]
    },
    {
     "data": {
      "text/html": [
       "<table>\n",
       "    <thead>\n",
       "        <tr>\n",
       "            <th>user_id</th>\n",
       "            <th>name</th>\n",
       "            <th>age</th>\n",
       "            <th>email</th>\n",
       "        </tr>\n",
       "    </thead>\n",
       "    <tbody>\n",
       "        <tr>\n",
       "            <td>1</td>\n",
       "            <td>John</td>\n",
       "            <td>32</td>\n",
       "            <td>john@john.com</td>\n",
       "        </tr>\n",
       "        <tr>\n",
       "            <td>2</td>\n",
       "            <td>Mary</td>\n",
       "            <td>19</td>\n",
       "            <td>mary@mary.com</td>\n",
       "        </tr>\n",
       "        <tr>\n",
       "            <td>3</td>\n",
       "            <td>Roe</td>\n",
       "            <td>22</td>\n",
       "            <td>roe@roe.com</td>\n",
       "        </tr>\n",
       "        <tr>\n",
       "            <td>4</td>\n",
       "            <td>Sean</td>\n",
       "            <td>62</td>\n",
       "            <td>sean@sean.com</td>\n",
       "        </tr>\n",
       "    </tbody>\n",
       "</table>"
      ],
      "text/plain": [
       "[(1, 'John', 32, 'john@john.com'),\n",
       " (2, 'Mary', 19, 'mary@mary.com'),\n",
       " (3, 'Roe', 22, 'roe@roe.com'),\n",
       " (4, 'Sean', 62, 'sean@sean.com')]"
      ]
     },
     "execution_count": 5,
     "metadata": {},
     "output_type": "execute_result"
    }
   ],
   "source": [
    "%%sql\n",
    "\n",
    "DROP TABLE IF EXISTS users;\n",
    "\n",
    "CREATE TABLE users (\n",
    "    user_id INTEGER PRIMARY KEY,\n",
    "    name TEXT NOT NULL,\n",
    "    age INTEGER NOT NULL,\n",
    "    email TEXT NOT NULL UNIQUE\n",
    ");\n",
    "\n",
    "INSERT INTO users (user_id, name, age, email) VALUES\n",
    "    (1, 'John', 32, 'john@john.com'),\n",
    "    (2, 'Mary', 19, 'mary@mary.com'),\n",
    "    (3, 'Roe', 22, 'roe@roe.com'),\n",
    "    (4, 'Sean', 62, 'sean@sean.com');\n",
    "    \n",
    "SELECT user_id, name, age, email\n",
    "FROM users;"
   ]
  },
  {
   "cell_type": "markdown",
   "metadata": {},
   "source": [
    "Interesting... now where is the rowid?"
   ]
  },
  {
   "cell_type": "code",
   "execution_count": 6,
   "metadata": {},
   "outputs": [
    {
     "name": "stdout",
     "output_type": "stream",
     "text": [
      " * sqlite:///\n",
      "Done.\n"
     ]
    },
    {
     "data": {
      "text/html": [
       "<table>\n",
       "    <thead>\n",
       "        <tr>\n",
       "            <th>user_id</th>\n",
       "            <th>user_id_1</th>\n",
       "            <th>name</th>\n",
       "            <th>age</th>\n",
       "            <th>email</th>\n",
       "        </tr>\n",
       "    </thead>\n",
       "    <tbody>\n",
       "        <tr>\n",
       "            <td>1</td>\n",
       "            <td>1</td>\n",
       "            <td>John</td>\n",
       "            <td>32</td>\n",
       "            <td>john@john.com</td>\n",
       "        </tr>\n",
       "        <tr>\n",
       "            <td>2</td>\n",
       "            <td>2</td>\n",
       "            <td>Mary</td>\n",
       "            <td>19</td>\n",
       "            <td>mary@mary.com</td>\n",
       "        </tr>\n",
       "        <tr>\n",
       "            <td>3</td>\n",
       "            <td>3</td>\n",
       "            <td>Roe</td>\n",
       "            <td>22</td>\n",
       "            <td>roe@roe.com</td>\n",
       "        </tr>\n",
       "        <tr>\n",
       "            <td>4</td>\n",
       "            <td>4</td>\n",
       "            <td>Sean</td>\n",
       "            <td>62</td>\n",
       "            <td>sean@sean.com</td>\n",
       "        </tr>\n",
       "    </tbody>\n",
       "</table>"
      ],
      "text/plain": [
       "[(1, 1, 'John', 32, 'john@john.com'),\n",
       " (2, 2, 'Mary', 19, 'mary@mary.com'),\n",
       " (3, 3, 'Roe', 22, 'roe@roe.com'),\n",
       " (4, 4, 'Sean', 62, 'sean@sean.com')]"
      ]
     },
     "execution_count": 6,
     "metadata": {},
     "output_type": "execute_result"
    }
   ],
   "source": [
    "%%sql\n",
    "\n",
    "SELECT rowid, user_id, name, age, email\n",
    "FROM users;"
   ]
  },
  {
   "cell_type": "markdown",
   "metadata": {},
   "source": [
    "So, in this case, `user_id`is the `row_id` column.\n",
    "\n",
    "Also interesting is the fact that if you don't specify a value for the `user_id` column, SQLite will automatically assign a value to it. This is done by using the `AUTOINCREMENT` keyword, even when not include during the process of creating the table.\n",
    "\n",
    "The maximum value for `rowid` is 9223372036854775807, which is the maximum value for a 64-bit signed integer. If you try to insert a value greater than this, SQLite will return an error. Also, if you insert a new item, and the value of `rowid` has reached the maximum value, SQLite will try to find an unused number. If there is no free number, it will throw an error.\n",
    "\n",
    "SQLite recommends you don't use AUTOINCREMENT attribute as it requires extra CPU, memory, disk space and disk I/O overhead."
   ]
  },
  {
   "cell_type": "markdown",
   "metadata": {},
   "source": []
  }
 ],
 "metadata": {
  "kernelspec": {
   "display_name": ".venv",
   "language": "python",
   "name": "python3"
  },
  "language_info": {
   "codemirror_mode": {
    "name": "ipython",
    "version": 3
   },
   "file_extension": ".py",
   "mimetype": "text/x-python",
   "name": "python",
   "nbconvert_exporter": "python",
   "pygments_lexer": "ipython3",
   "version": "3.13.2"
  }
 },
 "nbformat": 4,
 "nbformat_minor": 2
}