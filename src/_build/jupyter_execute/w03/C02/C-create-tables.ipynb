{
 "cells": [
  {
   "cell_type": "markdown",
   "metadata": {},
   "source": [
    "# 3.2.C CREATE TABLE with Foreign Keys\n",
    "\n",
    "Table design principles using DDL commands, such as CREATE TABLE, DROP TABLE, ALTER TABLE, CREATE INDEX, DROP INDEX, CREATE VIEW, DROP VIEW.\n",
    "\n",
    "Control columns values using constraints: primary keys, foreign keys, delete with CASCADE, CHECK, UNIQUE, NOT NULL, AUTOINCREMENT."
   ]
  },
  {
   "cell_type": "code",
   "execution_count": 1,
   "metadata": {},
   "outputs": [],
   "source": [
    "%%capture\n",
    "%load_ext sql\n",
    "%sql sqlite:///\n",
    "%config SqlMagic.style = '_DEPRECATED_DEFAULT'"
   ]
  },
  {
   "cell_type": "markdown",
   "metadata": {},
   "source": [
    "## Foreign Key Constraints\n",
    "\n",
    "A foreign key is a column or a set of columns in one table that refers to the primary key in another table. A foreign key establishes a relationship between two tables and ensures referential integrity. This means that the values in the foreign key column must match the values in the primary key column of the referenced table.\n",
    "\n",
    "SQLite only supported foreign key constraints starting from version 3.6.19 (2009-10-14). By default, foreign key constraints are disabled in SQLite. To verify if your current SQLite version supports foreign key constraints, you can use the following command:"
   ]
  },
  {
   "cell_type": "code",
   "execution_count": 2,
   "metadata": {},
   "outputs": [
    {
     "name": "stdout",
     "output_type": "stream",
     "text": [
      " * sqlite:///\n",
      "Done.\n"
     ]
    },
    {
     "data": {
      "text/html": [
       "<table>\n",
       "    <thead>\n",
       "        <tr>\n",
       "            <th>foreign_keys</th>\n",
       "        </tr>\n",
       "    </thead>\n",
       "    <tbody>\n",
       "        <tr>\n",
       "            <td>0</td>\n",
       "        </tr>\n",
       "    </tbody>\n",
       "</table>"
      ],
      "text/plain": [
       "[(0,)]"
      ]
     },
     "execution_count": 2,
     "metadata": {},
     "output_type": "execute_result"
    }
   ],
   "source": [
    "%%sql\n",
    "PRAGMA foreign_keys;"
   ]
  },
  {
   "cell_type": "markdown",
   "metadata": {},
   "source": [
    "---\n",
    "\n",
    "The command returns an integer value: \n",
    "\n",
    "* 1: enable\n",
    "* 0: disabled. \n",
    "\n",
    "If the command returns nothing, it means that your SQLite version doesn’t support foreign key constraints.\n",
    "\n",
    "The foreign keys can be enabled or disabled using the following command:\n",
    "\n",
    "```sql\n",
    "PRAGMA foreign_keys = ON; -- enable\n",
    "PRAGMA foreign_keys = OFF; -- disable\n",
    "```"
   ]
  },
  {
   "cell_type": "markdown",
   "metadata": {},
   "source": [
    "## Foreign Key Syntax\n",
    "\n",
    "To create a foreign key constraint in SQLite, you can use the following syntax when creating a table:\n",
    "\n",
    "```sql\n",
    "CREATE TABLE table_name (\n",
    "    column1 datatype,\n",
    "    column2 datatype,\n",
    "    ...\n",
    "    FOREIGN KEY (column_name) REFERENCES other_table (other_column)\n",
    ");\n",
    "```\n",
    "\n",
    "The table that contains the foreign key is called the child table, and the table that contains the primary key is called the parent table. The foreign key constraint ensures that any value in the child table's foreign key column must exist in the parent table's primary key column.\n",
    "\n",
    "### Example\n",
    "\n",
    "Let's create two tables: `students` and `courses`. The `students` table will have a foreign key that references the `courses` table."
   ]
  },
  {
   "cell_type": "code",
   "execution_count": 3,
   "metadata": {},
   "outputs": [
    {
     "name": "stdout",
     "output_type": "stream",
     "text": [
      " * sqlite:///\n",
      "Done.\n",
      "Done.\n"
     ]
    },
    {
     "data": {
      "text/plain": [
       "[]"
      ]
     },
     "execution_count": 3,
     "metadata": {},
     "output_type": "execute_result"
    }
   ],
   "source": [
    "%%sql\n",
    "\n",
    "CREATE TABLE courses (\n",
    "    course_id INTEGER PRIMARY KEY,\n",
    "    course_name TEXT NOT NULL\n",
    ");\n",
    "\n",
    "CREATE TABLE students (\n",
    "    student_id INTEGER PRIMARY KEY,\n",
    "    student_name TEXT NOT NULL,\n",
    "    course_id INTEGER,\n",
    "    FOREIGN KEY (course_id) REFERENCES courses (course_id)\n",
    ");"
   ]
  },
  {
   "cell_type": "markdown",
   "metadata": {},
   "source": [
    "---\n",
    "\n",
    "In this example, the `students` table has a foreign key `course_id` that references the `course_id` in the `courses` table. This means that any value in the `course_id` column of the `students` table must exist in the `course_id` column of the `courses` table.\n",
    "\n",
    "If you try to insert a record into the `students` table with a `course_id` that does not exist in the `courses` table, SQLite will raise an error and prevent the insertion. This ensures referential integrity between the two tables."
   ]
  },
  {
   "cell_type": "markdown",
   "metadata": {},
   "source": [
    "Let's add some data to the `courses` table and then insert a record into the `students` table with a valid `course_id`. After that, we will try to insert a record with an invalid `course_id` to see how SQLite handles it."
   ]
  },
  {
   "cell_type": "code",
   "execution_count": 4,
   "metadata": {},
   "outputs": [
    {
     "name": "stdout",
     "output_type": "stream",
     "text": [
      " * sqlite:///\n",
      "Done.\n",
      "3 rows affected.\n",
      "5 rows affected.\n"
     ]
    },
    {
     "data": {
      "text/plain": [
       "[]"
      ]
     },
     "execution_count": 4,
     "metadata": {},
     "output_type": "execute_result"
    }
   ],
   "source": [
    "%%sql\n",
    "\n",
    "-- Turning foreign key constraints on\n",
    "PRAGMA foreign_keys = ON;\n",
    "\n",
    "INSERT INTO courses (course_id, course_name) VALUES\n",
    "(1, 'Mathematics'),\n",
    "(2, 'Science'),\n",
    "(3, 'History');\n",
    "\n",
    "INSERT INTO students (student_id, student_name, course_id) VALUES\n",
    "(1, 'Alice', 1),\n",
    "(2, 'Bob', 2),\n",
    "(3, 'Charlie', 3),\n",
    "(4, 'David', 1),\n",
    "(5, 'Eve', 2);"
   ]
  },
  {
   "cell_type": "code",
   "execution_count": 5,
   "metadata": {},
   "outputs": [
    {
     "name": "stdout",
     "output_type": "stream",
     "text": [
      " * sqlite:///\n",
      "(sqlite3.IntegrityError) FOREIGN KEY constraint failed\n",
      "[SQL: -- Error inserting a student with a non-existent course_id\n",
      "INSERT INTO students (student_id, student_name, course_id) VALUES\n",
      "(6, 'Frank', 4);  -- This will fail due to foreign key constraint]\n",
      "(Background on this error at: https://sqlalche.me/e/20/gkpj)\n"
     ]
    }
   ],
   "source": [
    "%%sql\n",
    "-- Error inserting a student with a non-existent course_id\n",
    "INSERT INTO students (student_id, student_name, course_id) VALUES\n",
    "(6, 'Frank', 4);  -- This will fail due to foreign key constraint"
   ]
  },
  {
   "cell_type": "code",
   "execution_count": 6,
   "metadata": {},
   "outputs": [
    {
     "name": "stdout",
     "output_type": "stream",
     "text": [
      " * sqlite:///\n",
      "Done.\n"
     ]
    },
    {
     "data": {
      "text/html": [
       "<table>\n",
       "    <thead>\n",
       "        <tr>\n",
       "            <th>student_id</th>\n",
       "            <th>student_name</th>\n",
       "            <th>course_id</th>\n",
       "        </tr>\n",
       "    </thead>\n",
       "    <tbody>\n",
       "        <tr>\n",
       "            <td>1</td>\n",
       "            <td>Alice</td>\n",
       "            <td>1</td>\n",
       "        </tr>\n",
       "        <tr>\n",
       "            <td>2</td>\n",
       "            <td>Bob</td>\n",
       "            <td>2</td>\n",
       "        </tr>\n",
       "        <tr>\n",
       "            <td>3</td>\n",
       "            <td>Charlie</td>\n",
       "            <td>3</td>\n",
       "        </tr>\n",
       "        <tr>\n",
       "            <td>4</td>\n",
       "            <td>David</td>\n",
       "            <td>1</td>\n",
       "        </tr>\n",
       "        <tr>\n",
       "            <td>5</td>\n",
       "            <td>Eve</td>\n",
       "            <td>2</td>\n",
       "        </tr>\n",
       "    </tbody>\n",
       "</table>"
      ],
      "text/plain": [
       "[(1, 'Alice', 1),\n",
       " (2, 'Bob', 2),\n",
       " (3, 'Charlie', 3),\n",
       " (4, 'David', 1),\n",
       " (5, 'Eve', 2)]"
      ]
     },
     "execution_count": 6,
     "metadata": {},
     "output_type": "execute_result"
    }
   ],
   "source": [
    "%%sql\n",
    "select * from students;"
   ]
  },
  {
   "cell_type": "markdown",
   "metadata": {},
   "source": [
    "## Handling Foreign Key Violations\n",
    "\n",
    "When you try to insert a record into the child table with a foreign key that does not exist in the parent table, SQLite will raise an error. But the bigger problem is when you delete or update a record in the parent table that is referenced by the child table. In this case, you have several options to handle foreign key violations:\n",
    "\n",
    "1. **CASCADE**: If you delete or update a record in the parent table, all corresponding records in the child table will also be deleted or updated.\n",
    "2. **SET NULL**: If you delete or update a record in the parent table, the corresponding foreign key values in the child table will be set to NULL.\n",
    "3. **SET DEFAULT**: If you delete or update a record in the parent table, the corresponding foreign key values in the child table will be set to their default value.\n",
    "4. **NO ACTION**: If you delete or update a record in the parent table, SQLite will raise an error and prevent the operation if there are corresponding records in the child table.\n",
    "5. **RESTRICT**: Similar to NO ACTION, but it checks for foreign key violations immediately after the DELETE or UPDATE statement."
   ]
  },
  {
   "cell_type": "markdown",
   "metadata": {},
   "source": [
    "### CASCADE Example\n",
    "\n",
    "The `CASCADE` action is the most common way to handle foreign key violations. It allows you to delete or update records in the parent table without worrying about the child table. When you delete or update a record in the parent table, all corresponding records in the child table will also be deleted or updated.\n",
    "\n",
    "Let's create the `team` table and the `player` table with a foreign key constraint. The `player` table has a foreign key `team_id` that references the `team_id` in the `team` table. If we delete a record from the `team` table, all corresponding records in the `player` table will also be deleted."
   ]
  },
  {
   "cell_type": "code",
   "execution_count": 7,
   "metadata": {},
   "outputs": [
    {
     "name": "stdout",
     "output_type": "stream",
     "text": [
      " * sqlite:///\n",
      "Done.\n",
      "Done.\n",
      "5 rows affected.\n",
      "Done.\n",
      "Done.\n",
      "6 rows affected.\n",
      "Done.\n"
     ]
    },
    {
     "data": {
      "text/html": [
       "<table>\n",
       "    <thead>\n",
       "        <tr>\n",
       "            <th>team_id</th>\n",
       "            <th>team_name</th>\n",
       "            <th>player_id</th>\n",
       "            <th>player_name</th>\n",
       "        </tr>\n",
       "    </thead>\n",
       "    <tbody>\n",
       "        <tr>\n",
       "            <td>1</td>\n",
       "            <td>Team A</td>\n",
       "            <td>1</td>\n",
       "            <td>Player 1</td>\n",
       "        </tr>\n",
       "        <tr>\n",
       "            <td>1</td>\n",
       "            <td>Team A</td>\n",
       "            <td>2</td>\n",
       "            <td>Player 2</td>\n",
       "        </tr>\n",
       "        <tr>\n",
       "            <td>2</td>\n",
       "            <td>Team B</td>\n",
       "            <td>3</td>\n",
       "            <td>Player 3</td>\n",
       "        </tr>\n",
       "        <tr>\n",
       "            <td>3</td>\n",
       "            <td>Team C</td>\n",
       "            <td>4</td>\n",
       "            <td>Player 4</td>\n",
       "        </tr>\n",
       "        <tr>\n",
       "            <td>4</td>\n",
       "            <td>Team D</td>\n",
       "            <td>5</td>\n",
       "            <td>Player 5</td>\n",
       "        </tr>\n",
       "        <tr>\n",
       "            <td>5</td>\n",
       "            <td>Team E</td>\n",
       "            <td>6</td>\n",
       "            <td>Player 6</td>\n",
       "        </tr>\n",
       "    </tbody>\n",
       "</table>"
      ],
      "text/plain": [
       "[(1, 'Team A', 1, 'Player 1'),\n",
       " (1, 'Team A', 2, 'Player 2'),\n",
       " (2, 'Team B', 3, 'Player 3'),\n",
       " (3, 'Team C', 4, 'Player 4'),\n",
       " (4, 'Team D', 5, 'Player 5'),\n",
       " (5, 'Team E', 6, 'Player 6')]"
      ]
     },
     "execution_count": 7,
     "metadata": {},
     "output_type": "execute_result"
    }
   ],
   "source": [
    "%%sql\n",
    "-- Create the team table\n",
    "DROP TABLE IF EXISTS teams;\n",
    "\n",
    "CREATE TABLE teams (\n",
    "    team_id INTEGER PRIMARY KEY,\n",
    "    team_name TEXT NOT NULL\n",
    ");\n",
    "\n",
    "-- Insert some teams\n",
    "INSERT INTO teams (team_id, team_name) VALUES\n",
    "(1, 'Team A'),\n",
    "(2, 'Team B'),\n",
    "(3, 'Team C'),\n",
    "(4, 'Team D'),\n",
    "(5, 'Team E');\n",
    "\n",
    "-- Create players table\n",
    "DROP TABLE IF EXISTS players;\n",
    "\n",
    "CREATE TABLE players (\n",
    "    player_id INTEGER PRIMARY KEY,\n",
    "    player_name TEXT NOT NULL,\n",
    "    team_id INTEGER,\n",
    "    FOREIGN KEY (team_id) REFERENCES teams (team_id)\n",
    "        ON UPDATE CASCADE\n",
    "        ON DELETE CASCADE\n",
    ");\n",
    "\n",
    "-- Insert some players\n",
    "INSERT INTO players (player_id, player_name, team_id) VALUES\n",
    "(1, 'Player 1', 1),\n",
    "(2, 'Player 2', 1),\n",
    "(3, 'Player 3', 2),\n",
    "(4, 'Player 4', 3),\n",
    "(5, 'Player 5', 4),\n",
    "(6, 'Player 6', 5);\n",
    "\n",
    "SELECT t.team_id, team_name, player_id, player_name\n",
    "FROM players p\n",
    "    JOIN teams t\n",
    "    ON p.team_id = t.team_id;"
   ]
  },
  {
   "cell_type": "markdown",
   "metadata": {},
   "source": [
    "Now let's delete a record from the `team` table and see how it affects the `player` table."
   ]
  },
  {
   "cell_type": "code",
   "execution_count": 8,
   "metadata": {},
   "outputs": [
    {
     "name": "stdout",
     "output_type": "stream",
     "text": [
      " * sqlite:///\n",
      "1 rows affected.\n",
      "Done.\n"
     ]
    },
    {
     "data": {
      "text/html": [
       "<table>\n",
       "    <thead>\n",
       "        <tr>\n",
       "            <th>player_id</th>\n",
       "            <th>player_name</th>\n",
       "            <th>team_id</th>\n",
       "        </tr>\n",
       "    </thead>\n",
       "    <tbody>\n",
       "        <tr>\n",
       "            <td>3</td>\n",
       "            <td>Player 3</td>\n",
       "            <td>2</td>\n",
       "        </tr>\n",
       "        <tr>\n",
       "            <td>4</td>\n",
       "            <td>Player 4</td>\n",
       "            <td>3</td>\n",
       "        </tr>\n",
       "        <tr>\n",
       "            <td>5</td>\n",
       "            <td>Player 5</td>\n",
       "            <td>4</td>\n",
       "        </tr>\n",
       "        <tr>\n",
       "            <td>6</td>\n",
       "            <td>Player 6</td>\n",
       "            <td>5</td>\n",
       "        </tr>\n",
       "    </tbody>\n",
       "</table>"
      ],
      "text/plain": [
       "[(3, 'Player 3', 2),\n",
       " (4, 'Player 4', 3),\n",
       " (5, 'Player 5', 4),\n",
       " (6, 'Player 6', 5)]"
      ]
     },
     "execution_count": 8,
     "metadata": {},
     "output_type": "execute_result"
    }
   ],
   "source": [
    "%%sql\n",
    "\n",
    "DELETE FROM teams WHERE team_id = 1;\n",
    "\n",
    "SELECT * FROM players;"
   ]
  },
  {
   "cell_type": "markdown",
   "metadata": {},
   "source": [
    "As you can see, players 1 and 2 are deleted from the `player` table when we delete the `team` with `team_id` 1. This is because of the `CASCADE` action we specified in the foreign key constraint."
   ]
  },
  {
   "cell_type": "markdown",
   "metadata": {},
   "source": [
    "### SET NULL Example\n",
    "\n",
    "The `SET NULL` action allows you to delete or update records in the parent table without deleting or updating the corresponding records in the child table. Instead, the foreign key values in the child table will be set to NULL.\n",
    "\n",
    "Let's create the `team` table and the `player` table with a foreign key constraint. The `player` table has a foreign key `team_id` that references the `team_id` in the `team` table. If we delete a record from the `team` table, the corresponding foreign key values in the `player` table will be set to NULL."
   ]
  },
  {
   "cell_type": "code",
   "execution_count": 9,
   "metadata": {},
   "outputs": [
    {
     "name": "stdout",
     "output_type": "stream",
     "text": [
      " * sqlite:///\n",
      "Done.\n",
      "Done.\n",
      "Done.\n",
      "Done.\n",
      "2 rows affected.\n",
      "3 rows affected.\n",
      "Done.\n"
     ]
    },
    {
     "data": {
      "text/html": [
       "<table>\n",
       "    <thead>\n",
       "        <tr>\n",
       "            <th>player_id</th>\n",
       "            <th>player_name</th>\n",
       "            <th>team_id</th>\n",
       "        </tr>\n",
       "    </thead>\n",
       "    <tbody>\n",
       "        <tr>\n",
       "            <td>1</td>\n",
       "            <td>Player 1</td>\n",
       "            <td>1</td>\n",
       "        </tr>\n",
       "        <tr>\n",
       "            <td>2</td>\n",
       "            <td>Player 2</td>\n",
       "            <td>1</td>\n",
       "        </tr>\n",
       "        <tr>\n",
       "            <td>3</td>\n",
       "            <td>Player 3</td>\n",
       "            <td>2</td>\n",
       "        </tr>\n",
       "    </tbody>\n",
       "</table>"
      ],
      "text/plain": [
       "[(1, 'Player 1', 1), (2, 'Player 2', 1), (3, 'Player 3', 2)]"
      ]
     },
     "execution_count": 9,
     "metadata": {},
     "output_type": "execute_result"
    }
   ],
   "source": [
    "%%sql\n",
    "DROP TABLE IF EXISTS team;\n",
    "DROP TABLE IF EXISTS player;\n",
    "\n",
    "CREATE TABLE team (\n",
    "    team_id INTEGER PRIMARY KEY,\n",
    "    team_name TEXT\n",
    ");\n",
    "CREATE TABLE player (\n",
    "    player_id INTEGER PRIMARY KEY,\n",
    "    player_name TEXT,\n",
    "    team_id INTEGER,\n",
    "    FOREIGN KEY (team_id) REFERENCES team (team_id)   \n",
    "        ON DELETE SET NULL\n",
    ");\n",
    "\n",
    "INSERT INTO team (team_id, team_name) VALUES (1, 'Team A'), (2, 'Team B');\n",
    "INSERT INTO player (player_id, player_name, team_id) VALUES (1, 'Player 1', 1), (2, 'Player 2', 1), (3, 'Player 3', 2);\n",
    "\n",
    "SELECT * FROM player;"
   ]
  },
  {
   "cell_type": "code",
   "execution_count": 10,
   "metadata": {},
   "outputs": [
    {
     "name": "stdout",
     "output_type": "stream",
     "text": [
      " * sqlite:///\n",
      "1 rows affected.\n",
      "Done.\n"
     ]
    },
    {
     "data": {
      "text/html": [
       "<table>\n",
       "    <thead>\n",
       "        <tr>\n",
       "            <th>player_id</th>\n",
       "            <th>player_name</th>\n",
       "            <th>team_id</th>\n",
       "        </tr>\n",
       "    </thead>\n",
       "    <tbody>\n",
       "        <tr>\n",
       "            <td>1</td>\n",
       "            <td>Player 1</td>\n",
       "            <td>None</td>\n",
       "        </tr>\n",
       "        <tr>\n",
       "            <td>2</td>\n",
       "            <td>Player 2</td>\n",
       "            <td>None</td>\n",
       "        </tr>\n",
       "        <tr>\n",
       "            <td>3</td>\n",
       "            <td>Player 3</td>\n",
       "            <td>2</td>\n",
       "        </tr>\n",
       "    </tbody>\n",
       "</table>"
      ],
      "text/plain": [
       "[(1, 'Player 1', None), (2, 'Player 2', None), (3, 'Player 3', 2)]"
      ]
     },
     "execution_count": 10,
     "metadata": {},
     "output_type": "execute_result"
    }
   ],
   "source": [
    "%%sql \n",
    "DELETE FROM team WHERE team_id = 1;\n",
    "SELECT * FROM player;"
   ]
  },
  {
   "cell_type": "markdown",
   "metadata": {},
   "source": [
    "### SET DEFAULT Example\n",
    "\n",
    "The `SET DEFAULT` action allows you to delete or update records in the parent table without deleting or updating the corresponding records in the child table. Instead, the foreign key values in the child table will be set to their default value.\n",
    "\n",
    "Let's create the `team` table and the `player` table with a foreign key constraint. The `player` table has a foreign key `team_id` that references the `team_id` in the `team` table. If we delete a record from the `team` table, the corresponding foreign key values in the `player` table will be set to their default value."
   ]
  },
  {
   "cell_type": "code",
   "execution_count": 11,
   "metadata": {},
   "outputs": [
    {
     "name": "stdout",
     "output_type": "stream",
     "text": [
      " * sqlite:///\n",
      "Done.\n",
      "Done.\n",
      "Done.\n",
      "Done.\n",
      "Done.\n",
      "Done.\n",
      "2 rows affected.\n",
      "3 rows affected.\n",
      "Done.\n"
     ]
    },
    {
     "data": {
      "text/html": [
       "<table>\n",
       "    <thead>\n",
       "        <tr>\n",
       "            <th>player_id</th>\n",
       "            <th>player_name</th>\n",
       "            <th>team_id</th>\n",
       "        </tr>\n",
       "    </thead>\n",
       "    <tbody>\n",
       "        <tr>\n",
       "            <td>1</td>\n",
       "            <td>Player 1</td>\n",
       "            <td>1</td>\n",
       "        </tr>\n",
       "        <tr>\n",
       "            <td>2</td>\n",
       "            <td>Player 2</td>\n",
       "            <td>1</td>\n",
       "        </tr>\n",
       "        <tr>\n",
       "            <td>3</td>\n",
       "            <td>Player 3</td>\n",
       "            <td>2</td>\n",
       "        </tr>\n",
       "    </tbody>\n",
       "</table>"
      ],
      "text/plain": [
       "[(1, 'Player 1', 1), (2, 'Player 2', 1), (3, 'Player 3', 2)]"
      ]
     },
     "execution_count": 11,
     "metadata": {},
     "output_type": "execute_result"
    }
   ],
   "source": [
    "%%sql\n",
    "\n",
    "PRAGMA foreign_keys = OFF;\n",
    "DROP TABLE IF EXISTS team;\n",
    "DROP TABLE IF EXISTS player;\n",
    "PRAGMA foreign_keys = ON;\n",
    "\n",
    "CREATE TABLE team (\n",
    "    team_id INTEGER PRIMARY KEY,\n",
    "    team_name TEXT\n",
    ");\n",
    "CREATE TABLE player (\n",
    "    player_id INTEGER PRIMARY KEY,\n",
    "    player_name TEXT,\n",
    "    team_id INTEGER DEFAULT 2,\n",
    "    FOREIGN KEY (team_id) REFERENCES team (team_id)\n",
    "        ON DELETE SET DEFAULT\n",
    ");\n",
    "\n",
    "INSERT INTO team (team_id, team_name) VALUES (1, 'Team A'), (2, 'Team B');\n",
    "INSERT INTO player (player_id, player_name, team_id) VALUES (1, 'Player 1', 1), (2, 'Player 2', 1), (3, 'Player 3', 2);\n",
    "SELECT * FROM player;"
   ]
  },
  {
   "cell_type": "code",
   "execution_count": 12,
   "metadata": {},
   "outputs": [
    {
     "name": "stdout",
     "output_type": "stream",
     "text": [
      " * sqlite:///\n",
      "1 rows affected.\n",
      "Done.\n"
     ]
    },
    {
     "data": {
      "text/html": [
       "<table>\n",
       "    <thead>\n",
       "        <tr>\n",
       "            <th>player_id</th>\n",
       "            <th>player_name</th>\n",
       "            <th>team_id</th>\n",
       "        </tr>\n",
       "    </thead>\n",
       "    <tbody>\n",
       "        <tr>\n",
       "            <td>1</td>\n",
       "            <td>Player 1</td>\n",
       "            <td>2</td>\n",
       "        </tr>\n",
       "        <tr>\n",
       "            <td>2</td>\n",
       "            <td>Player 2</td>\n",
       "            <td>2</td>\n",
       "        </tr>\n",
       "        <tr>\n",
       "            <td>3</td>\n",
       "            <td>Player 3</td>\n",
       "            <td>2</td>\n",
       "        </tr>\n",
       "    </tbody>\n",
       "</table>"
      ],
      "text/plain": [
       "[(1, 'Player 1', 2), (2, 'Player 2', 2), (3, 'Player 3', 2)]"
      ]
     },
     "execution_count": 12,
     "metadata": {},
     "output_type": "execute_result"
    }
   ],
   "source": [
    "%%sql \n",
    "DELETE FROM team WHERE team_id = 1;\n",
    "\n",
    "SELECT * FROM player;"
   ]
  },
  {
   "cell_type": "markdown",
   "metadata": {},
   "source": [
    "### RESTRICT and NO ACTION Example\n",
    "\n",
    "The `RESTRICT` action is similar to the `NO ACTION` action. It prevents you from deleting or updating a record in the parent table if there are corresponding records in the child table. This means that if you try to delete or update a record in the parent table that is referenced by the child table, SQLite will raise an error and prevent the operation.\n",
    "\n",
    "Let's create the `team` table and the `player` table with a foreign key constraint. The `player` table has a foreign key `team_id` that references the `team_id` in the `team` table. If we try to delete a record from the `team` table that is referenced by the `player` table, SQLite will raise an error and prevent the operation.\n"
   ]
  },
  {
   "cell_type": "code",
   "execution_count": 13,
   "metadata": {},
   "outputs": [
    {
     "name": "stdout",
     "output_type": "stream",
     "text": [
      " * sqlite:///\n",
      "Done.\n",
      "Done.\n",
      "Done.\n",
      "Done.\n",
      "Done.\n",
      "Done.\n",
      "1 rows affected.\n",
      "1 rows affected.\n",
      "1 rows affected.\n",
      "(sqlite3.IntegrityError) FOREIGN KEY constraint failed\n",
      "[SQL: DELETE FROM team WHERE team_id = 1; -- This will raise an error]\n",
      "(Background on this error at: https://sqlalche.me/e/20/gkpj)\n"
     ]
    }
   ],
   "source": [
    "%%sql\n",
    "\n",
    "PRAGMA foreign_keys = OFF;\n",
    "DROP TABLE IF EXISTS team;\n",
    "DROP TABLE IF EXISTS player;\n",
    "PRAGMA foreign_keys = ON;\n",
    "\n",
    "CREATE TABLE team (\n",
    "    team_id INTEGER PRIMARY KEY,\n",
    "    team_name TEXT NOT NULL\n",
    ");\n",
    "CREATE TABLE player (\n",
    "    player_id INTEGER PRIMARY KEY,\n",
    "    player_name TEXT NOT NULL,\n",
    "    team_id INTEGER,\n",
    "    FOREIGN KEY (team_id) REFERENCES team (team_id) \n",
    "        ON DELETE RESTRICT\n",
    ");\n",
    "INSERT INTO team (team_id, team_name) VALUES (1, 'Team A');\n",
    "INSERT INTO player (player_id, player_name, team_id) VALUES (1, 'Player 1', 1);\n",
    "INSERT INTO player (player_id, player_name, team_id) VALUES (2, 'Player 2', 1);\n",
    "DELETE FROM team WHERE team_id = 1; -- This will raise an error\n"
   ]
  },
  {
   "cell_type": "markdown",
   "metadata": {},
   "source": [
    "## Summary\n",
    "\n",
    "In this lesson, we learned about foreign key constraints in SQLite. We learned how to create foreign key constraints using the `CREATE TABLE` statement and how to handle foreign key violations using different actions such as `CASCADE`, `SET NULL`, `SET DEFAULT`, `NO ACTION`, and `RESTRICT`. We also learned how to enable and disable foreign key constraints in SQLite.\n",
    "\n",
    "## Exercises\n",
    "\n",
    "1. Create a `departments` table with the following columns:\n",
    "   - `department_id` (INTEGER, PRIMARY KEY)\n",
    "   - `department_name` (TEXT, NOT NULL)\n",
    "   - `location` (TEXT, NOT NULL)\n",
    "2. Create an `employees` table with the following columns:\n",
    "   - `employee_id` (INTEGER, PRIMARY KEY)\n",
    "   - `first_name` (TEXT, NOT NULL)\n",
    "   - `last_name` (TEXT, NOT NULL)\n",
    "   - `department_id` (INTEGER, FOREIGN KEY REFERENCES departments(department_id) ON DELETE CASCADE)\n",
    "3. Insert some sample data into the `departments` and `employees` tables.\n",
    "4. Delete a department from the `departments` table and observe how it affects the `employees` table.\n",
    "5. Change the foreign key constraint in the `employees` table to use `SET NULL` instead of `CASCADE`. Delete a department from the `departments` table and observe how it affects the `employees` table.\n",
    "6. Change the foreign key constraint in the `employees` table to use `SET DEFAULT` instead of `CASCADE`. Delete a department from the `departments` table and observe how it affects the `employees` table.\n",
    "7. Change the foreign key constraint in the `employees` table to use `RESTRICT` instead of `CASCADE`. Try to delete a department from the `departments` table that is referenced by the `employees` table and observe how it affects the operation.\n",
    "8. Change the foreign key constraint in the `employees` table to use `NO ACTION` instead of `CASCADE`. Try to delete a department from the `departments` table that is referenced by the `employees` table and observe how it affects the operation.\n"
   ]
  },
  {
   "cell_type": "code",
   "execution_count": 14,
   "metadata": {},
   "outputs": [
    {
     "name": "stdout",
     "output_type": "stream",
     "text": [
      " * sqlite:///\n",
      "Done.\n"
     ]
    },
    {
     "data": {
      "text/plain": [
       "[]"
      ]
     },
     "execution_count": 14,
     "metadata": {},
     "output_type": "execute_result"
    }
   ],
   "source": [
    "%%sql\n",
    "-- Your code in here"
   ]
  },
  {
   "cell_type": "code",
   "execution_count": 15,
   "metadata": {},
   "outputs": [
    {
     "name": "stdout",
     "output_type": "stream",
     "text": [
      " * sqlite:///\n",
      "Done.\n"
     ]
    },
    {
     "data": {
      "text/plain": [
       "[]"
      ]
     },
     "execution_count": 15,
     "metadata": {},
     "output_type": "execute_result"
    }
   ],
   "source": [
    "%%sql\n",
    "\n",
    "-- More play area for you to test your SQL skills"
   ]
  },
  {
   "cell_type": "code",
   "execution_count": null,
   "metadata": {},
   "outputs": [],
   "source": []
  }
 ],
 "metadata": {
  "kernelspec": {
   "display_name": ".venv",
   "language": "python",
   "name": "python3"
  },
  "language_info": {
   "codemirror_mode": {
    "name": "ipython",
    "version": 3
   },
   "file_extension": ".py",
   "mimetype": "text/x-python",
   "name": "python",
   "nbconvert_exporter": "python",
   "pygments_lexer": "ipython3",
   "version": "3.13.2"
  }
 },
 "nbformat": 4,
 "nbformat_minor": 2
}