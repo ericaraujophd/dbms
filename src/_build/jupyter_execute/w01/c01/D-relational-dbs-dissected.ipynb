{
 "cells": [
  {
   "cell_type": "markdown",
   "id": "f97d19dd",
   "metadata": {},
   "source": [
    "# Relational Database Dissected\n",
    "\n",
    "In this notebook, we will explore the fundamental components of relational databases, including tables, fields, records, keys, views, and relationships. Examples will be provided to illustrate each concept."
   ]
  },
  {
   "cell_type": "markdown",
   "id": "95348e88",
   "metadata": {},
   "source": [
    "## Tables\n",
    "\n",
    "Tables are the primary structure in a relational database. They organize data into rows and columns, where each row represents a record and each column represents a field."
   ]
  },
  {
   "cell_type": "markdown",
   "id": "6761a9bd",
   "metadata": {},
   "source": [
    "### Example\n",
    "\n",
    "Consider a \"Students\" table:\n",
    "\n",
    "| ID | Name   | Age |\n",
    "|----|--------|-----|\n",
    "| 1  | Alice  | 25  |\n",
    "| 2  | Bob    | 30  |\n",
    "| 3  | Charlie| 35  |"
   ]
  },
  {
   "cell_type": "markdown",
   "id": "61d0f033",
   "metadata": {},
   "source": [
    "## Fields\n",
    "\n",
    "Fields are the individual columns in a table. Each field represents a specific attribute or property of the data stored in the table."
   ]
  },
  {
   "cell_type": "markdown",
   "id": "09cec3b9",
   "metadata": {},
   "source": [
    "### Example\n",
    "\n",
    "In the \"Students\" table, \"ID\", \"Name\", and \"Age\" are fields."
   ]
  },
  {
   "cell_type": "markdown",
   "id": "dd52ce24",
   "metadata": {},
   "source": [
    "## Records\n",
    "\n",
    "Records are the individual rows in a table. Each record represents a single, unique entry in the table."
   ]
  },
  {
   "cell_type": "markdown",
   "id": "2bcc2bf6",
   "metadata": {},
   "source": [
    "### Example\n",
    "\n",
    "In the \"Students\" table, the row \"1, Alice, 25\" is a record."
   ]
  },
  {
   "cell_type": "markdown",
   "id": "1990a102",
   "metadata": {},
   "source": [
    "## Keys\n",
    "\n",
    "Keys are used to uniquely identify records in a table and establish relationships between tables. Common types of keys include primary keys and foreign keys."
   ]
  },
  {
   "cell_type": "markdown",
   "id": "65840414",
   "metadata": {},
   "source": [
    "### Example\n",
    "\n",
    "In the \"Students\" table, \"ID\" is the primary key because it uniquely identifies each student."
   ]
  },
  {
   "cell_type": "markdown",
   "id": "56b76b05",
   "metadata": {},
   "source": [
    "## Views\n",
    "\n",
    "Views are virtual tables that are created by querying data from one or more tables. They do not store data themselves but provide a way to simplify complex queries."
   ]
  },
  {
   "cell_type": "markdown",
   "id": "9221e543",
   "metadata": {},
   "source": [
    "### Example\n",
    "\n",
    "A view \"AdultStudents\" could be created to show only students aged 18 and above:\n",
    "\n",
    "```sql\n",
    "CREATE VIEW AdultStudents AS\n",
    "SELECT * FROM Students WHERE Age >= 18;\n",
    "```"
   ]
  },
  {
   "cell_type": "markdown",
   "id": "f035b3d6",
   "metadata": {},
   "source": [
    "## Relationships\n",
    "\n",
    "Relationships define how data in one table is related to data in another table. They are established using keys and can be one-to-one, one-to-many, or many-to-many."
   ]
  },
  {
   "cell_type": "markdown",
   "id": "d77fbdff",
   "metadata": {},
   "source": [
    "### Example\n",
    "\n",
    "Consider a \"Courses\" table:\n",
    "\n",
    "| CourseID | CourseName |\n",
    "|----------|------------|\n",
    "| 101      | Math       |\n",
    "| 102      | Science    |\n",
    "\n",
    "A \"StudentCourses\" table can establish a many-to-many relationship between \"Students\" and \"Courses\":\n",
    "\n",
    "| StudentID | CourseID |\n",
    "|-----------|----------|\n",
    "| 1         | 101      |\n",
    "| 1         | 102      |\n",
    "| 2         | 101      |"
   ]
  }
 ],
 "metadata": {
  "language_info": {
   "codemirror_mode": {
    "name": "ipython",
    "version": 3
   },
   "file_extension": ".py",
   "mimetype": "text/x-python",
   "name": "python",
   "nbconvert_exporter": "python",
   "pygments_lexer": "ipython3",
   "version": "3.13.3"
  }
 },
 "nbformat": 4,
 "nbformat_minor": 5
}