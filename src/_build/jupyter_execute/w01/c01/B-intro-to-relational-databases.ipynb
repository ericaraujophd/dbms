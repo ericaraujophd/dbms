{
 "cells": [
  {
   "cell_type": "markdown",
   "id": "1bd32c4b",
   "metadata": {},
   "source": [
    "# Introduction to Database Management Systems\n",
    "\n",
    "Database Management Systems (DBMS) are software systems designed to store, manage, and retrieve data efficiently. They provide a systematic way to create, retrieve, update, and manage data in databases."
   ]
  },
  {
   "cell_type": "markdown",
   "id": "5401b7e5",
   "metadata": {},
   "source": [
    "## Purpose of DBMS\n",
    "\n",
    "- To provide a way to store and retrieve database information that is both convenient and efficient.\n",
    "- To ensure data integrity, security, and consistency."
   ]
  },
  {
   "cell_type": "markdown",
   "id": "75c170b2",
   "metadata": {},
   "source": [
    "## Key Components of DBMS\n",
    "\n",
    "1. **Database Engine**: Handles data storage, retrieval, and updates.\n",
    "2. **Database Schema**: Defines the structure of the data.\n",
    "3. **Query Processor**: Interprets and executes database queries.\n",
    "4. **Transaction Manager**: Ensures ACID properties for transactions."
   ]
  },
  {
   "cell_type": "markdown",
   "id": "02de3e2b",
   "metadata": {},
   "source": [
    "## Examples of Popular DBMS Software\n",
    "- **Relational DBMS**: These use a structured query language (SQL) for defining and manipulating data. Examples include:\n",
    "  - MySQL\n",
    "  - PostgreSQL\n",
    "  - Oracle Database\n",
    "  - Microsoft SQL Server\n",
    "- **NoSQL DBMS**: These are designed for unstructured data and do not require a fixed schema. Examples include:\n",
    "    - MongoDB\n",
    "    - Cassandra\n",
    "    - Redis\n",
    "    - Couchbase\n",
    "  "
   ]
  }
 ],
 "metadata": {
  "language_info": {
   "codemirror_mode": {
    "name": "ipython",
    "version": 3
   },
   "file_extension": ".py",
   "mimetype": "text/x-python",
   "name": "python",
   "nbconvert_exporter": "python",
   "pygments_lexer": "ipython3",
   "version": "3.13.3"
  }
 },
 "nbformat": 4,
 "nbformat_minor": 5
}