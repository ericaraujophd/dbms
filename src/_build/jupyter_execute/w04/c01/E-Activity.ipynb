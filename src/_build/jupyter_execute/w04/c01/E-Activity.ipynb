{
 "cells": [
  {
   "cell_type": "markdown",
   "id": "feda3915",
   "metadata": {},
   "source": [
    "# 📗 In-Class Activity"
   ]
  },
  {
   "cell_type": "markdown",
   "id": "47c7753b",
   "metadata": {},
   "source": [
    "\n",
    "## 👩‍🏫 Learning Goals\n",
    "\n",
    "- Understand how indexes improve query speed.\n",
    "- Use `EXPLAIN QUERY PLAN` to check query strategies.\n",
    "- Use `ANALYZE` to help SQLite make smarter choices.\n",
    "- Time query performance before and after optimizations.\n"
   ]
  },
  {
   "cell_type": "markdown",
   "id": "03e5e1ff",
   "metadata": {},
   "source": [
    "## 🔧 Setup: Create a Sales Table with Skewed Data"
   ]
  },
  {
   "cell_type": "code",
   "execution_count": 1,
   "id": "dc06664d",
   "metadata": {},
   "outputs": [],
   "source": [
    "\n",
    "import sqlite3\n",
    "import random\n",
    "from datetime import datetime, timedelta\n",
    "import time\n",
    "\n",
    "# Create a new in-memory database\n",
    "conn = sqlite3.connect(\":memory:\")\n",
    "cursor = conn.cursor()\n",
    "\n",
    "# Create the sales table\n",
    "cursor.execute('''\n",
    "CREATE TABLE sales (\n",
    "    id INTEGER PRIMARY KEY AUTOINCREMENT,\n",
    "    customer TEXT,\n",
    "    product TEXT,\n",
    "    sale_date TEXT,\n",
    "    amount REAL\n",
    ")\n",
    "''')\n",
    "\n",
    "# Insert 10,000 rows with skewed data (Bob is much more frequent)\n",
    "customers = ['Bob'] * 7000 + ['Alice'] * 2000 + ['Carol', 'David', 'Eve'] * 200\n",
    "products = ['Board Game', 'Dice Set', 'Miniatures']\n",
    "\n",
    "for _ in range(10000):\n",
    "    customer = random.choice(customers)\n",
    "    product = random.choice(products)\n",
    "    days_ago = random.randint(0, 180)\n",
    "    date = (datetime.now() - timedelta(days=days_ago)).strftime('%Y-%m-%d')\n",
    "    amount = round(random.uniform(20, 100), 2)\n",
    "    cursor.execute(\"INSERT INTO sales (customer, product, sale_date, amount) VALUES (?, ?, ?, ?)\",\n",
    "                   (customer, product, date, amount))\n",
    "\n",
    "conn.commit()\n"
   ]
  },
  {
   "cell_type": "markdown",
   "id": "fa90824f",
   "metadata": {},
   "source": [
    "## 🔍 Activity Part 1: Run a Query Without Optimization"
   ]
  },
  {
   "cell_type": "markdown",
   "id": "c4e069c4",
   "metadata": {},
   "source": [
    "\n",
    "### Task:\n",
    "\n",
    "1. Time how long the following query takes.\n",
    "2. Use `EXPLAIN QUERY PLAN` to describe how it's executed.\n"
   ]
  },
  {
   "cell_type": "code",
   "execution_count": 2,
   "id": "4508b622",
   "metadata": {},
   "outputs": [
    {
     "name": "stdout",
     "output_type": "stream",
     "text": [
      "Time WITHOUT index or analyze: 0.000739 seconds\n",
      "Rows returned: 211\n"
     ]
    }
   ],
   "source": [
    "\n",
    "query = \"SELECT * FROM sales WHERE customer = 'Carol'\"\n",
    "\n",
    "# Time the query\n",
    "start = time.time()\n",
    "cursor.execute(query)\n",
    "results = cursor.fetchall()\n",
    "end = time.time()\n",
    "\n",
    "print(f\"Time WITHOUT index or analyze: {end - start:.6f} seconds\")\n",
    "print(f\"Rows returned: {len(results)}\")\n"
   ]
  },
  {
   "cell_type": "code",
   "execution_count": 3,
   "id": "70a6aece",
   "metadata": {},
   "outputs": [
    {
     "name": "stdout",
     "output_type": "stream",
     "text": [
      "(2, 0, 216, 'SCAN sales')\n"
     ]
    }
   ],
   "source": [
    "\n",
    "# Inspect the query plan\n",
    "cursor.execute(f\"EXPLAIN QUERY PLAN {query}\")\n",
    "for row in cursor.fetchall():\n",
    "    print(row)\n"
   ]
  },
  {
   "cell_type": "markdown",
   "id": "96a11238",
   "metadata": {},
   "source": [
    "\n",
    "### ✍️ Questions:\n",
    "- Was the query using an index?\n",
    "- What kind of scan did the plan indicate?\n",
    "- Why might this be slow for larger datasets?\n"
   ]
  },
  {
   "cell_type": "markdown",
   "id": "efb427c0",
   "metadata": {},
   "source": [
    "## ⚙️ Activity Part 2: Add an Index and Retry"
   ]
  },
  {
   "cell_type": "code",
   "execution_count": 4,
   "id": "7736a6b2",
   "metadata": {},
   "outputs": [],
   "source": [
    "\n",
    "cursor.execute(\"CREATE INDEX idx_customer ON sales(customer)\")\n",
    "conn.commit()\n"
   ]
  },
  {
   "cell_type": "code",
   "execution_count": 5,
   "id": "56c6ded4",
   "metadata": {},
   "outputs": [
    {
     "name": "stdout",
     "output_type": "stream",
     "text": [
      "Time WITH index: 0.000499 seconds\n",
      "Rows returned: 211\n"
     ]
    }
   ],
   "source": [
    "\n",
    "# Time the query again\n",
    "start = time.time()\n",
    "cursor.execute(query)\n",
    "results = cursor.fetchall()\n",
    "end = time.time()\n",
    "\n",
    "print(f\"Time WITH index: {end - start:.6f} seconds\")\n",
    "print(f\"Rows returned: {len(results)}\")\n"
   ]
  },
  {
   "cell_type": "code",
   "execution_count": 6,
   "id": "641bc381",
   "metadata": {},
   "outputs": [
    {
     "name": "stdout",
     "output_type": "stream",
     "text": [
      "(3, 0, 62, 'SEARCH sales USING INDEX idx_customer (customer=?)')\n"
     ]
    }
   ],
   "source": [
    "\n",
    "# Check if index is now used\n",
    "cursor.execute(f\"EXPLAIN QUERY PLAN {query}\")\n",
    "for row in cursor.fetchall():\n",
    "    print(row)\n"
   ]
  },
  {
   "cell_type": "markdown",
   "id": "3dde1685",
   "metadata": {},
   "source": [
    "\n",
    "### ✍️ Questions:\n",
    "- Did the planner use the index this time?\n",
    "- Was the performance improved?\n",
    "- Why might the index help even though there are fewer “Carol” rows?\n"
   ]
  },
  {
   "cell_type": "markdown",
   "id": "4c612ad3",
   "metadata": {},
   "source": [
    "## 📈 Activity Part 3: Use `ANALYZE` and Rerun"
   ]
  },
  {
   "cell_type": "code",
   "execution_count": 7,
   "id": "9a53c1fb",
   "metadata": {},
   "outputs": [],
   "source": [
    "\n",
    "cursor.execute(\"ANALYZE\")\n",
    "conn.commit()\n"
   ]
  },
  {
   "cell_type": "code",
   "execution_count": 8,
   "id": "23342ef3",
   "metadata": {},
   "outputs": [
    {
     "name": "stdout",
     "output_type": "stream",
     "text": [
      "Time WITH index AND analyze: 0.000388 seconds\n",
      "Rows returned: 211\n"
     ]
    }
   ],
   "source": [
    "\n",
    "start = time.time()\n",
    "cursor.execute(query)\n",
    "results = cursor.fetchall()\n",
    "end = time.time()\n",
    "\n",
    "print(f\"Time WITH index AND analyze: {end - start:.6f} seconds\")\n",
    "print(f\"Rows returned: {len(results)}\")\n"
   ]
  },
  {
   "cell_type": "code",
   "execution_count": 9,
   "id": "16628b31",
   "metadata": {},
   "outputs": [
    {
     "name": "stdout",
     "output_type": "stream",
     "text": [
      "(3, 0, 101, 'SEARCH sales USING INDEX idx_customer (customer=?)')\n"
     ]
    }
   ],
   "source": [
    "\n",
    "cursor.execute(f\"EXPLAIN QUERY PLAN {query}\")\n",
    "for row in cursor.fetchall():\n",
    "    print(row)\n"
   ]
  },
  {
   "cell_type": "markdown",
   "id": "579044a4",
   "metadata": {},
   "source": [
    "\n",
    "### ✍️ Questions:\n",
    "- Did the query plan change again?\n",
    "- What does the `sqlite_stat1` table show?\n",
    "- Why does `ANALYZE` matter when there are multiple indexes?\n"
   ]
  },
  {
   "cell_type": "markdown",
   "id": "5d009873",
   "metadata": {},
   "source": [
    "## 🧪 Optional: View `sqlite_stat1`"
   ]
  },
  {
   "cell_type": "code",
   "execution_count": 10,
   "id": "208b19d7",
   "metadata": {},
   "outputs": [
    {
     "name": "stdout",
     "output_type": "stream",
     "text": [
      "('sales', 'idx_customer', '10000 2000')\n"
     ]
    }
   ],
   "source": [
    "\n",
    "cursor.execute(\"SELECT * FROM sqlite_stat1\")\n",
    "for row in cursor.fetchall():\n",
    "    print(row)\n"
   ]
  },
  {
   "cell_type": "markdown",
   "id": "7fd897f1",
   "metadata": {},
   "source": [
    "## 🧠 Reflection: What Did You Learn?"
   ]
  },
  {
   "cell_type": "markdown",
   "id": "d13b364f",
   "metadata": {},
   "source": [
    "💡 Summary\n",
    "\n",
    "- Indexes help queries run faster, especially on selective conditions.\n",
    "- EXPLAIN QUERY PLAN shows whether an index is being used.\n",
    "- ANALYZE provides actual data stats, allowing the planner to make better choices.\n",
    "- Query timing shows the practical effect of optimization strategies.\n",
    "\n"
   ]
  },
  {
   "cell_type": "markdown",
   "id": "f34d0e6d",
   "metadata": {},
   "source": [
    "## ✍️ Final Prompt"
   ]
  },
  {
   "cell_type": "markdown",
   "id": "3f5f3e0f",
   "metadata": {},
   "source": [
    "\n",
    "In your own words, explain:\n",
    "\n",
    "- What changed between the three runs of the query?\n",
    "- How do `EXPLAIN QUERY PLAN`, `CREATE INDEX`, and `ANALYZE` work together to improve performance?\n"
   ]
  }
 ],
 "metadata": {
  "kernelspec": {
   "display_name": ".venv",
   "language": "python",
   "name": "python3"
  },
  "language_info": {
   "codemirror_mode": {
    "name": "ipython",
    "version": 3
   },
   "file_extension": ".py",
   "mimetype": "text/x-python",
   "name": "python",
   "nbconvert_exporter": "python",
   "pygments_lexer": "ipython3",
   "version": "3.13.3"
  }
 },
 "nbformat": 4,
 "nbformat_minor": 5
}