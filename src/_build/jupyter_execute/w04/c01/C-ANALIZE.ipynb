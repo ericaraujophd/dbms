{
 "cells": [
  {
   "cell_type": "markdown",
   "id": "174a07d9",
   "metadata": {},
   "source": [
    "# ANALYZE\n",
    "\n",
    "## 🧠 What is ANALYZE?\n",
    "\n",
    "In SQLite, the **query planner** chooses how to execute SQL statements (e.g., which index to use).\n",
    "By default, SQLite uses **basic heuristics**, but it doesn’t know how **data is distributed**.\n",
    "\n",
    "The `ANALYZE` command builds a special internal table (*sqlite_stat1*) containing **statistics about indexes and columns**. This helps SQLite make smarter choices when running queries — especially when multiple indexes exist.\n"
   ]
  },
  {
   "cell_type": "markdown",
   "id": "efa6a803",
   "metadata": {},
   "source": [
    "## 🧱 1. Create a New Database and Table\n",
    "\n",
    "We’ll start by creating a fresh in-memory SQLite database and a table with customer sales data."
   ]
  },
  {
   "cell_type": "code",
   "execution_count": 1,
   "id": "517de3a2",
   "metadata": {},
   "outputs": [],
   "source": [
    "import sqlite3\n",
    "import random\n",
    "from datetime import datetime, timedelta\n",
    "\n",
    "# Create a new connection and cursor\n",
    "conn = sqlite3.connect(\":memory:\")\n",
    "cursor = conn.cursor()\n",
    "\n",
    "# Create the sales table\n",
    "cursor.execute('''\n",
    "CREATE TABLE sales (\n",
    "    id INTEGER PRIMARY KEY AUTOINCREMENT,\n",
    "    customer TEXT,\n",
    "    product TEXT,\n",
    "    sale_date TEXT,\n",
    "    amount REAL\n",
    ")\n",
    "''')\n",
    "\n",
    "# Insert 1,000 rows of sample data\n",
    "customers = ['Alice', 'Bob', 'Carol', 'David', 'Eve']\n",
    "products = ['Dice Set', 'Board Game', 'Card Sleeves', 'Miniatures', 'Rulebook']\n",
    "\n",
    "for _ in range(1000):\n",
    "    customer = random.choice(customers)\n",
    "    product = random.choice(products)\n",
    "    days_ago = random.randint(0, 180)\n",
    "    date = (datetime.now() - timedelta(days=days_ago)).strftime('%Y-%m-%d')\n",
    "    amount = round(random.uniform(10, 100), 2)\n",
    "    cursor.execute(\"INSERT INTO sales (customer, product, sale_date, amount) VALUES (?, ?, ?, ?)\",\n",
    "                   (customer, product, date, amount))\n",
    "\n",
    "conn.commit()"
   ]
  },
  {
   "cell_type": "markdown",
   "id": "e28462b8",
   "metadata": {},
   "source": [
    "## 📊 2. Create Indexes\n",
    "\n",
    "We now create indexes that can help the query planner — but only after `ANALYZE` will SQLite use them more intelligently."
   ]
  },
  {
   "cell_type": "code",
   "execution_count": 2,
   "id": "840c0cdc",
   "metadata": {},
   "outputs": [],
   "source": [
    "cursor.execute(\"CREATE INDEX idx_customer ON sales(customer)\")\n",
    "cursor.execute(\"CREATE INDEX idx_product ON sales(product)\")\n",
    "conn.commit()"
   ]
  },
  {
   "cell_type": "markdown",
   "id": "172914c6",
   "metadata": {},
   "source": [
    "## 🔍 3. Check Query Plan Before ANALYZE\n",
    "\n",
    "We run a query and inspect the plan before running ANALYZE."
   ]
  },
  {
   "cell_type": "code",
   "execution_count": 3,
   "id": "951373d3",
   "metadata": {},
   "outputs": [
    {
     "data": {
      "text/plain": [
       "[(3, 0, 62, 'SEARCH sales USING INDEX idx_product (product=?)')]"
      ]
     },
     "execution_count": 3,
     "metadata": {},
     "output_type": "execute_result"
    }
   ],
   "source": [
    "query = \"SELECT * FROM sales WHERE customer = 'Alice' AND product = 'Board Game'\"\n",
    "cursor.execute(f\"EXPLAIN QUERY PLAN {query}\")\n",
    "cursor.fetchall()"
   ]
  },
  {
   "cell_type": "markdown",
   "id": "447def7e",
   "metadata": {},
   "source": [
    "👆 Here, SQLite may not know which index is better and might not optimize the query plan well.\n"
   ]
  },
  {
   "cell_type": "code",
   "execution_count": 4,
   "id": "8c51fa27",
   "metadata": {},
   "outputs": [
    {
     "name": "stdout",
     "output_type": "stream",
     "text": [
      "Before ANALYZE: 40 rows in 0.000533 seconds\n"
     ]
    }
   ],
   "source": [
    "import time\n",
    "\n",
    "start = time.time()\n",
    "cursor.execute(query)\n",
    "results_before = cursor.fetchall()\n",
    "end = time.time()\n",
    "\n",
    "print(f\"Before ANALYZE: {len(results_before)} rows in {end - start:.6f} seconds\")"
   ]
  },
  {
   "cell_type": "markdown",
   "id": "2730b41d",
   "metadata": {},
   "source": [
    "### 🧠 4. Run ANALYZE\n",
    "\n",
    "Now we run the ANALYZE command, which creates internal statistics about the indexed columns."
   ]
  },
  {
   "cell_type": "code",
   "execution_count": 5,
   "id": "c73a9133",
   "metadata": {},
   "outputs": [],
   "source": [
    "cursor.execute(\"ANALYZE\")\n",
    "conn.commit()"
   ]
  },
  {
   "cell_type": "markdown",
   "id": "1bc1bcbb",
   "metadata": {},
   "source": [
    "### 📁 5. View the Statistics Table\n",
    "\n",
    "We inspect the contents of the `sqlite_stat1` table that `ANALYZE` created."
   ]
  },
  {
   "cell_type": "code",
   "execution_count": 6,
   "id": "612f7052",
   "metadata": {},
   "outputs": [
    {
     "name": "stdout",
     "output_type": "stream",
     "text": [
      "('sales', 'idx_product', '1000 200')\n",
      "('sales', 'idx_customer', '1000 200')\n"
     ]
    }
   ],
   "source": [
    "cursor.execute(\"SELECT * FROM sqlite_stat1\")\n",
    "rows = cursor.fetchall()\n",
    "\n",
    "for row in rows:\n",
    "    print(row)"
   ]
  },
  {
   "cell_type": "markdown",
   "id": "c5e26c15",
   "metadata": {},
   "source": [
    "These numbers describe how values are distributed.\n",
    "\n",
    "SQLite uses this to choose which index will filter more rows, which can drastically improve performance."
   ]
  },
  {
   "cell_type": "markdown",
   "id": "4fcc752f",
   "metadata": {},
   "source": [
    "### 🔁 6. Recheck the Query Plan After ANALYZE"
   ]
  },
  {
   "cell_type": "code",
   "execution_count": 7,
   "id": "782787f6",
   "metadata": {},
   "outputs": [
    {
     "data": {
      "text/plain": [
       "[(3, 0, 100, 'SEARCH sales USING INDEX idx_product (product=?)')]"
      ]
     },
     "execution_count": 7,
     "metadata": {},
     "output_type": "execute_result"
    }
   ],
   "source": [
    "cursor.execute(f\"EXPLAIN QUERY PLAN {query}\")\n",
    "cursor.fetchall()"
   ]
  },
  {
   "cell_type": "markdown",
   "id": "17a0e7e7",
   "metadata": {},
   "source": [
    "This plan might be more optimized — it may now **use one of the indexes** instead of a full scan or the wrong index.\n"
   ]
  },
  {
   "cell_type": "markdown",
   "id": "ec92a48a",
   "metadata": {},
   "source": [
    "### 🚀 7. Run the Query and Measure Time"
   ]
  },
  {
   "cell_type": "code",
   "execution_count": 8,
   "id": "395b0074",
   "metadata": {},
   "outputs": [
    {
     "name": "stdout",
     "output_type": "stream",
     "text": [
      "Query returned 40 rows in 0.000385 seconds\n"
     ]
    }
   ],
   "source": [
    "start = time.time()\n",
    "cursor.execute(query)\n",
    "results = cursor.fetchall()\n",
    "end = time.time()\n",
    "\n",
    "print(f\"Query returned {len(results)} rows in {end - start:.6f} seconds\")"
   ]
  },
  {
   "cell_type": "markdown",
   "id": "94e3997a",
   "metadata": {},
   "source": [
    "You should observe that:\n",
    "\n",
    "* The number of results should remain the same\n",
    "* The time might improve slightly\n",
    "* More importantly, the query planner may now use the better index"
   ]
  },
  {
   "cell_type": "markdown",
   "id": "8ceff6ad",
   "metadata": {},
   "source": [
    "## 📌 Summary of ANALYZE in SQLite:\n",
    "\n",
    "- ✅ ANALYZE collects statistics about table and index contents.\n",
    "- 📁 It stores these in the sqlite_stat1 table.\n",
    "- 🧠 The query planner uses these stats to choose better execution plans.\n",
    "- ⚡ Especially helpful when multiple indexes are available.\n",
    "- 🔁 Rerun ANALYZE after major data changes to keep optimization up to date."
   ]
  },
  {
   "cell_type": "markdown",
   "id": "057ee79a",
   "metadata": {},
   "source": []
  }
 ],
 "metadata": {
  "kernelspec": {
   "display_name": ".venv",
   "language": "python",
   "name": "python3"
  },
  "language_info": {
   "codemirror_mode": {
    "name": "ipython",
    "version": 3
   },
   "file_extension": ".py",
   "mimetype": "text/x-python",
   "name": "python",
   "nbconvert_exporter": "python",
   "pygments_lexer": "ipython3",
   "version": "3.13.3"
  }
 },
 "nbformat": 4,
 "nbformat_minor": 5
}