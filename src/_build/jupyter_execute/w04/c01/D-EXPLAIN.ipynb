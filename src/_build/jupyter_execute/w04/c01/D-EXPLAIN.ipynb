{
 "cells": [
  {
   "cell_type": "markdown",
   "id": "530a536b",
   "metadata": {},
   "source": [
    "# EXPLAIN and EXPLAIN QUERY PLAN in SQLite"
   ]
  },
  {
   "cell_type": "markdown",
   "id": "a2a588e0",
   "metadata": {},
   "source": [
    "## 🧠 What is EXPLAIN?\n",
    "\n",
    "SQLite provides two commands to understand how your queries will be executed:\n",
    "\n",
    "* **EXPLAIN QUERY PLAN:** Gives a high-level overview of how a query will be run\n",
    "* **EXPLAIN:** Provides a **low-level**, detailed breakdown of the query execution plan\n",
    "\n",
    "In most cases, you will use `EXPLAIN QUERY PLAN` for query optimization and teaching.\n",
    "\n",
    "`EXPLAIN` is more technical and useful if you’re digging into SQLite internals.\n"
   ]
  },
  {
   "cell_type": "markdown",
   "id": "97ccc136",
   "metadata": {},
   "source": [
    "## 🧱 Step 1: Create a Table and Populate It\n",
    "\n",
    "We’ll create a small sales table with some customer purchase data to use in our examples."
   ]
  },
  {
   "cell_type": "code",
   "execution_count": 1,
   "id": "c8d4d6c5",
   "metadata": {},
   "outputs": [],
   "source": [
    "import sqlite3\n",
    "import random\n",
    "from datetime import datetime, timedelta\n",
    "\n",
    "# Start a fresh in-memory database\n",
    "conn = sqlite3.connect(\":memory:\")\n",
    "cursor = conn.cursor()\n",
    "\n",
    "# Create a simple table for purchases\n",
    "cursor.execute('''\n",
    "CREATE TABLE sales (\n",
    "    id INTEGER PRIMARY KEY AUTOINCREMENT,\n",
    "    customer TEXT,\n",
    "    product TEXT,\n",
    "    sale_date TEXT,\n",
    "    amount REAL\n",
    ")\n",
    "''')\n",
    "\n",
    "# Fill the table with 500 sample records\n",
    "customers = ['Alice', 'Bob', 'Carol', 'David', 'Eve']\n",
    "products = ['Board Game', 'Dice Set', 'Card Sleeves']\n",
    "\n",
    "for _ in range(500):\n",
    "    customer = random.choice(customers)\n",
    "    product = random.choice(products)\n",
    "    days_ago = random.randint(0, 100)\n",
    "    date = (datetime.now() - timedelta(days=days_ago)).strftime('%Y-%m-%d')\n",
    "    amount = round(random.uniform(10, 80), 2)\n",
    "    cursor.execute(\"INSERT INTO sales (customer, product, sale_date, amount) VALUES (?, ?, ?, ?)\",\n",
    "                   (customer, product, date, amount))\n",
    "\n",
    "conn.commit()"
   ]
  },
  {
   "cell_type": "markdown",
   "id": "293d53d8",
   "metadata": {},
   "source": [
    "✅ Main point: You should understand how indexes affect performance. But before we create any indexes, let’s see how SQLite plans queries with no help."
   ]
  },
  {
   "cell_type": "markdown",
   "id": "4b888818",
   "metadata": {},
   "source": [
    "## 🔍 Step 2: Run a Query and Inspect the Plan (No Index Yet)\n",
    "\n",
    "We’ll inspect a query that searches for rows by customer. First, we run the query as usual:"
   ]
  },
  {
   "cell_type": "code",
   "execution_count": 2,
   "id": "637357d8",
   "metadata": {},
   "outputs": [
    {
     "data": {
      "text/plain": [
       "[(1, 'Bob', 'Dice Set', '2025-01-28', 35.13),\n",
       " (17, 'Bob', 'Card Sleeves', '2025-04-09', 25.68),\n",
       " (20, 'Bob', 'Board Game', '2025-04-04', 47.36),\n",
       " (31, 'Bob', 'Card Sleeves', '2025-03-23', 14.55),\n",
       " (32, 'Bob', 'Dice Set', '2025-02-22', 58.17),\n",
       " (34, 'Bob', 'Board Game', '2025-01-27', 65.24),\n",
       " (35, 'Bob', 'Dice Set', '2025-03-21', 17.66),\n",
       " (38, 'Bob', 'Board Game', '2025-03-18', 70.51),\n",
       " (40, 'Bob', 'Board Game', '2025-03-19', 35.07),\n",
       " (41, 'Bob', 'Card Sleeves', '2025-01-25', 62.53),\n",
       " (45, 'Bob', 'Card Sleeves', '2025-04-08', 28.19),\n",
       " (46, 'Bob', 'Card Sleeves', '2025-04-01', 77.88),\n",
       " (47, 'Bob', 'Dice Set', '2025-02-11', 10.74),\n",
       " (48, 'Bob', 'Board Game', '2025-02-17', 61.3),\n",
       " (58, 'Bob', 'Dice Set', '2025-04-05', 72.83),\n",
       " (70, 'Bob', 'Dice Set', '2025-03-12', 16.1),\n",
       " (73, 'Bob', 'Dice Set', '2025-01-31', 51.91),\n",
       " (74, 'Bob', 'Card Sleeves', '2025-03-23', 66.55),\n",
       " (76, 'Bob', 'Card Sleeves', '2025-02-16', 71.89),\n",
       " (78, 'Bob', 'Board Game', '2025-04-09', 29.14),\n",
       " (79, 'Bob', 'Dice Set', '2025-03-18', 66.3),\n",
       " (80, 'Bob', 'Dice Set', '2025-03-20', 14.38),\n",
       " (88, 'Bob', 'Card Sleeves', '2025-03-28', 72.7),\n",
       " (97, 'Bob', 'Board Game', '2025-02-22', 58.85),\n",
       " (102, 'Bob', 'Dice Set', '2025-01-25', 20.73),\n",
       " (107, 'Bob', 'Card Sleeves', '2025-02-16', 61.79),\n",
       " (108, 'Bob', 'Dice Set', '2025-03-15', 78.86),\n",
       " (121, 'Bob', 'Card Sleeves', '2025-02-14', 66.11),\n",
       " (128, 'Bob', 'Dice Set', '2025-02-21', 50.22),\n",
       " (130, 'Bob', 'Dice Set', '2025-02-22', 48.73),\n",
       " (133, 'Bob', 'Card Sleeves', '2025-03-01', 12.43),\n",
       " (138, 'Bob', 'Dice Set', '2025-04-06', 48.24),\n",
       " (139, 'Bob', 'Dice Set', '2025-03-30', 70.23),\n",
       " (142, 'Bob', 'Card Sleeves', '2025-01-15', 56.28),\n",
       " (146, 'Bob', 'Dice Set', '2025-01-10', 67.07),\n",
       " (149, 'Bob', 'Board Game', '2025-02-21', 33.98),\n",
       " (157, 'Bob', 'Card Sleeves', '2025-01-27', 26.88),\n",
       " (162, 'Bob', 'Dice Set', '2025-02-13', 62.55),\n",
       " (174, 'Bob', 'Dice Set', '2025-01-13', 47.34),\n",
       " (182, 'Bob', 'Board Game', '2025-04-02', 20.16),\n",
       " (183, 'Bob', 'Dice Set', '2025-02-09', 39.06),\n",
       " (184, 'Bob', 'Dice Set', '2025-03-15', 12.6),\n",
       " (186, 'Bob', 'Board Game', '2025-02-28', 61.08),\n",
       " (189, 'Bob', 'Dice Set', '2025-01-06', 12.4),\n",
       " (204, 'Bob', 'Dice Set', '2025-02-22', 49.88),\n",
       " (209, 'Bob', 'Card Sleeves', '2025-01-01', 22.1),\n",
       " (210, 'Bob', 'Dice Set', '2025-01-10', 56.78),\n",
       " (213, 'Bob', 'Board Game', '2025-03-04', 25.24),\n",
       " (220, 'Bob', 'Board Game', '2025-02-02', 71.11),\n",
       " (223, 'Bob', 'Dice Set', '2025-02-12', 29.54),\n",
       " (232, 'Bob', 'Dice Set', '2025-02-04', 35.92),\n",
       " (235, 'Bob', 'Board Game', '2025-01-20', 40.26),\n",
       " (236, 'Bob', 'Board Game', '2025-03-10', 74.3),\n",
       " (241, 'Bob', 'Board Game', '2025-01-12', 19.46),\n",
       " (242, 'Bob', 'Dice Set', '2025-01-26', 50.99),\n",
       " (247, 'Bob', 'Dice Set', '2025-01-31', 24.92),\n",
       " (254, 'Bob', 'Board Game', '2025-01-28', 53.53),\n",
       " (255, 'Bob', 'Dice Set', '2025-01-03', 16.18),\n",
       " (257, 'Bob', 'Card Sleeves', '2025-03-12', 34.16),\n",
       " (259, 'Bob', 'Card Sleeves', '2025-03-10', 18.68),\n",
       " (260, 'Bob', 'Card Sleeves', '2025-03-24', 42.97),\n",
       " (261, 'Bob', 'Dice Set', '2025-04-05', 54.38),\n",
       " (262, 'Bob', 'Card Sleeves', '2025-03-17', 40.78),\n",
       " (283, 'Bob', 'Card Sleeves', '2025-02-07', 42.61),\n",
       " (286, 'Bob', 'Board Game', '2025-02-03', 54.1),\n",
       " (293, 'Bob', 'Dice Set', '2025-01-08', 12.16),\n",
       " (294, 'Bob', 'Board Game', '2025-03-27', 43.12),\n",
       " (296, 'Bob', 'Card Sleeves', '2025-02-09', 50.49),\n",
       " (314, 'Bob', 'Card Sleeves', '2025-01-03', 12.1),\n",
       " (317, 'Bob', 'Card Sleeves', '2025-03-10', 61.21),\n",
       " (327, 'Bob', 'Dice Set', '2025-04-04', 61.7),\n",
       " (328, 'Bob', 'Card Sleeves', '2025-01-14', 49.96),\n",
       " (331, 'Bob', 'Board Game', '2025-01-03', 44.72),\n",
       " (334, 'Bob', 'Board Game', '2025-01-08', 27.43),\n",
       " (336, 'Bob', 'Card Sleeves', '2025-01-04', 51.24),\n",
       " (339, 'Bob', 'Dice Set', '2025-01-22', 14.0),\n",
       " (342, 'Bob', 'Board Game', '2025-01-11', 70.19),\n",
       " (343, 'Bob', 'Board Game', '2025-02-08', 56.28),\n",
       " (344, 'Bob', 'Board Game', '2025-01-14', 69.72),\n",
       " (349, 'Bob', 'Board Game', '2025-02-13', 26.03),\n",
       " (350, 'Bob', 'Card Sleeves', '2025-02-24', 48.1),\n",
       " (361, 'Bob', 'Card Sleeves', '2025-01-19', 63.51),\n",
       " (365, 'Bob', 'Dice Set', '2025-02-13', 62.35),\n",
       " (371, 'Bob', 'Board Game', '2025-03-24', 32.07),\n",
       " (372, 'Bob', 'Card Sleeves', '2025-03-13', 10.14),\n",
       " (377, 'Bob', 'Dice Set', '2025-03-12', 16.26),\n",
       " (380, 'Bob', 'Card Sleeves', '2025-01-18', 19.49),\n",
       " (381, 'Bob', 'Card Sleeves', '2025-02-17', 61.61),\n",
       " (382, 'Bob', 'Dice Set', '2025-03-17', 37.2),\n",
       " (384, 'Bob', 'Board Game', '2025-03-07', 31.98),\n",
       " (386, 'Bob', 'Dice Set', '2025-03-11', 14.43),\n",
       " (391, 'Bob', 'Card Sleeves', '2025-02-25', 62.63),\n",
       " (392, 'Bob', 'Board Game', '2025-03-10', 42.59),\n",
       " (395, 'Bob', 'Board Game', '2025-02-11', 64.85),\n",
       " (407, 'Bob', 'Card Sleeves', '2025-03-15', 59.16),\n",
       " (411, 'Bob', 'Board Game', '2025-01-20', 56.62),\n",
       " (420, 'Bob', 'Card Sleeves', '2025-01-06', 13.17),\n",
       " (432, 'Bob', 'Board Game', '2025-02-20', 57.3),\n",
       " (442, 'Bob', 'Dice Set', '2025-01-15', 72.41),\n",
       " (454, 'Bob', 'Card Sleeves', '2025-02-13', 10.77),\n",
       " (463, 'Bob', 'Dice Set', '2025-02-27', 70.93),\n",
       " (466, 'Bob', 'Board Game', '2025-03-01', 24.18),\n",
       " (468, 'Bob', 'Dice Set', '2025-01-08', 68.26),\n",
       " (469, 'Bob', 'Dice Set', '2025-02-24', 27.14),\n",
       " (475, 'Bob', 'Card Sleeves', '2025-04-01', 75.67),\n",
       " (480, 'Bob', 'Card Sleeves', '2025-03-20', 41.69),\n",
       " (482, 'Bob', 'Dice Set', '2025-04-10', 63.42),\n",
       " (485, 'Bob', 'Dice Set', '2025-01-18', 18.26),\n",
       " (490, 'Bob', 'Dice Set', '2025-03-29', 31.22),\n",
       " (494, 'Bob', 'Card Sleeves', '2025-02-14', 39.99),\n",
       " (496, 'Bob', 'Dice Set', '2025-01-03', 17.56)]"
      ]
     },
     "execution_count": 2,
     "metadata": {},
     "output_type": "execute_result"
    }
   ],
   "source": [
    "query = \"SELECT * FROM sales WHERE customer = 'Bob'\"\n",
    "cursor.execute(query)\n",
    "cursor.fetchall()"
   ]
  },
  {
   "cell_type": "markdown",
   "id": "591b615a",
   "metadata": {},
   "source": [
    "Now, let’s use `EXPLAIN QUERY PLAN` to see how SQLite will execute that same query:"
   ]
  },
  {
   "cell_type": "code",
   "execution_count": 3,
   "id": "4e765df5",
   "metadata": {},
   "outputs": [
    {
     "name": "stdout",
     "output_type": "stream",
     "text": [
      "(2, 0, 216, 'SCAN sales')\n"
     ]
    }
   ],
   "source": [
    "cursor.execute(f\"EXPLAIN QUERY PLAN {query}\")\n",
    "for row in cursor.fetchall():\n",
    "    print(row)"
   ]
  },
  {
   "cell_type": "markdown",
   "id": "7911ce78",
   "metadata": {},
   "source": [
    "This means SQLite is doing a full table scan — it has to check every row to find customers named “Bob”."
   ]
  },
  {
   "cell_type": "markdown",
   "id": "686b9441",
   "metadata": {},
   "source": [
    "### 👀 Interpretation\n",
    "\n",
    "Output format:\n",
    "\n",
    "```\n",
    "(<selectid>, <order>, <from>, <detail>)\n",
    "```\n",
    "\n",
    "* **selectid:** ID of the `SELECT` query (0 for main query, >0 for subqueries)\n",
    "* **order:** Evaluation order of the `FROM` clause elements\n",
    "* **from:** Table index in the `FROM` clause (0 if only one table)\n",
    "* **detail:** How SQLite will access the data: scan, index, etc.\n"
   ]
  },
  {
   "cell_type": "markdown",
   "id": "7da62171",
   "metadata": {},
   "source": [
    "### 🧩 Step 3: Create an Index to Improve the Plan\n",
    "\n",
    "Let’s add an index on the customer column and rerun the plan."
   ]
  },
  {
   "cell_type": "code",
   "execution_count": 4,
   "id": "c27ba22e",
   "metadata": {},
   "outputs": [],
   "source": [
    "cursor.execute(\"CREATE INDEX idx_customer ON sales(customer)\")\n",
    "conn.commit()"
   ]
  },
  {
   "cell_type": "markdown",
   "id": "d32fe3c6",
   "metadata": {},
   "source": [
    "Now run the same EXPLAIN QUERY PLAN:"
   ]
  },
  {
   "cell_type": "code",
   "execution_count": 5,
   "id": "2fd0a063",
   "metadata": {},
   "outputs": [
    {
     "name": "stdout",
     "output_type": "stream",
     "text": [
      "(3, 0, 62, 'SEARCH sales USING INDEX idx_customer (customer=?)')\n"
     ]
    }
   ],
   "source": [
    "cursor.execute(f\"EXPLAIN QUERY PLAN {query}\")\n",
    "for row in cursor.fetchall():\n",
    "    print(row)"
   ]
  },
  {
   "cell_type": "markdown",
   "id": "d29d5b10",
   "metadata": {},
   "source": [
    "Now SQLite knows how the customer values are structured (via the index), it avoids the table scan. This is a key optimization concept."
   ]
  },
  {
   "cell_type": "markdown",
   "id": "9330d187",
   "metadata": {},
   "source": [
    "### 🛠️ Step 4: Use EXPLAIN to See Bytecode\n",
    "\n",
    "Let’s now explore what `EXPLAIN` does. This is more advanced and shows what SQLite will do step-by-step *internally* when running a query."
   ]
  },
  {
   "cell_type": "code",
   "execution_count": 6,
   "id": "b2069d5c",
   "metadata": {},
   "outputs": [
    {
     "name": "stdout",
     "output_type": "stream",
     "text": [
      "(0, 'Init', 0, 16, 0, None, 0, None)\n",
      "(1, 'OpenRead', 0, 2, 0, '5', 0, None)\n",
      "(2, 'OpenRead', 1, 10, 0, 'k(2,,)', 2, None)\n",
      "(3, 'String8', 0, 1, 0, 'Bob', 0, None)\n",
      "(4, 'SeekGE', 1, 15, 1, '1', 0, None)\n",
      "(5, 'IdxGT', 1, 15, 1, '1', 0, None)\n",
      "(6, 'DeferredSeek', 1, 0, 0, None, 0, None)\n",
      "(7, 'IdxRowid', 1, 2, 0, None, 0, None)\n",
      "(8, 'Column', 1, 0, 3, None, 0, None)\n",
      "(9, 'Column', 0, 2, 4, None, 0, None)\n"
     ]
    }
   ],
   "source": [
    "cursor.execute(f\"EXPLAIN {query}\")\n",
    "bytecode = cursor.fetchall()\n",
    "\n",
    "# Print first 10 instructions\n",
    "for row in bytecode[:10]:\n",
    "    print(row)"
   ]
  },
  {
   "cell_type": "markdown",
   "id": "b02a32f7",
   "metadata": {},
   "source": [
    "**🧠 What does this output mean?**\n",
    "\n",
    "```\n",
    "(addr, opcode, p1, p2, p3, p4, p5)\n",
    "```\n",
    "\n",
    "* **addr:** Address of the instruction in the bytecode\n",
    "* **opcode:** The operation to be performed (e.g., `OpenRead`, `Column`, `SeekGE`, etc.)\n",
    "* **p1-p5:** Operands used by the opcode -- meaning depends on the operation\n",
    "* **p4:** Extra text info (e.g., values, column names)\n",
    "\n",
    "**🧾 Example breakdown**\n",
    "\n",
    "```\n",
    "(0, 'Init', 0, 10, 0, '', '')\n",
    "(1, 'OpenRead', 0, 2, -1, 'sales', '')\n",
    "(2, 'String8', 0, 1, 0, 'Bob', '')\n",
    "(3, 'SeekGE', 0, 5, 1, '', '')\n",
    "```\n",
    "\n",
    "* **Init:** Starts the program\n",
    "* **OpenRead:** Opens the sales table for reading\n",
    "* **String8:** Loads the string 'Bob' into a register\n",
    "* **SeekGE:** Moves to the first row with customer >= 'Bob' using the index (if exists)\n",
    "\n",
    "🔬 This is how SQLite interprets the SQL into a series of internal instructions.\n",
    "\n",
    "Should you use this? Maybe. But this is too advanced.\n"
   ]
  },
  {
   "cell_type": "markdown",
   "id": "52f9d8d7",
   "metadata": {},
   "source": [
    "## 🧠 SQLite Query Planning Summary\n",
    "\n",
    "EXPLAIN QUERY PLAN\n",
    "\n",
    "- ✅ Shows whether SQLite will scan the table or use an index\n",
    "- ✅ Easy to interpret\n",
    "- ✅ Best tool for query optimization and teaching\n",
    "\n",
    "EXPLAIN\n",
    "\n",
    "- 🧠 Shows virtual machine (VM) bytecode steps\n",
    "- ❌ Not beginner-friendly\n",
    "- 🧪 Useful for internal debugging or performance analysis\n",
    "\n",
    "**💡 Key Insight:** Indexes change how SQLite executes queries. Use EXPLAIN QUERY PLAN to confirm your queries are efficient!\n"
   ]
  },
  {
   "cell_type": "markdown",
   "id": "721788ee",
   "metadata": {},
   "source": []
  }
 ],
 "metadata": {
  "kernelspec": {
   "display_name": ".venv",
   "language": "python",
   "name": "python3"
  },
  "language_info": {
   "codemirror_mode": {
    "name": "ipython",
    "version": 3
   },
   "file_extension": ".py",
   "mimetype": "text/x-python",
   "name": "python",
   "nbconvert_exporter": "python",
   "pygments_lexer": "ipython3",
   "version": "3.13.2"
  }
 },
 "nbformat": 4,
 "nbformat_minor": 5
}