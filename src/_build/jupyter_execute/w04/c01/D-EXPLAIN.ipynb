{
 "cells": [
  {
   "cell_type": "markdown",
   "id": "530a536b",
   "metadata": {},
   "source": [
    "# EXPLAIN and EXPLAIN QUERY PLAN"
   ]
  },
  {
   "cell_type": "markdown",
   "id": "a2a588e0",
   "metadata": {},
   "source": [
    "## 🧠 What is EXPLAIN?\n",
    "\n",
    "SQLite provides two commands to understand how your queries will be executed:\n",
    "\n",
    "* **EXPLAIN QUERY PLAN:** Gives a high-level overview of how a query will be run\n",
    "* **EXPLAIN:** Provides a **low-level**, detailed breakdown of the query execution plan\n",
    "\n",
    "In most cases, you will use `EXPLAIN QUERY PLAN` for query optimization and teaching.\n",
    "\n",
    "`EXPLAIN` is more technical and useful if you’re digging into SQLite internals.\n"
   ]
  },
  {
   "cell_type": "markdown",
   "id": "97ccc136",
   "metadata": {},
   "source": [
    "## 🧱 Step 1: Create a Table and Populate It\n",
    "\n",
    "We’ll create a small sales table with some customer purchase data to use in our examples."
   ]
  },
  {
   "cell_type": "code",
   "execution_count": 1,
   "id": "c8d4d6c5",
   "metadata": {},
   "outputs": [],
   "source": [
    "import sqlite3\n",
    "import random\n",
    "from datetime import datetime, timedelta\n",
    "\n",
    "# Start a fresh in-memory database\n",
    "conn = sqlite3.connect(\":memory:\")\n",
    "cursor = conn.cursor()\n",
    "\n",
    "# Create a simple table for purchases\n",
    "cursor.execute('''\n",
    "CREATE TABLE sales (\n",
    "    id INTEGER PRIMARY KEY AUTOINCREMENT,\n",
    "    customer TEXT,\n",
    "    product TEXT,\n",
    "    sale_date TEXT,\n",
    "    amount REAL\n",
    ")\n",
    "''')\n",
    "\n",
    "# Fill the table with 500 sample records\n",
    "customers = ['Alice', 'Bob', 'Carol', 'David', 'Eve']\n",
    "products = ['Board Game', 'Dice Set', 'Card Sleeves']\n",
    "\n",
    "for _ in range(500):\n",
    "    customer = random.choice(customers)\n",
    "    product = random.choice(products)\n",
    "    days_ago = random.randint(0, 100)\n",
    "    date = (datetime.now() - timedelta(days=days_ago)).strftime('%Y-%m-%d')\n",
    "    amount = round(random.uniform(10, 80), 2)\n",
    "    cursor.execute(\"INSERT INTO sales (customer, product, sale_date, amount) VALUES (?, ?, ?, ?)\",\n",
    "                   (customer, product, date, amount))\n",
    "\n",
    "conn.commit()"
   ]
  },
  {
   "cell_type": "markdown",
   "id": "293d53d8",
   "metadata": {},
   "source": [
    "✅ Main point: You should understand how indexes affect performance. But before we create any indexes, let’s see how SQLite plans queries with no help."
   ]
  },
  {
   "cell_type": "markdown",
   "id": "4b888818",
   "metadata": {},
   "source": [
    "## 🔍 Step 2: Run a Query and Inspect the Plan (No Index Yet)\n",
    "\n",
    "We’ll inspect a query that searches for rows by customer. First, we run the query as usual:"
   ]
  },
  {
   "cell_type": "code",
   "execution_count": 2,
   "id": "637357d8",
   "metadata": {},
   "outputs": [
    {
     "data": {
      "text/plain": [
       "[(3, 'Bob', 'Dice Set', '2025-01-11', 25.56),\n",
       " (4, 'Bob', 'Board Game', '2025-02-20', 61.39),\n",
       " (9, 'Bob', 'Dice Set', '2025-01-14', 70.29),\n",
       " (12, 'Bob', 'Board Game', '2025-02-20', 33.62),\n",
       " (21, 'Bob', 'Board Game', '2025-01-31', 34.05),\n",
       " (27, 'Bob', 'Dice Set', '2025-03-14', 26.04),\n",
       " (28, 'Bob', 'Board Game', '2025-03-17', 11.03),\n",
       " (31, 'Bob', 'Board Game', '2025-02-24', 56.7),\n",
       " (32, 'Bob', 'Dice Set', '2025-02-14', 44.2),\n",
       " (35, 'Bob', 'Dice Set', '2025-01-29', 39.3),\n",
       " (37, 'Bob', 'Board Game', '2025-01-22', 70.69),\n",
       " (38, 'Bob', 'Dice Set', '2025-03-24', 30.94),\n",
       " (44, 'Bob', 'Board Game', '2025-03-29', 25.54),\n",
       " (46, 'Bob', 'Dice Set', '2025-03-04', 56.8),\n",
       " (58, 'Bob', 'Dice Set', '2025-01-28', 22.96),\n",
       " (61, 'Bob', 'Dice Set', '2025-03-11', 43.76),\n",
       " (76, 'Bob', 'Board Game', '2025-02-16', 79.57),\n",
       " (78, 'Bob', 'Board Game', '2025-01-04', 66.39),\n",
       " (80, 'Bob', 'Card Sleeves', '2025-02-27', 79.66),\n",
       " (82, 'Bob', 'Board Game', '2025-03-23', 71.13),\n",
       " (83, 'Bob', 'Dice Set', '2025-01-09', 13.25),\n",
       " (93, 'Bob', 'Board Game', '2025-04-07', 55.62),\n",
       " (95, 'Bob', 'Board Game', '2025-03-05', 32.67),\n",
       " (96, 'Bob', 'Card Sleeves', '2025-03-14', 45.05),\n",
       " (104, 'Bob', 'Board Game', '2025-02-05', 10.73),\n",
       " (113, 'Bob', 'Card Sleeves', '2025-02-21', 74.96),\n",
       " (134, 'Bob', 'Dice Set', '2025-01-15', 24.65),\n",
       " (136, 'Bob', 'Board Game', '2025-03-10', 55.82),\n",
       " (137, 'Bob', 'Card Sleeves', '2025-04-02', 31.4),\n",
       " (138, 'Bob', 'Board Game', '2025-01-26', 44.59),\n",
       " (143, 'Bob', 'Dice Set', '2025-03-06', 53.24),\n",
       " (159, 'Bob', 'Card Sleeves', '2025-03-25', 45.72),\n",
       " (171, 'Bob', 'Card Sleeves', '2025-02-19', 38.32),\n",
       " (174, 'Bob', 'Board Game', '2025-02-27', 35.52),\n",
       " (181, 'Bob', 'Dice Set', '2025-03-07', 15.78),\n",
       " (188, 'Bob', 'Board Game', '2025-02-11', 24.8),\n",
       " (189, 'Bob', 'Board Game', '2025-01-08', 73.44),\n",
       " (198, 'Bob', 'Board Game', '2025-04-09', 61.18),\n",
       " (200, 'Bob', 'Board Game', '2025-03-02', 11.82),\n",
       " (202, 'Bob', 'Board Game', '2025-01-04', 62.84),\n",
       " (208, 'Bob', 'Card Sleeves', '2025-01-29', 20.58),\n",
       " (210, 'Bob', 'Card Sleeves', '2025-02-10', 17.77),\n",
       " (211, 'Bob', 'Board Game', '2025-02-04', 68.79),\n",
       " (219, 'Bob', 'Board Game', '2025-04-13', 37.84),\n",
       " (229, 'Bob', 'Dice Set', '2025-01-21', 46.1),\n",
       " (240, 'Bob', 'Dice Set', '2025-03-11', 26.33),\n",
       " (241, 'Bob', 'Dice Set', '2025-02-01', 19.79),\n",
       " (248, 'Bob', 'Dice Set', '2025-03-06', 50.18),\n",
       " (251, 'Bob', 'Card Sleeves', '2025-03-22', 19.88),\n",
       " (253, 'Bob', 'Card Sleeves', '2025-01-29', 27.46),\n",
       " (255, 'Bob', 'Card Sleeves', '2025-03-20', 10.52),\n",
       " (256, 'Bob', 'Card Sleeves', '2025-03-03', 10.04),\n",
       " (261, 'Bob', 'Card Sleeves', '2025-04-02', 54.22),\n",
       " (269, 'Bob', 'Card Sleeves', '2025-01-13', 52.72),\n",
       " (277, 'Bob', 'Dice Set', '2025-02-12', 58.71),\n",
       " (283, 'Bob', 'Card Sleeves', '2025-04-10', 66.73),\n",
       " (293, 'Bob', 'Dice Set', '2025-01-26', 25.97),\n",
       " (294, 'Bob', 'Card Sleeves', '2025-01-14', 43.23),\n",
       " (303, 'Bob', 'Board Game', '2025-01-10', 40.26),\n",
       " (308, 'Bob', 'Dice Set', '2025-01-29', 10.27),\n",
       " (310, 'Bob', 'Dice Set', '2025-01-08', 68.05),\n",
       " (313, 'Bob', 'Dice Set', '2025-01-10', 49.92),\n",
       " (316, 'Bob', 'Dice Set', '2025-03-28', 74.4),\n",
       " (328, 'Bob', 'Board Game', '2025-03-29', 37.52),\n",
       " (331, 'Bob', 'Board Game', '2025-01-12', 28.25),\n",
       " (333, 'Bob', 'Card Sleeves', '2025-03-19', 48.01),\n",
       " (334, 'Bob', 'Card Sleeves', '2025-03-30', 53.82),\n",
       " (344, 'Bob', 'Card Sleeves', '2025-01-19', 19.33),\n",
       " (347, 'Bob', 'Card Sleeves', '2025-04-09', 32.43),\n",
       " (348, 'Bob', 'Dice Set', '2025-01-09', 31.11),\n",
       " (355, 'Bob', 'Board Game', '2025-03-25', 42.08),\n",
       " (359, 'Bob', 'Dice Set', '2025-02-22', 12.07),\n",
       " (364, 'Bob', 'Board Game', '2025-02-22', 64.89),\n",
       " (366, 'Bob', 'Card Sleeves', '2025-03-20', 20.3),\n",
       " (369, 'Bob', 'Dice Set', '2025-03-26', 67.13),\n",
       " (378, 'Bob', 'Dice Set', '2025-01-13', 24.73),\n",
       " (385, 'Bob', 'Card Sleeves', '2025-04-07', 29.08),\n",
       " (389, 'Bob', 'Dice Set', '2025-03-08', 43.58),\n",
       " (406, 'Bob', 'Card Sleeves', '2025-01-18', 71.83),\n",
       " (407, 'Bob', 'Dice Set', '2025-01-16', 67.43),\n",
       " (409, 'Bob', 'Dice Set', '2025-01-18', 64.46),\n",
       " (420, 'Bob', 'Board Game', '2025-03-26', 44.34),\n",
       " (421, 'Bob', 'Board Game', '2025-03-03', 13.02),\n",
       " (422, 'Bob', 'Dice Set', '2025-02-25', 48.47),\n",
       " (424, 'Bob', 'Card Sleeves', '2025-01-28', 33.8),\n",
       " (427, 'Bob', 'Board Game', '2025-01-19', 44.44),\n",
       " (429, 'Bob', 'Card Sleeves', '2025-02-12', 20.54),\n",
       " (432, 'Bob', 'Dice Set', '2025-02-10', 24.34),\n",
       " (449, 'Bob', 'Board Game', '2025-01-28', 63.28),\n",
       " (451, 'Bob', 'Card Sleeves', '2025-02-10', 31.73),\n",
       " (453, 'Bob', 'Dice Set', '2025-03-12', 71.71),\n",
       " (473, 'Bob', 'Dice Set', '2025-01-08', 56.51),\n",
       " (476, 'Bob', 'Dice Set', '2025-03-21', 69.69),\n",
       " (488, 'Bob', 'Dice Set', '2025-01-03', 45.61),\n",
       " (494, 'Bob', 'Dice Set', '2025-01-30', 62.62),\n",
       " (498, 'Bob', 'Board Game', '2025-03-03', 40.55)]"
      ]
     },
     "execution_count": 2,
     "metadata": {},
     "output_type": "execute_result"
    }
   ],
   "source": [
    "query = \"SELECT * FROM sales WHERE customer = 'Bob'\"\n",
    "cursor.execute(query)\n",
    "cursor.fetchall()"
   ]
  },
  {
   "cell_type": "markdown",
   "id": "591b615a",
   "metadata": {},
   "source": [
    "Now, let’s use `EXPLAIN QUERY PLAN` to see how SQLite will execute that same query:"
   ]
  },
  {
   "cell_type": "code",
   "execution_count": 3,
   "id": "4e765df5",
   "metadata": {},
   "outputs": [
    {
     "name": "stdout",
     "output_type": "stream",
     "text": [
      "(2, 0, 216, 'SCAN sales')\n"
     ]
    }
   ],
   "source": [
    "cursor.execute(f\"EXPLAIN QUERY PLAN {query}\")\n",
    "for row in cursor.fetchall():\n",
    "    print(row)"
   ]
  },
  {
   "cell_type": "markdown",
   "id": "7911ce78",
   "metadata": {},
   "source": [
    "This means SQLite is doing a full table scan — it has to check every row to find customers named “Bob”."
   ]
  },
  {
   "cell_type": "markdown",
   "id": "686b9441",
   "metadata": {},
   "source": [
    "### 👀 Interpretation\n",
    "\n",
    "Output format:\n",
    "\n",
    "```\n",
    "(<selectid>, <order>, <from>, <detail>)\n",
    "```\n",
    "\n",
    "* **selectid:** ID of the `SELECT` query (0 for main query, >0 for subqueries)\n",
    "* **order:** Evaluation order of the `FROM` clause elements\n",
    "* **from:** Table index in the `FROM` clause (0 if only one table)\n",
    "* **detail:** How SQLite will access the data: scan, index, etc.\n"
   ]
  },
  {
   "cell_type": "markdown",
   "id": "7da62171",
   "metadata": {},
   "source": [
    "### 🧩 Step 3: Create an Index to Improve the Plan\n",
    "\n",
    "Let’s add an index on the customer column and rerun the plan."
   ]
  },
  {
   "cell_type": "code",
   "execution_count": 4,
   "id": "c27ba22e",
   "metadata": {},
   "outputs": [],
   "source": [
    "cursor.execute(\"CREATE INDEX idx_customer ON sales(customer)\")\n",
    "conn.commit()"
   ]
  },
  {
   "cell_type": "markdown",
   "id": "d32fe3c6",
   "metadata": {},
   "source": [
    "Now run the same EXPLAIN QUERY PLAN:"
   ]
  },
  {
   "cell_type": "code",
   "execution_count": 5,
   "id": "2fd0a063",
   "metadata": {},
   "outputs": [
    {
     "name": "stdout",
     "output_type": "stream",
     "text": [
      "(3, 0, 62, 'SEARCH sales USING INDEX idx_customer (customer=?)')\n"
     ]
    }
   ],
   "source": [
    "cursor.execute(f\"EXPLAIN QUERY PLAN {query}\")\n",
    "for row in cursor.fetchall():\n",
    "    print(row)"
   ]
  },
  {
   "cell_type": "markdown",
   "id": "d29d5b10",
   "metadata": {},
   "source": [
    "Now SQLite knows how the customer values are structured (via the index), it avoids the table scan. This is a key optimization concept."
   ]
  },
  {
   "cell_type": "markdown",
   "id": "9330d187",
   "metadata": {},
   "source": [
    "### 🛠️ Step 4: Use EXPLAIN to See Bytecode\n",
    "\n",
    "Let’s now explore what `EXPLAIN` does. This is more advanced and shows what SQLite will do step-by-step *internally* when running a query."
   ]
  },
  {
   "cell_type": "code",
   "execution_count": 6,
   "id": "b2069d5c",
   "metadata": {},
   "outputs": [
    {
     "name": "stdout",
     "output_type": "stream",
     "text": [
      "(0, 'Init', 0, 16, 0, None, 0, None)\n",
      "(1, 'OpenRead', 0, 2, 0, '5', 0, None)\n",
      "(2, 'OpenRead', 1, 10, 0, 'k(2,,)', 2, None)\n",
      "(3, 'String8', 0, 1, 0, 'Bob', 0, None)\n",
      "(4, 'SeekGE', 1, 15, 1, '1', 0, None)\n",
      "(5, 'IdxGT', 1, 15, 1, '1', 0, None)\n",
      "(6, 'DeferredSeek', 1, 0, 0, None, 0, None)\n",
      "(7, 'IdxRowid', 1, 2, 0, None, 0, None)\n",
      "(8, 'Column', 1, 0, 3, None, 0, None)\n",
      "(9, 'Column', 0, 2, 4, None, 0, None)\n"
     ]
    }
   ],
   "source": [
    "cursor.execute(f\"EXPLAIN {query}\")\n",
    "bytecode = cursor.fetchall()\n",
    "\n",
    "# Print first 10 instructions\n",
    "for row in bytecode[:10]:\n",
    "    print(row)"
   ]
  },
  {
   "cell_type": "markdown",
   "id": "b02a32f7",
   "metadata": {},
   "source": [
    "**🧠 What does this output mean?**\n",
    "\n",
    "```\n",
    "(addr, opcode, p1, p2, p3, p4, p5)\n",
    "```\n",
    "\n",
    "* **addr:** Address of the instruction in the bytecode\n",
    "* **opcode:** The operation to be performed (e.g., `OpenRead`, `Column`, `SeekGE`, etc.)\n",
    "* **p1-p5:** Operands used by the opcode -- meaning depends on the operation\n",
    "* **p4:** Extra text info (e.g., values, column names)\n",
    "\n",
    "**🧾 Example breakdown**\n",
    "\n",
    "```\n",
    "(0, 'Init', 0, 10, 0, '', '')\n",
    "(1, 'OpenRead', 0, 2, -1, 'sales', '')\n",
    "(2, 'String8', 0, 1, 0, 'Bob', '')\n",
    "(3, 'SeekGE', 0, 5, 1, '', '')\n",
    "```\n",
    "\n",
    "* **Init:** Starts the program\n",
    "* **OpenRead:** Opens the sales table for reading\n",
    "* **String8:** Loads the string 'Bob' into a register\n",
    "* **SeekGE:** Moves to the first row with customer >= 'Bob' using the index (if exists)\n",
    "\n",
    "🔬 This is how SQLite interprets the SQL into a series of internal instructions.\n",
    "\n",
    "Should you use this? Maybe. But this is too advanced.\n"
   ]
  },
  {
   "cell_type": "markdown",
   "id": "52f9d8d7",
   "metadata": {},
   "source": [
    "## 🧠 SQLite Query Planning Summary\n",
    "\n",
    "EXPLAIN QUERY PLAN\n",
    "\n",
    "- ✅ Shows whether SQLite will scan the table or use an index\n",
    "- ✅ Easy to interpret\n",
    "- ✅ Best tool for query optimization and teaching\n",
    "\n",
    "EXPLAIN\n",
    "\n",
    "- 🧠 Shows virtual machine (VM) bytecode steps\n",
    "- ❌ Not beginner-friendly\n",
    "- 🧪 Useful for internal debugging or performance analysis\n",
    "\n",
    "**💡 Key Insight:** Indexes change how SQLite executes queries. Use EXPLAIN QUERY PLAN to confirm your queries are efficient!\n"
   ]
  },
  {
   "cell_type": "markdown",
   "id": "721788ee",
   "metadata": {},
   "source": []
  }
 ],
 "metadata": {
  "kernelspec": {
   "display_name": ".venv",
   "language": "python",
   "name": "python3"
  },
  "language_info": {
   "codemirror_mode": {
    "name": "ipython",
    "version": 3
   },
   "file_extension": ".py",
   "mimetype": "text/x-python",
   "name": "python",
   "nbconvert_exporter": "python",
   "pygments_lexer": "ipython3",
   "version": "3.13.3"
  }
 },
 "nbformat": 4,
 "nbformat_minor": 5
}