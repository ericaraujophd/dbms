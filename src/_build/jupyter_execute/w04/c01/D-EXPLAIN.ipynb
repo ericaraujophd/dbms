{
 "cells": [
  {
   "cell_type": "markdown",
   "id": "530a536b",
   "metadata": {},
   "source": [
    "# EXPLAIN and EXPLAIN QUERY PLAN"
   ]
  },
  {
   "cell_type": "markdown",
   "id": "a2a588e0",
   "metadata": {},
   "source": [
    "## 🧠 What is EXPLAIN?\n",
    "\n",
    "SQLite provides two commands to understand how your queries will be executed:\n",
    "\n",
    "* **EXPLAIN QUERY PLAN:** Gives a high-level overview of how a query will be run\n",
    "* **EXPLAIN:** Provides a **low-level**, detailed breakdown of the query execution plan\n",
    "\n",
    "In most cases, you will use `EXPLAIN QUERY PLAN` for query optimization and teaching.\n",
    "\n",
    "`EXPLAIN` is more technical and useful if you’re digging into SQLite internals.\n"
   ]
  },
  {
   "cell_type": "markdown",
   "id": "97ccc136",
   "metadata": {},
   "source": [
    "## 🧱 Step 1: Create a Table and Populate It\n",
    "\n",
    "We’ll create a small sales table with some customer purchase data to use in our examples."
   ]
  },
  {
   "cell_type": "code",
   "execution_count": 1,
   "id": "c8d4d6c5",
   "metadata": {},
   "outputs": [],
   "source": [
    "import sqlite3\n",
    "import random\n",
    "from datetime import datetime, timedelta\n",
    "\n",
    "# Start a fresh in-memory database\n",
    "conn = sqlite3.connect(\":memory:\")\n",
    "cursor = conn.cursor()\n",
    "\n",
    "# Create a simple table for purchases\n",
    "cursor.execute('''\n",
    "CREATE TABLE sales (\n",
    "    id INTEGER PRIMARY KEY AUTOINCREMENT,\n",
    "    customer TEXT,\n",
    "    product TEXT,\n",
    "    sale_date TEXT,\n",
    "    amount REAL\n",
    ")\n",
    "''')\n",
    "\n",
    "# Fill the table with 500 sample records\n",
    "customers = ['Alice', 'Bob', 'Carol', 'David', 'Eve']\n",
    "products = ['Board Game', 'Dice Set', 'Card Sleeves']\n",
    "\n",
    "for _ in range(500):\n",
    "    customer = random.choice(customers)\n",
    "    product = random.choice(products)\n",
    "    days_ago = random.randint(0, 100)\n",
    "    date = (datetime.now() - timedelta(days=days_ago)).strftime('%Y-%m-%d')\n",
    "    amount = round(random.uniform(10, 80), 2)\n",
    "    cursor.execute(\"INSERT INTO sales (customer, product, sale_date, amount) VALUES (?, ?, ?, ?)\",\n",
    "                   (customer, product, date, amount))\n",
    "\n",
    "conn.commit()"
   ]
  },
  {
   "cell_type": "markdown",
   "id": "293d53d8",
   "metadata": {},
   "source": [
    "✅ Main point: You should understand how indexes affect performance. But before we create any indexes, let’s see how SQLite plans queries with no help."
   ]
  },
  {
   "cell_type": "markdown",
   "id": "4b888818",
   "metadata": {},
   "source": [
    "## 🔍 Step 2: Run a Query and Inspect the Plan (No Index Yet)\n",
    "\n",
    "We’ll inspect a query that searches for rows by customer. First, we run the query as usual:"
   ]
  },
  {
   "cell_type": "code",
   "execution_count": 2,
   "id": "637357d8",
   "metadata": {},
   "outputs": [
    {
     "data": {
      "text/plain": [
       "[(1, 'Bob', 'Dice Set', '2025-03-25', 44.4),\n",
       " (4, 'Bob', 'Card Sleeves', '2025-02-06', 73.31),\n",
       " (5, 'Bob', 'Dice Set', '2025-04-14', 14.31),\n",
       " (8, 'Bob', 'Card Sleeves', '2025-02-28', 60.37),\n",
       " (12, 'Bob', 'Card Sleeves', '2025-04-17', 16.73),\n",
       " (16, 'Bob', 'Dice Set', '2025-02-12', 15.83),\n",
       " (19, 'Bob', 'Board Game', '2025-02-28', 63.76),\n",
       " (24, 'Bob', 'Board Game', '2025-03-21', 67.08),\n",
       " (31, 'Bob', 'Dice Set', '2025-02-25', 73.49),\n",
       " (41, 'Bob', 'Card Sleeves', '2025-02-26', 54.07),\n",
       " (42, 'Bob', 'Dice Set', '2025-02-19', 64.81),\n",
       " (43, 'Bob', 'Card Sleeves', '2025-04-16', 43.21),\n",
       " (45, 'Bob', 'Card Sleeves', '2025-02-19', 48.64),\n",
       " (52, 'Bob', 'Dice Set', '2025-04-19', 78.28),\n",
       " (63, 'Bob', 'Board Game', '2025-04-06', 40.28),\n",
       " (66, 'Bob', 'Dice Set', '2025-03-20', 72.8),\n",
       " (69, 'Bob', 'Card Sleeves', '2025-02-04', 70.75),\n",
       " (74, 'Bob', 'Card Sleeves', '2025-02-03', 50.64),\n",
       " (80, 'Bob', 'Board Game', '2025-02-01', 48.4),\n",
       " (91, 'Bob', 'Dice Set', '2025-04-18', 73.11),\n",
       " (93, 'Bob', 'Board Game', '2025-01-30', 58.01),\n",
       " (94, 'Bob', 'Dice Set', '2025-03-27', 42.16),\n",
       " (100, 'Bob', 'Board Game', '2025-01-23', 13.3),\n",
       " (110, 'Bob', 'Board Game', '2025-04-17', 49.26),\n",
       " (111, 'Bob', 'Board Game', '2025-04-14', 51.03),\n",
       " (119, 'Bob', 'Dice Set', '2025-02-14', 67.56),\n",
       " (124, 'Bob', 'Dice Set', '2025-04-25', 58.41),\n",
       " (127, 'Bob', 'Board Game', '2025-02-23', 33.72),\n",
       " (131, 'Bob', 'Dice Set', '2025-04-17', 79.3),\n",
       " (134, 'Bob', 'Dice Set', '2025-03-03', 32.84),\n",
       " (135, 'Bob', 'Board Game', '2025-03-27', 74.12),\n",
       " (137, 'Bob', 'Dice Set', '2025-03-11', 77.07),\n",
       " (143, 'Bob', 'Dice Set', '2025-02-07', 40.24),\n",
       " (144, 'Bob', 'Card Sleeves', '2025-04-14', 62.68),\n",
       " (152, 'Bob', 'Board Game', '2025-01-29', 12.0),\n",
       " (166, 'Bob', 'Dice Set', '2025-02-10', 42.41),\n",
       " (168, 'Bob', 'Board Game', '2025-03-23', 21.36),\n",
       " (169, 'Bob', 'Board Game', '2025-04-23', 63.13),\n",
       " (182, 'Bob', 'Board Game', '2025-01-29', 56.95),\n",
       " (184, 'Bob', 'Dice Set', '2025-02-10', 65.11),\n",
       " (191, 'Bob', 'Board Game', '2025-03-18', 66.83),\n",
       " (194, 'Bob', 'Board Game', '2025-03-07', 39.03),\n",
       " (211, 'Bob', 'Card Sleeves', '2025-01-24', 78.9),\n",
       " (220, 'Bob', 'Board Game', '2025-02-21', 61.36),\n",
       " (236, 'Bob', 'Board Game', '2025-04-19', 20.84),\n",
       " (246, 'Bob', 'Card Sleeves', '2025-02-17', 55.26),\n",
       " (248, 'Bob', 'Card Sleeves', '2025-03-24', 20.37),\n",
       " (251, 'Bob', 'Card Sleeves', '2025-02-14', 69.82),\n",
       " (260, 'Bob', 'Dice Set', '2025-02-27', 73.41),\n",
       " (262, 'Bob', 'Card Sleeves', '2025-03-26', 59.05),\n",
       " (264, 'Bob', 'Card Sleeves', '2025-02-23', 57.13),\n",
       " (270, 'Bob', 'Board Game', '2025-03-28', 14.94),\n",
       " (274, 'Bob', 'Board Game', '2025-04-18', 64.62),\n",
       " (277, 'Bob', 'Card Sleeves', '2025-01-27', 32.12),\n",
       " (280, 'Bob', 'Board Game', '2025-01-27', 15.63),\n",
       " (281, 'Bob', 'Card Sleeves', '2025-03-01', 68.91),\n",
       " (288, 'Bob', 'Card Sleeves', '2025-04-22', 11.8),\n",
       " (299, 'Bob', 'Board Game', '2025-01-22', 57.94),\n",
       " (303, 'Bob', 'Dice Set', '2025-03-02', 75.78),\n",
       " (304, 'Bob', 'Board Game', '2025-02-21', 34.45),\n",
       " (305, 'Bob', 'Card Sleeves', '2025-01-27', 36.61),\n",
       " (306, 'Bob', 'Card Sleeves', '2025-01-21', 49.7),\n",
       " (309, 'Bob', 'Card Sleeves', '2025-02-08', 25.79),\n",
       " (310, 'Bob', 'Dice Set', '2025-03-13', 14.45),\n",
       " (314, 'Bob', 'Card Sleeves', '2025-04-27', 20.61),\n",
       " (325, 'Bob', 'Card Sleeves', '2025-02-02', 60.25),\n",
       " (335, 'Bob', 'Dice Set', '2025-03-12', 25.42),\n",
       " (341, 'Bob', 'Card Sleeves', '2025-03-05', 32.45),\n",
       " (347, 'Bob', 'Board Game', '2025-04-09', 45.11),\n",
       " (348, 'Bob', 'Dice Set', '2025-04-15', 35.01),\n",
       " (353, 'Bob', 'Dice Set', '2025-02-20', 16.15),\n",
       " (355, 'Bob', 'Board Game', '2025-02-21', 61.97),\n",
       " (363, 'Bob', 'Card Sleeves', '2025-02-18', 38.16),\n",
       " (373, 'Bob', 'Card Sleeves', '2025-01-23', 18.59),\n",
       " (376, 'Bob', 'Dice Set', '2025-04-11', 53.72),\n",
       " (383, 'Bob', 'Card Sleeves', '2025-03-08', 18.18),\n",
       " (386, 'Bob', 'Card Sleeves', '2025-04-04', 67.68),\n",
       " (390, 'Bob', 'Dice Set', '2025-01-27', 66.81),\n",
       " (403, 'Bob', 'Board Game', '2025-01-25', 71.02),\n",
       " (407, 'Bob', 'Dice Set', '2025-02-16', 68.58),\n",
       " (420, 'Bob', 'Board Game', '2025-02-16', 74.56),\n",
       " (421, 'Bob', 'Board Game', '2025-04-27', 65.0),\n",
       " (425, 'Bob', 'Board Game', '2025-01-19', 69.03),\n",
       " (442, 'Bob', 'Board Game', '2025-02-24', 40.9),\n",
       " (447, 'Bob', 'Board Game', '2025-03-14', 28.68),\n",
       " (459, 'Bob', 'Dice Set', '2025-04-28', 58.46),\n",
       " (462, 'Bob', 'Dice Set', '2025-01-27', 48.63),\n",
       " (467, 'Bob', 'Board Game', '2025-03-18', 33.57),\n",
       " (469, 'Bob', 'Dice Set', '2025-04-09', 56.39),\n",
       " (470, 'Bob', 'Board Game', '2025-03-31', 79.07),\n",
       " (472, 'Bob', 'Card Sleeves', '2025-03-25', 42.68),\n",
       " (474, 'Bob', 'Card Sleeves', '2025-04-02', 49.03),\n",
       " (481, 'Bob', 'Board Game', '2025-04-02', 64.28),\n",
       " (482, 'Bob', 'Dice Set', '2025-01-22', 64.2),\n",
       " (483, 'Bob', 'Dice Set', '2025-03-17', 25.07),\n",
       " (486, 'Bob', 'Dice Set', '2025-03-04', 24.15),\n",
       " (492, 'Bob', 'Board Game', '2025-02-07', 77.13),\n",
       " (495, 'Bob', 'Dice Set', '2025-02-20', 12.94),\n",
       " (498, 'Bob', 'Card Sleeves', '2025-03-01', 62.71)]"
      ]
     },
     "execution_count": 2,
     "metadata": {},
     "output_type": "execute_result"
    }
   ],
   "source": [
    "query = \"SELECT * FROM sales WHERE customer = 'Bob'\"\n",
    "cursor.execute(query)\n",
    "cursor.fetchall()"
   ]
  },
  {
   "cell_type": "markdown",
   "id": "591b615a",
   "metadata": {},
   "source": [
    "Now, let’s use `EXPLAIN QUERY PLAN` to see how SQLite will execute that same query:"
   ]
  },
  {
   "cell_type": "code",
   "execution_count": 3,
   "id": "4e765df5",
   "metadata": {},
   "outputs": [
    {
     "name": "stdout",
     "output_type": "stream",
     "text": [
      "(2, 0, 216, 'SCAN sales')\n"
     ]
    }
   ],
   "source": [
    "cursor.execute(f\"EXPLAIN QUERY PLAN {query}\")\n",
    "for row in cursor.fetchall():\n",
    "    print(row)"
   ]
  },
  {
   "cell_type": "markdown",
   "id": "7911ce78",
   "metadata": {},
   "source": [
    "This means SQLite is doing a full table scan — it has to check every row to find customers named “Bob”."
   ]
  },
  {
   "cell_type": "markdown",
   "id": "686b9441",
   "metadata": {},
   "source": [
    "### 👀 Interpretation\n",
    "\n",
    "Output format:\n",
    "\n",
    "```\n",
    "(<selectid>, <order>, <from>, <detail>)\n",
    "```\n",
    "\n",
    "* **selectid:** ID of the `SELECT` query (0 for main query, >0 for subqueries)\n",
    "* **order:** Evaluation order of the `FROM` clause elements\n",
    "* **from:** Table index in the `FROM` clause (0 if only one table)\n",
    "* **detail:** How SQLite will access the data: scan, index, etc.\n"
   ]
  },
  {
   "cell_type": "markdown",
   "id": "7da62171",
   "metadata": {},
   "source": [
    "### 🧩 Step 3: Create an Index to Improve the Plan\n",
    "\n",
    "Let’s add an index on the customer column and rerun the plan."
   ]
  },
  {
   "cell_type": "code",
   "execution_count": 4,
   "id": "c27ba22e",
   "metadata": {},
   "outputs": [],
   "source": [
    "cursor.execute(\"CREATE INDEX idx_customer ON sales(customer)\")\n",
    "conn.commit()"
   ]
  },
  {
   "cell_type": "markdown",
   "id": "d32fe3c6",
   "metadata": {},
   "source": [
    "Now run the same EXPLAIN QUERY PLAN:"
   ]
  },
  {
   "cell_type": "code",
   "execution_count": 5,
   "id": "2fd0a063",
   "metadata": {},
   "outputs": [
    {
     "name": "stdout",
     "output_type": "stream",
     "text": [
      "(3, 0, 62, 'SEARCH sales USING INDEX idx_customer (customer=?)')\n"
     ]
    }
   ],
   "source": [
    "cursor.execute(f\"EXPLAIN QUERY PLAN {query}\")\n",
    "for row in cursor.fetchall():\n",
    "    print(row)"
   ]
  },
  {
   "cell_type": "markdown",
   "id": "d29d5b10",
   "metadata": {},
   "source": [
    "Now SQLite knows how the customer values are structured (via the index), it avoids the table scan. This is a key optimization concept."
   ]
  },
  {
   "cell_type": "markdown",
   "id": "9330d187",
   "metadata": {},
   "source": [
    "### 🛠️ Step 4: Use EXPLAIN to See Bytecode\n",
    "\n",
    "Let’s now explore what `EXPLAIN` does. This is more advanced and shows what SQLite will do step-by-step *internally* when running a query."
   ]
  },
  {
   "cell_type": "code",
   "execution_count": 6,
   "id": "b2069d5c",
   "metadata": {},
   "outputs": [
    {
     "name": "stdout",
     "output_type": "stream",
     "text": [
      "(0, 'Init', 0, 16, 0, None, 0, None)\n",
      "(1, 'OpenRead', 0, 2, 0, '5', 0, None)\n",
      "(2, 'OpenRead', 1, 10, 0, 'k(2,,)', 2, None)\n",
      "(3, 'String8', 0, 1, 0, 'Bob', 0, None)\n",
      "(4, 'SeekGE', 1, 15, 1, '1', 0, None)\n",
      "(5, 'IdxGT', 1, 15, 1, '1', 0, None)\n",
      "(6, 'DeferredSeek', 1, 0, 0, None, 0, None)\n",
      "(7, 'IdxRowid', 1, 2, 0, None, 0, None)\n",
      "(8, 'Column', 1, 0, 3, None, 0, None)\n",
      "(9, 'Column', 0, 2, 4, None, 0, None)\n"
     ]
    }
   ],
   "source": [
    "cursor.execute(f\"EXPLAIN {query}\")\n",
    "bytecode = cursor.fetchall()\n",
    "\n",
    "# Print first 10 instructions\n",
    "for row in bytecode[:10]:\n",
    "    print(row)"
   ]
  },
  {
   "cell_type": "markdown",
   "id": "b02a32f7",
   "metadata": {},
   "source": [
    "**🧠 What does this output mean?**\n",
    "\n",
    "```\n",
    "(addr, opcode, p1, p2, p3, p4, p5)\n",
    "```\n",
    "\n",
    "* **addr:** Address of the instruction in the bytecode\n",
    "* **opcode:** The operation to be performed (e.g., `OpenRead`, `Column`, `SeekGE`, etc.)\n",
    "* **p1-p5:** Operands used by the opcode -- meaning depends on the operation\n",
    "* **p4:** Extra text info (e.g., values, column names)\n",
    "\n",
    "**🧾 Example breakdown**\n",
    "\n",
    "```\n",
    "(0, 'Init', 0, 10, 0, '', '')\n",
    "(1, 'OpenRead', 0, 2, -1, 'sales', '')\n",
    "(2, 'String8', 0, 1, 0, 'Bob', '')\n",
    "(3, 'SeekGE', 0, 5, 1, '', '')\n",
    "```\n",
    "\n",
    "* **Init:** Starts the program\n",
    "* **OpenRead:** Opens the sales table for reading\n",
    "* **String8:** Loads the string 'Bob' into a register\n",
    "* **SeekGE:** Moves to the first row with customer >= 'Bob' using the index (if exists)\n",
    "\n",
    "🔬 This is how SQLite interprets the SQL into a series of internal instructions.\n",
    "\n",
    "Should you use this? Maybe. But this is too advanced.\n"
   ]
  },
  {
   "cell_type": "markdown",
   "id": "52f9d8d7",
   "metadata": {},
   "source": [
    "## 🧠 SQLite Query Planning Summary\n",
    "\n",
    "EXPLAIN QUERY PLAN\n",
    "\n",
    "- ✅ Shows whether SQLite will scan the table or use an index\n",
    "- ✅ Easy to interpret\n",
    "- ✅ Best tool for query optimization and teaching\n",
    "\n",
    "EXPLAIN\n",
    "\n",
    "- 🧠 Shows virtual machine (VM) bytecode steps\n",
    "- ❌ Not beginner-friendly\n",
    "- 🧪 Useful for internal debugging or performance analysis\n",
    "\n",
    "**💡 Key Insight:** Indexes change how SQLite executes queries. Use EXPLAIN QUERY PLAN to confirm your queries are efficient!\n"
   ]
  },
  {
   "cell_type": "markdown",
   "id": "721788ee",
   "metadata": {},
   "source": []
  }
 ],
 "metadata": {
  "kernelspec": {
   "display_name": ".venv",
   "language": "python",
   "name": "python3"
  },
  "language_info": {
   "codemirror_mode": {
    "name": "ipython",
    "version": 3
   },
   "file_extension": ".py",
   "mimetype": "text/x-python",
   "name": "python",
   "nbconvert_exporter": "python",
   "pygments_lexer": "ipython3",
   "version": "3.13.3"
  }
 },
 "nbformat": 4,
 "nbformat_minor": 5
}