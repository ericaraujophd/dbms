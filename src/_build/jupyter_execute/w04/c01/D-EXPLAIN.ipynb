{
 "cells": [
  {
   "cell_type": "markdown",
   "id": "530a536b",
   "metadata": {},
   "source": [
    "# EXPLAIN and EXPLAIN QUERY PLAN"
   ]
  },
  {
   "cell_type": "markdown",
   "id": "a2a588e0",
   "metadata": {},
   "source": [
    "## 🧠 What is EXPLAIN?\n",
    "\n",
    "SQLite provides two commands to understand how your queries will be executed:\n",
    "\n",
    "* **EXPLAIN QUERY PLAN:** Gives a high-level overview of how a query will be run\n",
    "* **EXPLAIN:** Provides a **low-level**, detailed breakdown of the query execution plan\n",
    "\n",
    "In most cases, you will use `EXPLAIN QUERY PLAN` for query optimization and teaching.\n",
    "\n",
    "`EXPLAIN` is more technical and useful if you’re digging into SQLite internals.\n"
   ]
  },
  {
   "cell_type": "markdown",
   "id": "97ccc136",
   "metadata": {},
   "source": [
    "## 🧱 Step 1: Create a Table and Populate It\n",
    "\n",
    "We’ll create a small sales table with some customer purchase data to use in our examples."
   ]
  },
  {
   "cell_type": "code",
   "execution_count": 1,
   "id": "c8d4d6c5",
   "metadata": {},
   "outputs": [],
   "source": [
    "import sqlite3\n",
    "import random\n",
    "from datetime import datetime, timedelta\n",
    "\n",
    "# Start a fresh in-memory database\n",
    "conn = sqlite3.connect(\":memory:\")\n",
    "cursor = conn.cursor()\n",
    "\n",
    "# Create a simple table for purchases\n",
    "cursor.execute('''\n",
    "CREATE TABLE sales (\n",
    "    id INTEGER PRIMARY KEY AUTOINCREMENT,\n",
    "    customer TEXT,\n",
    "    product TEXT,\n",
    "    sale_date TEXT,\n",
    "    amount REAL\n",
    ")\n",
    "''')\n",
    "\n",
    "# Fill the table with 500 sample records\n",
    "customers = ['Alice', 'Bob', 'Carol', 'David', 'Eve']\n",
    "products = ['Board Game', 'Dice Set', 'Card Sleeves']\n",
    "\n",
    "for _ in range(500):\n",
    "    customer = random.choice(customers)\n",
    "    product = random.choice(products)\n",
    "    days_ago = random.randint(0, 100)\n",
    "    date = (datetime.now() - timedelta(days=days_ago)).strftime('%Y-%m-%d')\n",
    "    amount = round(random.uniform(10, 80), 2)\n",
    "    cursor.execute(\"INSERT INTO sales (customer, product, sale_date, amount) VALUES (?, ?, ?, ?)\",\n",
    "                   (customer, product, date, amount))\n",
    "\n",
    "conn.commit()"
   ]
  },
  {
   "cell_type": "markdown",
   "id": "293d53d8",
   "metadata": {},
   "source": [
    "✅ Main point: You should understand how indexes affect performance. But before we create any indexes, let’s see how SQLite plans queries with no help."
   ]
  },
  {
   "cell_type": "markdown",
   "id": "4b888818",
   "metadata": {},
   "source": [
    "## 🔍 Step 2: Run a Query and Inspect the Plan (No Index Yet)\n",
    "\n",
    "We’ll inspect a query that searches for rows by customer. First, we run the query as usual:"
   ]
  },
  {
   "cell_type": "code",
   "execution_count": 2,
   "id": "637357d8",
   "metadata": {},
   "outputs": [
    {
     "data": {
      "text/plain": [
       "[(1, 'Bob', 'Card Sleeves', '2025-03-18', 34.79),\n",
       " (5, 'Bob', 'Card Sleeves', '2025-03-29', 32.52),\n",
       " (13, 'Bob', 'Board Game', '2025-03-19', 59.82),\n",
       " (17, 'Bob', 'Card Sleeves', '2025-02-18', 69.45),\n",
       " (18, 'Bob', 'Dice Set', '2025-02-17', 49.94),\n",
       " (23, 'Bob', 'Board Game', '2025-03-21', 57.79),\n",
       " (31, 'Bob', 'Board Game', '2025-01-24', 53.96),\n",
       " (32, 'Bob', 'Board Game', '2025-02-26', 10.31),\n",
       " (36, 'Bob', 'Dice Set', '2025-03-29', 74.61),\n",
       " (38, 'Bob', 'Card Sleeves', '2025-03-01', 47.9),\n",
       " (43, 'Bob', 'Board Game', '2025-01-24', 29.64),\n",
       " (50, 'Bob', 'Board Game', '2025-04-21', 77.6),\n",
       " (52, 'Bob', 'Dice Set', '2025-03-20', 17.95),\n",
       " (54, 'Bob', 'Board Game', '2025-02-18', 33.46),\n",
       " (55, 'Bob', 'Board Game', '2025-03-21', 25.4),\n",
       " (57, 'Bob', 'Dice Set', '2025-04-14', 53.73),\n",
       " (59, 'Bob', 'Dice Set', '2025-03-27', 29.2),\n",
       " (62, 'Bob', 'Card Sleeves', '2025-03-19', 23.18),\n",
       " (78, 'Bob', 'Card Sleeves', '2025-04-20', 15.45),\n",
       " (79, 'Bob', 'Card Sleeves', '2025-02-06', 16.6),\n",
       " (83, 'Bob', 'Board Game', '2025-02-23', 62.7),\n",
       " (97, 'Bob', 'Card Sleeves', '2025-04-08', 43.09),\n",
       " (99, 'Bob', 'Card Sleeves', '2025-02-16', 40.11),\n",
       " (102, 'Bob', 'Card Sleeves', '2025-02-08', 44.13),\n",
       " (104, 'Bob', 'Board Game', '2025-03-08', 47.47),\n",
       " (118, 'Bob', 'Card Sleeves', '2025-02-02', 60.92),\n",
       " (121, 'Bob', 'Card Sleeves', '2025-02-17', 18.78),\n",
       " (128, 'Bob', 'Card Sleeves', '2025-02-06', 69.11),\n",
       " (133, 'Bob', 'Dice Set', '2025-02-11', 33.49),\n",
       " (143, 'Bob', 'Dice Set', '2025-02-27', 14.57),\n",
       " (159, 'Bob', 'Board Game', '2025-02-22', 56.03),\n",
       " (160, 'Bob', 'Board Game', '2025-04-02', 38.96),\n",
       " (163, 'Bob', 'Board Game', '2025-04-04', 36.13),\n",
       " (166, 'Bob', 'Dice Set', '2025-01-17', 68.24),\n",
       " (172, 'Bob', 'Dice Set', '2025-04-20', 37.19),\n",
       " (173, 'Bob', 'Card Sleeves', '2025-03-25', 37.74),\n",
       " (178, 'Bob', 'Dice Set', '2025-01-14', 34.32),\n",
       " (181, 'Bob', 'Dice Set', '2025-03-21', 65.18),\n",
       " (182, 'Bob', 'Board Game', '2025-04-18', 64.44),\n",
       " (186, 'Bob', 'Board Game', '2025-02-22', 51.18),\n",
       " (188, 'Bob', 'Dice Set', '2025-03-29', 51.41),\n",
       " (189, 'Bob', 'Card Sleeves', '2025-03-11', 10.61),\n",
       " (194, 'Bob', 'Card Sleeves', '2025-01-26', 77.34),\n",
       " (201, 'Bob', 'Board Game', '2025-02-03', 35.84),\n",
       " (202, 'Bob', 'Board Game', '2025-03-12', 18.59),\n",
       " (205, 'Bob', 'Card Sleeves', '2025-04-14', 17.56),\n",
       " (209, 'Bob', 'Board Game', '2025-03-26', 37.71),\n",
       " (214, 'Bob', 'Dice Set', '2025-03-23', 17.11),\n",
       " (215, 'Bob', 'Dice Set', '2025-02-06', 41.38),\n",
       " (217, 'Bob', 'Dice Set', '2025-03-03', 14.77),\n",
       " (218, 'Bob', 'Dice Set', '2025-01-27', 59.9),\n",
       " (220, 'Bob', 'Board Game', '2025-03-28', 13.09),\n",
       " (221, 'Bob', 'Dice Set', '2025-03-22', 38.26),\n",
       " (226, 'Bob', 'Board Game', '2025-03-23', 60.25),\n",
       " (232, 'Bob', 'Board Game', '2025-02-13', 46.98),\n",
       " (234, 'Bob', 'Board Game', '2025-01-16', 78.33),\n",
       " (240, 'Bob', 'Board Game', '2025-01-13', 63.01),\n",
       " (247, 'Bob', 'Dice Set', '2025-01-25', 33.16),\n",
       " (250, 'Bob', 'Card Sleeves', '2025-04-07', 59.84),\n",
       " (252, 'Bob', 'Board Game', '2025-03-27', 31.93),\n",
       " (259, 'Bob', 'Board Game', '2025-04-19', 57.61),\n",
       " (260, 'Bob', 'Card Sleeves', '2025-01-30', 60.77),\n",
       " (267, 'Bob', 'Card Sleeves', '2025-01-31', 32.42),\n",
       " (282, 'Bob', 'Card Sleeves', '2025-02-12', 38.27),\n",
       " (284, 'Bob', 'Card Sleeves', '2025-04-14', 43.79),\n",
       " (296, 'Bob', 'Card Sleeves', '2025-03-24', 31.35),\n",
       " (301, 'Bob', 'Dice Set', '2025-04-20', 72.93),\n",
       " (304, 'Bob', 'Dice Set', '2025-01-13', 69.87),\n",
       " (318, 'Bob', 'Board Game', '2025-02-07', 47.15),\n",
       " (326, 'Bob', 'Dice Set', '2025-04-09', 19.05),\n",
       " (328, 'Bob', 'Board Game', '2025-02-09', 27.71),\n",
       " (330, 'Bob', 'Card Sleeves', '2025-04-01', 44.82),\n",
       " (336, 'Bob', 'Board Game', '2025-01-30', 27.55),\n",
       " (338, 'Bob', 'Dice Set', '2025-04-04', 30.39),\n",
       " (339, 'Bob', 'Board Game', '2025-01-24', 42.65),\n",
       " (358, 'Bob', 'Dice Set', '2025-02-28', 63.31),\n",
       " (362, 'Bob', 'Board Game', '2025-04-14', 31.71),\n",
       " (366, 'Bob', 'Board Game', '2025-04-10', 43.67),\n",
       " (369, 'Bob', 'Card Sleeves', '2025-01-17', 60.83),\n",
       " (371, 'Bob', 'Card Sleeves', '2025-02-09', 39.78),\n",
       " (372, 'Bob', 'Board Game', '2025-04-19', 37.38),\n",
       " (375, 'Bob', 'Card Sleeves', '2025-03-19', 37.69),\n",
       " (378, 'Bob', 'Dice Set', '2025-04-10', 16.26),\n",
       " (379, 'Bob', 'Board Game', '2025-02-03', 68.12),\n",
       " (384, 'Bob', 'Dice Set', '2025-03-08', 13.95),\n",
       " (385, 'Bob', 'Card Sleeves', '2025-04-05', 55.24),\n",
       " (405, 'Bob', 'Card Sleeves', '2025-03-19', 65.76),\n",
       " (406, 'Bob', 'Dice Set', '2025-04-23', 11.13),\n",
       " (415, 'Bob', 'Card Sleeves', '2025-04-17', 71.63),\n",
       " (417, 'Bob', 'Dice Set', '2025-02-18', 44.67),\n",
       " (427, 'Bob', 'Board Game', '2025-02-17', 53.07),\n",
       " (428, 'Bob', 'Dice Set', '2025-01-22', 60.21),\n",
       " (429, 'Bob', 'Board Game', '2025-01-30', 47.5),\n",
       " (430, 'Bob', 'Board Game', '2025-01-17', 78.12),\n",
       " (431, 'Bob', 'Card Sleeves', '2025-04-19', 42.06),\n",
       " (435, 'Bob', 'Board Game', '2025-02-16', 70.25),\n",
       " (441, 'Bob', 'Board Game', '2025-03-19', 28.05),\n",
       " (457, 'Bob', 'Board Game', '2025-03-23', 53.27),\n",
       " (461, 'Bob', 'Dice Set', '2025-01-21', 31.8),\n",
       " (472, 'Bob', 'Card Sleeves', '2025-02-19', 67.85),\n",
       " (477, 'Bob', 'Board Game', '2025-03-07', 35.76),\n",
       " (478, 'Bob', 'Card Sleeves', '2025-04-08', 42.66),\n",
       " (484, 'Bob', 'Board Game', '2025-02-13', 16.17),\n",
       " (485, 'Bob', 'Card Sleeves', '2025-02-04', 30.65),\n",
       " (491, 'Bob', 'Card Sleeves', '2025-01-23', 30.92),\n",
       " (496, 'Bob', 'Card Sleeves', '2025-03-25', 12.09),\n",
       " (499, 'Bob', 'Board Game', '2025-03-24', 78.6),\n",
       " (500, 'Bob', 'Card Sleeves', '2025-02-05', 74.92)]"
      ]
     },
     "execution_count": 2,
     "metadata": {},
     "output_type": "execute_result"
    }
   ],
   "source": [
    "query = \"SELECT * FROM sales WHERE customer = 'Bob'\"\n",
    "cursor.execute(query)\n",
    "cursor.fetchall()"
   ]
  },
  {
   "cell_type": "markdown",
   "id": "591b615a",
   "metadata": {},
   "source": [
    "Now, let’s use `EXPLAIN QUERY PLAN` to see how SQLite will execute that same query:"
   ]
  },
  {
   "cell_type": "code",
   "execution_count": 3,
   "id": "4e765df5",
   "metadata": {},
   "outputs": [
    {
     "name": "stdout",
     "output_type": "stream",
     "text": [
      "(2, 0, 216, 'SCAN sales')\n"
     ]
    }
   ],
   "source": [
    "cursor.execute(f\"EXPLAIN QUERY PLAN {query}\")\n",
    "for row in cursor.fetchall():\n",
    "    print(row)"
   ]
  },
  {
   "cell_type": "markdown",
   "id": "7911ce78",
   "metadata": {},
   "source": [
    "This means SQLite is doing a full table scan — it has to check every row to find customers named “Bob”."
   ]
  },
  {
   "cell_type": "markdown",
   "id": "686b9441",
   "metadata": {},
   "source": [
    "### 👀 Interpretation\n",
    "\n",
    "Output format:\n",
    "\n",
    "```\n",
    "(<selectid>, <order>, <from>, <detail>)\n",
    "```\n",
    "\n",
    "* **selectid:** ID of the `SELECT` query (0 for main query, >0 for subqueries)\n",
    "* **order:** Evaluation order of the `FROM` clause elements\n",
    "* **from:** Table index in the `FROM` clause (0 if only one table)\n",
    "* **detail:** How SQLite will access the data: scan, index, etc.\n"
   ]
  },
  {
   "cell_type": "markdown",
   "id": "7da62171",
   "metadata": {},
   "source": [
    "### 🧩 Step 3: Create an Index to Improve the Plan\n",
    "\n",
    "Let’s add an index on the customer column and rerun the plan."
   ]
  },
  {
   "cell_type": "code",
   "execution_count": 4,
   "id": "c27ba22e",
   "metadata": {},
   "outputs": [],
   "source": [
    "cursor.execute(\"CREATE INDEX idx_customer ON sales(customer)\")\n",
    "conn.commit()"
   ]
  },
  {
   "cell_type": "markdown",
   "id": "d32fe3c6",
   "metadata": {},
   "source": [
    "Now run the same EXPLAIN QUERY PLAN:"
   ]
  },
  {
   "cell_type": "code",
   "execution_count": 5,
   "id": "2fd0a063",
   "metadata": {},
   "outputs": [
    {
     "name": "stdout",
     "output_type": "stream",
     "text": [
      "(3, 0, 62, 'SEARCH sales USING INDEX idx_customer (customer=?)')\n"
     ]
    }
   ],
   "source": [
    "cursor.execute(f\"EXPLAIN QUERY PLAN {query}\")\n",
    "for row in cursor.fetchall():\n",
    "    print(row)"
   ]
  },
  {
   "cell_type": "markdown",
   "id": "d29d5b10",
   "metadata": {},
   "source": [
    "Now SQLite knows how the customer values are structured (via the index), it avoids the table scan. This is a key optimization concept."
   ]
  },
  {
   "cell_type": "markdown",
   "id": "9330d187",
   "metadata": {},
   "source": [
    "### 🛠️ Step 4: Use EXPLAIN to See Bytecode\n",
    "\n",
    "Let’s now explore what `EXPLAIN` does. This is more advanced and shows what SQLite will do step-by-step *internally* when running a query."
   ]
  },
  {
   "cell_type": "code",
   "execution_count": 6,
   "id": "b2069d5c",
   "metadata": {},
   "outputs": [
    {
     "name": "stdout",
     "output_type": "stream",
     "text": [
      "(0, 'Init', 0, 16, 0, None, 0, None)\n",
      "(1, 'OpenRead', 0, 2, 0, '5', 0, None)\n",
      "(2, 'OpenRead', 1, 10, 0, 'k(2,,)', 2, None)\n",
      "(3, 'String8', 0, 1, 0, 'Bob', 0, None)\n",
      "(4, 'SeekGE', 1, 15, 1, '1', 0, None)\n",
      "(5, 'IdxGT', 1, 15, 1, '1', 0, None)\n",
      "(6, 'DeferredSeek', 1, 0, 0, None, 0, None)\n",
      "(7, 'IdxRowid', 1, 2, 0, None, 0, None)\n",
      "(8, 'Column', 1, 0, 3, None, 0, None)\n",
      "(9, 'Column', 0, 2, 4, None, 0, None)\n"
     ]
    }
   ],
   "source": [
    "cursor.execute(f\"EXPLAIN {query}\")\n",
    "bytecode = cursor.fetchall()\n",
    "\n",
    "# Print first 10 instructions\n",
    "for row in bytecode[:10]:\n",
    "    print(row)"
   ]
  },
  {
   "cell_type": "markdown",
   "id": "b02a32f7",
   "metadata": {},
   "source": [
    "**🧠 What does this output mean?**\n",
    "\n",
    "```\n",
    "(addr, opcode, p1, p2, p3, p4, p5)\n",
    "```\n",
    "\n",
    "* **addr:** Address of the instruction in the bytecode\n",
    "* **opcode:** The operation to be performed (e.g., `OpenRead`, `Column`, `SeekGE`, etc.)\n",
    "* **p1-p5:** Operands used by the opcode -- meaning depends on the operation\n",
    "* **p4:** Extra text info (e.g., values, column names)\n",
    "\n",
    "**🧾 Example breakdown**\n",
    "\n",
    "```\n",
    "(0, 'Init', 0, 10, 0, '', '')\n",
    "(1, 'OpenRead', 0, 2, -1, 'sales', '')\n",
    "(2, 'String8', 0, 1, 0, 'Bob', '')\n",
    "(3, 'SeekGE', 0, 5, 1, '', '')\n",
    "```\n",
    "\n",
    "* **Init:** Starts the program\n",
    "* **OpenRead:** Opens the sales table for reading\n",
    "* **String8:** Loads the string 'Bob' into a register\n",
    "* **SeekGE:** Moves to the first row with customer >= 'Bob' using the index (if exists)\n",
    "\n",
    "🔬 This is how SQLite interprets the SQL into a series of internal instructions.\n",
    "\n",
    "Should you use this? Maybe. But this is too advanced.\n"
   ]
  },
  {
   "cell_type": "markdown",
   "id": "52f9d8d7",
   "metadata": {},
   "source": [
    "## 🧠 SQLite Query Planning Summary\n",
    "\n",
    "EXPLAIN QUERY PLAN\n",
    "\n",
    "- ✅ Shows whether SQLite will scan the table or use an index\n",
    "- ✅ Easy to interpret\n",
    "- ✅ Best tool for query optimization and teaching\n",
    "\n",
    "EXPLAIN\n",
    "\n",
    "- 🧠 Shows virtual machine (VM) bytecode steps\n",
    "- ❌ Not beginner-friendly\n",
    "- 🧪 Useful for internal debugging or performance analysis\n",
    "\n",
    "**💡 Key Insight:** Indexes change how SQLite executes queries. Use EXPLAIN QUERY PLAN to confirm your queries are efficient!\n"
   ]
  },
  {
   "cell_type": "markdown",
   "id": "721788ee",
   "metadata": {},
   "source": []
  }
 ],
 "metadata": {
  "kernelspec": {
   "display_name": ".venv",
   "language": "python",
   "name": "python3"
  },
  "language_info": {
   "codemirror_mode": {
    "name": "ipython",
    "version": 3
   },
   "file_extension": ".py",
   "mimetype": "text/x-python",
   "name": "python",
   "nbconvert_exporter": "python",
   "pygments_lexer": "ipython3",
   "version": "3.13.3"
  }
 },
 "nbformat": 4,
 "nbformat_minor": 5
}