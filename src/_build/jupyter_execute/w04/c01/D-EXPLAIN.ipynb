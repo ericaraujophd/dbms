{
 "cells": [
  {
   "cell_type": "markdown",
   "id": "530a536b",
   "metadata": {},
   "source": [
    "# EXPLAIN and EXPLAIN QUERY PLAN"
   ]
  },
  {
   "cell_type": "markdown",
   "id": "a2a588e0",
   "metadata": {},
   "source": [
    "## 🧠 What is EXPLAIN?\n",
    "\n",
    "SQLite provides two commands to understand how your queries will be executed:\n",
    "\n",
    "* **EXPLAIN QUERY PLAN:** Gives a high-level overview of how a query will be run\n",
    "* **EXPLAIN:** Provides a **low-level**, detailed breakdown of the query execution plan\n",
    "\n",
    "In most cases, you will use `EXPLAIN QUERY PLAN` for query optimization and teaching.\n",
    "\n",
    "`EXPLAIN` is more technical and useful if you’re digging into SQLite internals.\n"
   ]
  },
  {
   "cell_type": "markdown",
   "id": "97ccc136",
   "metadata": {},
   "source": [
    "## 🧱 Step 1: Create a Table and Populate It\n",
    "\n",
    "We’ll create a small sales table with some customer purchase data to use in our examples."
   ]
  },
  {
   "cell_type": "code",
   "execution_count": 1,
   "id": "c8d4d6c5",
   "metadata": {},
   "outputs": [],
   "source": [
    "import sqlite3\n",
    "import random\n",
    "from datetime import datetime, timedelta\n",
    "\n",
    "# Start a fresh in-memory database\n",
    "conn = sqlite3.connect(\":memory:\")\n",
    "cursor = conn.cursor()\n",
    "\n",
    "# Create a simple table for purchases\n",
    "cursor.execute('''\n",
    "CREATE TABLE sales (\n",
    "    id INTEGER PRIMARY KEY AUTOINCREMENT,\n",
    "    customer TEXT,\n",
    "    product TEXT,\n",
    "    sale_date TEXT,\n",
    "    amount REAL\n",
    ")\n",
    "''')\n",
    "\n",
    "# Fill the table with 500 sample records\n",
    "customers = ['Alice', 'Bob', 'Carol', 'David', 'Eve']\n",
    "products = ['Board Game', 'Dice Set', 'Card Sleeves']\n",
    "\n",
    "for _ in range(500):\n",
    "    customer = random.choice(customers)\n",
    "    product = random.choice(products)\n",
    "    days_ago = random.randint(0, 100)\n",
    "    date = (datetime.now() - timedelta(days=days_ago)).strftime('%Y-%m-%d')\n",
    "    amount = round(random.uniform(10, 80), 2)\n",
    "    cursor.execute(\"INSERT INTO sales (customer, product, sale_date, amount) VALUES (?, ?, ?, ?)\",\n",
    "                   (customer, product, date, amount))\n",
    "\n",
    "conn.commit()"
   ]
  },
  {
   "cell_type": "markdown",
   "id": "293d53d8",
   "metadata": {},
   "source": [
    "✅ Main point: You should understand how indexes affect performance. But before we create any indexes, let’s see how SQLite plans queries with no help."
   ]
  },
  {
   "cell_type": "markdown",
   "id": "4b888818",
   "metadata": {},
   "source": [
    "## 🔍 Step 2: Run a Query and Inspect the Plan (No Index Yet)\n",
    "\n",
    "We’ll inspect a query that searches for rows by customer. First, we run the query as usual:"
   ]
  },
  {
   "cell_type": "code",
   "execution_count": 2,
   "id": "637357d8",
   "metadata": {},
   "outputs": [
    {
     "data": {
      "text/plain": [
       "[(2, 'Bob', 'Board Game', '2025-03-14', 78.67),\n",
       " (9, 'Bob', 'Board Game', '2025-02-12', 20.82),\n",
       " (10, 'Bob', 'Board Game', '2025-03-14', 41.97),\n",
       " (11, 'Bob', 'Dice Set', '2025-02-15', 52.39),\n",
       " (12, 'Bob', 'Board Game', '2025-02-11', 57.85),\n",
       " (13, 'Bob', 'Dice Set', '2025-02-07', 24.53),\n",
       " (19, 'Bob', 'Board Game', '2025-02-08', 55.39),\n",
       " (22, 'Bob', 'Card Sleeves', '2025-03-23', 51.57),\n",
       " (26, 'Bob', 'Board Game', '2025-03-12', 34.17),\n",
       " (28, 'Bob', 'Dice Set', '2025-01-27', 50.15),\n",
       " (29, 'Bob', 'Dice Set', '2025-02-09', 72.3),\n",
       " (36, 'Bob', 'Board Game', '2025-02-10', 63.14),\n",
       " (37, 'Bob', 'Dice Set', '2025-03-05', 74.81),\n",
       " (43, 'Bob', 'Board Game', '2025-01-22', 19.74),\n",
       " (50, 'Bob', 'Board Game', '2025-04-01', 21.99),\n",
       " (52, 'Bob', 'Board Game', '2025-02-02', 14.14),\n",
       " (57, 'Bob', 'Dice Set', '2025-02-15', 50.58),\n",
       " (59, 'Bob', 'Dice Set', '2025-03-01', 18.21),\n",
       " (72, 'Bob', 'Card Sleeves', '2025-02-02', 17.95),\n",
       " (77, 'Bob', 'Dice Set', '2025-01-27', 25.49),\n",
       " (92, 'Bob', 'Dice Set', '2025-03-29', 56.93),\n",
       " (94, 'Bob', 'Board Game', '2025-02-07', 51.2),\n",
       " (110, 'Bob', 'Card Sleeves', '2025-03-31', 27.44),\n",
       " (111, 'Bob', 'Dice Set', '2025-03-15', 66.05),\n",
       " (112, 'Bob', 'Card Sleeves', '2025-02-24', 18.78),\n",
       " (119, 'Bob', 'Board Game', '2025-03-07', 70.67),\n",
       " (123, 'Bob', 'Card Sleeves', '2025-04-17', 29.22),\n",
       " (137, 'Bob', 'Dice Set', '2025-03-06', 35.97),\n",
       " (139, 'Bob', 'Card Sleeves', '2025-03-11', 49.66),\n",
       " (142, 'Bob', 'Board Game', '2025-04-01', 12.43),\n",
       " (148, 'Bob', 'Dice Set', '2025-03-17', 67.52),\n",
       " (151, 'Bob', 'Dice Set', '2025-01-20', 15.4),\n",
       " (162, 'Bob', 'Card Sleeves', '2025-01-14', 58.7),\n",
       " (165, 'Bob', 'Card Sleeves', '2025-04-08', 38.59),\n",
       " (179, 'Bob', 'Card Sleeves', '2025-02-25', 30.68),\n",
       " (183, 'Bob', 'Board Game', '2025-01-23', 28.39),\n",
       " (187, 'Bob', 'Board Game', '2025-04-09', 76.47),\n",
       " (188, 'Bob', 'Board Game', '2025-03-27', 68.48),\n",
       " (197, 'Bob', 'Dice Set', '2025-04-20', 50.99),\n",
       " (201, 'Bob', 'Board Game', '2025-04-11', 72.87),\n",
       " (203, 'Bob', 'Board Game', '2025-02-06', 24.89),\n",
       " (205, 'Bob', 'Board Game', '2025-04-05', 29.85),\n",
       " (209, 'Bob', 'Board Game', '2025-03-01', 14.11),\n",
       " (210, 'Bob', 'Board Game', '2025-01-28', 71.02),\n",
       " (211, 'Bob', 'Board Game', '2025-04-17', 23.51),\n",
       " (214, 'Bob', 'Dice Set', '2025-02-19', 24.14),\n",
       " (215, 'Bob', 'Card Sleeves', '2025-02-08', 53.37),\n",
       " (226, 'Bob', 'Dice Set', '2025-01-21', 40.49),\n",
       " (231, 'Bob', 'Card Sleeves', '2025-02-14', 79.21),\n",
       " (237, 'Bob', 'Dice Set', '2025-03-26', 75.71),\n",
       " (238, 'Bob', 'Dice Set', '2025-01-21', 73.81),\n",
       " (239, 'Bob', 'Dice Set', '2025-03-04', 30.1),\n",
       " (240, 'Bob', 'Dice Set', '2025-01-18', 25.49),\n",
       " (241, 'Bob', 'Card Sleeves', '2025-04-10', 17.52),\n",
       " (243, 'Bob', 'Card Sleeves', '2025-04-22', 54.91),\n",
       " (246, 'Bob', 'Board Game', '2025-04-14', 67.73),\n",
       " (249, 'Bob', 'Dice Set', '2025-03-22', 25.61),\n",
       " (255, 'Bob', 'Dice Set', '2025-02-06', 53.17),\n",
       " (257, 'Bob', 'Dice Set', '2025-04-06', 54.41),\n",
       " (269, 'Bob', 'Board Game', '2025-01-15', 52.86),\n",
       " (280, 'Bob', 'Card Sleeves', '2025-01-15', 76.29),\n",
       " (285, 'Bob', 'Dice Set', '2025-04-20', 64.53),\n",
       " (295, 'Bob', 'Card Sleeves', '2025-02-20', 75.66),\n",
       " (305, 'Bob', 'Board Game', '2025-03-24', 65.58),\n",
       " (307, 'Bob', 'Card Sleeves', '2025-03-07', 75.09),\n",
       " (318, 'Bob', 'Card Sleeves', '2025-04-15', 68.96),\n",
       " (321, 'Bob', 'Board Game', '2025-02-24', 13.85),\n",
       " (323, 'Bob', 'Card Sleeves', '2025-04-11', 44.16),\n",
       " (346, 'Bob', 'Dice Set', '2025-01-28', 61.72),\n",
       " (353, 'Bob', 'Board Game', '2025-01-27', 16.43),\n",
       " (359, 'Bob', 'Dice Set', '2025-04-08', 17.35),\n",
       " (364, 'Bob', 'Board Game', '2025-01-26', 74.21),\n",
       " (366, 'Bob', 'Board Game', '2025-01-31', 63.35),\n",
       " (367, 'Bob', 'Board Game', '2025-04-22', 47.67),\n",
       " (368, 'Bob', 'Card Sleeves', '2025-02-16', 33.28),\n",
       " (376, 'Bob', 'Board Game', '2025-03-13', 42.38),\n",
       " (378, 'Bob', 'Dice Set', '2025-01-20', 69.73),\n",
       " (381, 'Bob', 'Card Sleeves', '2025-02-17', 74.5),\n",
       " (384, 'Bob', 'Card Sleeves', '2025-03-01', 64.23),\n",
       " (386, 'Bob', 'Dice Set', '2025-01-29', 64.89),\n",
       " (387, 'Bob', 'Card Sleeves', '2025-01-25', 50.61),\n",
       " (390, 'Bob', 'Board Game', '2025-03-10', 55.86),\n",
       " (391, 'Bob', 'Card Sleeves', '2025-03-16', 10.6),\n",
       " (393, 'Bob', 'Card Sleeves', '2025-02-18', 37.0),\n",
       " (402, 'Bob', 'Card Sleeves', '2025-04-17', 14.02),\n",
       " (405, 'Bob', 'Dice Set', '2025-03-05', 78.88),\n",
       " (406, 'Bob', 'Board Game', '2025-02-08', 78.91),\n",
       " (408, 'Bob', 'Card Sleeves', '2025-04-18', 53.54),\n",
       " (412, 'Bob', 'Card Sleeves', '2025-01-27', 19.49),\n",
       " (425, 'Bob', 'Dice Set', '2025-04-19', 68.47),\n",
       " (436, 'Bob', 'Card Sleeves', '2025-03-22', 12.72),\n",
       " (440, 'Bob', 'Board Game', '2025-01-18', 30.48),\n",
       " (443, 'Bob', 'Board Game', '2025-03-12', 10.72),\n",
       " (473, 'Bob', 'Card Sleeves', '2025-03-17', 43.71),\n",
       " (481, 'Bob', 'Dice Set', '2025-01-13', 76.64),\n",
       " (487, 'Bob', 'Card Sleeves', '2025-01-21', 45.84),\n",
       " (493, 'Bob', 'Dice Set', '2025-03-11', 40.64),\n",
       " (494, 'Bob', 'Board Game', '2025-02-24', 77.44),\n",
       " (495, 'Bob', 'Card Sleeves', '2025-04-19', 49.58)]"
      ]
     },
     "execution_count": 2,
     "metadata": {},
     "output_type": "execute_result"
    }
   ],
   "source": [
    "query = \"SELECT * FROM sales WHERE customer = 'Bob'\"\n",
    "cursor.execute(query)\n",
    "cursor.fetchall()"
   ]
  },
  {
   "cell_type": "markdown",
   "id": "591b615a",
   "metadata": {},
   "source": [
    "Now, let’s use `EXPLAIN QUERY PLAN` to see how SQLite will execute that same query:"
   ]
  },
  {
   "cell_type": "code",
   "execution_count": 3,
   "id": "4e765df5",
   "metadata": {},
   "outputs": [
    {
     "name": "stdout",
     "output_type": "stream",
     "text": [
      "(2, 0, 216, 'SCAN sales')\n"
     ]
    }
   ],
   "source": [
    "cursor.execute(f\"EXPLAIN QUERY PLAN {query}\")\n",
    "for row in cursor.fetchall():\n",
    "    print(row)"
   ]
  },
  {
   "cell_type": "markdown",
   "id": "7911ce78",
   "metadata": {},
   "source": [
    "This means SQLite is doing a full table scan — it has to check every row to find customers named “Bob”."
   ]
  },
  {
   "cell_type": "markdown",
   "id": "686b9441",
   "metadata": {},
   "source": [
    "### 👀 Interpretation\n",
    "\n",
    "Output format:\n",
    "\n",
    "```\n",
    "(<selectid>, <order>, <from>, <detail>)\n",
    "```\n",
    "\n",
    "* **selectid:** ID of the `SELECT` query (0 for main query, >0 for subqueries)\n",
    "* **order:** Evaluation order of the `FROM` clause elements\n",
    "* **from:** Table index in the `FROM` clause (0 if only one table)\n",
    "* **detail:** How SQLite will access the data: scan, index, etc.\n"
   ]
  },
  {
   "cell_type": "markdown",
   "id": "7da62171",
   "metadata": {},
   "source": [
    "### 🧩 Step 3: Create an Index to Improve the Plan\n",
    "\n",
    "Let’s add an index on the customer column and rerun the plan."
   ]
  },
  {
   "cell_type": "code",
   "execution_count": 4,
   "id": "c27ba22e",
   "metadata": {},
   "outputs": [],
   "source": [
    "cursor.execute(\"CREATE INDEX idx_customer ON sales(customer)\")\n",
    "conn.commit()"
   ]
  },
  {
   "cell_type": "markdown",
   "id": "d32fe3c6",
   "metadata": {},
   "source": [
    "Now run the same EXPLAIN QUERY PLAN:"
   ]
  },
  {
   "cell_type": "code",
   "execution_count": 5,
   "id": "2fd0a063",
   "metadata": {},
   "outputs": [
    {
     "name": "stdout",
     "output_type": "stream",
     "text": [
      "(3, 0, 62, 'SEARCH sales USING INDEX idx_customer (customer=?)')\n"
     ]
    }
   ],
   "source": [
    "cursor.execute(f\"EXPLAIN QUERY PLAN {query}\")\n",
    "for row in cursor.fetchall():\n",
    "    print(row)"
   ]
  },
  {
   "cell_type": "markdown",
   "id": "d29d5b10",
   "metadata": {},
   "source": [
    "Now SQLite knows how the customer values are structured (via the index), it avoids the table scan. This is a key optimization concept."
   ]
  },
  {
   "cell_type": "markdown",
   "id": "9330d187",
   "metadata": {},
   "source": [
    "### 🛠️ Step 4: Use EXPLAIN to See Bytecode\n",
    "\n",
    "Let’s now explore what `EXPLAIN` does. This is more advanced and shows what SQLite will do step-by-step *internally* when running a query."
   ]
  },
  {
   "cell_type": "code",
   "execution_count": 6,
   "id": "b2069d5c",
   "metadata": {},
   "outputs": [
    {
     "name": "stdout",
     "output_type": "stream",
     "text": [
      "(0, 'Init', 0, 16, 0, None, 0, None)\n",
      "(1, 'OpenRead', 0, 2, 0, '5', 0, None)\n",
      "(2, 'OpenRead', 1, 10, 0, 'k(2,,)', 2, None)\n",
      "(3, 'String8', 0, 1, 0, 'Bob', 0, None)\n",
      "(4, 'SeekGE', 1, 15, 1, '1', 0, None)\n",
      "(5, 'IdxGT', 1, 15, 1, '1', 0, None)\n",
      "(6, 'DeferredSeek', 1, 0, 0, None, 0, None)\n",
      "(7, 'IdxRowid', 1, 2, 0, None, 0, None)\n",
      "(8, 'Column', 1, 0, 3, None, 0, None)\n",
      "(9, 'Column', 0, 2, 4, None, 0, None)\n"
     ]
    }
   ],
   "source": [
    "cursor.execute(f\"EXPLAIN {query}\")\n",
    "bytecode = cursor.fetchall()\n",
    "\n",
    "# Print first 10 instructions\n",
    "for row in bytecode[:10]:\n",
    "    print(row)"
   ]
  },
  {
   "cell_type": "markdown",
   "id": "b02a32f7",
   "metadata": {},
   "source": [
    "**🧠 What does this output mean?**\n",
    "\n",
    "```\n",
    "(addr, opcode, p1, p2, p3, p4, p5)\n",
    "```\n",
    "\n",
    "* **addr:** Address of the instruction in the bytecode\n",
    "* **opcode:** The operation to be performed (e.g., `OpenRead`, `Column`, `SeekGE`, etc.)\n",
    "* **p1-p5:** Operands used by the opcode -- meaning depends on the operation\n",
    "* **p4:** Extra text info (e.g., values, column names)\n",
    "\n",
    "**🧾 Example breakdown**\n",
    "\n",
    "```\n",
    "(0, 'Init', 0, 10, 0, '', '')\n",
    "(1, 'OpenRead', 0, 2, -1, 'sales', '')\n",
    "(2, 'String8', 0, 1, 0, 'Bob', '')\n",
    "(3, 'SeekGE', 0, 5, 1, '', '')\n",
    "```\n",
    "\n",
    "* **Init:** Starts the program\n",
    "* **OpenRead:** Opens the sales table for reading\n",
    "* **String8:** Loads the string 'Bob' into a register\n",
    "* **SeekGE:** Moves to the first row with customer >= 'Bob' using the index (if exists)\n",
    "\n",
    "🔬 This is how SQLite interprets the SQL into a series of internal instructions.\n",
    "\n",
    "Should you use this? Maybe. But this is too advanced.\n"
   ]
  },
  {
   "cell_type": "markdown",
   "id": "52f9d8d7",
   "metadata": {},
   "source": [
    "## 🧠 SQLite Query Planning Summary\n",
    "\n",
    "EXPLAIN QUERY PLAN\n",
    "\n",
    "- ✅ Shows whether SQLite will scan the table or use an index\n",
    "- ✅ Easy to interpret\n",
    "- ✅ Best tool for query optimization and teaching\n",
    "\n",
    "EXPLAIN\n",
    "\n",
    "- 🧠 Shows virtual machine (VM) bytecode steps\n",
    "- ❌ Not beginner-friendly\n",
    "- 🧪 Useful for internal debugging or performance analysis\n",
    "\n",
    "**💡 Key Insight:** Indexes change how SQLite executes queries. Use EXPLAIN QUERY PLAN to confirm your queries are efficient!\n"
   ]
  },
  {
   "cell_type": "markdown",
   "id": "721788ee",
   "metadata": {},
   "source": []
  }
 ],
 "metadata": {
  "kernelspec": {
   "display_name": ".venv",
   "language": "python",
   "name": "python3"
  },
  "language_info": {
   "codemirror_mode": {
    "name": "ipython",
    "version": 3
   },
   "file_extension": ".py",
   "mimetype": "text/x-python",
   "name": "python",
   "nbconvert_exporter": "python",
   "pygments_lexer": "ipython3",
   "version": "3.13.3"
  }
 },
 "nbformat": 4,
 "nbformat_minor": 5
}