{
 "cells": [
  {
   "cell_type": "markdown",
   "id": "530a536b",
   "metadata": {},
   "source": [
    "# EXPLAIN and EXPLAIN QUERY PLAN"
   ]
  },
  {
   "cell_type": "markdown",
   "id": "a2a588e0",
   "metadata": {},
   "source": [
    "## 🧠 What is EXPLAIN?\n",
    "\n",
    "SQLite provides two commands to understand how your queries will be executed:\n",
    "\n",
    "* **EXPLAIN QUERY PLAN:** Gives a high-level overview of how a query will be run\n",
    "* **EXPLAIN:** Provides a **low-level**, detailed breakdown of the query execution plan\n",
    "\n",
    "In most cases, you will use `EXPLAIN QUERY PLAN` for query optimization and teaching.\n",
    "\n",
    "`EXPLAIN` is more technical and useful if you’re digging into SQLite internals.\n"
   ]
  },
  {
   "cell_type": "markdown",
   "id": "97ccc136",
   "metadata": {},
   "source": [
    "## 🧱 Step 1: Create a Table and Populate It\n",
    "\n",
    "We’ll create a small sales table with some customer purchase data to use in our examples."
   ]
  },
  {
   "cell_type": "code",
   "execution_count": 1,
   "id": "c8d4d6c5",
   "metadata": {},
   "outputs": [],
   "source": [
    "import sqlite3\n",
    "import random\n",
    "from datetime import datetime, timedelta\n",
    "\n",
    "# Start a fresh in-memory database\n",
    "conn = sqlite3.connect(\":memory:\")\n",
    "cursor = conn.cursor()\n",
    "\n",
    "# Create a simple table for purchases\n",
    "cursor.execute('''\n",
    "CREATE TABLE sales (\n",
    "    id INTEGER PRIMARY KEY AUTOINCREMENT,\n",
    "    customer TEXT,\n",
    "    product TEXT,\n",
    "    sale_date TEXT,\n",
    "    amount REAL\n",
    ")\n",
    "''')\n",
    "\n",
    "# Fill the table with 500 sample records\n",
    "customers = ['Alice', 'Bob', 'Carol', 'David', 'Eve']\n",
    "products = ['Board Game', 'Dice Set', 'Card Sleeves']\n",
    "\n",
    "for _ in range(500):\n",
    "    customer = random.choice(customers)\n",
    "    product = random.choice(products)\n",
    "    days_ago = random.randint(0, 100)\n",
    "    date = (datetime.now() - timedelta(days=days_ago)).strftime('%Y-%m-%d')\n",
    "    amount = round(random.uniform(10, 80), 2)\n",
    "    cursor.execute(\"INSERT INTO sales (customer, product, sale_date, amount) VALUES (?, ?, ?, ?)\",\n",
    "                   (customer, product, date, amount))\n",
    "\n",
    "conn.commit()"
   ]
  },
  {
   "cell_type": "markdown",
   "id": "293d53d8",
   "metadata": {},
   "source": [
    "✅ Main point: You should understand how indexes affect performance. But before we create any indexes, let’s see how SQLite plans queries with no help."
   ]
  },
  {
   "cell_type": "markdown",
   "id": "4b888818",
   "metadata": {},
   "source": [
    "## 🔍 Step 2: Run a Query and Inspect the Plan (No Index Yet)\n",
    "\n",
    "We’ll inspect a query that searches for rows by customer. First, we run the query as usual:"
   ]
  },
  {
   "cell_type": "code",
   "execution_count": 2,
   "id": "637357d8",
   "metadata": {},
   "outputs": [
    {
     "data": {
      "text/plain": [
       "[(16, 'Bob', 'Dice Set', '2025-02-20', 74.28),\n",
       " (17, 'Bob', 'Dice Set', '2025-01-23', 50.94),\n",
       " (23, 'Bob', 'Board Game', '2025-03-21', 63.86),\n",
       " (32, 'Bob', 'Card Sleeves', '2025-03-13', 62.86),\n",
       " (33, 'Bob', 'Dice Set', '2025-02-04', 44.22),\n",
       " (36, 'Bob', 'Card Sleeves', '2025-02-23', 51.21),\n",
       " (37, 'Bob', 'Dice Set', '2025-04-19', 15.07),\n",
       " (41, 'Bob', 'Card Sleeves', '2025-02-26', 77.95),\n",
       " (42, 'Bob', 'Dice Set', '2025-01-21', 31.6),\n",
       " (44, 'Bob', 'Card Sleeves', '2025-03-01', 36.01),\n",
       " (54, 'Bob', 'Dice Set', '2025-02-10', 77.98),\n",
       " (55, 'Bob', 'Board Game', '2025-02-25', 27.22),\n",
       " (61, 'Bob', 'Card Sleeves', '2025-01-16', 18.06),\n",
       " (73, 'Bob', 'Card Sleeves', '2025-04-12', 17.91),\n",
       " (78, 'Bob', 'Dice Set', '2025-02-10', 12.48),\n",
       " (83, 'Bob', 'Board Game', '2025-04-05', 51.39),\n",
       " (85, 'Bob', 'Card Sleeves', '2025-03-07', 63.63),\n",
       " (89, 'Bob', 'Board Game', '2025-03-03', 35.31),\n",
       " (90, 'Bob', 'Card Sleeves', '2025-01-15', 76.55),\n",
       " (97, 'Bob', 'Card Sleeves', '2025-03-12', 36.76),\n",
       " (108, 'Bob', 'Dice Set', '2025-04-10', 33.35),\n",
       " (109, 'Bob', 'Board Game', '2025-03-06', 75.01),\n",
       " (112, 'Bob', 'Board Game', '2025-03-08', 72.8),\n",
       " (118, 'Bob', 'Card Sleeves', '2025-01-28', 59.43),\n",
       " (123, 'Bob', 'Dice Set', '2025-01-22', 47.6),\n",
       " (125, 'Bob', 'Card Sleeves', '2025-03-06', 42.12),\n",
       " (129, 'Bob', 'Board Game', '2025-04-15', 61.39),\n",
       " (132, 'Bob', 'Board Game', '2025-04-14', 20.62),\n",
       " (139, 'Bob', 'Card Sleeves', '2025-04-15', 71.49),\n",
       " (143, 'Bob', 'Card Sleeves', '2025-03-12', 72.88),\n",
       " (158, 'Bob', 'Card Sleeves', '2025-02-08', 31.44),\n",
       " (162, 'Bob', 'Board Game', '2025-04-18', 75.0),\n",
       " (188, 'Bob', 'Dice Set', '2025-04-22', 62.94),\n",
       " (196, 'Bob', 'Dice Set', '2025-01-27', 16.64),\n",
       " (202, 'Bob', 'Card Sleeves', '2025-04-02', 48.38),\n",
       " (206, 'Bob', 'Dice Set', '2025-01-25', 28.66),\n",
       " (212, 'Bob', 'Dice Set', '2025-04-15', 48.84),\n",
       " (214, 'Bob', 'Dice Set', '2025-04-11', 10.35),\n",
       " (218, 'Bob', 'Dice Set', '2025-01-24', 72.04),\n",
       " (220, 'Bob', 'Board Game', '2025-03-06', 66.66),\n",
       " (225, 'Bob', 'Dice Set', '2025-01-29', 49.42),\n",
       " (228, 'Bob', 'Card Sleeves', '2025-04-12', 26.6),\n",
       " (229, 'Bob', 'Dice Set', '2025-01-29', 65.29),\n",
       " (234, 'Bob', 'Board Game', '2025-03-13', 27.48),\n",
       " (239, 'Bob', 'Board Game', '2025-01-16', 36.19),\n",
       " (240, 'Bob', 'Dice Set', '2025-01-20', 48.33),\n",
       " (241, 'Bob', 'Dice Set', '2025-02-19', 75.63),\n",
       " (246, 'Bob', 'Board Game', '2025-04-10', 31.33),\n",
       " (249, 'Bob', 'Board Game', '2025-01-21', 27.56),\n",
       " (262, 'Bob', 'Card Sleeves', '2025-04-03', 66.23),\n",
       " (269, 'Bob', 'Dice Set', '2025-02-17', 15.93),\n",
       " (270, 'Bob', 'Board Game', '2025-04-23', 62.89),\n",
       " (274, 'Bob', 'Card Sleeves', '2025-04-04', 46.05),\n",
       " (276, 'Bob', 'Board Game', '2025-02-18', 76.38),\n",
       " (280, 'Bob', 'Card Sleeves', '2025-04-16', 35.81),\n",
       " (282, 'Bob', 'Board Game', '2025-03-26', 19.66),\n",
       " (284, 'Bob', 'Card Sleeves', '2025-02-27', 45.69),\n",
       " (291, 'Bob', 'Card Sleeves', '2025-03-05', 79.23),\n",
       " (298, 'Bob', 'Board Game', '2025-02-13', 66.23),\n",
       " (304, 'Bob', 'Board Game', '2025-04-23', 52.51),\n",
       " (308, 'Bob', 'Board Game', '2025-02-14', 12.08),\n",
       " (310, 'Bob', 'Board Game', '2025-03-13', 50.58),\n",
       " (311, 'Bob', 'Dice Set', '2025-04-02', 59.76),\n",
       " (313, 'Bob', 'Dice Set', '2025-02-21', 78.57),\n",
       " (316, 'Bob', 'Dice Set', '2025-01-15', 62.79),\n",
       " (321, 'Bob', 'Dice Set', '2025-04-04', 48.18),\n",
       " (323, 'Bob', 'Board Game', '2025-03-02', 41.22),\n",
       " (325, 'Bob', 'Card Sleeves', '2025-01-27', 37.58),\n",
       " (332, 'Bob', 'Card Sleeves', '2025-02-24', 16.85),\n",
       " (336, 'Bob', 'Board Game', '2025-02-09', 77.74),\n",
       " (338, 'Bob', 'Board Game', '2025-04-17', 62.45),\n",
       " (339, 'Bob', 'Dice Set', '2025-02-27', 56.49),\n",
       " (340, 'Bob', 'Card Sleeves', '2025-03-19', 28.34),\n",
       " (342, 'Bob', 'Card Sleeves', '2025-01-19', 16.0),\n",
       " (346, 'Bob', 'Card Sleeves', '2025-04-15', 45.31),\n",
       " (352, 'Bob', 'Board Game', '2025-01-30', 59.95),\n",
       " (363, 'Bob', 'Dice Set', '2025-02-18', 53.12),\n",
       " (365, 'Bob', 'Dice Set', '2025-04-01', 60.33),\n",
       " (366, 'Bob', 'Card Sleeves', '2025-04-14', 45.08),\n",
       " (370, 'Bob', 'Card Sleeves', '2025-03-08', 55.02),\n",
       " (373, 'Bob', 'Card Sleeves', '2025-04-13', 12.46),\n",
       " (374, 'Bob', 'Dice Set', '2025-02-20', 52.87),\n",
       " (376, 'Bob', 'Dice Set', '2025-03-31', 42.36),\n",
       " (391, 'Bob', 'Dice Set', '2025-02-18', 33.09),\n",
       " (393, 'Bob', 'Board Game', '2025-03-15', 56.72),\n",
       " (394, 'Bob', 'Board Game', '2025-03-10', 43.91),\n",
       " (396, 'Bob', 'Board Game', '2025-01-16', 51.69),\n",
       " (408, 'Bob', 'Dice Set', '2025-03-08', 17.96),\n",
       " (421, 'Bob', 'Dice Set', '2025-01-29', 59.55),\n",
       " (431, 'Bob', 'Board Game', '2025-03-23', 38.73),\n",
       " (433, 'Bob', 'Board Game', '2025-04-11', 31.38),\n",
       " (438, 'Bob', 'Dice Set', '2025-02-20', 58.88),\n",
       " (444, 'Bob', 'Card Sleeves', '2025-04-05', 47.36),\n",
       " (447, 'Bob', 'Card Sleeves', '2025-03-17', 15.07),\n",
       " (456, 'Bob', 'Board Game', '2025-01-17', 18.61),\n",
       " (458, 'Bob', 'Board Game', '2025-03-07', 65.56),\n",
       " (467, 'Bob', 'Dice Set', '2025-02-23', 38.21),\n",
       " (468, 'Bob', 'Board Game', '2025-01-27', 58.19),\n",
       " (473, 'Bob', 'Board Game', '2025-02-06', 54.58),\n",
       " (480, 'Bob', 'Card Sleeves', '2025-02-16', 28.41),\n",
       " (481, 'Bob', 'Dice Set', '2025-02-19', 68.89),\n",
       " (495, 'Bob', 'Card Sleeves', '2025-03-14', 44.02),\n",
       " (497, 'Bob', 'Dice Set', '2025-02-06', 70.25),\n",
       " (500, 'Bob', 'Board Game', '2025-04-14', 23.46)]"
      ]
     },
     "execution_count": 2,
     "metadata": {},
     "output_type": "execute_result"
    }
   ],
   "source": [
    "query = \"SELECT * FROM sales WHERE customer = 'Bob'\"\n",
    "cursor.execute(query)\n",
    "cursor.fetchall()"
   ]
  },
  {
   "cell_type": "markdown",
   "id": "591b615a",
   "metadata": {},
   "source": [
    "Now, let’s use `EXPLAIN QUERY PLAN` to see how SQLite will execute that same query:"
   ]
  },
  {
   "cell_type": "code",
   "execution_count": 3,
   "id": "4e765df5",
   "metadata": {},
   "outputs": [
    {
     "name": "stdout",
     "output_type": "stream",
     "text": [
      "(2, 0, 216, 'SCAN sales')\n"
     ]
    }
   ],
   "source": [
    "cursor.execute(f\"EXPLAIN QUERY PLAN {query}\")\n",
    "for row in cursor.fetchall():\n",
    "    print(row)"
   ]
  },
  {
   "cell_type": "markdown",
   "id": "7911ce78",
   "metadata": {},
   "source": [
    "This means SQLite is doing a full table scan — it has to check every row to find customers named “Bob”."
   ]
  },
  {
   "cell_type": "markdown",
   "id": "686b9441",
   "metadata": {},
   "source": [
    "### 👀 Interpretation\n",
    "\n",
    "Output format:\n",
    "\n",
    "```\n",
    "(<selectid>, <order>, <from>, <detail>)\n",
    "```\n",
    "\n",
    "* **selectid:** ID of the `SELECT` query (0 for main query, >0 for subqueries)\n",
    "* **order:** Evaluation order of the `FROM` clause elements\n",
    "* **from:** Table index in the `FROM` clause (0 if only one table)\n",
    "* **detail:** How SQLite will access the data: scan, index, etc.\n"
   ]
  },
  {
   "cell_type": "markdown",
   "id": "7da62171",
   "metadata": {},
   "source": [
    "### 🧩 Step 3: Create an Index to Improve the Plan\n",
    "\n",
    "Let’s add an index on the customer column and rerun the plan."
   ]
  },
  {
   "cell_type": "code",
   "execution_count": 4,
   "id": "c27ba22e",
   "metadata": {},
   "outputs": [],
   "source": [
    "cursor.execute(\"CREATE INDEX idx_customer ON sales(customer)\")\n",
    "conn.commit()"
   ]
  },
  {
   "cell_type": "markdown",
   "id": "d32fe3c6",
   "metadata": {},
   "source": [
    "Now run the same EXPLAIN QUERY PLAN:"
   ]
  },
  {
   "cell_type": "code",
   "execution_count": 5,
   "id": "2fd0a063",
   "metadata": {},
   "outputs": [
    {
     "name": "stdout",
     "output_type": "stream",
     "text": [
      "(3, 0, 62, 'SEARCH sales USING INDEX idx_customer (customer=?)')\n"
     ]
    }
   ],
   "source": [
    "cursor.execute(f\"EXPLAIN QUERY PLAN {query}\")\n",
    "for row in cursor.fetchall():\n",
    "    print(row)"
   ]
  },
  {
   "cell_type": "markdown",
   "id": "d29d5b10",
   "metadata": {},
   "source": [
    "Now SQLite knows how the customer values are structured (via the index), it avoids the table scan. This is a key optimization concept."
   ]
  },
  {
   "cell_type": "markdown",
   "id": "9330d187",
   "metadata": {},
   "source": [
    "### 🛠️ Step 4: Use EXPLAIN to See Bytecode\n",
    "\n",
    "Let’s now explore what `EXPLAIN` does. This is more advanced and shows what SQLite will do step-by-step *internally* when running a query."
   ]
  },
  {
   "cell_type": "code",
   "execution_count": 6,
   "id": "b2069d5c",
   "metadata": {},
   "outputs": [
    {
     "name": "stdout",
     "output_type": "stream",
     "text": [
      "(0, 'Init', 0, 16, 0, None, 0, None)\n",
      "(1, 'OpenRead', 0, 2, 0, '5', 0, None)\n",
      "(2, 'OpenRead', 1, 10, 0, 'k(2,,)', 2, None)\n",
      "(3, 'String8', 0, 1, 0, 'Bob', 0, None)\n",
      "(4, 'SeekGE', 1, 15, 1, '1', 0, None)\n",
      "(5, 'IdxGT', 1, 15, 1, '1', 0, None)\n",
      "(6, 'DeferredSeek', 1, 0, 0, None, 0, None)\n",
      "(7, 'IdxRowid', 1, 2, 0, None, 0, None)\n",
      "(8, 'Column', 1, 0, 3, None, 0, None)\n",
      "(9, 'Column', 0, 2, 4, None, 0, None)\n"
     ]
    }
   ],
   "source": [
    "cursor.execute(f\"EXPLAIN {query}\")\n",
    "bytecode = cursor.fetchall()\n",
    "\n",
    "# Print first 10 instructions\n",
    "for row in bytecode[:10]:\n",
    "    print(row)"
   ]
  },
  {
   "cell_type": "markdown",
   "id": "b02a32f7",
   "metadata": {},
   "source": [
    "**🧠 What does this output mean?**\n",
    "\n",
    "```\n",
    "(addr, opcode, p1, p2, p3, p4, p5)\n",
    "```\n",
    "\n",
    "* **addr:** Address of the instruction in the bytecode\n",
    "* **opcode:** The operation to be performed (e.g., `OpenRead`, `Column`, `SeekGE`, etc.)\n",
    "* **p1-p5:** Operands used by the opcode -- meaning depends on the operation\n",
    "* **p4:** Extra text info (e.g., values, column names)\n",
    "\n",
    "**🧾 Example breakdown**\n",
    "\n",
    "```\n",
    "(0, 'Init', 0, 10, 0, '', '')\n",
    "(1, 'OpenRead', 0, 2, -1, 'sales', '')\n",
    "(2, 'String8', 0, 1, 0, 'Bob', '')\n",
    "(3, 'SeekGE', 0, 5, 1, '', '')\n",
    "```\n",
    "\n",
    "* **Init:** Starts the program\n",
    "* **OpenRead:** Opens the sales table for reading\n",
    "* **String8:** Loads the string 'Bob' into a register\n",
    "* **SeekGE:** Moves to the first row with customer >= 'Bob' using the index (if exists)\n",
    "\n",
    "🔬 This is how SQLite interprets the SQL into a series of internal instructions.\n",
    "\n",
    "Should you use this? Maybe. But this is too advanced.\n"
   ]
  },
  {
   "cell_type": "markdown",
   "id": "52f9d8d7",
   "metadata": {},
   "source": [
    "## 🧠 SQLite Query Planning Summary\n",
    "\n",
    "EXPLAIN QUERY PLAN\n",
    "\n",
    "- ✅ Shows whether SQLite will scan the table or use an index\n",
    "- ✅ Easy to interpret\n",
    "- ✅ Best tool for query optimization and teaching\n",
    "\n",
    "EXPLAIN\n",
    "\n",
    "- 🧠 Shows virtual machine (VM) bytecode steps\n",
    "- ❌ Not beginner-friendly\n",
    "- 🧪 Useful for internal debugging or performance analysis\n",
    "\n",
    "**💡 Key Insight:** Indexes change how SQLite executes queries. Use EXPLAIN QUERY PLAN to confirm your queries are efficient!\n"
   ]
  },
  {
   "cell_type": "markdown",
   "id": "721788ee",
   "metadata": {},
   "source": []
  }
 ],
 "metadata": {
  "kernelspec": {
   "display_name": ".venv",
   "language": "python",
   "name": "python3"
  },
  "language_info": {
   "codemirror_mode": {
    "name": "ipython",
    "version": 3
   },
   "file_extension": ".py",
   "mimetype": "text/x-python",
   "name": "python",
   "nbconvert_exporter": "python",
   "pygments_lexer": "ipython3",
   "version": "3.13.3"
  }
 },
 "nbformat": 4,
 "nbformat_minor": 5
}