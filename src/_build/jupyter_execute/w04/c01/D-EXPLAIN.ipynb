{
 "cells": [
  {
   "cell_type": "markdown",
   "id": "530a536b",
   "metadata": {},
   "source": [
    "# EXPLAIN and EXPLAIN QUERY PLAN"
   ]
  },
  {
   "cell_type": "markdown",
   "id": "a2a588e0",
   "metadata": {},
   "source": [
    "## 🧠 What is EXPLAIN?\n",
    "\n",
    "SQLite provides two commands to understand how your queries will be executed:\n",
    "\n",
    "* **EXPLAIN QUERY PLAN:** Gives a high-level overview of how a query will be run\n",
    "* **EXPLAIN:** Provides a **low-level**, detailed breakdown of the query execution plan\n",
    "\n",
    "In most cases, you will use `EXPLAIN QUERY PLAN` for query optimization and teaching.\n",
    "\n",
    "`EXPLAIN` is more technical and useful if you’re digging into SQLite internals.\n"
   ]
  },
  {
   "cell_type": "markdown",
   "id": "97ccc136",
   "metadata": {},
   "source": [
    "## 🧱 Step 1: Create a Table and Populate It\n",
    "\n",
    "We’ll create a small sales table with some customer purchase data to use in our examples."
   ]
  },
  {
   "cell_type": "code",
   "execution_count": 1,
   "id": "c8d4d6c5",
   "metadata": {},
   "outputs": [],
   "source": [
    "import sqlite3\n",
    "import random\n",
    "from datetime import datetime, timedelta\n",
    "\n",
    "# Start a fresh in-memory database\n",
    "conn = sqlite3.connect(\":memory:\")\n",
    "cursor = conn.cursor()\n",
    "\n",
    "# Create a simple table for purchases\n",
    "cursor.execute('''\n",
    "CREATE TABLE sales (\n",
    "    id INTEGER PRIMARY KEY AUTOINCREMENT,\n",
    "    customer TEXT,\n",
    "    product TEXT,\n",
    "    sale_date TEXT,\n",
    "    amount REAL\n",
    ")\n",
    "''')\n",
    "\n",
    "# Fill the table with 500 sample records\n",
    "customers = ['Alice', 'Bob', 'Carol', 'David', 'Eve']\n",
    "products = ['Board Game', 'Dice Set', 'Card Sleeves']\n",
    "\n",
    "for _ in range(500):\n",
    "    customer = random.choice(customers)\n",
    "    product = random.choice(products)\n",
    "    days_ago = random.randint(0, 100)\n",
    "    date = (datetime.now() - timedelta(days=days_ago)).strftime('%Y-%m-%d')\n",
    "    amount = round(random.uniform(10, 80), 2)\n",
    "    cursor.execute(\"INSERT INTO sales (customer, product, sale_date, amount) VALUES (?, ?, ?, ?)\",\n",
    "                   (customer, product, date, amount))\n",
    "\n",
    "conn.commit()"
   ]
  },
  {
   "cell_type": "markdown",
   "id": "293d53d8",
   "metadata": {},
   "source": [
    "✅ Main point: You should understand how indexes affect performance. But before we create any indexes, let’s see how SQLite plans queries with no help."
   ]
  },
  {
   "cell_type": "markdown",
   "id": "4b888818",
   "metadata": {},
   "source": [
    "## 🔍 Step 2: Run a Query and Inspect the Plan (No Index Yet)\n",
    "\n",
    "We’ll inspect a query that searches for rows by customer. First, we run the query as usual:"
   ]
  },
  {
   "cell_type": "code",
   "execution_count": 2,
   "id": "637357d8",
   "metadata": {},
   "outputs": [
    {
     "data": {
      "text/plain": [
       "[(8, 'Bob', 'Card Sleeves', '2025-01-28', 45.61),\n",
       " (11, 'Bob', 'Card Sleeves', '2025-04-21', 19.55),\n",
       " (12, 'Bob', 'Dice Set', '2025-01-24', 78.93),\n",
       " (13, 'Bob', 'Dice Set', '2025-03-21', 21.81),\n",
       " (25, 'Bob', 'Card Sleeves', '2025-04-08', 26.14),\n",
       " (43, 'Bob', 'Card Sleeves', '2025-03-04', 54.76),\n",
       " (47, 'Bob', 'Board Game', '2025-04-02', 52.05),\n",
       " (53, 'Bob', 'Card Sleeves', '2025-04-09', 34.95),\n",
       " (56, 'Bob', 'Dice Set', '2025-02-07', 65.43),\n",
       " (57, 'Bob', 'Dice Set', '2025-01-21', 64.38),\n",
       " (63, 'Bob', 'Card Sleeves', '2025-04-21', 64.02),\n",
       " (66, 'Bob', 'Card Sleeves', '2025-01-26', 46.11),\n",
       " (69, 'Bob', 'Board Game', '2025-02-18', 57.84),\n",
       " (72, 'Bob', 'Board Game', '2025-04-26', 54.87),\n",
       " (80, 'Bob', 'Dice Set', '2025-02-13', 78.61),\n",
       " (84, 'Bob', 'Card Sleeves', '2025-04-16', 10.03),\n",
       " (85, 'Bob', 'Card Sleeves', '2025-02-10', 11.42),\n",
       " (86, 'Bob', 'Dice Set', '2025-04-17', 77.9),\n",
       " (90, 'Bob', 'Card Sleeves', '2025-02-23', 52.6),\n",
       " (93, 'Bob', 'Card Sleeves', '2025-04-13', 57.04),\n",
       " (106, 'Bob', 'Board Game', '2025-02-09', 62.84),\n",
       " (118, 'Bob', 'Dice Set', '2025-04-27', 56.37),\n",
       " (123, 'Bob', 'Dice Set', '2025-03-08', 51.89),\n",
       " (126, 'Bob', 'Card Sleeves', '2025-02-12', 50.61),\n",
       " (130, 'Bob', 'Card Sleeves', '2025-04-11', 18.8),\n",
       " (131, 'Bob', 'Card Sleeves', '2025-02-24', 79.57),\n",
       " (140, 'Bob', 'Dice Set', '2025-04-02', 54.25),\n",
       " (141, 'Bob', 'Board Game', '2025-03-13', 60.25),\n",
       " (156, 'Bob', 'Card Sleeves', '2025-04-26', 27.52),\n",
       " (168, 'Bob', 'Board Game', '2025-03-27', 38.45),\n",
       " (170, 'Bob', 'Board Game', '2025-04-04', 58.06),\n",
       " (174, 'Bob', 'Board Game', '2025-04-25', 12.71),\n",
       " (185, 'Bob', 'Dice Set', '2025-04-15', 74.2),\n",
       " (197, 'Bob', 'Dice Set', '2025-03-07', 32.69),\n",
       " (203, 'Bob', 'Card Sleeves', '2025-03-12', 33.66),\n",
       " (206, 'Bob', 'Card Sleeves', '2025-02-09', 54.96),\n",
       " (210, 'Bob', 'Board Game', '2025-04-21', 59.45),\n",
       " (219, 'Bob', 'Board Game', '2025-02-05', 27.47),\n",
       " (220, 'Bob', 'Board Game', '2025-03-24', 15.25),\n",
       " (223, 'Bob', 'Board Game', '2025-02-27', 65.97),\n",
       " (230, 'Bob', 'Board Game', '2025-02-16', 37.66),\n",
       " (232, 'Bob', 'Dice Set', '2025-04-03', 60.46),\n",
       " (234, 'Bob', 'Board Game', '2025-01-23', 26.24),\n",
       " (235, 'Bob', 'Dice Set', '2025-02-01', 79.44),\n",
       " (247, 'Bob', 'Card Sleeves', '2025-01-19', 47.96),\n",
       " (250, 'Bob', 'Board Game', '2025-04-05', 28.48),\n",
       " (256, 'Bob', 'Dice Set', '2025-03-05', 22.7),\n",
       " (269, 'Bob', 'Card Sleeves', '2025-04-12', 58.79),\n",
       " (273, 'Bob', 'Board Game', '2025-03-21', 11.93),\n",
       " (276, 'Bob', 'Dice Set', '2025-02-03', 64.59),\n",
       " (286, 'Bob', 'Dice Set', '2025-02-05', 34.78),\n",
       " (287, 'Bob', 'Card Sleeves', '2025-03-24', 46.91),\n",
       " (289, 'Bob', 'Board Game', '2025-04-06', 25.6),\n",
       " (295, 'Bob', 'Card Sleeves', '2025-02-10', 58.95),\n",
       " (296, 'Bob', 'Card Sleeves', '2025-02-12', 61.59),\n",
       " (304, 'Bob', 'Dice Set', '2025-04-28', 49.03),\n",
       " (309, 'Bob', 'Card Sleeves', '2025-02-08', 73.47),\n",
       " (327, 'Bob', 'Dice Set', '2025-04-23', 47.51),\n",
       " (328, 'Bob', 'Dice Set', '2025-02-08', 53.36),\n",
       " (329, 'Bob', 'Board Game', '2025-02-06', 19.97),\n",
       " (336, 'Bob', 'Board Game', '2025-03-26', 27.29),\n",
       " (343, 'Bob', 'Dice Set', '2025-04-19', 55.51),\n",
       " (344, 'Bob', 'Dice Set', '2025-03-27', 49.69),\n",
       " (345, 'Bob', 'Board Game', '2025-04-10', 74.57),\n",
       " (352, 'Bob', 'Dice Set', '2025-02-07', 49.59),\n",
       " (354, 'Bob', 'Dice Set', '2025-03-08', 39.92),\n",
       " (356, 'Bob', 'Card Sleeves', '2025-04-05', 71.39),\n",
       " (357, 'Bob', 'Dice Set', '2025-03-20', 34.97),\n",
       " (363, 'Bob', 'Board Game', '2025-03-11', 30.43),\n",
       " (366, 'Bob', 'Card Sleeves', '2025-03-07', 41.33),\n",
       " (386, 'Bob', 'Dice Set', '2025-03-24', 74.76),\n",
       " (391, 'Bob', 'Board Game', '2025-04-27', 74.88),\n",
       " (417, 'Bob', 'Board Game', '2025-01-20', 44.15),\n",
       " (421, 'Bob', 'Board Game', '2025-01-23', 16.23),\n",
       " (428, 'Bob', 'Board Game', '2025-03-10', 66.83),\n",
       " (430, 'Bob', 'Board Game', '2025-04-10', 58.05),\n",
       " (431, 'Bob', 'Card Sleeves', '2025-03-16', 71.43),\n",
       " (433, 'Bob', 'Board Game', '2025-02-22', 75.03),\n",
       " (450, 'Bob', 'Card Sleeves', '2025-02-12', 70.26),\n",
       " (451, 'Bob', 'Dice Set', '2025-03-21', 30.41),\n",
       " (452, 'Bob', 'Board Game', '2025-03-25', 52.05),\n",
       " (458, 'Bob', 'Board Game', '2025-01-30', 42.24),\n",
       " (459, 'Bob', 'Board Game', '2025-04-09', 50.06),\n",
       " (461, 'Bob', 'Board Game', '2025-04-07', 49.72),\n",
       " (468, 'Bob', 'Dice Set', '2025-03-03', 70.14),\n",
       " (470, 'Bob', 'Card Sleeves', '2025-04-05', 44.83),\n",
       " (482, 'Bob', 'Card Sleeves', '2025-01-30', 44.21),\n",
       " (485, 'Bob', 'Card Sleeves', '2025-02-24', 57.44),\n",
       " (488, 'Bob', 'Board Game', '2025-03-29', 26.62),\n",
       " (497, 'Bob', 'Dice Set', '2025-01-29', 75.17)]"
      ]
     },
     "execution_count": 2,
     "metadata": {},
     "output_type": "execute_result"
    }
   ],
   "source": [
    "query = \"SELECT * FROM sales WHERE customer = 'Bob'\"\n",
    "cursor.execute(query)\n",
    "cursor.fetchall()"
   ]
  },
  {
   "cell_type": "markdown",
   "id": "591b615a",
   "metadata": {},
   "source": [
    "Now, let’s use `EXPLAIN QUERY PLAN` to see how SQLite will execute that same query:"
   ]
  },
  {
   "cell_type": "code",
   "execution_count": 3,
   "id": "4e765df5",
   "metadata": {},
   "outputs": [
    {
     "name": "stdout",
     "output_type": "stream",
     "text": [
      "(2, 0, 216, 'SCAN sales')\n"
     ]
    }
   ],
   "source": [
    "cursor.execute(f\"EXPLAIN QUERY PLAN {query}\")\n",
    "for row in cursor.fetchall():\n",
    "    print(row)"
   ]
  },
  {
   "cell_type": "markdown",
   "id": "7911ce78",
   "metadata": {},
   "source": [
    "This means SQLite is doing a full table scan — it has to check every row to find customers named “Bob”."
   ]
  },
  {
   "cell_type": "markdown",
   "id": "686b9441",
   "metadata": {},
   "source": [
    "### 👀 Interpretation\n",
    "\n",
    "Output format:\n",
    "\n",
    "```\n",
    "(<selectid>, <order>, <from>, <detail>)\n",
    "```\n",
    "\n",
    "* **selectid:** ID of the `SELECT` query (0 for main query, >0 for subqueries)\n",
    "* **order:** Evaluation order of the `FROM` clause elements\n",
    "* **from:** Table index in the `FROM` clause (0 if only one table)\n",
    "* **detail:** How SQLite will access the data: scan, index, etc.\n"
   ]
  },
  {
   "cell_type": "markdown",
   "id": "7da62171",
   "metadata": {},
   "source": [
    "### 🧩 Step 3: Create an Index to Improve the Plan\n",
    "\n",
    "Let’s add an index on the customer column and rerun the plan."
   ]
  },
  {
   "cell_type": "code",
   "execution_count": 4,
   "id": "c27ba22e",
   "metadata": {},
   "outputs": [],
   "source": [
    "cursor.execute(\"CREATE INDEX idx_customer ON sales(customer)\")\n",
    "conn.commit()"
   ]
  },
  {
   "cell_type": "markdown",
   "id": "d32fe3c6",
   "metadata": {},
   "source": [
    "Now run the same EXPLAIN QUERY PLAN:"
   ]
  },
  {
   "cell_type": "code",
   "execution_count": 5,
   "id": "2fd0a063",
   "metadata": {},
   "outputs": [
    {
     "name": "stdout",
     "output_type": "stream",
     "text": [
      "(3, 0, 62, 'SEARCH sales USING INDEX idx_customer (customer=?)')\n"
     ]
    }
   ],
   "source": [
    "cursor.execute(f\"EXPLAIN QUERY PLAN {query}\")\n",
    "for row in cursor.fetchall():\n",
    "    print(row)"
   ]
  },
  {
   "cell_type": "markdown",
   "id": "d29d5b10",
   "metadata": {},
   "source": [
    "Now SQLite knows how the customer values are structured (via the index), it avoids the table scan. This is a key optimization concept."
   ]
  },
  {
   "cell_type": "markdown",
   "id": "9330d187",
   "metadata": {},
   "source": [
    "### 🛠️ Step 4: Use EXPLAIN to See Bytecode\n",
    "\n",
    "Let’s now explore what `EXPLAIN` does. This is more advanced and shows what SQLite will do step-by-step *internally* when running a query."
   ]
  },
  {
   "cell_type": "code",
   "execution_count": 6,
   "id": "b2069d5c",
   "metadata": {},
   "outputs": [
    {
     "name": "stdout",
     "output_type": "stream",
     "text": [
      "(0, 'Init', 0, 16, 0, None, 0, None)\n",
      "(1, 'OpenRead', 0, 2, 0, '5', 0, None)\n",
      "(2, 'OpenRead', 1, 10, 0, 'k(2,,)', 2, None)\n",
      "(3, 'String8', 0, 1, 0, 'Bob', 0, None)\n",
      "(4, 'SeekGE', 1, 15, 1, '1', 0, None)\n",
      "(5, 'IdxGT', 1, 15, 1, '1', 0, None)\n",
      "(6, 'DeferredSeek', 1, 0, 0, None, 0, None)\n",
      "(7, 'IdxRowid', 1, 2, 0, None, 0, None)\n",
      "(8, 'Column', 1, 0, 3, None, 0, None)\n",
      "(9, 'Column', 0, 2, 4, None, 0, None)\n"
     ]
    }
   ],
   "source": [
    "cursor.execute(f\"EXPLAIN {query}\")\n",
    "bytecode = cursor.fetchall()\n",
    "\n",
    "# Print first 10 instructions\n",
    "for row in bytecode[:10]:\n",
    "    print(row)"
   ]
  },
  {
   "cell_type": "markdown",
   "id": "b02a32f7",
   "metadata": {},
   "source": [
    "**🧠 What does this output mean?**\n",
    "\n",
    "```\n",
    "(addr, opcode, p1, p2, p3, p4, p5)\n",
    "```\n",
    "\n",
    "* **addr:** Address of the instruction in the bytecode\n",
    "* **opcode:** The operation to be performed (e.g., `OpenRead`, `Column`, `SeekGE`, etc.)\n",
    "* **p1-p5:** Operands used by the opcode -- meaning depends on the operation\n",
    "* **p4:** Extra text info (e.g., values, column names)\n",
    "\n",
    "**🧾 Example breakdown**\n",
    "\n",
    "```\n",
    "(0, 'Init', 0, 10, 0, '', '')\n",
    "(1, 'OpenRead', 0, 2, -1, 'sales', '')\n",
    "(2, 'String8', 0, 1, 0, 'Bob', '')\n",
    "(3, 'SeekGE', 0, 5, 1, '', '')\n",
    "```\n",
    "\n",
    "* **Init:** Starts the program\n",
    "* **OpenRead:** Opens the sales table for reading\n",
    "* **String8:** Loads the string 'Bob' into a register\n",
    "* **SeekGE:** Moves to the first row with customer >= 'Bob' using the index (if exists)\n",
    "\n",
    "🔬 This is how SQLite interprets the SQL into a series of internal instructions.\n",
    "\n",
    "Should you use this? Maybe. But this is too advanced.\n"
   ]
  },
  {
   "cell_type": "markdown",
   "id": "52f9d8d7",
   "metadata": {},
   "source": [
    "## 🧠 SQLite Query Planning Summary\n",
    "\n",
    "EXPLAIN QUERY PLAN\n",
    "\n",
    "- ✅ Shows whether SQLite will scan the table or use an index\n",
    "- ✅ Easy to interpret\n",
    "- ✅ Best tool for query optimization and teaching\n",
    "\n",
    "EXPLAIN\n",
    "\n",
    "- 🧠 Shows virtual machine (VM) bytecode steps\n",
    "- ❌ Not beginner-friendly\n",
    "- 🧪 Useful for internal debugging or performance analysis\n",
    "\n",
    "**💡 Key Insight:** Indexes change how SQLite executes queries. Use EXPLAIN QUERY PLAN to confirm your queries are efficient!\n"
   ]
  },
  {
   "cell_type": "markdown",
   "id": "721788ee",
   "metadata": {},
   "source": []
  }
 ],
 "metadata": {
  "kernelspec": {
   "display_name": ".venv",
   "language": "python",
   "name": "python3"
  },
  "language_info": {
   "codemirror_mode": {
    "name": "ipython",
    "version": 3
   },
   "file_extension": ".py",
   "mimetype": "text/x-python",
   "name": "python",
   "nbconvert_exporter": "python",
   "pygments_lexer": "ipython3",
   "version": "3.13.3"
  }
 },
 "nbformat": 4,
 "nbformat_minor": 5
}