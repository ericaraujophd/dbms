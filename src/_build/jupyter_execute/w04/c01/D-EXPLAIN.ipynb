{
 "cells": [
  {
   "cell_type": "markdown",
   "id": "530a536b",
   "metadata": {},
   "source": [
    "# EXPLAIN and EXPLAIN QUERY PLAN"
   ]
  },
  {
   "cell_type": "markdown",
   "id": "a2a588e0",
   "metadata": {},
   "source": [
    "## 🧠 What is EXPLAIN?\n",
    "\n",
    "SQLite provides two commands to understand how your queries will be executed:\n",
    "\n",
    "* **EXPLAIN QUERY PLAN:** Gives a high-level overview of how a query will be run\n",
    "* **EXPLAIN:** Provides a **low-level**, detailed breakdown of the query execution plan\n",
    "\n",
    "In most cases, you will use `EXPLAIN QUERY PLAN` for query optimization and teaching.\n",
    "\n",
    "`EXPLAIN` is more technical and useful if you’re digging into SQLite internals.\n"
   ]
  },
  {
   "cell_type": "markdown",
   "id": "97ccc136",
   "metadata": {},
   "source": [
    "## 🧱 Step 1: Create a Table and Populate It\n",
    "\n",
    "We’ll create a small sales table with some customer purchase data to use in our examples."
   ]
  },
  {
   "cell_type": "code",
   "execution_count": 1,
   "id": "c8d4d6c5",
   "metadata": {},
   "outputs": [],
   "source": [
    "import sqlite3\n",
    "import random\n",
    "from datetime import datetime, timedelta\n",
    "\n",
    "# Start a fresh in-memory database\n",
    "conn = sqlite3.connect(\":memory:\")\n",
    "cursor = conn.cursor()\n",
    "\n",
    "# Create a simple table for purchases\n",
    "cursor.execute('''\n",
    "CREATE TABLE sales (\n",
    "    id INTEGER PRIMARY KEY AUTOINCREMENT,\n",
    "    customer TEXT,\n",
    "    product TEXT,\n",
    "    sale_date TEXT,\n",
    "    amount REAL\n",
    ")\n",
    "''')\n",
    "\n",
    "# Fill the table with 500 sample records\n",
    "customers = ['Alice', 'Bob', 'Carol', 'David', 'Eve']\n",
    "products = ['Board Game', 'Dice Set', 'Card Sleeves']\n",
    "\n",
    "for _ in range(500):\n",
    "    customer = random.choice(customers)\n",
    "    product = random.choice(products)\n",
    "    days_ago = random.randint(0, 100)\n",
    "    date = (datetime.now() - timedelta(days=days_ago)).strftime('%Y-%m-%d')\n",
    "    amount = round(random.uniform(10, 80), 2)\n",
    "    cursor.execute(\"INSERT INTO sales (customer, product, sale_date, amount) VALUES (?, ?, ?, ?)\",\n",
    "                   (customer, product, date, amount))\n",
    "\n",
    "conn.commit()"
   ]
  },
  {
   "cell_type": "markdown",
   "id": "293d53d8",
   "metadata": {},
   "source": [
    "✅ Main point: You should understand how indexes affect performance. But before we create any indexes, let’s see how SQLite plans queries with no help."
   ]
  },
  {
   "cell_type": "markdown",
   "id": "4b888818",
   "metadata": {},
   "source": [
    "## 🔍 Step 2: Run a Query and Inspect the Plan (No Index Yet)\n",
    "\n",
    "We’ll inspect a query that searches for rows by customer. First, we run the query as usual:"
   ]
  },
  {
   "cell_type": "code",
   "execution_count": 2,
   "id": "637357d8",
   "metadata": {},
   "outputs": [
    {
     "data": {
      "text/plain": [
       "[(4, 'Bob', 'Dice Set', '2025-03-19', 42.82),\n",
       " (16, 'Bob', 'Card Sleeves', '2025-02-26', 78.31),\n",
       " (22, 'Bob', 'Card Sleeves', '2025-04-13', 68.09),\n",
       " (24, 'Bob', 'Board Game', '2025-02-01', 49.51),\n",
       " (27, 'Bob', 'Board Game', '2025-02-08', 52.1),\n",
       " (49, 'Bob', 'Dice Set', '2025-04-02', 48.37),\n",
       " (63, 'Bob', 'Board Game', '2025-02-21', 16.19),\n",
       " (75, 'Bob', 'Dice Set', '2025-01-31', 39.8),\n",
       " (78, 'Bob', 'Card Sleeves', '2025-03-26', 51.98),\n",
       " (81, 'Bob', 'Card Sleeves', '2025-01-29', 79.72),\n",
       " (83, 'Bob', 'Board Game', '2025-01-13', 19.02),\n",
       " (85, 'Bob', 'Dice Set', '2025-02-02', 50.8),\n",
       " (94, 'Bob', 'Board Game', '2025-02-28', 26.89),\n",
       " (115, 'Bob', 'Board Game', '2025-01-25', 73.84),\n",
       " (120, 'Bob', 'Board Game', '2025-04-05', 37.2),\n",
       " (126, 'Bob', 'Dice Set', '2025-02-06', 11.18),\n",
       " (127, 'Bob', 'Board Game', '2025-01-14', 79.27),\n",
       " (134, 'Bob', 'Dice Set', '2025-02-09', 53.14),\n",
       " (139, 'Bob', 'Card Sleeves', '2025-01-07', 31.24),\n",
       " (140, 'Bob', 'Card Sleeves', '2025-02-12', 13.87),\n",
       " (142, 'Bob', 'Board Game', '2025-01-22', 65.57),\n",
       " (162, 'Bob', 'Dice Set', '2025-02-02', 39.42),\n",
       " (167, 'Bob', 'Card Sleeves', '2025-03-16', 73.87),\n",
       " (171, 'Bob', 'Board Game', '2025-01-08', 28.33),\n",
       " (173, 'Bob', 'Card Sleeves', '2025-02-21', 53.07),\n",
       " (179, 'Bob', 'Card Sleeves', '2025-01-19', 34.2),\n",
       " (181, 'Bob', 'Card Sleeves', '2025-02-20', 21.66),\n",
       " (186, 'Bob', 'Board Game', '2025-01-09', 47.51),\n",
       " (192, 'Bob', 'Board Game', '2025-01-07', 22.5),\n",
       " (193, 'Bob', 'Card Sleeves', '2025-01-23', 78.78),\n",
       " (195, 'Bob', 'Board Game', '2025-03-11', 36.82),\n",
       " (196, 'Bob', 'Card Sleeves', '2025-02-21', 47.51),\n",
       " (201, 'Bob', 'Dice Set', '2025-03-12', 26.48),\n",
       " (203, 'Bob', 'Board Game', '2025-01-22', 38.95),\n",
       " (212, 'Bob', 'Dice Set', '2025-02-16', 73.65),\n",
       " (222, 'Bob', 'Board Game', '2025-01-26', 18.53),\n",
       " (224, 'Bob', 'Dice Set', '2025-01-23', 52.54),\n",
       " (238, 'Bob', 'Dice Set', '2025-02-11', 26.48),\n",
       " (241, 'Bob', 'Board Game', '2025-03-21', 31.92),\n",
       " (245, 'Bob', 'Card Sleeves', '2025-02-28', 47.92),\n",
       " (252, 'Bob', 'Board Game', '2025-01-20', 59.85),\n",
       " (255, 'Bob', 'Board Game', '2025-02-11', 27.95),\n",
       " (267, 'Bob', 'Dice Set', '2025-03-25', 19.42),\n",
       " (268, 'Bob', 'Card Sleeves', '2025-02-09', 10.91),\n",
       " (274, 'Bob', 'Dice Set', '2025-04-11', 56.58),\n",
       " (275, 'Bob', 'Card Sleeves', '2025-02-17', 48.3),\n",
       " (276, 'Bob', 'Dice Set', '2025-04-08', 58.26),\n",
       " (277, 'Bob', 'Dice Set', '2025-02-09', 76.58),\n",
       " (281, 'Bob', 'Dice Set', '2025-01-08', 35.31),\n",
       " (282, 'Bob', 'Board Game', '2025-03-17', 67.15),\n",
       " (283, 'Bob', 'Dice Set', '2025-01-31', 37.96),\n",
       " (292, 'Bob', 'Board Game', '2025-03-12', 44.76),\n",
       " (295, 'Bob', 'Dice Set', '2025-03-14', 55.32),\n",
       " (307, 'Bob', 'Board Game', '2025-03-19', 19.58),\n",
       " (310, 'Bob', 'Card Sleeves', '2025-02-13', 29.7),\n",
       " (315, 'Bob', 'Card Sleeves', '2025-02-12', 12.06),\n",
       " (316, 'Bob', 'Board Game', '2025-02-09', 34.04),\n",
       " (322, 'Bob', 'Card Sleeves', '2025-02-21', 55.32),\n",
       " (340, 'Bob', 'Dice Set', '2025-03-17', 59.18),\n",
       " (342, 'Bob', 'Dice Set', '2025-03-21', 76.62),\n",
       " (365, 'Bob', 'Board Game', '2025-02-23', 40.46),\n",
       " (366, 'Bob', 'Card Sleeves', '2025-01-12', 58.5),\n",
       " (367, 'Bob', 'Board Game', '2025-01-30', 19.38),\n",
       " (369, 'Bob', 'Board Game', '2025-01-17', 10.21),\n",
       " (374, 'Bob', 'Card Sleeves', '2025-03-30', 59.34),\n",
       " (379, 'Bob', 'Card Sleeves', '2025-03-26', 38.06),\n",
       " (384, 'Bob', 'Dice Set', '2025-02-13', 33.18),\n",
       " (386, 'Bob', 'Board Game', '2025-03-06', 13.49),\n",
       " (396, 'Bob', 'Board Game', '2025-04-02', 75.97),\n",
       " (400, 'Bob', 'Card Sleeves', '2025-01-05', 13.51),\n",
       " (415, 'Bob', 'Board Game', '2025-01-19', 60.08),\n",
       " (418, 'Bob', 'Board Game', '2025-03-31', 78.98),\n",
       " (432, 'Bob', 'Dice Set', '2025-04-03', 58.3),\n",
       " (436, 'Bob', 'Dice Set', '2025-01-18', 64.3),\n",
       " (437, 'Bob', 'Dice Set', '2025-03-19', 25.21),\n",
       " (440, 'Bob', 'Dice Set', '2025-01-03', 13.12),\n",
       " (441, 'Bob', 'Board Game', '2025-04-10', 71.48),\n",
       " (442, 'Bob', 'Card Sleeves', '2025-02-16', 11.67),\n",
       " (445, 'Bob', 'Board Game', '2025-02-01', 26.65),\n",
       " (449, 'Bob', 'Dice Set', '2025-02-27', 54.84),\n",
       " (458, 'Bob', 'Dice Set', '2025-01-31', 60.77),\n",
       " (460, 'Bob', 'Card Sleeves', '2025-04-03', 72.37),\n",
       " (462, 'Bob', 'Dice Set', '2025-01-16', 59.18),\n",
       " (463, 'Bob', 'Board Game', '2025-02-14', 28.36),\n",
       " (464, 'Bob', 'Board Game', '2025-03-25', 32.97),\n",
       " (472, 'Bob', 'Card Sleeves', '2025-03-02', 31.13),\n",
       " (484, 'Bob', 'Dice Set', '2025-01-09', 13.26),\n",
       " (485, 'Bob', 'Board Game', '2025-03-23', 68.75),\n",
       " (486, 'Bob', 'Dice Set', '2025-03-17', 36.77),\n",
       " (491, 'Bob', 'Board Game', '2025-03-28', 60.27),\n",
       " (494, 'Bob', 'Card Sleeves', '2025-02-09', 18.78),\n",
       " (496, 'Bob', 'Card Sleeves', '2025-04-12', 24.43),\n",
       " (498, 'Bob', 'Dice Set', '2025-03-24', 30.72)]"
      ]
     },
     "execution_count": 2,
     "metadata": {},
     "output_type": "execute_result"
    }
   ],
   "source": [
    "query = \"SELECT * FROM sales WHERE customer = 'Bob'\"\n",
    "cursor.execute(query)\n",
    "cursor.fetchall()"
   ]
  },
  {
   "cell_type": "markdown",
   "id": "591b615a",
   "metadata": {},
   "source": [
    "Now, let’s use `EXPLAIN QUERY PLAN` to see how SQLite will execute that same query:"
   ]
  },
  {
   "cell_type": "code",
   "execution_count": 3,
   "id": "4e765df5",
   "metadata": {},
   "outputs": [
    {
     "name": "stdout",
     "output_type": "stream",
     "text": [
      "(2, 0, 216, 'SCAN sales')\n"
     ]
    }
   ],
   "source": [
    "cursor.execute(f\"EXPLAIN QUERY PLAN {query}\")\n",
    "for row in cursor.fetchall():\n",
    "    print(row)"
   ]
  },
  {
   "cell_type": "markdown",
   "id": "7911ce78",
   "metadata": {},
   "source": [
    "This means SQLite is doing a full table scan — it has to check every row to find customers named “Bob”."
   ]
  },
  {
   "cell_type": "markdown",
   "id": "686b9441",
   "metadata": {},
   "source": [
    "### 👀 Interpretation\n",
    "\n",
    "Output format:\n",
    "\n",
    "```\n",
    "(<selectid>, <order>, <from>, <detail>)\n",
    "```\n",
    "\n",
    "* **selectid:** ID of the `SELECT` query (0 for main query, >0 for subqueries)\n",
    "* **order:** Evaluation order of the `FROM` clause elements\n",
    "* **from:** Table index in the `FROM` clause (0 if only one table)\n",
    "* **detail:** How SQLite will access the data: scan, index, etc.\n"
   ]
  },
  {
   "cell_type": "markdown",
   "id": "7da62171",
   "metadata": {},
   "source": [
    "### 🧩 Step 3: Create an Index to Improve the Plan\n",
    "\n",
    "Let’s add an index on the customer column and rerun the plan."
   ]
  },
  {
   "cell_type": "code",
   "execution_count": 4,
   "id": "c27ba22e",
   "metadata": {},
   "outputs": [],
   "source": [
    "cursor.execute(\"CREATE INDEX idx_customer ON sales(customer)\")\n",
    "conn.commit()"
   ]
  },
  {
   "cell_type": "markdown",
   "id": "d32fe3c6",
   "metadata": {},
   "source": [
    "Now run the same EXPLAIN QUERY PLAN:"
   ]
  },
  {
   "cell_type": "code",
   "execution_count": 5,
   "id": "2fd0a063",
   "metadata": {},
   "outputs": [
    {
     "name": "stdout",
     "output_type": "stream",
     "text": [
      "(3, 0, 62, 'SEARCH sales USING INDEX idx_customer (customer=?)')\n"
     ]
    }
   ],
   "source": [
    "cursor.execute(f\"EXPLAIN QUERY PLAN {query}\")\n",
    "for row in cursor.fetchall():\n",
    "    print(row)"
   ]
  },
  {
   "cell_type": "markdown",
   "id": "d29d5b10",
   "metadata": {},
   "source": [
    "Now SQLite knows how the customer values are structured (via the index), it avoids the table scan. This is a key optimization concept."
   ]
  },
  {
   "cell_type": "markdown",
   "id": "9330d187",
   "metadata": {},
   "source": [
    "### 🛠️ Step 4: Use EXPLAIN to See Bytecode\n",
    "\n",
    "Let’s now explore what `EXPLAIN` does. This is more advanced and shows what SQLite will do step-by-step *internally* when running a query."
   ]
  },
  {
   "cell_type": "code",
   "execution_count": 6,
   "id": "b2069d5c",
   "metadata": {},
   "outputs": [
    {
     "name": "stdout",
     "output_type": "stream",
     "text": [
      "(0, 'Init', 0, 16, 0, None, 0, None)\n",
      "(1, 'OpenRead', 0, 2, 0, '5', 0, None)\n",
      "(2, 'OpenRead', 1, 10, 0, 'k(2,,)', 2, None)\n",
      "(3, 'String8', 0, 1, 0, 'Bob', 0, None)\n",
      "(4, 'SeekGE', 1, 15, 1, '1', 0, None)\n",
      "(5, 'IdxGT', 1, 15, 1, '1', 0, None)\n",
      "(6, 'DeferredSeek', 1, 0, 0, None, 0, None)\n",
      "(7, 'IdxRowid', 1, 2, 0, None, 0, None)\n",
      "(8, 'Column', 1, 0, 3, None, 0, None)\n",
      "(9, 'Column', 0, 2, 4, None, 0, None)\n"
     ]
    }
   ],
   "source": [
    "cursor.execute(f\"EXPLAIN {query}\")\n",
    "bytecode = cursor.fetchall()\n",
    "\n",
    "# Print first 10 instructions\n",
    "for row in bytecode[:10]:\n",
    "    print(row)"
   ]
  },
  {
   "cell_type": "markdown",
   "id": "b02a32f7",
   "metadata": {},
   "source": [
    "**🧠 What does this output mean?**\n",
    "\n",
    "```\n",
    "(addr, opcode, p1, p2, p3, p4, p5)\n",
    "```\n",
    "\n",
    "* **addr:** Address of the instruction in the bytecode\n",
    "* **opcode:** The operation to be performed (e.g., `OpenRead`, `Column`, `SeekGE`, etc.)\n",
    "* **p1-p5:** Operands used by the opcode -- meaning depends on the operation\n",
    "* **p4:** Extra text info (e.g., values, column names)\n",
    "\n",
    "**🧾 Example breakdown**\n",
    "\n",
    "```\n",
    "(0, 'Init', 0, 10, 0, '', '')\n",
    "(1, 'OpenRead', 0, 2, -1, 'sales', '')\n",
    "(2, 'String8', 0, 1, 0, 'Bob', '')\n",
    "(3, 'SeekGE', 0, 5, 1, '', '')\n",
    "```\n",
    "\n",
    "* **Init:** Starts the program\n",
    "* **OpenRead:** Opens the sales table for reading\n",
    "* **String8:** Loads the string 'Bob' into a register\n",
    "* **SeekGE:** Moves to the first row with customer >= 'Bob' using the index (if exists)\n",
    "\n",
    "🔬 This is how SQLite interprets the SQL into a series of internal instructions.\n",
    "\n",
    "Should you use this? Maybe. But this is too advanced.\n"
   ]
  },
  {
   "cell_type": "markdown",
   "id": "52f9d8d7",
   "metadata": {},
   "source": [
    "## 🧠 SQLite Query Planning Summary\n",
    "\n",
    "EXPLAIN QUERY PLAN\n",
    "\n",
    "- ✅ Shows whether SQLite will scan the table or use an index\n",
    "- ✅ Easy to interpret\n",
    "- ✅ Best tool for query optimization and teaching\n",
    "\n",
    "EXPLAIN\n",
    "\n",
    "- 🧠 Shows virtual machine (VM) bytecode steps\n",
    "- ❌ Not beginner-friendly\n",
    "- 🧪 Useful for internal debugging or performance analysis\n",
    "\n",
    "**💡 Key Insight:** Indexes change how SQLite executes queries. Use EXPLAIN QUERY PLAN to confirm your queries are efficient!\n"
   ]
  },
  {
   "cell_type": "markdown",
   "id": "721788ee",
   "metadata": {},
   "source": []
  }
 ],
 "metadata": {
  "kernelspec": {
   "display_name": ".venv",
   "language": "python",
   "name": "python3"
  },
  "language_info": {
   "codemirror_mode": {
    "name": "ipython",
    "version": 3
   },
   "file_extension": ".py",
   "mimetype": "text/x-python",
   "name": "python",
   "nbconvert_exporter": "python",
   "pygments_lexer": "ipython3",
   "version": "3.13.3"
  }
 },
 "nbformat": 4,
 "nbformat_minor": 5
}