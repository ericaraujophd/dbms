{
 "cells": [
  {
   "cell_type": "markdown",
   "id": "530a536b",
   "metadata": {},
   "source": [
    "# EXPLAIN and EXPLAIN QUERY PLAN"
   ]
  },
  {
   "cell_type": "markdown",
   "id": "a2a588e0",
   "metadata": {},
   "source": [
    "## 🧠 What is EXPLAIN?\n",
    "\n",
    "SQLite provides two commands to understand how your queries will be executed:\n",
    "\n",
    "* **EXPLAIN QUERY PLAN:** Gives a high-level overview of how a query will be run\n",
    "* **EXPLAIN:** Provides a **low-level**, detailed breakdown of the query execution plan\n",
    "\n",
    "In most cases, you will use `EXPLAIN QUERY PLAN` for query optimization and teaching.\n",
    "\n",
    "`EXPLAIN` is more technical and useful if you’re digging into SQLite internals.\n"
   ]
  },
  {
   "cell_type": "markdown",
   "id": "97ccc136",
   "metadata": {},
   "source": [
    "## 🧱 Step 1: Create a Table and Populate It\n",
    "\n",
    "We’ll create a small sales table with some customer purchase data to use in our examples."
   ]
  },
  {
   "cell_type": "code",
   "execution_count": 1,
   "id": "c8d4d6c5",
   "metadata": {},
   "outputs": [],
   "source": [
    "import sqlite3\n",
    "import random\n",
    "from datetime import datetime, timedelta\n",
    "\n",
    "# Start a fresh in-memory database\n",
    "conn = sqlite3.connect(\":memory:\")\n",
    "cursor = conn.cursor()\n",
    "\n",
    "# Create a simple table for purchases\n",
    "cursor.execute('''\n",
    "CREATE TABLE sales (\n",
    "    id INTEGER PRIMARY KEY AUTOINCREMENT,\n",
    "    customer TEXT,\n",
    "    product TEXT,\n",
    "    sale_date TEXT,\n",
    "    amount REAL\n",
    ")\n",
    "''')\n",
    "\n",
    "# Fill the table with 500 sample records\n",
    "customers = ['Alice', 'Bob', 'Carol', 'David', 'Eve']\n",
    "products = ['Board Game', 'Dice Set', 'Card Sleeves']\n",
    "\n",
    "for _ in range(500):\n",
    "    customer = random.choice(customers)\n",
    "    product = random.choice(products)\n",
    "    days_ago = random.randint(0, 100)\n",
    "    date = (datetime.now() - timedelta(days=days_ago)).strftime('%Y-%m-%d')\n",
    "    amount = round(random.uniform(10, 80), 2)\n",
    "    cursor.execute(\"INSERT INTO sales (customer, product, sale_date, amount) VALUES (?, ?, ?, ?)\",\n",
    "                   (customer, product, date, amount))\n",
    "\n",
    "conn.commit()"
   ]
  },
  {
   "cell_type": "markdown",
   "id": "293d53d8",
   "metadata": {},
   "source": [
    "✅ Main point: You should understand how indexes affect performance. But before we create any indexes, let’s see how SQLite plans queries with no help."
   ]
  },
  {
   "cell_type": "markdown",
   "id": "4b888818",
   "metadata": {},
   "source": [
    "## 🔍 Step 2: Run a Query and Inspect the Plan (No Index Yet)\n",
    "\n",
    "We’ll inspect a query that searches for rows by customer. First, we run the query as usual:"
   ]
  },
  {
   "cell_type": "code",
   "execution_count": 2,
   "id": "637357d8",
   "metadata": {},
   "outputs": [
    {
     "data": {
      "text/plain": [
       "[(9, 'Bob', 'Card Sleeves', '2025-01-21', 62.2),\n",
       " (16, 'Bob', 'Board Game', '2025-03-16', 28.44),\n",
       " (19, 'Bob', 'Card Sleeves', '2025-02-10', 43.89),\n",
       " (23, 'Bob', 'Card Sleeves', '2025-01-25', 72.16),\n",
       " (27, 'Bob', 'Dice Set', '2025-02-01', 62.24),\n",
       " (43, 'Bob', 'Card Sleeves', '2025-04-09', 71.42),\n",
       " (46, 'Bob', 'Dice Set', '2025-03-20', 39.44),\n",
       " (48, 'Bob', 'Board Game', '2025-04-04', 51.33),\n",
       " (52, 'Bob', 'Board Game', '2025-03-18', 28.36),\n",
       " (54, 'Bob', 'Dice Set', '2025-02-03', 71.31),\n",
       " (60, 'Bob', 'Dice Set', '2025-01-07', 56.47),\n",
       " (69, 'Bob', 'Card Sleeves', '2025-01-17', 56.05),\n",
       " (70, 'Bob', 'Card Sleeves', '2025-01-16', 26.96),\n",
       " (76, 'Bob', 'Board Game', '2025-03-26', 12.24),\n",
       " (81, 'Bob', 'Board Game', '2025-01-13', 10.36),\n",
       " (87, 'Bob', 'Dice Set', '2025-01-10', 22.93),\n",
       " (94, 'Bob', 'Dice Set', '2025-03-06', 21.2),\n",
       " (98, 'Bob', 'Dice Set', '2025-03-31', 56.08),\n",
       " (108, 'Bob', 'Dice Set', '2025-04-10', 52.99),\n",
       " (115, 'Bob', 'Card Sleeves', '2025-04-03', 72.96),\n",
       " (117, 'Bob', 'Board Game', '2025-01-29', 41.93),\n",
       " (122, 'Bob', 'Dice Set', '2025-01-12', 22.52),\n",
       " (124, 'Bob', 'Card Sleeves', '2025-03-20', 49.95),\n",
       " (130, 'Bob', 'Dice Set', '2025-01-27', 71.26),\n",
       " (132, 'Bob', 'Board Game', '2025-04-07', 40.33),\n",
       " (135, 'Bob', 'Dice Set', '2025-02-25', 39.37),\n",
       " (136, 'Bob', 'Dice Set', '2025-01-22', 65.92),\n",
       " (138, 'Bob', 'Board Game', '2025-03-07', 52.92),\n",
       " (156, 'Bob', 'Dice Set', '2025-02-12', 55.72),\n",
       " (170, 'Bob', 'Card Sleeves', '2025-04-13', 59.81),\n",
       " (173, 'Bob', 'Card Sleeves', '2025-04-06', 45.94),\n",
       " (176, 'Bob', 'Dice Set', '2025-03-07', 66.33),\n",
       " (184, 'Bob', 'Board Game', '2025-02-01', 39.97),\n",
       " (194, 'Bob', 'Board Game', '2025-02-03', 56.4),\n",
       " (197, 'Bob', 'Board Game', '2025-04-05', 51.73),\n",
       " (200, 'Bob', 'Dice Set', '2025-04-13', 42.23),\n",
       " (205, 'Bob', 'Card Sleeves', '2025-01-11', 72.0),\n",
       " (219, 'Bob', 'Board Game', '2025-03-09', 50.91),\n",
       " (226, 'Bob', 'Dice Set', '2025-02-09', 52.97),\n",
       " (240, 'Bob', 'Card Sleeves', '2025-04-02', 11.03),\n",
       " (250, 'Bob', 'Board Game', '2025-01-28', 75.34),\n",
       " (259, 'Bob', 'Board Game', '2025-03-16', 68.18),\n",
       " (261, 'Bob', 'Board Game', '2025-03-12', 77.64),\n",
       " (264, 'Bob', 'Card Sleeves', '2025-01-30', 55.92),\n",
       " (267, 'Bob', 'Card Sleeves', '2025-03-05', 36.79),\n",
       " (269, 'Bob', 'Dice Set', '2025-03-29', 34.57),\n",
       " (272, 'Bob', 'Dice Set', '2025-02-28', 61.39),\n",
       " (276, 'Bob', 'Board Game', '2025-03-17', 70.12),\n",
       " (293, 'Bob', 'Board Game', '2025-01-07', 76.33),\n",
       " (295, 'Bob', 'Card Sleeves', '2025-01-26', 52.76),\n",
       " (305, 'Bob', 'Board Game', '2025-04-13', 18.16),\n",
       " (308, 'Bob', 'Board Game', '2025-03-18', 33.79),\n",
       " (319, 'Bob', 'Dice Set', '2025-01-27', 60.35),\n",
       " (324, 'Bob', 'Card Sleeves', '2025-03-23', 75.18),\n",
       " (327, 'Bob', 'Card Sleeves', '2025-02-05', 78.84),\n",
       " (336, 'Bob', 'Dice Set', '2025-03-22', 23.52),\n",
       " (337, 'Bob', 'Dice Set', '2025-03-29', 72.74),\n",
       " (341, 'Bob', 'Card Sleeves', '2025-03-25', 79.31),\n",
       " (347, 'Bob', 'Dice Set', '2025-03-13', 31.07),\n",
       " (350, 'Bob', 'Card Sleeves', '2025-01-20', 59.85),\n",
       " (354, 'Bob', 'Board Game', '2025-03-05', 56.09),\n",
       " (356, 'Bob', 'Board Game', '2025-01-26', 14.59),\n",
       " (360, 'Bob', 'Dice Set', '2025-03-07', 19.2),\n",
       " (361, 'Bob', 'Card Sleeves', '2025-03-13', 77.28),\n",
       " (366, 'Bob', 'Card Sleeves', '2025-03-07', 32.53),\n",
       " (367, 'Bob', 'Dice Set', '2025-03-19', 40.11),\n",
       " (374, 'Bob', 'Dice Set', '2025-04-12', 22.05),\n",
       " (381, 'Bob', 'Card Sleeves', '2025-01-29', 59.72),\n",
       " (382, 'Bob', 'Board Game', '2025-02-08', 63.53),\n",
       " (384, 'Bob', 'Board Game', '2025-01-06', 32.74),\n",
       " (391, 'Bob', 'Board Game', '2025-02-02', 49.74),\n",
       " (393, 'Bob', 'Dice Set', '2025-01-04', 66.91),\n",
       " (401, 'Bob', 'Board Game', '2025-02-12', 10.77),\n",
       " (405, 'Bob', 'Card Sleeves', '2025-04-07', 52.04),\n",
       " (410, 'Bob', 'Card Sleeves', '2025-03-01', 78.98),\n",
       " (419, 'Bob', 'Board Game', '2025-03-24', 35.44),\n",
       " (425, 'Bob', 'Board Game', '2025-03-05', 44.99),\n",
       " (427, 'Bob', 'Card Sleeves', '2025-03-15', 11.11),\n",
       " (446, 'Bob', 'Card Sleeves', '2025-01-13', 70.92),\n",
       " (451, 'Bob', 'Dice Set', '2025-01-30', 49.84),\n",
       " (452, 'Bob', 'Card Sleeves', '2025-02-05', 51.46),\n",
       " (457, 'Bob', 'Card Sleeves', '2025-02-28', 15.68),\n",
       " (466, 'Bob', 'Dice Set', '2025-02-09', 72.46),\n",
       " (467, 'Bob', 'Board Game', '2025-02-15', 38.99),\n",
       " (475, 'Bob', 'Board Game', '2025-02-01', 50.55),\n",
       " (477, 'Bob', 'Card Sleeves', '2025-03-01', 18.25),\n",
       " (478, 'Bob', 'Dice Set', '2025-03-25', 66.2),\n",
       " (484, 'Bob', 'Board Game', '2025-01-24', 37.71),\n",
       " (491, 'Bob', 'Card Sleeves', '2025-02-06', 79.43),\n",
       " (496, 'Bob', 'Dice Set', '2025-01-08', 70.33),\n",
       " (499, 'Bob', 'Card Sleeves', '2025-03-09', 16.5)]"
      ]
     },
     "execution_count": 2,
     "metadata": {},
     "output_type": "execute_result"
    }
   ],
   "source": [
    "query = \"SELECT * FROM sales WHERE customer = 'Bob'\"\n",
    "cursor.execute(query)\n",
    "cursor.fetchall()"
   ]
  },
  {
   "cell_type": "markdown",
   "id": "591b615a",
   "metadata": {},
   "source": [
    "Now, let’s use `EXPLAIN QUERY PLAN` to see how SQLite will execute that same query:"
   ]
  },
  {
   "cell_type": "code",
   "execution_count": 3,
   "id": "4e765df5",
   "metadata": {},
   "outputs": [
    {
     "name": "stdout",
     "output_type": "stream",
     "text": [
      "(2, 0, 216, 'SCAN sales')\n"
     ]
    }
   ],
   "source": [
    "cursor.execute(f\"EXPLAIN QUERY PLAN {query}\")\n",
    "for row in cursor.fetchall():\n",
    "    print(row)"
   ]
  },
  {
   "cell_type": "markdown",
   "id": "7911ce78",
   "metadata": {},
   "source": [
    "This means SQLite is doing a full table scan — it has to check every row to find customers named “Bob”."
   ]
  },
  {
   "cell_type": "markdown",
   "id": "686b9441",
   "metadata": {},
   "source": [
    "### 👀 Interpretation\n",
    "\n",
    "Output format:\n",
    "\n",
    "```\n",
    "(<selectid>, <order>, <from>, <detail>)\n",
    "```\n",
    "\n",
    "* **selectid:** ID of the `SELECT` query (0 for main query, >0 for subqueries)\n",
    "* **order:** Evaluation order of the `FROM` clause elements\n",
    "* **from:** Table index in the `FROM` clause (0 if only one table)\n",
    "* **detail:** How SQLite will access the data: scan, index, etc.\n"
   ]
  },
  {
   "cell_type": "markdown",
   "id": "7da62171",
   "metadata": {},
   "source": [
    "### 🧩 Step 3: Create an Index to Improve the Plan\n",
    "\n",
    "Let’s add an index on the customer column and rerun the plan."
   ]
  },
  {
   "cell_type": "code",
   "execution_count": 4,
   "id": "c27ba22e",
   "metadata": {},
   "outputs": [],
   "source": [
    "cursor.execute(\"CREATE INDEX idx_customer ON sales(customer)\")\n",
    "conn.commit()"
   ]
  },
  {
   "cell_type": "markdown",
   "id": "d32fe3c6",
   "metadata": {},
   "source": [
    "Now run the same EXPLAIN QUERY PLAN:"
   ]
  },
  {
   "cell_type": "code",
   "execution_count": 5,
   "id": "2fd0a063",
   "metadata": {},
   "outputs": [
    {
     "name": "stdout",
     "output_type": "stream",
     "text": [
      "(3, 0, 62, 'SEARCH sales USING INDEX idx_customer (customer=?)')\n"
     ]
    }
   ],
   "source": [
    "cursor.execute(f\"EXPLAIN QUERY PLAN {query}\")\n",
    "for row in cursor.fetchall():\n",
    "    print(row)"
   ]
  },
  {
   "cell_type": "markdown",
   "id": "d29d5b10",
   "metadata": {},
   "source": [
    "Now SQLite knows how the customer values are structured (via the index), it avoids the table scan. This is a key optimization concept."
   ]
  },
  {
   "cell_type": "markdown",
   "id": "9330d187",
   "metadata": {},
   "source": [
    "### 🛠️ Step 4: Use EXPLAIN to See Bytecode\n",
    "\n",
    "Let’s now explore what `EXPLAIN` does. This is more advanced and shows what SQLite will do step-by-step *internally* when running a query."
   ]
  },
  {
   "cell_type": "code",
   "execution_count": 6,
   "id": "b2069d5c",
   "metadata": {},
   "outputs": [
    {
     "name": "stdout",
     "output_type": "stream",
     "text": [
      "(0, 'Init', 0, 16, 0, None, 0, None)\n",
      "(1, 'OpenRead', 0, 2, 0, '5', 0, None)\n",
      "(2, 'OpenRead', 1, 10, 0, 'k(2,,)', 2, None)\n",
      "(3, 'String8', 0, 1, 0, 'Bob', 0, None)\n",
      "(4, 'SeekGE', 1, 15, 1, '1', 0, None)\n",
      "(5, 'IdxGT', 1, 15, 1, '1', 0, None)\n",
      "(6, 'DeferredSeek', 1, 0, 0, None, 0, None)\n",
      "(7, 'IdxRowid', 1, 2, 0, None, 0, None)\n",
      "(8, 'Column', 1, 0, 3, None, 0, None)\n",
      "(9, 'Column', 0, 2, 4, None, 0, None)\n"
     ]
    }
   ],
   "source": [
    "cursor.execute(f\"EXPLAIN {query}\")\n",
    "bytecode = cursor.fetchall()\n",
    "\n",
    "# Print first 10 instructions\n",
    "for row in bytecode[:10]:\n",
    "    print(row)"
   ]
  },
  {
   "cell_type": "markdown",
   "id": "b02a32f7",
   "metadata": {},
   "source": [
    "**🧠 What does this output mean?**\n",
    "\n",
    "```\n",
    "(addr, opcode, p1, p2, p3, p4, p5)\n",
    "```\n",
    "\n",
    "* **addr:** Address of the instruction in the bytecode\n",
    "* **opcode:** The operation to be performed (e.g., `OpenRead`, `Column`, `SeekGE`, etc.)\n",
    "* **p1-p5:** Operands used by the opcode -- meaning depends on the operation\n",
    "* **p4:** Extra text info (e.g., values, column names)\n",
    "\n",
    "**🧾 Example breakdown**\n",
    "\n",
    "```\n",
    "(0, 'Init', 0, 10, 0, '', '')\n",
    "(1, 'OpenRead', 0, 2, -1, 'sales', '')\n",
    "(2, 'String8', 0, 1, 0, 'Bob', '')\n",
    "(3, 'SeekGE', 0, 5, 1, '', '')\n",
    "```\n",
    "\n",
    "* **Init:** Starts the program\n",
    "* **OpenRead:** Opens the sales table for reading\n",
    "* **String8:** Loads the string 'Bob' into a register\n",
    "* **SeekGE:** Moves to the first row with customer >= 'Bob' using the index (if exists)\n",
    "\n",
    "🔬 This is how SQLite interprets the SQL into a series of internal instructions.\n",
    "\n",
    "Should you use this? Maybe. But this is too advanced.\n"
   ]
  },
  {
   "cell_type": "markdown",
   "id": "52f9d8d7",
   "metadata": {},
   "source": [
    "## 🧠 SQLite Query Planning Summary\n",
    "\n",
    "EXPLAIN QUERY PLAN\n",
    "\n",
    "- ✅ Shows whether SQLite will scan the table or use an index\n",
    "- ✅ Easy to interpret\n",
    "- ✅ Best tool for query optimization and teaching\n",
    "\n",
    "EXPLAIN\n",
    "\n",
    "- 🧠 Shows virtual machine (VM) bytecode steps\n",
    "- ❌ Not beginner-friendly\n",
    "- 🧪 Useful for internal debugging or performance analysis\n",
    "\n",
    "**💡 Key Insight:** Indexes change how SQLite executes queries. Use EXPLAIN QUERY PLAN to confirm your queries are efficient!\n"
   ]
  },
  {
   "cell_type": "markdown",
   "id": "721788ee",
   "metadata": {},
   "source": []
  }
 ],
 "metadata": {
  "kernelspec": {
   "display_name": ".venv",
   "language": "python",
   "name": "python3"
  },
  "language_info": {
   "codemirror_mode": {
    "name": "ipython",
    "version": 3
   },
   "file_extension": ".py",
   "mimetype": "text/x-python",
   "name": "python",
   "nbconvert_exporter": "python",
   "pygments_lexer": "ipython3",
   "version": "3.13.3"
  }
 },
 "nbformat": 4,
 "nbformat_minor": 5
}