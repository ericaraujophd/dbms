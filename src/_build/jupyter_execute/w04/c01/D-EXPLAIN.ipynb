{
 "cells": [
  {
   "cell_type": "markdown",
   "id": "530a536b",
   "metadata": {},
   "source": [
    "# EXPLAIN and EXPLAIN QUERY PLAN"
   ]
  },
  {
   "cell_type": "markdown",
   "id": "a2a588e0",
   "metadata": {},
   "source": [
    "## 🧠 What is EXPLAIN?\n",
    "\n",
    "SQLite provides two commands to understand how your queries will be executed:\n",
    "\n",
    "* **EXPLAIN QUERY PLAN:** Gives a high-level overview of how a query will be run\n",
    "* **EXPLAIN:** Provides a **low-level**, detailed breakdown of the query execution plan\n",
    "\n",
    "In most cases, you will use `EXPLAIN QUERY PLAN` for query optimization and teaching.\n",
    "\n",
    "`EXPLAIN` is more technical and useful if you’re digging into SQLite internals.\n"
   ]
  },
  {
   "cell_type": "markdown",
   "id": "97ccc136",
   "metadata": {},
   "source": [
    "## 🧱 Step 1: Create a Table and Populate It\n",
    "\n",
    "We’ll create a small sales table with some customer purchase data to use in our examples."
   ]
  },
  {
   "cell_type": "code",
   "execution_count": 1,
   "id": "c8d4d6c5",
   "metadata": {},
   "outputs": [],
   "source": [
    "import sqlite3\n",
    "import random\n",
    "from datetime import datetime, timedelta\n",
    "\n",
    "# Start a fresh in-memory database\n",
    "conn = sqlite3.connect(\":memory:\")\n",
    "cursor = conn.cursor()\n",
    "\n",
    "# Create a simple table for purchases\n",
    "cursor.execute('''\n",
    "CREATE TABLE sales (\n",
    "    id INTEGER PRIMARY KEY AUTOINCREMENT,\n",
    "    customer TEXT,\n",
    "    product TEXT,\n",
    "    sale_date TEXT,\n",
    "    amount REAL\n",
    ")\n",
    "''')\n",
    "\n",
    "# Fill the table with 500 sample records\n",
    "customers = ['Alice', 'Bob', 'Carol', 'David', 'Eve']\n",
    "products = ['Board Game', 'Dice Set', 'Card Sleeves']\n",
    "\n",
    "for _ in range(500):\n",
    "    customer = random.choice(customers)\n",
    "    product = random.choice(products)\n",
    "    days_ago = random.randint(0, 100)\n",
    "    date = (datetime.now() - timedelta(days=days_ago)).strftime('%Y-%m-%d')\n",
    "    amount = round(random.uniform(10, 80), 2)\n",
    "    cursor.execute(\"INSERT INTO sales (customer, product, sale_date, amount) VALUES (?, ?, ?, ?)\",\n",
    "                   (customer, product, date, amount))\n",
    "\n",
    "conn.commit()"
   ]
  },
  {
   "cell_type": "markdown",
   "id": "293d53d8",
   "metadata": {},
   "source": [
    "✅ Main point: You should understand how indexes affect performance. But before we create any indexes, let’s see how SQLite plans queries with no help."
   ]
  },
  {
   "cell_type": "markdown",
   "id": "4b888818",
   "metadata": {},
   "source": [
    "## 🔍 Step 2: Run a Query and Inspect the Plan (No Index Yet)\n",
    "\n",
    "We’ll inspect a query that searches for rows by customer. First, we run the query as usual:"
   ]
  },
  {
   "cell_type": "code",
   "execution_count": 2,
   "id": "637357d8",
   "metadata": {},
   "outputs": [
    {
     "data": {
      "text/plain": [
       "[(2, 'Bob', 'Dice Set', '2025-02-17', 68.71),\n",
       " (5, 'Bob', 'Board Game', '2025-02-03', 14.09),\n",
       " (7, 'Bob', 'Board Game', '2025-01-28', 34.99),\n",
       " (10, 'Bob', 'Dice Set', '2025-03-26', 59.29),\n",
       " (31, 'Bob', 'Board Game', '2025-01-15', 49.73),\n",
       " (36, 'Bob', 'Board Game', '2025-04-22', 10.7),\n",
       " (39, 'Bob', 'Dice Set', '2025-04-08', 46.13),\n",
       " (40, 'Bob', 'Card Sleeves', '2025-02-19', 71.87),\n",
       " (49, 'Bob', 'Dice Set', '2025-03-14', 64.65),\n",
       " (51, 'Bob', 'Card Sleeves', '2025-02-10', 17.03),\n",
       " (53, 'Bob', 'Dice Set', '2025-03-09', 55.91),\n",
       " (59, 'Bob', 'Dice Set', '2025-03-16', 22.42),\n",
       " (74, 'Bob', 'Board Game', '2025-01-15', 49.62),\n",
       " (82, 'Bob', 'Card Sleeves', '2025-03-15', 16.81),\n",
       " (85, 'Bob', 'Card Sleeves', '2025-03-13', 71.03),\n",
       " (89, 'Bob', 'Card Sleeves', '2025-03-03', 46.86),\n",
       " (90, 'Bob', 'Board Game', '2025-02-16', 15.59),\n",
       " (95, 'Bob', 'Dice Set', '2025-03-18', 22.51),\n",
       " (98, 'Bob', 'Board Game', '2025-04-01', 76.65),\n",
       " (103, 'Bob', 'Board Game', '2025-02-25', 50.4),\n",
       " (114, 'Bob', 'Card Sleeves', '2025-04-04', 73.27),\n",
       " (121, 'Bob', 'Board Game', '2025-02-23', 18.24),\n",
       " (122, 'Bob', 'Board Game', '2025-02-26', 45.84),\n",
       " (131, 'Bob', 'Card Sleeves', '2025-02-04', 75.29),\n",
       " (139, 'Bob', 'Dice Set', '2025-02-22', 75.92),\n",
       " (143, 'Bob', 'Dice Set', '2025-03-01', 40.05),\n",
       " (145, 'Bob', 'Card Sleeves', '2025-02-21', 29.74),\n",
       " (147, 'Bob', 'Dice Set', '2025-02-21', 64.94),\n",
       " (159, 'Bob', 'Card Sleeves', '2025-01-31', 68.77),\n",
       " (160, 'Bob', 'Card Sleeves', '2025-03-20', 14.0),\n",
       " (162, 'Bob', 'Card Sleeves', '2025-02-11', 17.67),\n",
       " (169, 'Bob', 'Dice Set', '2025-02-02', 42.68),\n",
       " (175, 'Bob', 'Dice Set', '2025-04-04', 19.93),\n",
       " (176, 'Bob', 'Board Game', '2025-04-09', 39.64),\n",
       " (182, 'Bob', 'Dice Set', '2025-01-22', 28.06),\n",
       " (186, 'Bob', 'Dice Set', '2025-02-05', 37.56),\n",
       " (189, 'Bob', 'Card Sleeves', '2025-01-29', 33.19),\n",
       " (196, 'Bob', 'Dice Set', '2025-02-24', 37.28),\n",
       " (204, 'Bob', 'Card Sleeves', '2025-01-13', 49.21),\n",
       " (208, 'Bob', 'Board Game', '2025-03-24', 33.54),\n",
       " (213, 'Bob', 'Board Game', '2025-03-31', 69.47),\n",
       " (220, 'Bob', 'Card Sleeves', '2025-01-24', 64.47),\n",
       " (221, 'Bob', 'Board Game', '2025-03-11', 44.49),\n",
       " (222, 'Bob', 'Card Sleeves', '2025-03-28', 65.84),\n",
       " (228, 'Bob', 'Board Game', '2025-04-01', 75.59),\n",
       " (229, 'Bob', 'Card Sleeves', '2025-02-03', 62.87),\n",
       " (231, 'Bob', 'Card Sleeves', '2025-01-22', 66.69),\n",
       " (232, 'Bob', 'Dice Set', '2025-02-18', 63.92),\n",
       " (233, 'Bob', 'Card Sleeves', '2025-04-12', 24.51),\n",
       " (243, 'Bob', 'Card Sleeves', '2025-03-18', 26.97),\n",
       " (259, 'Bob', 'Card Sleeves', '2025-03-07', 32.69),\n",
       " (262, 'Bob', 'Dice Set', '2025-02-06', 14.07),\n",
       " (267, 'Bob', 'Dice Set', '2025-01-21', 68.44),\n",
       " (272, 'Bob', 'Card Sleeves', '2025-03-27', 39.43),\n",
       " (275, 'Bob', 'Board Game', '2025-02-17', 62.97),\n",
       " (277, 'Bob', 'Board Game', '2025-04-17', 74.13),\n",
       " (278, 'Bob', 'Dice Set', '2025-01-19', 27.46),\n",
       " (288, 'Bob', 'Card Sleeves', '2025-02-25', 68.72),\n",
       " (292, 'Bob', 'Board Game', '2025-03-20', 65.07),\n",
       " (304, 'Bob', 'Board Game', '2025-01-21', 47.3),\n",
       " (316, 'Bob', 'Board Game', '2025-02-16', 58.74),\n",
       " (318, 'Bob', 'Dice Set', '2025-02-03', 69.79),\n",
       " (325, 'Bob', 'Board Game', '2025-04-11', 45.19),\n",
       " (326, 'Bob', 'Board Game', '2025-03-15', 58.46),\n",
       " (327, 'Bob', 'Dice Set', '2025-03-30', 12.05),\n",
       " (329, 'Bob', 'Dice Set', '2025-03-14', 29.64),\n",
       " (330, 'Bob', 'Board Game', '2025-04-19', 45.53),\n",
       " (332, 'Bob', 'Card Sleeves', '2025-01-25', 60.02),\n",
       " (341, 'Bob', 'Dice Set', '2025-03-24', 39.94),\n",
       " (342, 'Bob', 'Card Sleeves', '2025-04-08', 34.65),\n",
       " (357, 'Bob', 'Card Sleeves', '2025-03-21', 65.69),\n",
       " (359, 'Bob', 'Card Sleeves', '2025-03-19', 46.12),\n",
       " (366, 'Bob', 'Board Game', '2025-02-16', 75.73),\n",
       " (369, 'Bob', 'Board Game', '2025-02-08', 23.49),\n",
       " (373, 'Bob', 'Board Game', '2025-02-13', 61.51),\n",
       " (385, 'Bob', 'Board Game', '2025-03-17', 50.39),\n",
       " (398, 'Bob', 'Board Game', '2025-03-26', 60.08),\n",
       " (399, 'Bob', 'Board Game', '2025-03-20', 32.23),\n",
       " (400, 'Bob', 'Card Sleeves', '2025-03-12', 21.5),\n",
       " (406, 'Bob', 'Board Game', '2025-04-06', 26.89),\n",
       " (420, 'Bob', 'Board Game', '2025-03-09', 12.75),\n",
       " (423, 'Bob', 'Card Sleeves', '2025-02-28', 29.65),\n",
       " (434, 'Bob', 'Dice Set', '2025-01-26', 40.8),\n",
       " (444, 'Bob', 'Dice Set', '2025-03-21', 68.65),\n",
       " (451, 'Bob', 'Card Sleeves', '2025-03-01', 14.54),\n",
       " (459, 'Bob', 'Board Game', '2025-01-26', 68.22),\n",
       " (469, 'Bob', 'Dice Set', '2025-01-19', 74.0),\n",
       " (480, 'Bob', 'Card Sleeves', '2025-04-12', 28.73),\n",
       " (494, 'Bob', 'Card Sleeves', '2025-03-27', 73.96),\n",
       " (499, 'Bob', 'Board Game', '2025-03-28', 49.87)]"
      ]
     },
     "execution_count": 2,
     "metadata": {},
     "output_type": "execute_result"
    }
   ],
   "source": [
    "query = \"SELECT * FROM sales WHERE customer = 'Bob'\"\n",
    "cursor.execute(query)\n",
    "cursor.fetchall()"
   ]
  },
  {
   "cell_type": "markdown",
   "id": "591b615a",
   "metadata": {},
   "source": [
    "Now, let’s use `EXPLAIN QUERY PLAN` to see how SQLite will execute that same query:"
   ]
  },
  {
   "cell_type": "code",
   "execution_count": 3,
   "id": "4e765df5",
   "metadata": {},
   "outputs": [
    {
     "name": "stdout",
     "output_type": "stream",
     "text": [
      "(2, 0, 216, 'SCAN sales')\n"
     ]
    }
   ],
   "source": [
    "cursor.execute(f\"EXPLAIN QUERY PLAN {query}\")\n",
    "for row in cursor.fetchall():\n",
    "    print(row)"
   ]
  },
  {
   "cell_type": "markdown",
   "id": "7911ce78",
   "metadata": {},
   "source": [
    "This means SQLite is doing a full table scan — it has to check every row to find customers named “Bob”."
   ]
  },
  {
   "cell_type": "markdown",
   "id": "686b9441",
   "metadata": {},
   "source": [
    "### 👀 Interpretation\n",
    "\n",
    "Output format:\n",
    "\n",
    "```\n",
    "(<selectid>, <order>, <from>, <detail>)\n",
    "```\n",
    "\n",
    "* **selectid:** ID of the `SELECT` query (0 for main query, >0 for subqueries)\n",
    "* **order:** Evaluation order of the `FROM` clause elements\n",
    "* **from:** Table index in the `FROM` clause (0 if only one table)\n",
    "* **detail:** How SQLite will access the data: scan, index, etc.\n"
   ]
  },
  {
   "cell_type": "markdown",
   "id": "7da62171",
   "metadata": {},
   "source": [
    "### 🧩 Step 3: Create an Index to Improve the Plan\n",
    "\n",
    "Let’s add an index on the customer column and rerun the plan."
   ]
  },
  {
   "cell_type": "code",
   "execution_count": 4,
   "id": "c27ba22e",
   "metadata": {},
   "outputs": [],
   "source": [
    "cursor.execute(\"CREATE INDEX idx_customer ON sales(customer)\")\n",
    "conn.commit()"
   ]
  },
  {
   "cell_type": "markdown",
   "id": "d32fe3c6",
   "metadata": {},
   "source": [
    "Now run the same EXPLAIN QUERY PLAN:"
   ]
  },
  {
   "cell_type": "code",
   "execution_count": 5,
   "id": "2fd0a063",
   "metadata": {},
   "outputs": [
    {
     "name": "stdout",
     "output_type": "stream",
     "text": [
      "(3, 0, 62, 'SEARCH sales USING INDEX idx_customer (customer=?)')\n"
     ]
    }
   ],
   "source": [
    "cursor.execute(f\"EXPLAIN QUERY PLAN {query}\")\n",
    "for row in cursor.fetchall():\n",
    "    print(row)"
   ]
  },
  {
   "cell_type": "markdown",
   "id": "d29d5b10",
   "metadata": {},
   "source": [
    "Now SQLite knows how the customer values are structured (via the index), it avoids the table scan. This is a key optimization concept."
   ]
  },
  {
   "cell_type": "markdown",
   "id": "9330d187",
   "metadata": {},
   "source": [
    "### 🛠️ Step 4: Use EXPLAIN to See Bytecode\n",
    "\n",
    "Let’s now explore what `EXPLAIN` does. This is more advanced and shows what SQLite will do step-by-step *internally* when running a query."
   ]
  },
  {
   "cell_type": "code",
   "execution_count": 6,
   "id": "b2069d5c",
   "metadata": {},
   "outputs": [
    {
     "name": "stdout",
     "output_type": "stream",
     "text": [
      "(0, 'Init', 0, 16, 0, None, 0, None)\n",
      "(1, 'OpenRead', 0, 2, 0, '5', 0, None)\n",
      "(2, 'OpenRead', 1, 10, 0, 'k(2,,)', 2, None)\n",
      "(3, 'String8', 0, 1, 0, 'Bob', 0, None)\n",
      "(4, 'SeekGE', 1, 15, 1, '1', 0, None)\n",
      "(5, 'IdxGT', 1, 15, 1, '1', 0, None)\n",
      "(6, 'DeferredSeek', 1, 0, 0, None, 0, None)\n",
      "(7, 'IdxRowid', 1, 2, 0, None, 0, None)\n",
      "(8, 'Column', 1, 0, 3, None, 0, None)\n",
      "(9, 'Column', 0, 2, 4, None, 0, None)\n"
     ]
    }
   ],
   "source": [
    "cursor.execute(f\"EXPLAIN {query}\")\n",
    "bytecode = cursor.fetchall()\n",
    "\n",
    "# Print first 10 instructions\n",
    "for row in bytecode[:10]:\n",
    "    print(row)"
   ]
  },
  {
   "cell_type": "markdown",
   "id": "b02a32f7",
   "metadata": {},
   "source": [
    "**🧠 What does this output mean?**\n",
    "\n",
    "```\n",
    "(addr, opcode, p1, p2, p3, p4, p5)\n",
    "```\n",
    "\n",
    "* **addr:** Address of the instruction in the bytecode\n",
    "* **opcode:** The operation to be performed (e.g., `OpenRead`, `Column`, `SeekGE`, etc.)\n",
    "* **p1-p5:** Operands used by the opcode -- meaning depends on the operation\n",
    "* **p4:** Extra text info (e.g., values, column names)\n",
    "\n",
    "**🧾 Example breakdown**\n",
    "\n",
    "```\n",
    "(0, 'Init', 0, 10, 0, '', '')\n",
    "(1, 'OpenRead', 0, 2, -1, 'sales', '')\n",
    "(2, 'String8', 0, 1, 0, 'Bob', '')\n",
    "(3, 'SeekGE', 0, 5, 1, '', '')\n",
    "```\n",
    "\n",
    "* **Init:** Starts the program\n",
    "* **OpenRead:** Opens the sales table for reading\n",
    "* **String8:** Loads the string 'Bob' into a register\n",
    "* **SeekGE:** Moves to the first row with customer >= 'Bob' using the index (if exists)\n",
    "\n",
    "🔬 This is how SQLite interprets the SQL into a series of internal instructions.\n",
    "\n",
    "Should you use this? Maybe. But this is too advanced.\n"
   ]
  },
  {
   "cell_type": "markdown",
   "id": "52f9d8d7",
   "metadata": {},
   "source": [
    "## 🧠 SQLite Query Planning Summary\n",
    "\n",
    "EXPLAIN QUERY PLAN\n",
    "\n",
    "- ✅ Shows whether SQLite will scan the table or use an index\n",
    "- ✅ Easy to interpret\n",
    "- ✅ Best tool for query optimization and teaching\n",
    "\n",
    "EXPLAIN\n",
    "\n",
    "- 🧠 Shows virtual machine (VM) bytecode steps\n",
    "- ❌ Not beginner-friendly\n",
    "- 🧪 Useful for internal debugging or performance analysis\n",
    "\n",
    "**💡 Key Insight:** Indexes change how SQLite executes queries. Use EXPLAIN QUERY PLAN to confirm your queries are efficient!\n"
   ]
  },
  {
   "cell_type": "markdown",
   "id": "721788ee",
   "metadata": {},
   "source": []
  }
 ],
 "metadata": {
  "kernelspec": {
   "display_name": ".venv",
   "language": "python",
   "name": "python3"
  },
  "language_info": {
   "codemirror_mode": {
    "name": "ipython",
    "version": 3
   },
   "file_extension": ".py",
   "mimetype": "text/x-python",
   "name": "python",
   "nbconvert_exporter": "python",
   "pygments_lexer": "ipython3",
   "version": "3.13.3"
  }
 },
 "nbformat": 4,
 "nbformat_minor": 5
}