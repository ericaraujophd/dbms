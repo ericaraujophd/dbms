{
 "cells": [
  {
   "cell_type": "markdown",
   "id": "530a536b",
   "metadata": {},
   "source": [
    "# EXPLAIN and EXPLAIN QUERY PLAN"
   ]
  },
  {
   "cell_type": "markdown",
   "id": "a2a588e0",
   "metadata": {},
   "source": [
    "## 🧠 What is EXPLAIN?\n",
    "\n",
    "SQLite provides two commands to understand how your queries will be executed:\n",
    "\n",
    "* **EXPLAIN QUERY PLAN:** Gives a high-level overview of how a query will be run\n",
    "* **EXPLAIN:** Provides a **low-level**, detailed breakdown of the query execution plan\n",
    "\n",
    "In most cases, you will use `EXPLAIN QUERY PLAN` for query optimization and teaching.\n",
    "\n",
    "`EXPLAIN` is more technical and useful if you’re digging into SQLite internals.\n"
   ]
  },
  {
   "cell_type": "markdown",
   "id": "97ccc136",
   "metadata": {},
   "source": [
    "## 🧱 Step 1: Create a Table and Populate It\n",
    "\n",
    "We’ll create a small sales table with some customer purchase data to use in our examples."
   ]
  },
  {
   "cell_type": "code",
   "execution_count": 1,
   "id": "c8d4d6c5",
   "metadata": {},
   "outputs": [],
   "source": [
    "import sqlite3\n",
    "import random\n",
    "from datetime import datetime, timedelta\n",
    "\n",
    "# Start a fresh in-memory database\n",
    "conn = sqlite3.connect(\":memory:\")\n",
    "cursor = conn.cursor()\n",
    "\n",
    "# Create a simple table for purchases\n",
    "cursor.execute('''\n",
    "CREATE TABLE sales (\n",
    "    id INTEGER PRIMARY KEY AUTOINCREMENT,\n",
    "    customer TEXT,\n",
    "    product TEXT,\n",
    "    sale_date TEXT,\n",
    "    amount REAL\n",
    ")\n",
    "''')\n",
    "\n",
    "# Fill the table with 500 sample records\n",
    "customers = ['Alice', 'Bob', 'Carol', 'David', 'Eve']\n",
    "products = ['Board Game', 'Dice Set', 'Card Sleeves']\n",
    "\n",
    "for _ in range(500):\n",
    "    customer = random.choice(customers)\n",
    "    product = random.choice(products)\n",
    "    days_ago = random.randint(0, 100)\n",
    "    date = (datetime.now() - timedelta(days=days_ago)).strftime('%Y-%m-%d')\n",
    "    amount = round(random.uniform(10, 80), 2)\n",
    "    cursor.execute(\"INSERT INTO sales (customer, product, sale_date, amount) VALUES (?, ?, ?, ?)\",\n",
    "                   (customer, product, date, amount))\n",
    "\n",
    "conn.commit()"
   ]
  },
  {
   "cell_type": "markdown",
   "id": "293d53d8",
   "metadata": {},
   "source": [
    "✅ Main point: You should understand how indexes affect performance. But before we create any indexes, let’s see how SQLite plans queries with no help."
   ]
  },
  {
   "cell_type": "markdown",
   "id": "4b888818",
   "metadata": {},
   "source": [
    "## 🔍 Step 2: Run a Query and Inspect the Plan (No Index Yet)\n",
    "\n",
    "We’ll inspect a query that searches for rows by customer. First, we run the query as usual:"
   ]
  },
  {
   "cell_type": "code",
   "execution_count": 2,
   "id": "637357d8",
   "metadata": {},
   "outputs": [
    {
     "data": {
      "text/plain": [
       "[(3, 'Bob', 'Dice Set', '2025-03-17', 24.32),\n",
       " (9, 'Bob', 'Board Game', '2025-04-12', 49.02),\n",
       " (10, 'Bob', 'Board Game', '2025-03-15', 40.46),\n",
       " (12, 'Bob', 'Board Game', '2025-02-18', 46.52),\n",
       " (13, 'Bob', 'Dice Set', '2025-02-05', 48.19),\n",
       " (20, 'Bob', 'Card Sleeves', '2025-04-07', 16.78),\n",
       " (23, 'Bob', 'Dice Set', '2025-03-15', 12.9),\n",
       " (25, 'Bob', 'Card Sleeves', '2025-01-14', 75.7),\n",
       " (40, 'Bob', 'Dice Set', '2025-04-12', 25.18),\n",
       " (43, 'Bob', 'Board Game', '2025-03-21', 10.84),\n",
       " (50, 'Bob', 'Board Game', '2025-02-23', 51.76),\n",
       " (53, 'Bob', 'Dice Set', '2025-04-08', 11.04),\n",
       " (56, 'Bob', 'Dice Set', '2025-04-14', 12.3),\n",
       " (57, 'Bob', 'Dice Set', '2025-03-06', 21.15),\n",
       " (72, 'Bob', 'Board Game', '2025-02-23', 12.29),\n",
       " (82, 'Bob', 'Card Sleeves', '2025-03-27', 68.14),\n",
       " (83, 'Bob', 'Dice Set', '2025-01-07', 67.08),\n",
       " (84, 'Bob', 'Dice Set', '2025-04-13', 65.22),\n",
       " (85, 'Bob', 'Board Game', '2025-03-09', 47.71),\n",
       " (90, 'Bob', 'Card Sleeves', '2025-04-06', 42.48),\n",
       " (93, 'Bob', 'Card Sleeves', '2025-01-15', 31.22),\n",
       " (95, 'Bob', 'Card Sleeves', '2025-02-05', 24.43),\n",
       " (101, 'Bob', 'Dice Set', '2025-03-25', 10.37),\n",
       " (104, 'Bob', 'Dice Set', '2025-02-06', 70.81),\n",
       " (111, 'Bob', 'Card Sleeves', '2025-01-20', 15.33),\n",
       " (134, 'Bob', 'Card Sleeves', '2025-02-17', 17.89),\n",
       " (140, 'Bob', 'Board Game', '2025-02-19', 62.78),\n",
       " (143, 'Bob', 'Board Game', '2025-04-02', 28.82),\n",
       " (178, 'Bob', 'Card Sleeves', '2025-02-18', 79.71),\n",
       " (185, 'Bob', 'Dice Set', '2025-01-30', 61.07),\n",
       " (186, 'Bob', 'Dice Set', '2025-03-30', 26.79),\n",
       " (187, 'Bob', 'Dice Set', '2025-02-09', 73.69),\n",
       " (190, 'Bob', 'Card Sleeves', '2025-02-22', 43.61),\n",
       " (193, 'Bob', 'Board Game', '2025-03-12', 58.21),\n",
       " (201, 'Bob', 'Card Sleeves', '2025-02-21', 33.38),\n",
       " (207, 'Bob', 'Card Sleeves', '2025-04-04', 57.57),\n",
       " (208, 'Bob', 'Card Sleeves', '2025-03-23', 35.43),\n",
       " (210, 'Bob', 'Card Sleeves', '2025-01-15', 27.38),\n",
       " (212, 'Bob', 'Dice Set', '2025-01-31', 71.67),\n",
       " (213, 'Bob', 'Card Sleeves', '2025-04-13', 27.89),\n",
       " (214, 'Bob', 'Dice Set', '2025-01-17', 77.45),\n",
       " (215, 'Bob', 'Card Sleeves', '2025-01-24', 65.64),\n",
       " (216, 'Bob', 'Board Game', '2025-04-07', 34.93),\n",
       " (219, 'Bob', 'Card Sleeves', '2025-04-04', 74.09),\n",
       " (222, 'Bob', 'Board Game', '2025-02-19', 45.06),\n",
       " (237, 'Bob', 'Card Sleeves', '2025-03-01', 15.33),\n",
       " (239, 'Bob', 'Board Game', '2025-01-25', 26.02),\n",
       " (246, 'Bob', 'Dice Set', '2025-04-07', 25.12),\n",
       " (247, 'Bob', 'Card Sleeves', '2025-04-01', 51.0),\n",
       " (257, 'Bob', 'Dice Set', '2025-02-02', 15.69),\n",
       " (265, 'Bob', 'Card Sleeves', '2025-03-14', 50.91),\n",
       " (267, 'Bob', 'Card Sleeves', '2025-03-03', 47.14),\n",
       " (274, 'Bob', 'Card Sleeves', '2025-02-16', 28.15),\n",
       " (276, 'Bob', 'Card Sleeves', '2025-02-19', 47.64),\n",
       " (278, 'Bob', 'Dice Set', '2025-01-14', 32.76),\n",
       " (280, 'Bob', 'Dice Set', '2025-03-31', 12.92),\n",
       " (290, 'Bob', 'Card Sleeves', '2025-03-22', 72.46),\n",
       " (291, 'Bob', 'Dice Set', '2025-01-24', 71.0),\n",
       " (294, 'Bob', 'Card Sleeves', '2025-03-18', 75.19),\n",
       " (309, 'Bob', 'Dice Set', '2025-03-21', 19.59),\n",
       " (313, 'Bob', 'Board Game', '2025-04-07', 65.05),\n",
       " (340, 'Bob', 'Dice Set', '2025-02-21', 24.03),\n",
       " (346, 'Bob', 'Board Game', '2025-03-11', 50.54),\n",
       " (347, 'Bob', 'Board Game', '2025-01-17', 27.23),\n",
       " (348, 'Bob', 'Board Game', '2025-03-02', 76.99),\n",
       " (351, 'Bob', 'Card Sleeves', '2025-04-05', 40.8),\n",
       " (352, 'Bob', 'Board Game', '2025-01-05', 48.2),\n",
       " (373, 'Bob', 'Card Sleeves', '2025-02-23', 74.89),\n",
       " (376, 'Bob', 'Card Sleeves', '2025-02-23', 46.04),\n",
       " (383, 'Bob', 'Dice Set', '2025-01-11', 22.95),\n",
       " (385, 'Bob', 'Card Sleeves', '2025-01-14', 79.55),\n",
       " (397, 'Bob', 'Board Game', '2025-03-23', 13.24),\n",
       " (401, 'Bob', 'Card Sleeves', '2025-01-06', 22.39),\n",
       " (407, 'Bob', 'Board Game', '2025-02-09', 61.09),\n",
       " (410, 'Bob', 'Card Sleeves', '2025-02-06', 36.53),\n",
       " (412, 'Bob', 'Board Game', '2025-03-08', 61.2),\n",
       " (414, 'Bob', 'Dice Set', '2025-03-10', 14.82),\n",
       " (426, 'Bob', 'Card Sleeves', '2025-02-03', 65.27),\n",
       " (428, 'Bob', 'Dice Set', '2025-01-29', 31.06),\n",
       " (435, 'Bob', 'Board Game', '2025-02-17', 41.57),\n",
       " (440, 'Bob', 'Card Sleeves', '2025-04-02', 21.56),\n",
       " (444, 'Bob', 'Card Sleeves', '2025-01-27', 19.43),\n",
       " (458, 'Bob', 'Board Game', '2025-01-27', 52.2),\n",
       " (461, 'Bob', 'Board Game', '2025-03-11', 50.68),\n",
       " (467, 'Bob', 'Board Game', '2025-04-06', 62.85),\n",
       " (471, 'Bob', 'Board Game', '2025-01-24', 60.91),\n",
       " (495, 'Bob', 'Card Sleeves', '2025-01-21', 75.38),\n",
       " (498, 'Bob', 'Board Game', '2025-04-06', 26.41)]"
      ]
     },
     "execution_count": 2,
     "metadata": {},
     "output_type": "execute_result"
    }
   ],
   "source": [
    "query = \"SELECT * FROM sales WHERE customer = 'Bob'\"\n",
    "cursor.execute(query)\n",
    "cursor.fetchall()"
   ]
  },
  {
   "cell_type": "markdown",
   "id": "591b615a",
   "metadata": {},
   "source": [
    "Now, let’s use `EXPLAIN QUERY PLAN` to see how SQLite will execute that same query:"
   ]
  },
  {
   "cell_type": "code",
   "execution_count": 3,
   "id": "4e765df5",
   "metadata": {},
   "outputs": [
    {
     "name": "stdout",
     "output_type": "stream",
     "text": [
      "(2, 0, 216, 'SCAN sales')\n"
     ]
    }
   ],
   "source": [
    "cursor.execute(f\"EXPLAIN QUERY PLAN {query}\")\n",
    "for row in cursor.fetchall():\n",
    "    print(row)"
   ]
  },
  {
   "cell_type": "markdown",
   "id": "7911ce78",
   "metadata": {},
   "source": [
    "This means SQLite is doing a full table scan — it has to check every row to find customers named “Bob”."
   ]
  },
  {
   "cell_type": "markdown",
   "id": "686b9441",
   "metadata": {},
   "source": [
    "### 👀 Interpretation\n",
    "\n",
    "Output format:\n",
    "\n",
    "```\n",
    "(<selectid>, <order>, <from>, <detail>)\n",
    "```\n",
    "\n",
    "* **selectid:** ID of the `SELECT` query (0 for main query, >0 for subqueries)\n",
    "* **order:** Evaluation order of the `FROM` clause elements\n",
    "* **from:** Table index in the `FROM` clause (0 if only one table)\n",
    "* **detail:** How SQLite will access the data: scan, index, etc.\n"
   ]
  },
  {
   "cell_type": "markdown",
   "id": "7da62171",
   "metadata": {},
   "source": [
    "### 🧩 Step 3: Create an Index to Improve the Plan\n",
    "\n",
    "Let’s add an index on the customer column and rerun the plan."
   ]
  },
  {
   "cell_type": "code",
   "execution_count": 4,
   "id": "c27ba22e",
   "metadata": {},
   "outputs": [],
   "source": [
    "cursor.execute(\"CREATE INDEX idx_customer ON sales(customer)\")\n",
    "conn.commit()"
   ]
  },
  {
   "cell_type": "markdown",
   "id": "d32fe3c6",
   "metadata": {},
   "source": [
    "Now run the same EXPLAIN QUERY PLAN:"
   ]
  },
  {
   "cell_type": "code",
   "execution_count": 5,
   "id": "2fd0a063",
   "metadata": {},
   "outputs": [
    {
     "name": "stdout",
     "output_type": "stream",
     "text": [
      "(3, 0, 62, 'SEARCH sales USING INDEX idx_customer (customer=?)')\n"
     ]
    }
   ],
   "source": [
    "cursor.execute(f\"EXPLAIN QUERY PLAN {query}\")\n",
    "for row in cursor.fetchall():\n",
    "    print(row)"
   ]
  },
  {
   "cell_type": "markdown",
   "id": "d29d5b10",
   "metadata": {},
   "source": [
    "Now SQLite knows how the customer values are structured (via the index), it avoids the table scan. This is a key optimization concept."
   ]
  },
  {
   "cell_type": "markdown",
   "id": "9330d187",
   "metadata": {},
   "source": [
    "### 🛠️ Step 4: Use EXPLAIN to See Bytecode\n",
    "\n",
    "Let’s now explore what `EXPLAIN` does. This is more advanced and shows what SQLite will do step-by-step *internally* when running a query."
   ]
  },
  {
   "cell_type": "code",
   "execution_count": 6,
   "id": "b2069d5c",
   "metadata": {},
   "outputs": [
    {
     "name": "stdout",
     "output_type": "stream",
     "text": [
      "(0, 'Init', 0, 16, 0, None, 0, None)\n",
      "(1, 'OpenRead', 0, 2, 0, '5', 0, None)\n",
      "(2, 'OpenRead', 1, 10, 0, 'k(2,,)', 2, None)\n",
      "(3, 'String8', 0, 1, 0, 'Bob', 0, None)\n",
      "(4, 'SeekGE', 1, 15, 1, '1', 0, None)\n",
      "(5, 'IdxGT', 1, 15, 1, '1', 0, None)\n",
      "(6, 'DeferredSeek', 1, 0, 0, None, 0, None)\n",
      "(7, 'IdxRowid', 1, 2, 0, None, 0, None)\n",
      "(8, 'Column', 1, 0, 3, None, 0, None)\n",
      "(9, 'Column', 0, 2, 4, None, 0, None)\n"
     ]
    }
   ],
   "source": [
    "cursor.execute(f\"EXPLAIN {query}\")\n",
    "bytecode = cursor.fetchall()\n",
    "\n",
    "# Print first 10 instructions\n",
    "for row in bytecode[:10]:\n",
    "    print(row)"
   ]
  },
  {
   "cell_type": "markdown",
   "id": "b02a32f7",
   "metadata": {},
   "source": [
    "**🧠 What does this output mean?**\n",
    "\n",
    "```\n",
    "(addr, opcode, p1, p2, p3, p4, p5)\n",
    "```\n",
    "\n",
    "* **addr:** Address of the instruction in the bytecode\n",
    "* **opcode:** The operation to be performed (e.g., `OpenRead`, `Column`, `SeekGE`, etc.)\n",
    "* **p1-p5:** Operands used by the opcode -- meaning depends on the operation\n",
    "* **p4:** Extra text info (e.g., values, column names)\n",
    "\n",
    "**🧾 Example breakdown**\n",
    "\n",
    "```\n",
    "(0, 'Init', 0, 10, 0, '', '')\n",
    "(1, 'OpenRead', 0, 2, -1, 'sales', '')\n",
    "(2, 'String8', 0, 1, 0, 'Bob', '')\n",
    "(3, 'SeekGE', 0, 5, 1, '', '')\n",
    "```\n",
    "\n",
    "* **Init:** Starts the program\n",
    "* **OpenRead:** Opens the sales table for reading\n",
    "* **String8:** Loads the string 'Bob' into a register\n",
    "* **SeekGE:** Moves to the first row with customer >= 'Bob' using the index (if exists)\n",
    "\n",
    "🔬 This is how SQLite interprets the SQL into a series of internal instructions.\n",
    "\n",
    "Should you use this? Maybe. But this is too advanced.\n"
   ]
  },
  {
   "cell_type": "markdown",
   "id": "52f9d8d7",
   "metadata": {},
   "source": [
    "## 🧠 SQLite Query Planning Summary\n",
    "\n",
    "EXPLAIN QUERY PLAN\n",
    "\n",
    "- ✅ Shows whether SQLite will scan the table or use an index\n",
    "- ✅ Easy to interpret\n",
    "- ✅ Best tool for query optimization and teaching\n",
    "\n",
    "EXPLAIN\n",
    "\n",
    "- 🧠 Shows virtual machine (VM) bytecode steps\n",
    "- ❌ Not beginner-friendly\n",
    "- 🧪 Useful for internal debugging or performance analysis\n",
    "\n",
    "**💡 Key Insight:** Indexes change how SQLite executes queries. Use EXPLAIN QUERY PLAN to confirm your queries are efficient!\n"
   ]
  },
  {
   "cell_type": "markdown",
   "id": "721788ee",
   "metadata": {},
   "source": []
  }
 ],
 "metadata": {
  "kernelspec": {
   "display_name": ".venv",
   "language": "python",
   "name": "python3"
  },
  "language_info": {
   "codemirror_mode": {
    "name": "ipython",
    "version": 3
   },
   "file_extension": ".py",
   "mimetype": "text/x-python",
   "name": "python",
   "nbconvert_exporter": "python",
   "pygments_lexer": "ipython3",
   "version": "3.13.3"
  }
 },
 "nbformat": 4,
 "nbformat_minor": 5
}