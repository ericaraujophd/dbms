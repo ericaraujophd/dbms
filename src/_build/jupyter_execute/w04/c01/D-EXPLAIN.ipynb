{
 "cells": [
  {
   "cell_type": "markdown",
   "id": "530a536b",
   "metadata": {},
   "source": [
    "# EXPLAIN and EXPLAIN QUERY PLAN"
   ]
  },
  {
   "cell_type": "markdown",
   "id": "a2a588e0",
   "metadata": {},
   "source": [
    "## 🧠 What is EXPLAIN?\n",
    "\n",
    "SQLite provides two commands to understand how your queries will be executed:\n",
    "\n",
    "* **EXPLAIN QUERY PLAN:** Gives a high-level overview of how a query will be run\n",
    "* **EXPLAIN:** Provides a **low-level**, detailed breakdown of the query execution plan\n",
    "\n",
    "In most cases, you will use `EXPLAIN QUERY PLAN` for query optimization and teaching.\n",
    "\n",
    "`EXPLAIN` is more technical and useful if you’re digging into SQLite internals.\n"
   ]
  },
  {
   "cell_type": "markdown",
   "id": "97ccc136",
   "metadata": {},
   "source": [
    "## 🧱 Step 1: Create a Table and Populate It\n",
    "\n",
    "We’ll create a small sales table with some customer purchase data to use in our examples."
   ]
  },
  {
   "cell_type": "code",
   "execution_count": 1,
   "id": "c8d4d6c5",
   "metadata": {},
   "outputs": [],
   "source": [
    "import sqlite3\n",
    "import random\n",
    "from datetime import datetime, timedelta\n",
    "\n",
    "# Start a fresh in-memory database\n",
    "conn = sqlite3.connect(\":memory:\")\n",
    "cursor = conn.cursor()\n",
    "\n",
    "# Create a simple table for purchases\n",
    "cursor.execute('''\n",
    "CREATE TABLE sales (\n",
    "    id INTEGER PRIMARY KEY AUTOINCREMENT,\n",
    "    customer TEXT,\n",
    "    product TEXT,\n",
    "    sale_date TEXT,\n",
    "    amount REAL\n",
    ")\n",
    "''')\n",
    "\n",
    "# Fill the table with 500 sample records\n",
    "customers = ['Alice', 'Bob', 'Carol', 'David', 'Eve']\n",
    "products = ['Board Game', 'Dice Set', 'Card Sleeves']\n",
    "\n",
    "for _ in range(500):\n",
    "    customer = random.choice(customers)\n",
    "    product = random.choice(products)\n",
    "    days_ago = random.randint(0, 100)\n",
    "    date = (datetime.now() - timedelta(days=days_ago)).strftime('%Y-%m-%d')\n",
    "    amount = round(random.uniform(10, 80), 2)\n",
    "    cursor.execute(\"INSERT INTO sales (customer, product, sale_date, amount) VALUES (?, ?, ?, ?)\",\n",
    "                   (customer, product, date, amount))\n",
    "\n",
    "conn.commit()"
   ]
  },
  {
   "cell_type": "markdown",
   "id": "293d53d8",
   "metadata": {},
   "source": [
    "✅ Main point: You should understand how indexes affect performance. But before we create any indexes, let’s see how SQLite plans queries with no help."
   ]
  },
  {
   "cell_type": "markdown",
   "id": "4b888818",
   "metadata": {},
   "source": [
    "## 🔍 Step 2: Run a Query and Inspect the Plan (No Index Yet)\n",
    "\n",
    "We’ll inspect a query that searches for rows by customer. First, we run the query as usual:"
   ]
  },
  {
   "cell_type": "code",
   "execution_count": 2,
   "id": "637357d8",
   "metadata": {},
   "outputs": [
    {
     "data": {
      "text/plain": [
       "[(12, 'Bob', 'Card Sleeves', '2025-03-03', 71.87),\n",
       " (15, 'Bob', 'Card Sleeves', '2025-02-02', 54.11),\n",
       " (23, 'Bob', 'Card Sleeves', '2025-03-27', 36.34),\n",
       " (26, 'Bob', 'Dice Set', '2025-03-15', 79.26),\n",
       " (30, 'Bob', 'Board Game', '2025-01-28', 47.24),\n",
       " (32, 'Bob', 'Card Sleeves', '2025-04-03', 44.45),\n",
       " (34, 'Bob', 'Card Sleeves', '2025-01-21', 27.54),\n",
       " (35, 'Bob', 'Board Game', '2025-04-13', 14.94),\n",
       " (36, 'Bob', 'Board Game', '2025-03-28', 20.38),\n",
       " (39, 'Bob', 'Dice Set', '2025-02-10', 51.21),\n",
       " (43, 'Bob', 'Card Sleeves', '2025-02-02', 61.49),\n",
       " (48, 'Bob', 'Board Game', '2025-03-08', 43.75),\n",
       " (62, 'Bob', 'Dice Set', '2025-03-02', 44.99),\n",
       " (69, 'Bob', 'Dice Set', '2025-03-08', 46.25),\n",
       " (71, 'Bob', 'Card Sleeves', '2025-01-23', 45.4),\n",
       " (75, 'Bob', 'Dice Set', '2025-02-22', 51.28),\n",
       " (80, 'Bob', 'Dice Set', '2025-02-10', 29.51),\n",
       " (81, 'Bob', 'Board Game', '2025-02-26', 51.85),\n",
       " (93, 'Bob', 'Dice Set', '2025-01-17', 74.89),\n",
       " (96, 'Bob', 'Board Game', '2025-04-06', 27.68),\n",
       " (102, 'Bob', 'Board Game', '2025-03-24', 10.3),\n",
       " (104, 'Bob', 'Dice Set', '2025-04-02', 74.76),\n",
       " (107, 'Bob', 'Card Sleeves', '2025-03-28', 15.99),\n",
       " (121, 'Bob', 'Dice Set', '2025-04-02', 61.58),\n",
       " (123, 'Bob', 'Dice Set', '2025-01-20', 41.03),\n",
       " (127, 'Bob', 'Board Game', '2025-02-14', 33.06),\n",
       " (128, 'Bob', 'Dice Set', '2025-03-20', 19.86),\n",
       " (137, 'Bob', 'Card Sleeves', '2025-01-23', 48.69),\n",
       " (144, 'Bob', 'Card Sleeves', '2025-04-05', 36.37),\n",
       " (151, 'Bob', 'Dice Set', '2025-01-21', 19.71),\n",
       " (155, 'Bob', 'Board Game', '2025-03-13', 50.26),\n",
       " (156, 'Bob', 'Card Sleeves', '2025-01-18', 21.19),\n",
       " (160, 'Bob', 'Dice Set', '2025-02-14', 78.35),\n",
       " (161, 'Bob', 'Dice Set', '2025-03-30', 41.02),\n",
       " (162, 'Bob', 'Card Sleeves', '2025-02-17', 68.7),\n",
       " (163, 'Bob', 'Board Game', '2025-02-02', 64.15),\n",
       " (164, 'Bob', 'Board Game', '2025-04-13', 28.41),\n",
       " (168, 'Bob', 'Card Sleeves', '2025-01-28', 61.14),\n",
       " (169, 'Bob', 'Card Sleeves', '2025-03-06', 44.64),\n",
       " (181, 'Bob', 'Card Sleeves', '2025-03-24', 12.14),\n",
       " (191, 'Bob', 'Dice Set', '2025-03-21', 17.02),\n",
       " (194, 'Bob', 'Board Game', '2025-03-17', 64.99),\n",
       " (195, 'Bob', 'Board Game', '2025-03-08', 73.85),\n",
       " (197, 'Bob', 'Board Game', '2025-03-30', 29.72),\n",
       " (200, 'Bob', 'Board Game', '2025-04-07', 79.42),\n",
       " (202, 'Bob', 'Card Sleeves', '2025-01-11', 21.42),\n",
       " (208, 'Bob', 'Dice Set', '2025-03-12', 14.92),\n",
       " (211, 'Bob', 'Card Sleeves', '2025-01-10', 37.99),\n",
       " (216, 'Bob', 'Dice Set', '2025-02-23', 71.89),\n",
       " (221, 'Bob', 'Dice Set', '2025-02-25', 41.91),\n",
       " (224, 'Bob', 'Dice Set', '2025-01-05', 55.78),\n",
       " (236, 'Bob', 'Card Sleeves', '2025-02-01', 61.16),\n",
       " (239, 'Bob', 'Card Sleeves', '2025-02-06', 50.07),\n",
       " (240, 'Bob', 'Board Game', '2025-03-30', 48.47),\n",
       " (241, 'Bob', 'Card Sleeves', '2025-02-27', 29.95),\n",
       " (248, 'Bob', 'Dice Set', '2025-01-15', 43.29),\n",
       " (253, 'Bob', 'Dice Set', '2025-02-27', 14.36),\n",
       " (256, 'Bob', 'Board Game', '2025-01-31', 16.7),\n",
       " (258, 'Bob', 'Card Sleeves', '2025-04-12', 68.99),\n",
       " (263, 'Bob', 'Dice Set', '2025-01-16', 22.17),\n",
       " (264, 'Bob', 'Dice Set', '2025-03-29', 45.46),\n",
       " (266, 'Bob', 'Dice Set', '2025-03-29', 42.28),\n",
       " (269, 'Bob', 'Board Game', '2025-03-11', 17.95),\n",
       " (270, 'Bob', 'Board Game', '2025-03-02', 34.81),\n",
       " (274, 'Bob', 'Board Game', '2025-04-12', 75.62),\n",
       " (276, 'Bob', 'Card Sleeves', '2025-03-03', 11.12),\n",
       " (278, 'Bob', 'Dice Set', '2025-01-30', 15.7),\n",
       " (289, 'Bob', 'Dice Set', '2025-02-09', 35.1),\n",
       " (292, 'Bob', 'Card Sleeves', '2025-02-20', 67.96),\n",
       " (295, 'Bob', 'Card Sleeves', '2025-02-26', 37.12),\n",
       " (299, 'Bob', 'Card Sleeves', '2025-04-05', 67.35),\n",
       " (302, 'Bob', 'Board Game', '2025-01-19', 33.13),\n",
       " (306, 'Bob', 'Dice Set', '2025-02-28', 76.91),\n",
       " (324, 'Bob', 'Card Sleeves', '2025-01-07', 68.36),\n",
       " (331, 'Bob', 'Dice Set', '2025-03-23', 39.73),\n",
       " (341, 'Bob', 'Card Sleeves', '2025-02-05', 51.9),\n",
       " (342, 'Bob', 'Dice Set', '2025-04-08', 51.58),\n",
       " (344, 'Bob', 'Card Sleeves', '2025-02-13', 79.52),\n",
       " (354, 'Bob', 'Dice Set', '2025-03-09', 47.51),\n",
       " (357, 'Bob', 'Dice Set', '2025-02-08', 64.89),\n",
       " (361, 'Bob', 'Dice Set', '2025-02-06', 42.61),\n",
       " (364, 'Bob', 'Card Sleeves', '2025-04-11', 23.03),\n",
       " (367, 'Bob', 'Card Sleeves', '2025-04-13', 75.3),\n",
       " (369, 'Bob', 'Dice Set', '2025-03-21', 27.2),\n",
       " (371, 'Bob', 'Dice Set', '2025-03-16', 76.04),\n",
       " (372, 'Bob', 'Dice Set', '2025-04-10', 45.18),\n",
       " (391, 'Bob', 'Card Sleeves', '2025-04-08', 58.36),\n",
       " (392, 'Bob', 'Card Sleeves', '2025-03-01', 78.58),\n",
       " (394, 'Bob', 'Dice Set', '2025-03-23', 18.74),\n",
       " (398, 'Bob', 'Dice Set', '2025-02-12', 77.82),\n",
       " (399, 'Bob', 'Card Sleeves', '2025-04-11', 61.16),\n",
       " (401, 'Bob', 'Dice Set', '2025-02-23', 37.18),\n",
       " (402, 'Bob', 'Dice Set', '2025-01-29', 54.46),\n",
       " (407, 'Bob', 'Card Sleeves', '2025-01-04', 68.06),\n",
       " (422, 'Bob', 'Card Sleeves', '2025-02-02', 79.32),\n",
       " (427, 'Bob', 'Board Game', '2025-02-15', 63.96),\n",
       " (430, 'Bob', 'Board Game', '2025-02-19', 13.29),\n",
       " (446, 'Bob', 'Dice Set', '2025-01-03', 61.42),\n",
       " (465, 'Bob', 'Board Game', '2025-01-06', 47.27),\n",
       " (466, 'Bob', 'Board Game', '2025-01-26', 35.33),\n",
       " (472, 'Bob', 'Board Game', '2025-03-18', 44.47),\n",
       " (487, 'Bob', 'Card Sleeves', '2025-03-30', 66.61),\n",
       " (497, 'Bob', 'Dice Set', '2025-01-14', 79.76),\n",
       " (500, 'Bob', 'Dice Set', '2025-02-01', 67.52)]"
      ]
     },
     "execution_count": 2,
     "metadata": {},
     "output_type": "execute_result"
    }
   ],
   "source": [
    "query = \"SELECT * FROM sales WHERE customer = 'Bob'\"\n",
    "cursor.execute(query)\n",
    "cursor.fetchall()"
   ]
  },
  {
   "cell_type": "markdown",
   "id": "591b615a",
   "metadata": {},
   "source": [
    "Now, let’s use `EXPLAIN QUERY PLAN` to see how SQLite will execute that same query:"
   ]
  },
  {
   "cell_type": "code",
   "execution_count": 3,
   "id": "4e765df5",
   "metadata": {},
   "outputs": [
    {
     "name": "stdout",
     "output_type": "stream",
     "text": [
      "(2, 0, 216, 'SCAN sales')\n"
     ]
    }
   ],
   "source": [
    "cursor.execute(f\"EXPLAIN QUERY PLAN {query}\")\n",
    "for row in cursor.fetchall():\n",
    "    print(row)"
   ]
  },
  {
   "cell_type": "markdown",
   "id": "7911ce78",
   "metadata": {},
   "source": [
    "This means SQLite is doing a full table scan — it has to check every row to find customers named “Bob”."
   ]
  },
  {
   "cell_type": "markdown",
   "id": "686b9441",
   "metadata": {},
   "source": [
    "### 👀 Interpretation\n",
    "\n",
    "Output format:\n",
    "\n",
    "```\n",
    "(<selectid>, <order>, <from>, <detail>)\n",
    "```\n",
    "\n",
    "* **selectid:** ID of the `SELECT` query (0 for main query, >0 for subqueries)\n",
    "* **order:** Evaluation order of the `FROM` clause elements\n",
    "* **from:** Table index in the `FROM` clause (0 if only one table)\n",
    "* **detail:** How SQLite will access the data: scan, index, etc.\n"
   ]
  },
  {
   "cell_type": "markdown",
   "id": "7da62171",
   "metadata": {},
   "source": [
    "### 🧩 Step 3: Create an Index to Improve the Plan\n",
    "\n",
    "Let’s add an index on the customer column and rerun the plan."
   ]
  },
  {
   "cell_type": "code",
   "execution_count": 4,
   "id": "c27ba22e",
   "metadata": {},
   "outputs": [],
   "source": [
    "cursor.execute(\"CREATE INDEX idx_customer ON sales(customer)\")\n",
    "conn.commit()"
   ]
  },
  {
   "cell_type": "markdown",
   "id": "d32fe3c6",
   "metadata": {},
   "source": [
    "Now run the same EXPLAIN QUERY PLAN:"
   ]
  },
  {
   "cell_type": "code",
   "execution_count": 5,
   "id": "2fd0a063",
   "metadata": {},
   "outputs": [
    {
     "name": "stdout",
     "output_type": "stream",
     "text": [
      "(3, 0, 62, 'SEARCH sales USING INDEX idx_customer (customer=?)')\n"
     ]
    }
   ],
   "source": [
    "cursor.execute(f\"EXPLAIN QUERY PLAN {query}\")\n",
    "for row in cursor.fetchall():\n",
    "    print(row)"
   ]
  },
  {
   "cell_type": "markdown",
   "id": "d29d5b10",
   "metadata": {},
   "source": [
    "Now SQLite knows how the customer values are structured (via the index), it avoids the table scan. This is a key optimization concept."
   ]
  },
  {
   "cell_type": "markdown",
   "id": "9330d187",
   "metadata": {},
   "source": [
    "### 🛠️ Step 4: Use EXPLAIN to See Bytecode\n",
    "\n",
    "Let’s now explore what `EXPLAIN` does. This is more advanced and shows what SQLite will do step-by-step *internally* when running a query."
   ]
  },
  {
   "cell_type": "code",
   "execution_count": 6,
   "id": "b2069d5c",
   "metadata": {},
   "outputs": [
    {
     "name": "stdout",
     "output_type": "stream",
     "text": [
      "(0, 'Init', 0, 16, 0, None, 0, None)\n",
      "(1, 'OpenRead', 0, 2, 0, '5', 0, None)\n",
      "(2, 'OpenRead', 1, 10, 0, 'k(2,,)', 2, None)\n",
      "(3, 'String8', 0, 1, 0, 'Bob', 0, None)\n",
      "(4, 'SeekGE', 1, 15, 1, '1', 0, None)\n",
      "(5, 'IdxGT', 1, 15, 1, '1', 0, None)\n",
      "(6, 'DeferredSeek', 1, 0, 0, None, 0, None)\n",
      "(7, 'IdxRowid', 1, 2, 0, None, 0, None)\n",
      "(8, 'Column', 1, 0, 3, None, 0, None)\n",
      "(9, 'Column', 0, 2, 4, None, 0, None)\n"
     ]
    }
   ],
   "source": [
    "cursor.execute(f\"EXPLAIN {query}\")\n",
    "bytecode = cursor.fetchall()\n",
    "\n",
    "# Print first 10 instructions\n",
    "for row in bytecode[:10]:\n",
    "    print(row)"
   ]
  },
  {
   "cell_type": "markdown",
   "id": "b02a32f7",
   "metadata": {},
   "source": [
    "**🧠 What does this output mean?**\n",
    "\n",
    "```\n",
    "(addr, opcode, p1, p2, p3, p4, p5)\n",
    "```\n",
    "\n",
    "* **addr:** Address of the instruction in the bytecode\n",
    "* **opcode:** The operation to be performed (e.g., `OpenRead`, `Column`, `SeekGE`, etc.)\n",
    "* **p1-p5:** Operands used by the opcode -- meaning depends on the operation\n",
    "* **p4:** Extra text info (e.g., values, column names)\n",
    "\n",
    "**🧾 Example breakdown**\n",
    "\n",
    "```\n",
    "(0, 'Init', 0, 10, 0, '', '')\n",
    "(1, 'OpenRead', 0, 2, -1, 'sales', '')\n",
    "(2, 'String8', 0, 1, 0, 'Bob', '')\n",
    "(3, 'SeekGE', 0, 5, 1, '', '')\n",
    "```\n",
    "\n",
    "* **Init:** Starts the program\n",
    "* **OpenRead:** Opens the sales table for reading\n",
    "* **String8:** Loads the string 'Bob' into a register\n",
    "* **SeekGE:** Moves to the first row with customer >= 'Bob' using the index (if exists)\n",
    "\n",
    "🔬 This is how SQLite interprets the SQL into a series of internal instructions.\n",
    "\n",
    "Should you use this? Maybe. But this is too advanced.\n"
   ]
  },
  {
   "cell_type": "markdown",
   "id": "52f9d8d7",
   "metadata": {},
   "source": [
    "## 🧠 SQLite Query Planning Summary\n",
    "\n",
    "EXPLAIN QUERY PLAN\n",
    "\n",
    "- ✅ Shows whether SQLite will scan the table or use an index\n",
    "- ✅ Easy to interpret\n",
    "- ✅ Best tool for query optimization and teaching\n",
    "\n",
    "EXPLAIN\n",
    "\n",
    "- 🧠 Shows virtual machine (VM) bytecode steps\n",
    "- ❌ Not beginner-friendly\n",
    "- 🧪 Useful for internal debugging or performance analysis\n",
    "\n",
    "**💡 Key Insight:** Indexes change how SQLite executes queries. Use EXPLAIN QUERY PLAN to confirm your queries are efficient!\n"
   ]
  },
  {
   "cell_type": "markdown",
   "id": "721788ee",
   "metadata": {},
   "source": []
  }
 ],
 "metadata": {
  "kernelspec": {
   "display_name": ".venv",
   "language": "python",
   "name": "python3"
  },
  "language_info": {
   "codemirror_mode": {
    "name": "ipython",
    "version": 3
   },
   "file_extension": ".py",
   "mimetype": "text/x-python",
   "name": "python",
   "nbconvert_exporter": "python",
   "pygments_lexer": "ipython3",
   "version": "3.13.3"
  }
 },
 "nbformat": 4,
 "nbformat_minor": 5
}