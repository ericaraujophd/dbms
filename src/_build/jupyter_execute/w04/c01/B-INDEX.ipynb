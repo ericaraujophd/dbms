{
 "cells": [
  {
   "cell_type": "markdown",
   "id": "c73661a1",
   "metadata": {},
   "source": [
    "# INDEX\n",
    "\n",
    "The main functionality of Indexes in SQL is to speed up the retrieval of rows from a table. And that's how they work. They are like a book index, which allows you to find the page number of a specific topic quickly. \n",
    "\n",
    "In SQL, an index is a data structure that improves the speed of data retrieval operations on a database table at the cost of additional space and slower writes."
   ]
  },
  {
   "cell_type": "markdown",
   "id": "7420901b",
   "metadata": {
    "slideshow": {
     "slide_type": "subslide"
    },
    "vscode": {
     "languageId": "plaintext"
    }
   },
   "source": [
    "## How to CREATE INDEX in SQL\n",
    "\n",
    "```sql\n",
    "CREATE INDEX index_name\n",
    "ON table_name (column1, column2, ...);\n",
    "```\n",
    "\n",
    "This creates an index on the specified columns of the table. The index name must be unique within the database."
   ]
  },
  {
   "cell_type": "markdown",
   "id": "dcf250ca",
   "metadata": {
    "slideshow": {
     "slide_type": "subslide"
    }
   },
   "source": [
    "## How to DROP INDEX in SQL\n",
    "\n",
    "```sql\n",
    "DROP INDEX index_name;\n",
    "```\n",
    "\n",
    "This removes the specified index from the database. The index name must be unique within the database."
   ]
  },
  {
   "cell_type": "markdown",
   "id": "4dd9f569",
   "metadata": {
    "slideshow": {
     "slide_type": "subslide"
    }
   },
   "source": [
    "## 📘 SQLite Indexes – A Practical Demo\n",
    "\n",
    "From this point onwards we will be using SQLite to demonstrate the concepts of indexes."
   ]
  },
  {
   "cell_type": "code",
   "execution_count": 1,
   "id": "14800904",
   "metadata": {},
   "outputs": [],
   "source": [
    "# First, let's import the sqlite3 module and create a new in-memory database\n",
    "import sqlite3\n",
    "conn = sqlite3.connect(\":memory:\")\n",
    "cursor = conn.cursor()"
   ]
  },
  {
   "cell_type": "markdown",
   "id": "a82cdb53",
   "metadata": {
    "slideshow": {
     "slide_type": "subslide"
    }
   },
   "source": [
    "### 🧱 1. Creating a Sample Table Without Indexes\n",
    "\n",
    "Let's create a simple table to simulate sales at a board game café. Each sale records the customer name, game title, date, and sale amount.\n",
    "\n",
    "```sql\n",
    "CREATE TABLE sales (\n",
    "    sale_id INTEGER PRIMARY KEY AUTOINCREMENT,\n",
    "    customer_name TEXT,\n",
    "    game_title TEXT,\n",
    "    sale_date TEXT,\n",
    "    amount REAL\n",
    "```"
   ]
  },
  {
   "cell_type": "code",
   "execution_count": 2,
   "id": "eb1125ea",
   "metadata": {},
   "outputs": [
    {
     "data": {
      "text/plain": [
       "<sqlite3.Cursor at 0x107d19940>"
      ]
     },
     "execution_count": 2,
     "metadata": {},
     "output_type": "execute_result"
    }
   ],
   "source": [
    "# Create a table for a board game café sales register\n",
    "cursor.execute('''\n",
    "CREATE TABLE sales (\n",
    "    sale_id INTEGER PRIMARY KEY AUTOINCREMENT,\n",
    "    customer_name TEXT,\n",
    "    game_title TEXT,\n",
    "    sale_date TEXT,\n",
    "    amount REAL\n",
    ")\n",
    "''')"
   ]
  },
  {
   "cell_type": "markdown",
   "id": "6710ef03",
   "metadata": {
    "slideshow": {
     "slide_type": "subslide"
    }
   },
   "source": [
    "We now generate and insert **1,000 rows of random data** to simulate realistic querying conditions.\n",
    "\n",
    "```python\n",
    "# Insert sample data\n",
    "import random\n",
    "from datetime import datetime, timedelta\n",
    "\n",
    "names = ['Alice', 'Bob', 'Charlie', 'Diana', 'Eve']\n",
    "games = ['Catan', 'Ticket to Ride', 'Carcassonne', 'Pandemic', 'Azul']\n",
    "\n",
    "# Generate 1000 random rows\n",
    "for _ in range(1000):\n",
    "    name = random.choice(names)\n",
    "    game = random.choice(games)\n",
    "    days_ago = random.randint(0, 365)\n",
    "    date = (datetime.now() - timedelta(days=days_ago)).strftime('%Y-%m-%d')\n",
    "    amount = round(random.uniform(20, 60), 2)\n",
    "    cursor.execute('INSERT INTO sales (customer_name, game_title, sale_date, amount) VALUES (?, ?, ?, ?)',\n",
    "                   (name, game, date, amount))\n",
    "    \n",
    "conn.commit()\n",
    "```"
   ]
  },
  {
   "cell_type": "code",
   "execution_count": 3,
   "id": "5d265e1f",
   "metadata": {},
   "outputs": [],
   "source": [
    "# Insert sample data\n",
    "import random\n",
    "from datetime import datetime, timedelta\n",
    "\n",
    "names = ['Alice', 'Bob', 'Charlie', 'Diana', 'Eve']\n",
    "games = ['Catan', 'Ticket to Ride', 'Carcassonne', 'Pandemic', 'Azul']\n",
    "\n",
    "# Generate 1000 random rows\n",
    "for _ in range(1000):\n",
    "    name = random.choice(names)\n",
    "    game = random.choice(games)\n",
    "    days_ago = random.randint(0, 365)\n",
    "    date = (datetime.now() - timedelta(days=days_ago)).strftime('%Y-%m-%d')\n",
    "    amount = round(random.uniform(20, 60), 2)\n",
    "    cursor.execute('INSERT INTO sales (customer_name, game_title, sale_date, amount) VALUES (?, ?, ?, ?)',\n",
    "                   (name, game, date, amount))\n",
    "    \n",
    "conn.commit()"
   ]
  },
  {
   "cell_type": "markdown",
   "id": "5ce62e10",
   "metadata": {
    "slideshow": {
     "slide_type": "subslide"
    }
   },
   "source": [
    "### 🔍 2. Querying Without an Index\n",
    "\n",
    "Let’s run a query that filters by `customer_name`. Since there’s no index yet, SQLite will scan the entire table to find matches.\n",
    "\n",
    "```sql\n",
    "EXPLAIN QUERY PLAN SELECT * FROM sales WHERE customer_name = 'Alice';\n",
    "```"
   ]
  },
  {
   "cell_type": "code",
   "execution_count": 4,
   "id": "74858f56",
   "metadata": {},
   "outputs": [
    {
     "data": {
      "text/plain": [
       "[(2, 0, 216, 'SCAN sales')]"
      ]
     },
     "execution_count": 4,
     "metadata": {},
     "output_type": "execute_result"
    }
   ],
   "source": [
    "query = \"SELECT * FROM sales WHERE customer_name = 'Alice'\"\n",
    "cursor.execute(f\"EXPLAIN QUERY PLAN {query}\")\n",
    "cursor.fetchall()"
   ]
  },
  {
   "cell_type": "markdown",
   "id": "b9cc9d22",
   "metadata": {
    "slideshow": {
     "slide_type": "subslide"
    }
   },
   "source": [
    "This means SQLite is doing a **full table scan**, which is inefficient for large datasets.\n",
    "\n",
    "We can also time the query:\n",
    "\n",
    "```python\n",
    "import time\n",
    "start = time.time()\n",
    "cursor.execute(query)\n",
    "results = cursor.fetchall()\n",
    "end = time.time()\n",
    "print(f\"Query returned {len(results)} results in {end - start:.6f} seconds\")\n",
    "```"
   ]
  },
  {
   "cell_type": "code",
   "execution_count": 5,
   "id": "15c87e42",
   "metadata": {},
   "outputs": [
    {
     "name": "stdout",
     "output_type": "stream",
     "text": [
      "Query returned 193 results in 0.000565 seconds\n"
     ]
    }
   ],
   "source": [
    "import time\n",
    "start = time.time()\n",
    "cursor.execute(query)\n",
    "results = cursor.fetchall()\n",
    "end = time.time()\n",
    "print(f\"Query returned {len(results)} results in {end - start:.6f} seconds\")"
   ]
  },
  {
   "cell_type": "markdown",
   "id": "24732ca0",
   "metadata": {},
   "source": [
    "### ⚙️ 3. Creating an Index on customer_name\n",
    "\n",
    "Let’s now create an **index** on the `customer_name` column. This should improve performance for queries filtering on that column.\n",
    "\n",
    "```sql\n",
    "CREATE INDEX idx_customer_name ON sales(customer_name)\n",
    "```"
   ]
  },
  {
   "cell_type": "code",
   "execution_count": 6,
   "id": "2d75cb99",
   "metadata": {},
   "outputs": [],
   "source": [
    "cursor.execute('CREATE INDEX idx_customer_name ON sales(customer_name)')\n",
    "conn.commit()"
   ]
  },
  {
   "cell_type": "markdown",
   "id": "31e25db5",
   "metadata": {},
   "source": [
    "### ⚡ 4. Querying After Creating the Index\n",
    "\n",
    "We run the same query again and check if the index is being used:\n",
    "\n",
    "```sql\n",
    "EXPLAIN QUERY PLAN SELECT * FROM sales WHERE customer_name = 'Alice';\n",
    "```"
   ]
  },
  {
   "cell_type": "code",
   "execution_count": 7,
   "id": "03807afe",
   "metadata": {},
   "outputs": [
    {
     "data": {
      "text/plain": [
       "[(3, 0, 62, 'SEARCH sales USING INDEX idx_customer_name (customer_name=?)')]"
      ]
     },
     "execution_count": 7,
     "metadata": {},
     "output_type": "execute_result"
    }
   ],
   "source": [
    "cursor.execute(f\"EXPLAIN QUERY PLAN {query}\")\n",
    "cursor.fetchall()"
   ]
  },
  {
   "cell_type": "markdown",
   "id": "4aaa24ff",
   "metadata": {},
   "source": [
    "This confirms the index is being used! Let’s check the performance again:\n",
    "\n",
    "```python\n",
    "start = time.time()\n",
    "cursor.execute(query)\n",
    "results = cursor.fetchall()\n",
    "end = time.time()\n",
    "print(f\"Query returned {len(results)} results in {end - start:.6f} seconds\")\n",
    "```"
   ]
  },
  {
   "cell_type": "code",
   "execution_count": 8,
   "id": "e1e0cca6",
   "metadata": {},
   "outputs": [
    {
     "name": "stdout",
     "output_type": "stream",
     "text": [
      "Query returned 193 results in 0.000567 seconds\n"
     ]
    }
   ],
   "source": [
    "start = time.time()\n",
    "cursor.execute(query)\n",
    "results = cursor.fetchall()\n",
    "end = time.time()\n",
    "print(f\"Query returned {len(results)} results in {end - start:.6f} seconds\")"
   ]
  },
  {
   "cell_type": "markdown",
   "id": "1520ca76",
   "metadata": {},
   "source": [
    "✅ On larger datasets, this improvement would be much more noticeable."
   ]
  },
  {
   "cell_type": "markdown",
   "id": "11e1be98",
   "metadata": {},
   "source": [
    "### 🧩 5. Composite Index Example\n",
    "\n",
    "Let’s now create a **composite index** for two columns: `game_title` and `sale_date`. This is useful when you filter by both columns.\n",
    "\n",
    "```sql\n",
    "CREATE INDEX idx_game_date ON sales(game_title, sale_date);\n",
    "```"
   ]
  },
  {
   "cell_type": "code",
   "execution_count": 9,
   "id": "5b7b0490",
   "metadata": {},
   "outputs": [],
   "source": [
    "cursor.execute('CREATE INDEX idx_game_date ON sales(game_title, sale_date)')\n",
    "conn.commit()"
   ]
  },
  {
   "cell_type": "markdown",
   "id": "7a64eae6",
   "metadata": {},
   "source": [
    "Now we run a query that benefits from this composite index:\n",
    "\n",
    "```sql\n",
    "EXPLAIN QUERY PLAN SELECT * FROM sales WHERE game_title = 'Catan' AND sale_date >= '2024-09-01';\n",
    "```"
   ]
  },
  {
   "cell_type": "code",
   "execution_count": 10,
   "id": "67a659e8",
   "metadata": {},
   "outputs": [
    {
     "data": {
      "text/plain": [
       "[(3,\n",
       "  0,\n",
       "  51,\n",
       "  'SEARCH sales USING INDEX idx_game_date (game_title=? AND sale_date>?)')]"
      ]
     },
     "execution_count": 10,
     "metadata": {},
     "output_type": "execute_result"
    }
   ],
   "source": [
    "query2 = \"SELECT * FROM sales WHERE game_title = 'Catan' AND sale_date >= '2024-09-01'\"\n",
    "cursor.execute(f\"EXPLAIN QUERY PLAN {query2}\")\n",
    "cursor.fetchall()"
   ]
  },
  {
   "cell_type": "markdown",
   "id": "b1af4385",
   "metadata": {},
   "source": [
    "You should see that the index is helping narrow down rows using both conditions.\n",
    "\n",
    "Let's run it."
   ]
  },
  {
   "cell_type": "code",
   "execution_count": 11,
   "id": "1f45450a",
   "metadata": {},
   "outputs": [
    {
     "name": "stdout",
     "output_type": "stream",
     "text": [
      "140 results found for 'Catan' sales since September 2024\n"
     ]
    }
   ],
   "source": [
    "cursor.execute(query2)\n",
    "results = cursor.fetchall()\n",
    "print(f\"{len(results)} results found for 'Catan' sales since September 2024\")"
   ]
  },
  {
   "cell_type": "markdown",
   "id": "583003f4",
   "metadata": {},
   "source": [
    "### 🧹 6. Dropping Indexes\n",
    "\n",
    "Just like you can create indexes, you can also drop them when no longer needed:"
   ]
  },
  {
   "cell_type": "code",
   "execution_count": 12,
   "id": "d23e9ef9",
   "metadata": {},
   "outputs": [],
   "source": [
    "cursor.execute('DROP INDEX idx_customer_name')\n",
    "cursor.execute('DROP INDEX idx_game_date')\n",
    "conn.commit()"
   ]
  },
  {
   "cell_type": "markdown",
   "id": "3eb048de",
   "metadata": {},
   "source": [
    "## 📌 Summary:\n",
    "\n",
    "- ✅ Indexes help speed up SELECT queries that use WHERE, JOIN, or ORDER BY on indexed columns.\n",
    "- 🚫 Indexes slow down write operations like INSERT, UPDATE, and DELETE.\n",
    "- 🧠 Use EXPLAIN QUERY PLAN to check if indexes are actually being used.\n",
    "- 🧩 Composite indexes cover multiple columns for combined filtering.\n",
    "- 🧼 Remove unused indexes to save space and speed up writes."
   ]
  },
  {
   "cell_type": "markdown",
   "id": "7c330cfe",
   "metadata": {},
   "source": []
  }
 ],
 "metadata": {
  "kernelspec": {
   "display_name": ".venv",
   "language": "python",
   "name": "python3"
  },
  "language_info": {
   "codemirror_mode": {
    "name": "ipython",
    "version": 3
   },
   "file_extension": ".py",
   "mimetype": "text/x-python",
   "name": "python",
   "nbconvert_exporter": "python",
   "pygments_lexer": "ipython3",
   "version": "3.13.3"
  }
 },
 "nbformat": 4,
 "nbformat_minor": 5
}