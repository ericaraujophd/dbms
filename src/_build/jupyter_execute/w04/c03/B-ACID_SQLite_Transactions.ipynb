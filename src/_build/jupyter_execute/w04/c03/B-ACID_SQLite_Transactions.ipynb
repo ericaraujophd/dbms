{
 "cells": [
  {
   "cell_type": "markdown",
   "id": "d0edd908",
   "metadata": {
    "slideshow": {
     "slide_type": "slide"
    }
   },
   "source": [
    "# ACID Properties and Transactions in SQLite\n",
    "\n",
    "![](../../imgs/acid.png)\n"
   ]
  },
  {
   "cell_type": "markdown",
   "id": "78604811",
   "metadata": {
    "slideshow": {
     "slide_type": "subslide"
    }
   },
   "source": [
    "## Objectives\n",
    "\n",
    "This class demonstrates the ACID properties of database systems using SQLite:\n",
    "\n",
    "- **Atomicity**: All or nothing execution\n",
    "- **Consistency**: Database must remain valid\n",
    "- **Isolation**: Transactions should not interfere\n",
    "- **Durability**: Committed changes must persist\n",
    "\n",
    "We will simulate common transaction operations and analyze their behavior."
   ]
  },
  {
   "cell_type": "code",
   "execution_count": 1,
   "id": "57bef460",
   "metadata": {},
   "outputs": [
    {
     "name": "stdout",
     "output_type": "stream",
     "text": [
      "Database initialized.\n"
     ]
    }
   ],
   "source": [
    "import sqlite3\n",
    "\n",
    "conn = sqlite3.connect(':memory:')\n",
    "cursor = conn.cursor()\n",
    "\n",
    "# Create a simple accounts table\n",
    "cursor.execute('''\n",
    "    CREATE TABLE accounts (\n",
    "        id INTEGER PRIMARY KEY,\n",
    "        name TEXT NOT NULL,\n",
    "        balance INTEGER NOT NULL CHECK(balance >= 0)\n",
    "    )\n",
    "''')\n",
    "\n",
    "# Insert initial balances\n",
    "cursor.executemany('''\n",
    "    INSERT INTO accounts (name, balance) VALUES (?, ?)\n",
    "''', [\n",
    "    ('Alice', 100),\n",
    "    ('Bob', 100)\n",
    "])\n",
    "\n",
    "conn.commit()\n",
    "print(\"Database initialized.\")\n"
   ]
  },
  {
   "cell_type": "markdown",
   "id": "24a6d68b",
   "metadata": {
    "slideshow": {
     "slide_type": "subslide"
    }
   },
   "source": [
    "**Explanation:**\n",
    "\n",
    "- `CREATE TABLE` defines a new table with constraints.\n",
    "- `CHECK(balance >= 0)` enforces consistency.\n",
    "- `executemany` inserts multiple records.\n",
    "- `commit()` saves the transaction permanently.\n"
   ]
  },
  {
   "cell_type": "markdown",
   "id": "3ac5bdb0",
   "metadata": {},
   "source": [
    "## Atomicity\n",
    "\n",
    "A transaction should either fully happen or not happen at all.\n",
    "We simulate a transfer that fails midway to test rollback behavior.\n"
   ]
  },
  {
   "cell_type": "code",
   "execution_count": 2,
   "id": "199e46c8",
   "metadata": {},
   "outputs": [
    {
     "name": "stdout",
     "output_type": "stream",
     "text": [
      "Error: System crash during transaction\n"
     ]
    },
    {
     "data": {
      "text/plain": [
       "[(1, 'Alice', 100), (2, 'Bob', 100)]"
      ]
     },
     "execution_count": 2,
     "metadata": {},
     "output_type": "execute_result"
    }
   ],
   "source": [
    "def transfer_with_failure(conn):\n",
    "    try:\n",
    "        cursor = conn.cursor()\n",
    "        cursor.execute(\"BEGIN\")  # Start transaction\n",
    "        cursor.execute(\"UPDATE accounts SET balance = balance - 50 WHERE name = 'Alice'\")\n",
    "        raise Exception(\"System crash during transaction\")  # Simulated failure\n",
    "        cursor.execute(\"UPDATE accounts SET balance = balance + 50 WHERE name = 'Bob'\")\n",
    "        conn.commit()\n",
    "    except Exception as e:\n",
    "        print(\"Error:\", e)\n",
    "        conn.rollback()  # Ensure rollback on error\n",
    "\n",
    "transfer_with_failure(conn)\n",
    "\n",
    "cursor.execute(\"SELECT * FROM accounts\")\n",
    "cursor.fetchall()\n"
   ]
  },
  {
   "cell_type": "markdown",
   "id": "aaf51847",
   "metadata": {},
   "source": [
    "**Explanation:**\n",
    "\n",
    "- `BEGIN` starts a transaction.\n",
    "- If an error occurs mid-transaction, `rollback()` undoes the changes.\n",
    "- This ensures **atomicity**: either all operations succeed or none do.\n"
   ]
  },
  {
   "cell_type": "markdown",
   "id": "356ad34d",
   "metadata": {},
   "source": [
    "## Consistency\n",
    "\n",
    "Database constraints (like non-negative balances) ensure data remains valid after any transaction.\n"
   ]
  },
  {
   "cell_type": "code",
   "execution_count": 3,
   "id": "059328d1",
   "metadata": {},
   "outputs": [
    {
     "name": "stdout",
     "output_type": "stream",
     "text": [
      "Error: CHECK constraint failed: balance >= 0\n"
     ]
    },
    {
     "data": {
      "text/plain": [
       "[(1, 'Alice', 100), (2, 'Bob', 100)]"
      ]
     },
     "execution_count": 3,
     "metadata": {},
     "output_type": "execute_result"
    }
   ],
   "source": [
    "def violate_consistency(conn):\n",
    "    try:\n",
    "        cursor = conn.cursor()\n",
    "        cursor.execute(\"BEGIN\")\n",
    "        cursor.execute(\"UPDATE accounts SET balance = balance - 200 WHERE name = 'Alice'\")\n",
    "        cursor.execute(\"UPDATE accounts SET balance = balance + 200 WHERE name = 'Bob'\")\n",
    "        conn.commit()\n",
    "    except Exception as e:\n",
    "        print(\"Error:\", e)\n",
    "        conn.rollback()\n",
    "\n",
    "violate_consistency(conn)\n",
    "\n",
    "cursor.execute(\"SELECT * FROM accounts\")\n",
    "cursor.fetchall()\n"
   ]
  },
  {
   "cell_type": "markdown",
   "id": "07bc576e",
   "metadata": {},
   "source": [
    "**Explanation:**\n",
    "\n",
    "- This example attempts to make Alice's balance negative.\n",
    "- The `CHECK(balance >= 0)` constraint fails.\n",
    "- SQLite rolls back the transaction to maintain **consistency**.\n"
   ]
  },
  {
   "cell_type": "markdown",
   "id": "92449078",
   "metadata": {},
   "source": [
    "## Isolation\n",
    "\n",
    "SQLite ensures isolation by default. Two connections working in parallel shouldn't interfere.\n"
   ]
  },
  {
   "cell_type": "code",
   "execution_count": 4,
   "id": "0a45128b",
   "metadata": {},
   "outputs": [
    {
     "ename": "OperationalError",
     "evalue": "no such table: accounts",
     "output_type": "error",
     "traceback": [
      "\u001b[31m---------------------------------------------------------------------------\u001b[39m",
      "\u001b[31mOperationalError\u001b[39m                          Traceback (most recent call last)",
      "\u001b[36mCell\u001b[39m\u001b[36m \u001b[39m\u001b[32mIn[4]\u001b[39m\u001b[32m, line 8\u001b[39m\n\u001b[32m      5\u001b[39m c2 = conn2.cursor()\n\u001b[32m      7\u001b[39m c1.execute(\u001b[33m\"\u001b[39m\u001b[33mBEGIN\u001b[39m\u001b[33m\"\u001b[39m)\n\u001b[32m----> \u001b[39m\u001b[32m8\u001b[39m \u001b[43mc1\u001b[49m\u001b[43m.\u001b[49m\u001b[43mexecute\u001b[49m\u001b[43m(\u001b[49m\u001b[33;43m\"\u001b[39;49m\u001b[33;43mUPDATE accounts SET balance = balance - 30 WHERE name = \u001b[39;49m\u001b[33;43m'\u001b[39;49m\u001b[33;43mAlice\u001b[39;49m\u001b[33;43m'\u001b[39;49m\u001b[33;43m\"\u001b[39;49m\u001b[43m)\u001b[49m\n\u001b[32m     10\u001b[39m c2.execute(\u001b[33m\"\u001b[39m\u001b[33mBEGIN\u001b[39m\u001b[33m\"\u001b[39m)\n\u001b[32m     11\u001b[39m \u001b[38;5;28;01mtry\u001b[39;00m:\n",
      "\u001b[31mOperationalError\u001b[39m: no such table: accounts"
     ]
    }
   ],
   "source": [
    "conn1 = sqlite3.connect(\"acid_demo.db\", isolation_level=\"DEFERRED\")\n",
    "conn2 = sqlite3.connect(\"acid_demo.db\", isolation_level=\"DEFERRED\")\n",
    "\n",
    "c1 = conn1.cursor()\n",
    "c2 = conn2.cursor()\n",
    "\n",
    "c1.execute(\"BEGIN\")\n",
    "c1.execute(\"UPDATE accounts SET balance = balance - 30 WHERE name = 'Alice'\")\n",
    "\n",
    "c2.execute(\"BEGIN\")\n",
    "try:\n",
    "    c2.execute(\"UPDATE accounts SET balance = balance + 30 WHERE name = 'Bob'\")\n",
    "    conn2.commit()\n",
    "except Exception as e:\n",
    "    print(\"Isolation error:\", e)\n",
    "\n",
    "conn1.commit()\n",
    "\n",
    "cursor = conn.cursor()\n",
    "cursor.execute(\"SELECT * FROM accounts\")\n",
    "cursor.fetchall()\n"
   ]
  },
  {
   "cell_type": "markdown",
   "id": "58fb206a",
   "metadata": {},
   "source": [
    "**Explanation:**\n",
    "\n",
    "- Each connection starts its own transaction.\n",
    "- Changes are not visible to the other transaction until `commit()` is called.\n",
    "- This shows **isolation** in action.\n"
   ]
  },
  {
   "cell_type": "markdown",
   "id": "c09470da",
   "metadata": {},
   "source": [
    "## Durability\n",
    "\n",
    "Committed transactions should persist even if the database is closed or the system crashes.\n"
   ]
  },
  {
   "cell_type": "code",
   "execution_count": 5,
   "id": "a5f0044e",
   "metadata": {},
   "outputs": [
    {
     "data": {
      "text/plain": [
       "[(1, 'Alice', 50), (2, 'Bob', 100)]"
      ]
     },
     "execution_count": 5,
     "metadata": {},
     "output_type": "execute_result"
    }
   ],
   "source": [
    "cursor.execute(\"BEGIN\")\n",
    "cursor.execute(\"UPDATE accounts SET balance = balance + 10 WHERE name = 'Alice'\")\n",
    "conn.commit()\n",
    "\n",
    "# Simulate closing and reopening the database\n",
    "conn.close()\n",
    "conn = sqlite3.connect(\"acid_demo.db\")\n",
    "cursor = conn.cursor()\n",
    "\n",
    "cursor.execute(\"SELECT * FROM accounts\")\n",
    "cursor.fetchall()\n"
   ]
  },
  {
   "cell_type": "markdown",
   "id": "964c8d11",
   "metadata": {},
   "source": [
    "**Explanation:**\n",
    "\n",
    "- Once committed, changes are permanently written.\n",
    "- Reopening the DB shows Alice's balance updated, confirming **durability**.\n"
   ]
  },
  {
   "cell_type": "markdown",
   "id": "85c2b58d",
   "metadata": {},
   "source": [
    "## Summary\n",
    "\n",
    "| ACID Property | Demonstration Summary | SQLite Feature Used |\n",
    "|---------------|------------------------|---------------------|\n",
    "| Atomicity     | Rollback on failure    | `BEGIN`, `rollback` |\n",
    "| Consistency   | Valid data only        | `CHECK` constraints |\n",
    "| Isolation     | Separate transactions  | Multiple connections |\n",
    "| Durability    | Changes persist        | `commit()` + reopen |\n"
   ]
  }
 ],
 "metadata": {
  "kernelspec": {
   "display_name": ".venv",
   "language": "python",
   "name": "python3"
  },
  "language_info": {
   "codemirror_mode": {
    "name": "ipython",
    "version": 3
   },
   "file_extension": ".py",
   "mimetype": "text/x-python",
   "name": "python",
   "nbconvert_exporter": "python",
   "pygments_lexer": "ipython3",
   "version": "3.13.3"
  }
 },
 "nbformat": 4,
 "nbformat_minor": 5
}