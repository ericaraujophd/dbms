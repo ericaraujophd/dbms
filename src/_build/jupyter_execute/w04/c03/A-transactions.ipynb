{
 "cells": [
  {
   "cell_type": "markdown",
   "id": "27bb32b2",
   "metadata": {},
   "source": [
    "# Class 3. Transactions"
   ]
  },
  {
   "cell_type": "markdown",
   "id": "8072dd12",
   "metadata": {},
   "source": [
    "In SQL, Transactions are a sequence of operations performed as a single logical unit of work. A transaction must be either fully completed or not executed at all. Transactions are used to ensure data integrity and consistency in databases.\n",
    "\n",
    "The main TCL (Transaction Control Language) commands are:\n",
    "- **BEGIN**: Starts a new transaction.\n",
    "- **COMMIT**: Saves all changes made during the current transaction.\n",
    "- **ROLLBACK**: Undoes all changes made during the current transaction."
   ]
  },
  {
   "cell_type": "markdown",
   "id": "2ba78312",
   "metadata": {},
   "source": [
    "## BEGIN\n",
    "\n",
    "```sql\n",
    "BEGIN;\n",
    "```\n",
    "- Starts a new transaction. All subsequent operations will be part of this transaction until a COMMIT or ROLLBACK is issued.\n",
    "- Example:\n",
    "\n",
    "```sql\n",
    "BEGIN;\n",
    "INSERT INTO accounts (account_id, balance) VALUES (1, 1000);\n",
    "UPDATE accounts SET balance = balance - 100 WHERE account_id = 1;\n",
    "UPDATE accounts SET balance = balance + 100 WHERE account_id = 2;\n",
    "```\n",
    "\n",
    "- In this example, we start a transaction to transfer money from one account to another. The changes will not be saved until we issue a COMMIT.\n",
    "- If an error occurs during the transaction, we can use ROLLBACK to undo all changes made during the transaction."
   ]
  },
  {
   "cell_type": "markdown",
   "id": "616f8a49",
   "metadata": {},
   "source": [
    "## COMMIT\n",
    "\n",
    "```sql\n",
    "COMMIT;\n",
    "```\n",
    "- Saves all changes made during the current transaction to the database.\n",
    "- Example:\n",
    "\n",
    "```sql\n",
    "BEGIN;\n",
    "\n",
    "UPDATE bank_accounts\n",
    "SET balance = balance - 200\n",
    "WHERE name = 'Alice';\n",
    "\n",
    "UPDATE bank_accounts\n",
    "SET balance = balance + 200\n",
    "WHERE name = 'Bob';\n",
    "\n",
    "COMMIT;\n",
    "```\n",
    "\n",
    "- In this example, we commit the changes made during the transaction. The money transfer is now permanent."
   ]
  },
  {
   "cell_type": "markdown",
   "id": "013b7751",
   "metadata": {},
   "source": [
    "## ROLLBACK\n",
    "\n",
    "```sql\n",
    "ROLLBACK;\n",
    "```\n",
    "- Undoes all changes made during the current transaction.\n",
    "- Example:\n",
    "\n",
    "```sql\n",
    "BEGIN;\n",
    "\n",
    "UPDATE bank_accounts\n",
    "SET balance = balance - 200\n",
    "WHERE name = 'Alice';\n",
    "\n",
    "UPDATE bank_accounts\n",
    "SET balance = balance + 200\n",
    "WHERE name = 'Bob';\n",
    "\n",
    "-- This will violate the CHECK constraint and throw an error\n",
    "\n",
    "ROLLBACK;\n",
    "```\n",
    "\n",
    "- In this example, we roll back the changes made during the transaction. The money transfer is not saved, and the database remains unchanged.\n",
    "- This is useful in case of an error or if we decide not to proceed with the transaction."
   ]
  }
 ],
 "metadata": {
  "language_info": {
   "codemirror_mode": {
    "name": "ipython",
    "version": 3
   },
   "file_extension": ".py",
   "mimetype": "text/x-python",
   "name": "python",
   "nbconvert_exporter": "python",
   "pygments_lexer": "ipython3",
   "version": "3.13.3"
  }
 },
 "nbformat": 4,
 "nbformat_minor": 5
}