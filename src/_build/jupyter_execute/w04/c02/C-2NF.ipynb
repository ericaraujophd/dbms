{
 "cells": [
  {
   "cell_type": "markdown",
   "id": "0e287cc8",
   "metadata": {},
   "source": [
    "# Second Normal Form (2NF)"
   ]
  },
  {
   "cell_type": "markdown",
   "id": "ae58af98",
   "metadata": {},
   "source": [
    "## 🧠 What is 2NF?\n",
    "\n",
    "A table is in **Second Normal Form (2NF)** if:\n",
    "\n",
    "1.\tIt is already in First Normal Form (1NF), and\n",
    "2.\t**Every non-prime attribute is fully functionally dependent on the entire primary key**, not just part of it."
   ]
  },
  {
   "cell_type": "markdown",
   "id": "d91e84e8",
   "metadata": {},
   "source": [
    "## 📚 From the Textbooks:\n",
    "\n",
    "> “A relation is in second normal form (2NF) if it is in first normal form and every non-prime attribute is fully functionally dependent on the primary key.”\n",
    "> \n",
    "> — Silberschatz, Korth & Sudarshan\n",
    "\n",
    "> “Partial dependencies—dependencies on a part of a composite key—are removed in 2NF.”\n",
    "> \n",
    "> — Elmasri & Navathe\n",
    "\n",
    "> “2NF fixes problems with attributes that depend on only part of a composite key. This is crucial in many-to-many relationships.”\n",
    "> \n",
    "> — Ramakrishnan & Gehrke"
   ]
  },
  {
   "cell_type": "markdown",
   "id": "0d201bdd",
   "metadata": {},
   "source": [
    "## 🧾 Key Terms\n",
    "\t\n",
    "|  <br>Term  \t|  <br>Definition  \t|\n",
    "|---\t|---\t|\n",
    "|  <br>Candidate Key  \t|  <br>A minimal set of attributes that can uniquely identify a tuple (row) in a table. There can be multiple candidate keys; one is chosen as the primary key.  \t|\n",
    "|  <br>Composite Key  \t|  <br>A primary key consisting of more than one attribute.  \t|\n",
    "|  <br>Prime Attribute  \t|  <br>An attribute that is part of any candidate key.  \t|\n",
    "|  <br>Non-prime Attribute  \t|  <br>An attribute that is not part of any candidate key.  \t|\n",
    "|  <br>Partial Dependency  \t|  <br>A non-prime attribute depends on only part of a composite key, rather than the full key.  \t|\n",
    "|  <br>Full Functional Dependency  \t|  <br>A dependency where a non-prime attribute depends on the entire candidate key. This is required for 2NF.  \t|"
   ]
  },
  {
   "cell_type": "markdown",
   "id": "f38dec65",
   "metadata": {},
   "source": [
    "## 🚫 Example 1: Course Enrollments (Violates 2NF)\n",
    "\n",
    "🎓 **Table: CourseEnrollments — In 1NF, but not in 2NF**\n",
    "\n",
    "|  <br>StudentID  \t|  <br>CourseID  \t|  <br>StudentName  \t|  <br>CourseName  \t|  <br>Credits  \t|\n",
    "|---\t|---\t|---\t|---\t|---\t|\n",
    "|  <br>1001  \t|  <br>CS101  \t|  <br>Alice  \t|  <br>Intro to CS  \t|  <br>4  \t|\n",
    "|  <br>1001  \t|  <br>MATH201  \t|  <br>Alice  \t|  <br>Calculus I  \t|  <br>3  \t|\n",
    "|  <br>1002  \t|  <br>CS101  \t|  <br>Bob  \t|  <br>Intro to CS  \t|  <br>4  \t|\n",
    "|  <br>1003  \t|  <br>CS101  \t|  <br>Clara  \t|  <br>Intro to CS  \t|  <br>4  \t|\n",
    "|  <br>1003  \t|  <br>MATH201  \t|  <br>Clara  \t|  <br>Calculus I  \t|  <br>3  \t|\n",
    "\n",
    "* **Candidate Key:** (StudentID, CourseID)\n",
    "* `StudentName` depends only on `StudentID`\n",
    "* `CourseName` and `Credits` depend only on `CourseID`\n",
    "\n",
    "💥 These are **partial dependencies** — violating 2NF.\n",
    "\n",
    "✅ **Decomposed into 2NF**\n",
    "\n",
    "👩‍🎓 **Table: Students**\n",
    "\n",
    "|  <br>StudentID  \t|  <br>StudentName  \t|\n",
    "|---\t|---\t|\n",
    "|  <br>1001  \t|  <br>Alice  \t|\n",
    "|  <br>1002  \t|  <br>Bob  \t|\n",
    "|  <br>1003  \t|  <br>Clara  \t|\n",
    "\n",
    "📚 **Table: Courses**\n",
    "\n",
    "|  <br>CourseID  \t|  <br>CourseName  \t|  <br>Credits  \t|\n",
    "|---\t|---\t|---\t|\n",
    "|  <br>CS101  \t|  <br>Intro to CS  \t|  <br>4  \t|\n",
    "|  <br>MATH201  \t|  <br>Calculus I  \t|  <br>3  \t|\n",
    "\n",
    "📈 **Table: Enrollments**\n",
    "\n",
    "|  <br>StudentID  \t|  <br>CourseID  \t|\n",
    "|---\t|---\t|\n",
    "|  <br>1001  \t|  <br>CS101  \t|\n",
    "|  <br>1001  \t|  <br>MATH201  \t|\n",
    "|  <br>1002  \t|  <br>CS101  \t|\n",
    "|  <br>1003  \t|  <br>CS101  \t|\n",
    "|  <br>1003  \t|  <br>MATH201  \t|\n",
    "\n",
    "✅ Now, every non-prime attribute depends on the **entire candidate key** — 2NF satisfied."
   ]
  },
  {
   "cell_type": "markdown",
   "id": "9796847c",
   "metadata": {},
   "source": [
    "## 🚫 Example 2: Orders with Repeated Customer and Product Info\n",
    "\n",
    "🛒 **Table: OrderItems — In 1NF, not 2NF**\n",
    "\n",
    "|  <br>OrderID  \t|  <br>ProductID  \t|  <br>CustomerName  \t|  <br>CustomerEmail  \t|  <br>ProductName  \t|  <br>Price  \t|\n",
    "|---\t|---\t|---\t|---\t|---\t|---\t|\n",
    "|  <br>5001  \t|  <br>P001  \t|  <br>Alice  \t|  <br>alice@example.com  \t|  <br>Pen  \t|  <br>1.50  \t|\n",
    "|  <br>5001  \t|  <br>P002  \t|  <br>Alice  \t|  <br>alice@example.com  \t|  <br>Notebook  \t|  <br>3.00  \t|\n",
    "|  <br>5002  \t|  <br>P001  \t|  <br>Bob  \t|  <br>bob@example.com  \t|  <br>Pen  \t|  <br>1.50  \t|\n",
    "|  <br>5003  \t|  <br>P003  \t|  <br>Alice  \t|  <br>alice@example.com  \t|  <br>Marker  \t|  <br>2.00  \t|\n",
    "\n",
    "* **Candidate Key:** (OrderID, ProductID)\n",
    "* `CustomerName`, `CustomerEmail` depend only on `OrderID`\n",
    "* `ProductName`, `Price` depend only on `ProductID`\n",
    "\n",
    "These are **partial dependencies** → violates 2NF.\n",
    "\n",
    "✅ **2NF-Compliant Decomposition**\n",
    "\n",
    "👤 **Table: Orders**\n",
    "\n",
    "|  <br>OrderID  \t|  <br>CustomerName  \t|  <br>CustomerEmail  \t|\n",
    "|---\t|---\t|---\t|\n",
    "|  <br>5001  \t|  <br>Alice  \t|  <br>alice@example.com  \t|\n",
    "|  <br>5002  \t|  <br>Bob  \t|  <br>bob@example.com  \t|\n",
    "|  <br>5003  \t|  <br>Alice  \t|  <br>alice@example.com  \t|\n",
    "\n",
    "🛍 **Table: Products**\n",
    "\n",
    "|  <br>ProductID  \t|  <br>ProductName  \t|  <br>Price  \t|\n",
    "|---\t|---\t|---\t|\n",
    "|  <br>P001  \t|  <br>Pen  \t|  <br>1.50  \t|\n",
    "|  <br>P002  \t|  <br>Notebook  \t|  <br>3.00  \t|\n",
    "|  <br>P003  \t|  <br>Marker  \t|  <br>2.00  \t|\n",
    "\n",
    "📦 **Table: OrderItems**\n",
    "\n",
    "|  <br>OrderID  \t|  <br>ProductID  \t|\n",
    "|---\t|---\t|\n",
    "|  <br>5001  \t|  <br>P001  \t|\n",
    "|  <br>5001  \t|  <br>P002  \t|\n",
    "|  <br>5002  \t|  <br>P001  \t|\n",
    "|  <br>5003  \t|  <br>P003  \t|\n",
    "\n",
    "✅ No attribute is partially dependent on a candidate key → Fully normalized to 2NF."
   ]
  },
  {
   "cell_type": "markdown",
   "id": "45394253",
   "metadata": {},
   "source": [
    "## ✅ Summary Table\n",
    "\n",
    "|  <br>Requirement  \t|  <br>Satisfied?  \t|  <br>Explanation  \t|\n",
    "|---\t|---\t|---\t|\n",
    "|  <br>Table is in 1NF  \t|  <br>✅ Yes  \t|  <br>No repeating groups  \t|\n",
    "|  <br>Every non-prime attribute depends on full key  \t|  <br>❌ (before) / ✅ (after)  \t|  <br>Partial dependencies were removed  \t|\n",
    "|  <br>Composite candidate key used correctly  \t|  <br>✅ Yes  \t|  <br>Dependencies are now full and clear  \t|"
   ]
  },
  {
   "cell_type": "markdown",
   "id": "1efd6824",
   "metadata": {},
   "source": [
    "## 🤖 Coding Example\n",
    "\n",
    "### Table Violating 2NF\n",
    "\n",
    "| OrderID | ProductID | ProductName |\n",
    "|---------|-----------|-------------|\n",
    "| 1       | 101       | Laptop      |\n",
    "| 1       | 102       | Mouse       |\n",
    "| 2       | 101       | Laptop      |\n",
    "\n",
    "**Why it violates 2NF:** The \"ProductName\" column depends only on \"ProductID\" and not on the composite primary key (OrderID, ProductID)."
   ]
  },
  {
   "cell_type": "code",
   "execution_count": 1,
   "id": "67b15bf6",
   "metadata": {},
   "outputs": [],
   "source": [
    "# Import SQLite library\n",
    "import sqlite3\n",
    "\n",
    "# Create an in-memory SQLite database\n",
    "connection = sqlite3.connect(':memory:')\n",
    "cursor = connection.cursor()"
   ]
  },
  {
   "cell_type": "code",
   "execution_count": 2,
   "id": "8ac0f270",
   "metadata": {},
   "outputs": [
    {
     "name": "stdout",
     "output_type": "stream",
     "text": [
      "(1, 101, 'Laptop')\n",
      "(1, 102, 'Mouse')\n",
      "(2, 101, 'Laptop')\n"
     ]
    }
   ],
   "source": [
    "# Create a table that violates 2NF\n",
    "cursor.execute('''\n",
    "CREATE TABLE Orders (\n",
    "    OrderID INTEGER,\n",
    "    ProductID INTEGER,\n",
    "    ProductName TEXT,\n",
    "    PRIMARY KEY (OrderID, ProductID)\n",
    ")''')\n",
    "\n",
    "# Insert data\n",
    "cursor.executemany('INSERT INTO Orders (OrderID, ProductID, ProductName) VALUES (?, ?, ?)', [\n",
    "    (1, 101, 'Laptop'),\n",
    "    (1, 102, 'Mouse'),\n",
    "    (2, 101, 'Laptop')\n",
    "])\n",
    "\n",
    "# Query the table\n",
    "cursor.execute('SELECT * FROM Orders')\n",
    "for row in cursor.fetchall():\n",
    "    print(row)"
   ]
  },
  {
   "cell_type": "markdown",
   "id": "b6d51c97",
   "metadata": {},
   "source": [
    "### Converting to 2NF\n",
    "\n",
    "To achieve 2NF, we separate the `ProductName` into a new table."
   ]
  },
  {
   "cell_type": "code",
   "execution_count": 3,
   "id": "d1cc7557",
   "metadata": {},
   "outputs": [
    {
     "name": "stdout",
     "output_type": "stream",
     "text": [
      "Products Table:\n",
      "(101, 'Laptop')\n",
      "(102, 'Mouse')\n",
      "\n",
      "OrderDetails Table:\n",
      "(1, 101)\n",
      "(1, 102)\n",
      "(2, 101)\n"
     ]
    }
   ],
   "source": [
    "# Create tables in 2NF\n",
    "cursor.execute('''\n",
    "CREATE TABLE Products (\n",
    "    ProductID INTEGER PRIMARY KEY,\n",
    "    ProductName TEXT\n",
    ")''')\n",
    "\n",
    "cursor.execute('''\n",
    "CREATE TABLE OrderDetails (\n",
    "    OrderID INTEGER,\n",
    "    ProductID INTEGER,\n",
    "    PRIMARY KEY (OrderID, ProductID),\n",
    "    FOREIGN KEY (ProductID) REFERENCES Products(ProductID)\n",
    ")''')\n",
    "\n",
    "# Insert data into 2NF tables\n",
    "cursor.executemany('INSERT INTO Products (ProductID, ProductName) VALUES (?, ?)', [\n",
    "    (101, 'Laptop'),\n",
    "    (102, 'Mouse')\n",
    "])\n",
    "\n",
    "cursor.executemany('INSERT INTO OrderDetails (OrderID, ProductID) VALUES (?, ?)', [\n",
    "    (1, 101),\n",
    "    (1, 102),\n",
    "    (2, 101)\n",
    "])\n",
    "\n",
    "# Query the 2NF tables\n",
    "print('Products Table:')\n",
    "cursor.execute('SELECT * FROM Products')\n",
    "for row in cursor.fetchall():\n",
    "    print(row)\n",
    "\n",
    "print('\\nOrderDetails Table:')\n",
    "cursor.execute('SELECT * FROM OrderDetails')\n",
    "for row in cursor.fetchall():\n",
    "    print(row)"
   ]
  }
 ],
 "metadata": {
  "kernelspec": {
   "display_name": ".venv",
   "language": "python",
   "name": "python3"
  },
  "language_info": {
   "codemirror_mode": {
    "name": "ipython",
    "version": 3
   },
   "file_extension": ".py",
   "mimetype": "text/x-python",
   "name": "python",
   "nbconvert_exporter": "python",
   "pygments_lexer": "ipython3",
   "version": "3.13.3"
  }
 },
 "nbformat": 4,
 "nbformat_minor": 5
}