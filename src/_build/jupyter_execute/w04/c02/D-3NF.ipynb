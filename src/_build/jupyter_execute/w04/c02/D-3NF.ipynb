{
 "cells": [
  {
   "cell_type": "markdown",
   "id": "7a3b9408",
   "metadata": {},
   "source": [
    "# Third Normal Form (3NF)"
   ]
  },
  {
   "cell_type": "markdown",
   "id": "279e895b",
   "metadata": {},
   "source": [
    "## 🧠 What is 3NF?\n",
    "\n",
    "A table is in **Third Normal Form (3NF)** if:\n",
    "\n",
    "1.\tIt is already in **Second Normal Form (2NF)**, and\n",
    "2.\tNo non-prime attribute is **transitively dependent** on any candidate key."
   ]
  },
  {
   "cell_type": "markdown",
   "id": "5f59ca45",
   "metadata": {},
   "source": [
    "## 📚 From the Textbooks\n",
    "\n",
    "> “A relation is in third normal form if it is in second normal form and no non-prime attribute is transitively dependent on the primary key.”\n",
    "> \n",
    "> — Silberschatz, Korth & Sudarshan\n",
    "\n",
    "> “A transitive dependency occurs when a non-prime attribute depends on another non-prime attribute, which in turn depends on the primary key.”\n",
    "> \n",
    "> — Elmasri & Navathe\n",
    "\n",
    "> “3NF allows attributes that depend directly on the key, the whole key, and nothing but the key.”\n",
    "> \n",
    "> — Ramakrishnan & Gehrke"
   ]
  },
  {
   "cell_type": "markdown",
   "id": "a8b7ee59",
   "metadata": {},
   "source": [
    "## 🧾 Key Terms\n",
    "\n",
    "|  <br>Term  \t|  <br>Definition  \t|\n",
    "|---\t|---\t|\n",
    "|  <br>Candidate Key  \t|  <br>A minimal set of attributes that uniquely identify a row in a table.  \t|\n",
    "|  <br>Prime Attribute  \t|  <br>An attribute that is part of any candidate key.  \t|\n",
    "|  <br>Non-prime Attribute  \t|  <br>An attribute that is not part of any candidate key.  \t|\n",
    "|  <br>Transitive Dependency  \t|  <br>When A → B and B → C, then A → C is a transitive dependency. In 3NF, this is not allowed if C is a non-prime attribute.  \t|"
   ]
  },
  {
   "cell_type": "markdown",
   "id": "1974bb6d",
   "metadata": {},
   "source": [
    "## 🚫 Example 1: Employees and Departments (Violates 3NF)\n",
    "\n",
    "🏢 **Table: Employees — In 2NF, but not in 3NF**\n",
    "\n",
    "|  <br>EmpID  \t|  <br>EmpName  \t|  <br>DeptID  \t|  <br>DeptName  \t|  <br>DeptLocation  \t|\n",
    "|---\t|---\t|---\t|---\t|---\t|\n",
    "|  <br>1001  \t|  <br>Alice  \t|  <br>D10  \t|  <br>HR  \t|  <br>Building A  \t|\n",
    "|  <br>1002  \t|  <br>Bob  \t|  <br>D20  \t|  <br>Finance  \t|  <br>Building B  \t|\n",
    "|  <br>1003  \t|  <br>Clara  \t|  <br>D10  \t|  <br>HR  \t|  <br>Building A  \t|\n",
    "|  <br>1004  \t|  <br>Daniel  \t|  <br>D30  \t|  <br>IT  \t|  <br>Building C  \t|\n",
    "|  <br>1005  \t|  <br>Eve  \t|  <br>D20  \t|  <br>Finance  \t|  <br>Building B  \t|\n",
    "\n",
    "* **Candidate Key:** `EmpID`\n",
    "* `DeptID` → `DeptName`, `DeptLocation`\n",
    "* Therefore: `EmpID` → `DeptID` → `DeptLocation` = **transitive dependency**\n",
    "\n",
    "💥 `DeptLocation` is dependent on `DeptID`, not directly on `EmpID` → violates 3NF.\n",
    "\n",
    "✅ **3NF-Compliant Decomposition**\n",
    "\n",
    "👤 **Table: Employees**\n",
    "\n",
    "|  <br>EmpID  \t|  <br>EmpName  \t|  <br>DeptID  \t|\n",
    "|---\t|---\t|---\t|\n",
    "|  <br>1001  \t|  <br>Alice  \t|  <br>D10  \t|\n",
    "|  <br>1002  \t|  <br>Bob  \t|  <br>D20  \t|\n",
    "|  <br>1003  \t|  <br>Clara  \t|  <br>D10  \t|\n",
    "|  <br>1004  \t|  <br>Daniel  \t|  <br>D30  \t|\n",
    "|  <br>1005  \t|  <br>Eve  \t|  <br>D20  \t|\n",
    "\n",
    "🏢 **Table: Departments**\n",
    "\n",
    "|  <br>DeptID  \t|  <br>DeptName  \t|  <br>DeptLocation  \t|\n",
    "|---\t|---\t|---\t|\n",
    "|  <br>D10  \t|  <br>HR  \t|  <br>Building A  \t|\n",
    "|  <br>D20  \t|  <br>Finance  \t|  <br>Building B  \t|\n",
    "|  <br>D30  \t|  <br>IT  \t|  <br>Building C  \t|\n",
    "\n",
    "✅ Now all non-prime attributes in each table depend **only on the key, the whole key, and nothing but the key**.\n"
   ]
  },
  {
   "cell_type": "markdown",
   "id": "6e1c943d",
   "metadata": {},
   "source": [
    "## 🚫 Example 2: Product Orders (Violates 3NF)\n",
    "\n",
    "🛒 **Table: Orders — In 2NF, not 3NF**\n",
    "\n",
    "|  <br>OrderID  \t|  <br>CustomerID  \t|  <br>CustomerName  \t|  <br>CustomerEmail  \t|\n",
    "|---\t|---\t|---\t|---\t|\n",
    "|  <br>7001  \t|  <br>C101  \t|  <br>Alice  \t|  <br>alice@example.com  \t|\n",
    "|  <br>7002  \t|  <br>C102  \t|  <br>Bob  \t|  <br>bob@example.com  \t|\n",
    "|  <br>7003  \t|  <br>C101  \t|  <br>Alice  \t|  <br>alice@example.com  \t|\n",
    "|  <br>7004  \t|  <br>C103  \t|  <br>Clara  \t|  <br>clara@example.com  \t|\n",
    "\n",
    "* **Candidate Key:** `OrderID`\n",
    "* But: `CustomerID` → `CustomerName`, `CustomerEmail`\n",
    "And `OrderID` → `CustomerID` → `CustomerEmail` = **transitive dependency**\n",
    "\n",
    "💥 `CustomerEmail` is not directly dependent on the primary key → violates 3NF.\n",
    "\n",
    "✅ **3NF-Compliant Decomposition**\n",
    "\n",
    "🧾 **Table: Orders**\n",
    "\n",
    "|  <br>OrderID  \t|  <br>CustomerID  \t|\n",
    "|---\t|---\t|\n",
    "|  <br>7001  \t|  <br>C101  \t|\n",
    "|  <br>7002  \t|  <br>C102  \t|\n",
    "|  <br>7003  \t|  <br>C101  \t|\n",
    "|  <br>7004  \t|  <br>C103  \t|\n",
    "\n",
    "👤 **Table: Customers**\n",
    "\n",
    "|  <br>CustomerID  \t|  <br>CustomerName  \t|  <br>CustomerEmail  \t|\n",
    "|---\t|---\t|---\t|\n",
    "|  <br>C101  \t|  <br>Alice  \t|  <br>alice@example.com  \t|\n",
    "|  <br>C102  \t|  <br>Bob  \t|  <br>bob@example.com  \t|\n",
    "|  <br>C103  \t|  <br>Clara  \t|  <br>clara@example.com  \t|\n",
    "\n",
    "✅ Every non-prime attribute now depends **directly** on its table’s candidate key — **3NF achieved**.\n"
   ]
  },
  {
   "cell_type": "markdown",
   "id": "15ee5d75",
   "metadata": {},
   "source": [
    "## ✅ Summary Table\n",
    "\n",
    "|  <br>Requirement  \t|  <br>Satisfied?  \t|  <br>Explanation  \t|\n",
    "|---\t|---\t|---\t|\n",
    "|  <br>Table is in 2NF  \t|  <br>✅ Yes  \t|  <br>No partial dependencies  \t|\n",
    "|  <br>No transitive dependencies for non-prime attributes  \t|  <br>❌ (before) / ✅ (after)  \t|  <br>Non-prime attributes were moved into separate tables  \t|\n",
    "|  <br>Every attribute depends only on the key  \t|  <br>✅ Yes  \t|  <br>3NF ensures clean dependency chains  \t|"
   ]
  },
  {
   "cell_type": "markdown",
   "id": "f5585214",
   "metadata": {},
   "source": [
    "## 🤖 Coding Example\n",
    "\n",
    "### Table Violating 3NF\n",
    "\n",
    "| EmployeeID | DepartmentID | DepartmentName |\n",
    "|------------|--------------|----------------|\n",
    "| 1          | 10           | HR             |\n",
    "| 2          | 20           | Finance        |\n",
    "| 3          | 10           | HR             |\n",
    "\n",
    "**Why it violates 3NF:** The \"DepartmentName\" column is transitively dependent on \"DepartmentID\" through \"EmployeeID\"."
   ]
  },
  {
   "cell_type": "code",
   "execution_count": 1,
   "id": "14b9ea0e",
   "metadata": {},
   "outputs": [],
   "source": [
    "# Import SQLite library\n",
    "import sqlite3\n",
    "\n",
    "# Create an in-memory SQLite database\n",
    "connection = sqlite3.connect(':memory:')\n",
    "cursor = connection.cursor()"
   ]
  },
  {
   "cell_type": "code",
   "execution_count": 2,
   "id": "726f4b7b",
   "metadata": {},
   "outputs": [
    {
     "name": "stdout",
     "output_type": "stream",
     "text": [
      "(1, 10, 'HR')\n",
      "(2, 20, 'Finance')\n",
      "(3, 10, 'HR')\n"
     ]
    }
   ],
   "source": [
    "# Create a table that violates 3NF\n",
    "cursor.execute('''\n",
    "CREATE TABLE Employees (\n",
    "    EmployeeID INTEGER PRIMARY KEY,\n",
    "    DepartmentID INTEGER,\n",
    "    DepartmentName TEXT\n",
    ")''')\n",
    "\n",
    "# Insert data\n",
    "cursor.executemany('INSERT INTO Employees (EmployeeID, DepartmentID, DepartmentName) VALUES (?, ?, ?)', [\n",
    "    (1, 10, 'HR'),\n",
    "    (2, 20, 'Finance'),\n",
    "    (3, 10, 'HR')\n",
    "])\n",
    "\n",
    "# Query the table\n",
    "cursor.execute('SELECT * FROM Employees')\n",
    "for row in cursor.fetchall():\n",
    "    print(row)"
   ]
  },
  {
   "cell_type": "markdown",
   "id": "cd9ba33e",
   "metadata": {},
   "source": [
    "### Converting to 3NF\n",
    "\n",
    "To achieve 3NF, we separate the DepartmentName into a new table.\n",
    "\n",
    "The new tables are in 3NF as they do not contain any transitive dependencies."
   ]
  },
  {
   "cell_type": "code",
   "execution_count": 3,
   "id": "d1435a71",
   "metadata": {},
   "outputs": [
    {
     "name": "stdout",
     "output_type": "stream",
     "text": [
      "Departments Table:\n",
      "(10, 'HR')\n",
      "(20, 'Finance')\n",
      "\n",
      "EmployeeDetails Table:\n",
      "(1, 10)\n",
      "(2, 20)\n",
      "(3, 10)\n"
     ]
    }
   ],
   "source": [
    "# Create tables in 3NF\n",
    "cursor.execute('''\n",
    "CREATE TABLE Departments (\n",
    "    DepartmentID INTEGER PRIMARY KEY,\n",
    "    DepartmentName TEXT\n",
    ")''')\n",
    "\n",
    "cursor.execute('''\n",
    "CREATE TABLE EmployeeDetails (\n",
    "    EmployeeID INTEGER PRIMARY KEY,\n",
    "    DepartmentID INTEGER,\n",
    "    FOREIGN KEY (DepartmentID) REFERENCES Departments(DepartmentID)\n",
    ")''')\n",
    "\n",
    "# Insert data into 3NF tables\n",
    "cursor.executemany('INSERT INTO Departments (DepartmentID, DepartmentName) VALUES (?, ?)', [\n",
    "    (10, 'HR'),\n",
    "    (20, 'Finance')\n",
    "])\n",
    "\n",
    "cursor.executemany('INSERT INTO EmployeeDetails (EmployeeID, DepartmentID) VALUES (?, ?)', [\n",
    "    (1, 10),\n",
    "    (2, 20),\n",
    "    (3, 10)\n",
    "])\n",
    "\n",
    "# Query the 3NF tables\n",
    "print('Departments Table:')\n",
    "cursor.execute('SELECT * FROM Departments')\n",
    "for row in cursor.fetchall():\n",
    "    print(row)\n",
    "\n",
    "print('\\nEmployeeDetails Table:')\n",
    "cursor.execute('SELECT * FROM EmployeeDetails')\n",
    "for row in cursor.fetchall():\n",
    "    print(row)"
   ]
  }
 ],
 "metadata": {
  "kernelspec": {
   "display_name": ".venv",
   "language": "python",
   "name": "python3"
  },
  "language_info": {
   "codemirror_mode": {
    "name": "ipython",
    "version": 3
   },
   "file_extension": ".py",
   "mimetype": "text/x-python",
   "name": "python",
   "nbconvert_exporter": "python",
   "pygments_lexer": "ipython3",
   "version": "3.13.3"
  }
 },
 "nbformat": 4,
 "nbformat_minor": 5
}