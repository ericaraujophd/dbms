{
 "cells": [
  {
   "cell_type": "markdown",
   "id": "7a3b9408",
   "metadata": {},
   "source": [
    "# Third Normal Form (3NF)\n",
    "\n",
    "A table is in **3NF** if it is in 2NF and all non-key attributes are not only dependent on the primary key but are also **non-transitively dependent**.\n",
    "\n",
    "That is, no non-key attribute depends on another non-key attribute."
   ]
  },
  {
   "cell_type": "markdown",
   "id": "f5585214",
   "metadata": {},
   "source": [
    "## Table Violating 3NF\n",
    "\n",
    "| EmployeeID | DepartmentID | DepartmentName |\n",
    "|------------|--------------|----------------|\n",
    "| 1          | 10           | HR             |\n",
    "| 2          | 20           | Finance        |\n",
    "| 3          | 10           | HR             |\n",
    "\n",
    "**Why it violates 3NF:** The \"DepartmentName\" column is transitively dependent on \"DepartmentID\" through \"EmployeeID\"."
   ]
  },
  {
   "cell_type": "code",
   "execution_count": 1,
   "id": "14b9ea0e",
   "metadata": {},
   "outputs": [],
   "source": [
    "# Import SQLite library\n",
    "import sqlite3\n",
    "\n",
    "# Create an in-memory SQLite database\n",
    "connection = sqlite3.connect(':memory:')\n",
    "cursor = connection.cursor()"
   ]
  },
  {
   "cell_type": "code",
   "execution_count": 2,
   "id": "726f4b7b",
   "metadata": {},
   "outputs": [
    {
     "name": "stdout",
     "output_type": "stream",
     "text": [
      "(1, 10, 'HR')\n",
      "(2, 20, 'Finance')\n",
      "(3, 10, 'HR')\n"
     ]
    }
   ],
   "source": [
    "# Create a table that violates 3NF\n",
    "cursor.execute('''\n",
    "CREATE TABLE Employees (\n",
    "    EmployeeID INTEGER PRIMARY KEY,\n",
    "    DepartmentID INTEGER,\n",
    "    DepartmentName TEXT\n",
    ")''')\n",
    "\n",
    "# Insert data\n",
    "cursor.executemany('INSERT INTO Employees (EmployeeID, DepartmentID, DepartmentName) VALUES (?, ?, ?)', [\n",
    "    (1, 10, 'HR'),\n",
    "    (2, 20, 'Finance'),\n",
    "    (3, 10, 'HR')\n",
    "])\n",
    "\n",
    "# Query the table\n",
    "cursor.execute('SELECT * FROM Employees')\n",
    "for row in cursor.fetchall():\n",
    "    print(row)"
   ]
  },
  {
   "cell_type": "markdown",
   "id": "cd9ba33e",
   "metadata": {},
   "source": [
    "## Converting to 3NF\n",
    "\n",
    "To achieve 3NF, we separate the DepartmentName into a new table.\n",
    "\n",
    "The new tables are in 3NF as they do not contain any transitive dependencies."
   ]
  },
  {
   "cell_type": "code",
   "execution_count": 3,
   "id": "d1435a71",
   "metadata": {},
   "outputs": [
    {
     "name": "stdout",
     "output_type": "stream",
     "text": [
      "Departments Table:\n",
      "(10, 'HR')\n",
      "(20, 'Finance')\n",
      "\n",
      "EmployeeDetails Table:\n",
      "(1, 10)\n",
      "(2, 20)\n",
      "(3, 10)\n"
     ]
    }
   ],
   "source": [
    "# Create tables in 3NF\n",
    "cursor.execute('''\n",
    "CREATE TABLE Departments (\n",
    "    DepartmentID INTEGER PRIMARY KEY,\n",
    "    DepartmentName TEXT\n",
    ")''')\n",
    "\n",
    "cursor.execute('''\n",
    "CREATE TABLE EmployeeDetails (\n",
    "    EmployeeID INTEGER PRIMARY KEY,\n",
    "    DepartmentID INTEGER,\n",
    "    FOREIGN KEY (DepartmentID) REFERENCES Departments(DepartmentID)\n",
    ")''')\n",
    "\n",
    "# Insert data into 3NF tables\n",
    "cursor.executemany('INSERT INTO Departments (DepartmentID, DepartmentName) VALUES (?, ?)', [\n",
    "    (10, 'HR'),\n",
    "    (20, 'Finance')\n",
    "])\n",
    "\n",
    "cursor.executemany('INSERT INTO EmployeeDetails (EmployeeID, DepartmentID) VALUES (?, ?)', [\n",
    "    (1, 10),\n",
    "    (2, 20),\n",
    "    (3, 10)\n",
    "])\n",
    "\n",
    "# Query the 3NF tables\n",
    "print('Departments Table:')\n",
    "cursor.execute('SELECT * FROM Departments')\n",
    "for row in cursor.fetchall():\n",
    "    print(row)\n",
    "\n",
    "print('\\nEmployeeDetails Table:')\n",
    "cursor.execute('SELECT * FROM EmployeeDetails')\n",
    "for row in cursor.fetchall():\n",
    "    print(row)"
   ]
  }
 ],
 "metadata": {
  "kernelspec": {
   "display_name": ".venv",
   "language": "python",
   "name": "python3"
  },
  "language_info": {
   "codemirror_mode": {
    "name": "ipython",
    "version": 3
   },
   "file_extension": ".py",
   "mimetype": "text/x-python",
   "name": "python",
   "nbconvert_exporter": "python",
   "pygments_lexer": "ipython3",
   "version": "3.13.3"
  }
 },
 "nbformat": 4,
 "nbformat_minor": 5
}