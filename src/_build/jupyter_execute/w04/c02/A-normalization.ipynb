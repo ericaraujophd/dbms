{
 "cells": [
  {
   "cell_type": "markdown",
   "id": "36d3d15a",
   "metadata": {
    "slideshow": {
     "slide_type": "slide"
    }
   },
   "source": [
    "# Class 2. Database Normalization\n",
    "\n",
    "Normalization is the process of organizing data in a database to reduce redundancy and improve data integrity. \n",
    "\n",
    "It involves dividing a database into smaller tables and defining relationships between them."
   ]
  },
  {
   "cell_type": "markdown",
   "id": "cbd90147",
   "metadata": {
    "slideshow": {
     "slide_type": "subslide"
    }
   },
   "source": [
    "## Why is Normalization Important?\n",
    "\n",
    "- **Reduces Redundancy**: Eliminates duplicate data, saving storage space.\n",
    "- **Improves Query Performance**: Simplifies queries and enhances performance.\n",
    "- **Minimizes Update Anomalies**: Ensures data consistency during updates.\n",
    "- **Enhances Data Integrity**: Maintains accurate and consistent data."
   ]
  },
  {
   "cell_type": "markdown",
   "id": "11066587",
   "metadata": {},
   "source": [
    "## Levels of Normalization\n",
    "\n",
    "There are multiple normal forms, whose relashionships are hierarchical and sequential.\n",
    "\n",
    "![](../../imgs/CH06_UN03_Hao.png)\n",
    "\n",
    "In practice, when all tables are in BCNF, we consider the database to be fully normalized. For that, the table has to have the following properties:\n",
    "\n",
    "- Each table has a primary key.\n",
    "- Each table has no multivalued columns.\n",
    "- All columns are functionally dependent on a key but nothing else.\n",
    "- No transitive dependencies exist."
   ]
  },
  {
   "cell_type": "markdown",
   "id": "40c8d9ed",
   "metadata": {},
   "source": [
    "## Benefits of Normalization\n",
    "\n",
    "- **Data Integrity**: Ensures data remains accurate and consistent.\n",
    "- **Storage Optimization**: Reduces unnecessary storage usage.\n",
    "- **Simplified Maintenance**: Makes it easier to update and manage data."
   ]
  },
  {
   "cell_type": "markdown",
   "id": "9582ded6",
   "metadata": {},
   "source": [
    "**Hint:** [whatch this!](https://www.youtube.com/watch?v=GFQaEYEc8_8)"
   ]
  }
 ],
 "metadata": {
  "kernelspec": {
   "display_name": ".venv",
   "language": "python",
   "name": "python3"
  },
  "language_info": {
   "codemirror_mode": {
    "name": "ipython",
    "version": 3
   },
   "file_extension": ".py",
   "mimetype": "text/x-python",
   "name": "python",
   "nbconvert_exporter": "python",
   "pygments_lexer": "ipython3",
   "version": "3.13.3"
  }
 },
 "nbformat": 4,
 "nbformat_minor": 5
}