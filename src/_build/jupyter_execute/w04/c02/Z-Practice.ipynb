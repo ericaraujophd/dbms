{
 "cells": [
  {
   "cell_type": "markdown",
   "id": "0605f862",
   "metadata": {},
   "source": [
    "# 📝 BCNF Exercises"
   ]
  },
  {
   "cell_type": "markdown",
   "id": "53a3f55a",
   "metadata": {},
   "source": [
    "## 🔹 Level 1: Understand Functional Dependencies\n",
    "\n",
    "### Exercise 1.1\n",
    "\n",
    "You are given a table:\n",
    "\n",
    "| BookID | Title        | Author      |\n",
    "|--------|--------------|-------------|\n",
    "| B1     | 1984         | George Orwell|\n",
    "| B2     | Animal Farm  | George Orwell|\n",
    "\n",
    "Assume:\n",
    "\t•\tA book has only one title.\n",
    "\t•\tAn author can write many books.\n",
    "\n",
    "👉 **Question:**\n",
    "\n",
    "Which of the following are true functional dependencies?\n",
    "\n",
    "- (a) BookID → Title\n",
    "- (b) Title → Author\n",
    "- (c) Author → Title\n"
   ]
  },
  {
   "cell_type": "markdown",
   "id": "4b672147",
   "metadata": {},
   "source": [
    "## 🔹 Level 2: Is it in BCNF?\n",
    "\n",
    "### Exercise 2.1\n",
    "\n",
    "Consider this table:\n",
    "\n",
    "| StudentID | Major      | Advisor    |\n",
    "|-----------|------------|------------|\n",
    "| S1        | CS         | Dr. Lee    |\n",
    "| S2        | Math       | Dr. Wong   |\n",
    "| S3        | CS         | Dr. Lee    |\n",
    "\n",
    "Assume:\n",
    "\n",
    "* Each student has only one major.\n",
    "* Each major has only one advisor.\n",
    "* StudentID is the primary key.\n",
    "\n",
    "👉 **Questions**:\n",
    "\n",
    "1. What are the functional dependencies?\n",
    "2. Is this table in BCNF? Why or why not?"
   ]
  },
  {
   "cell_type": "markdown",
   "id": "81f38294",
   "metadata": {},
   "source": [
    "### Exercise 2.2\n",
    "\n",
    "This is a simplified `MovieShowings` table:\n",
    "\n",
    "| TheaterID | MovieTitle  | ShowTime  | Price |\n",
    "|-----------|-------------|-----------|-------|\n",
    "| T1        | Inception   | 6:00 PM   | 10    |\n",
    "| T1        | Inception   | 9:00 PM   | 10    |\n",
    "\n",
    "Assume:\n",
    "\n",
    "* A movie can have multiple showtimes at a theater.\n",
    "* All showings of a specific movie at a specific theater have the same price.\n",
    "\n",
    "👉 **Questions:**\n",
    "\n",
    "1. What are the candidate keys?\n",
    "2. Are there any functional dependencies violating BCNF?\n",
    "3. How would you decompose the table?\n"
   ]
  },
  {
   "cell_type": "markdown",
   "id": "cf3d5711",
   "metadata": {},
   "source": [
    "## 🔹 Level 3: Decompose to BCNF\n",
    "\n",
    "### Exercise 3.1\n",
    "\n",
    "A company tracks its employees’ offices:\n",
    "\n",
    "| EmpID | OfficeNumber | Building |\n",
    "|-------|--------------|----------|\n",
    "| E1    | 101          | Main     |\n",
    "| E2    | 102          | Main     |\n",
    "| E3    | 201          | Annex    |\n",
    "\n",
    "Assume:\n",
    "\n",
    "* Each employee has a unique office.\n",
    "* Each office number appears only once in a building (i.e., OfficeNumber is not unique across all buildings).\n",
    "* So the primary key is (OfficeNumber, Building).\n",
    "\n",
    "But we also know:\n",
    "\n",
    "* EmpID → OfficeNumber, Building\n",
    "* OfficeNumber, Building → EmpID\n",
    "\n",
    "👉 **Questions:**\n",
    "\n",
    "1. Is this table in BCNF? Why or why not?\n",
    "2. If not, show how you would split the table.\n"
   ]
  }
 ],
 "metadata": {
  "language_info": {
   "codemirror_mode": {
    "name": "ipython",
    "version": 3
   },
   "file_extension": ".py",
   "mimetype": "text/x-python",
   "name": "python",
   "nbconvert_exporter": "python",
   "pygments_lexer": "ipython3",
   "version": "3.13.3"
  }
 },
 "nbformat": 4,
 "nbformat_minor": 5
}