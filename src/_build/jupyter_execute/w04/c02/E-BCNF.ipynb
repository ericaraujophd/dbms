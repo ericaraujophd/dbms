{
 "cells": [
  {
   "cell_type": "markdown",
   "id": "7592a89b",
   "metadata": {},
   "source": [
    "# Boyce-Codd Normal Form (BCNF)"
   ]
  },
  {
   "cell_type": "markdown",
   "id": "72833b95",
   "metadata": {},
   "source": [
    "## 🧠 What is BCNF?\n",
    "\n",
    "A table is in **Boyce-Codd Normal Form (BCNF)** if:\n",
    "\n",
    "1.\tIt is already in **Third Normal Form (3NF)**, and\n",
    "2.\tFor every functional dependency X → Y, X must be a **superkey**.\n",
    "\n",
    "This is **stricter than 3NF**, which allows certain dependencies if the right-hand side is a prime attribute.\n",
    "\n",
    "**Key idea:** In BCNF, **the left-hand side of every functional dependency must uniquely identify rows** — in other words, it must be a **superkey**."
   ]
  },
  {
   "cell_type": "markdown",
   "id": "63c992a1",
   "metadata": {},
   "source": [
    "## 📚 From the Textbooks\n",
    "\n",
    "> “A relation schema R is in Boyce-Codd Normal Form (BCNF) if for every one of its nontrivial functional dependencies X → A, X is a superkey of R.”\n",
    "> \n",
    "> — Silberschatz, Korth & Sudarshan\n",
    "\n",
    "> “BCNF eliminates all redundancy that can be discovered based on functional dependencies, not just anomalies due to transitive or partial dependencies.”\n",
    "> \n",
    "> — Elmasri & Navathe\n",
    "\n",
    "> “BCNF is a slightly stronger version of 3NF. Every BCNF relation is also in 3NF, but not vice versa.”\n",
    "> \n",
    "> — Ramakrishnan & Gehrke"
   ]
  },
  {
   "cell_type": "markdown",
   "id": "cd075c67",
   "metadata": {},
   "source": [
    "## 🧾 Key Terms\n",
    "\n",
    "|  <br>Term  \t|  <br>Definition  \t|  <br>Example  \t|\n",
    "|---\t|---\t|---\t|\n",
    "|  <br>Candidate Key  \t|  <br>A minimal set of attributes that uniquely identify each row in a table.  \t|  <br>In a Student table, StudentID might be a candidate key.  \t|\n",
    "|  <br>Superkey  \t|  <br>Any set of attributes that uniquely identify a row (including candidate keys and any superset).  \t|  <br>{StudentID}, {StudentID, Name}, {StudentID, Email} are all superkeys if StudentID is unique.  \t|\n",
    "|  <br>Prime Attribute  \t|  <br>An attribute that is part of any candidate key.  \t|  <br>In the key (CourseID, StudentID), both are prime.  \t|\n",
    "|  <br>Functional Dependency  \t|  <br>X → Y: Knowing X lets us determine Y.  \t|  <br>If Email → Name, then for each email there is one name.  \t|\n",
    "|  <br>Violation of BCNF  \t|  <br>Occurs when a functional dependency exists where the determinant is not a superkey.  \t|  <br>Professor → Room is a violation if Professor is not a superkey.  \t|"
   ]
  },
  {
   "cell_type": "markdown",
   "id": "41617902",
   "metadata": {},
   "source": [
    "🤝 How is BCNF Different from 3NF?\n",
    "\n",
    "|  <br>Aspect  \t|  <br>3NF Requirement  \t|  <br>BCNF Requirement  \t|\n",
    "|---\t|---\t|---\t|\n",
    "|  <br>Functional dependencies allowed  \t|  <br>X → A if A is prime, even if X is not a key  \t|  <br>X must be a superkey in all cases  \t|\n",
    "|  <br>Focus  \t|  <br>Avoiding transitive dependencies  \t|  <br>Eliminating all non-superkey dependencies  \t|\n",
    "|  <br>Stricter?  \t|  <br>❌ No  \t|  <br>✅ Yes  \t|"
   ]
  },
  {
   "cell_type": "markdown",
   "id": "9ab9c062",
   "metadata": {},
   "source": [
    "## 🚫 Example 1: Room Scheduling (In 3NF but Not in BCNF)\n",
    "\n",
    "🏫 **Table: RoomSchedule**\n",
    "\n",
    "|  <br>Room  \t|  <br>Time  \t|  <br>Professor  \t|\n",
    "|---\t|---\t|---\t|\n",
    "|  <br>R101  \t|  <br>9 AM  \t|  <br>Smith  \t|\n",
    "|  <br>R101  \t|  <br>10 AM  \t|  <br>Smith  \t|\n",
    "|  <br>R102  \t|  <br>9 AM  \t|  <br>Johnson  \t|\n",
    "|  <br>R103  \t|  <br>9 AM  \t|  <br>Lee  \t|\n",
    "\n",
    "**Functional Dependencies:**\n",
    "\t\n",
    "* (Room, Time) → Professor ✅ Candidate key\n",
    "* **Professor → Room** ❌ Professor is **not a superkey**, so this violates BCNF.\n",
    "\n",
    "🔍 **Why is this a problem?**\n",
    "\n",
    "Even though the table is in 3NF (no transitive dependencies), BCNF doesn’t allow a non-superkey like `Professor` to determine another value (`Room`). \n",
    "\n",
    "✅ **Decomposing to BCNF**\n",
    "\n",
    "👤 **Table: Professors**\n",
    "\n",
    "|  <br>Professor  \t|  <br>Room  \t|\n",
    "|---\t|---\t|\n",
    "|  <br>Smith  \t|  <br>R101  \t|\n",
    "|  <br>Johnson  \t|  <br>R102  \t|\n",
    "|  <br>Lee  \t|  <br>R103  \t|\n",
    "\n",
    "🕒 **Table: TeachingTimes**\n",
    "\n",
    "|  <br>Professor  \t|  <br>Time  \t|\n",
    "|---\t|---\t|\n",
    "|  <br>Smith  \t|  <br>9 AM  \t|\n",
    "|  <br>Smith  \t|  <br>10 AM  \t|\n",
    "|  <br>Johnson  \t|  <br>9 AM  \t|\n",
    "|  <br>Lee  \t|  <br>9 AM  \t|\n",
    "\n",
    "✅ Now, every functional dependency uses a **superkey** on the left → **BCNF satisfied**."
   ]
  },
  {
   "cell_type": "markdown",
   "id": "6e092646",
   "metadata": {},
   "source": [
    "## 🚫 Example 2: University Advisors (In 3NF but Not in BCNF)\n",
    "\n",
    "📘 **Table: AdvisingAssignments**\n",
    "\n",
    "|  <br>StudentID  \t|  <br>AdvisorName  \t|  <br>Department  \t|\n",
    "|---\t|---\t|---\t|\n",
    "|  <br>1001  \t|  <br>Dr. Smith  \t|  <br>Computer Science  \t|\n",
    "|  <br>1002  \t|  <br>Dr. Smith  \t|  <br>Computer Science  \t|\n",
    "|  <br>1003  \t|  <br>Dr. Taylor  \t|  <br>Mathematics  \t|\n",
    "|  <br>1004  \t|  <br>Dr. Lee  \t|  <br>Physics  \t|\n",
    "|  <br>1005  \t|  <br>Dr. Taylor  \t|  <br>Mathematics  \t|\n",
    "\n",
    "**Functional Dependencies:**\n",
    "\n",
    "* `StudentID` → `AdvisorName`, `Department` ✅ **Candidate key** — every student has one advisor.\n",
    "* `AdvisorName` → `Department` ❌ Advisor is **not a superkey**, so this is a BCNF violation.\n",
    "\n",
    "**3NF vs BCNF:**\n",
    "\n",
    "* This table is in 3NF because:\n",
    "  * There are no partial dependencies (StudentID is a single-attribute key).\n",
    "  * Department is dependent on AdvisorName, which is a non-prime attribute, but 3NF allows this if the right-hand side (Department) is prime or transitively dependent.\n",
    "* But it violates BCNF because AdvisorName is not a superkey.\n",
    "\n",
    "✅ **Decomposing into BCNF**\n",
    "\n",
    "👨‍🏫 **Table: Advisors**\n",
    "\n",
    "|  <br>AdvisorName  \t|  <br>Department  \t|\n",
    "|---\t|---\t|\n",
    "|  <br>Dr. Smith  \t|  <br>Computer Science  \t|\n",
    "|  <br>Dr. Taylor  \t|  <br>Mathematics  \t|\n",
    "|  <br>Dr. Lee  \t|  <br>Physics  \t|\n",
    "\n",
    "👩‍🎓 **Table: Students**\n",
    "\n",
    "|  <br>StudentID  \t|  <br>AdvisorName  \t|\n",
    "|---\t|---\t|\n",
    "|  <br>1001  \t|  <br>Dr. Smith  \t|\n",
    "|  <br>1002  \t|  <br>Dr. Smith  \t|\n",
    "|  <br>1003  \t|  <br>Dr. Taylor  \t|\n",
    "|  <br>1004  \t|  <br>Dr. Lee  \t|\n",
    "|  <br>1005  \t|  <br>Dr. Taylor  \t|\n",
    "\n",
    "**Benefits:**\n",
    "\n",
    "* All functional dependencies now have a superkey on the left-hand side.\n",
    "* The schema is in BCNF.\n",
    "* It eliminates redundancy (we no longer repeat the department for each student)."
   ]
  },
  {
   "cell_type": "markdown",
   "id": "309f9fd0",
   "metadata": {},
   "source": [
    "## ✅ Summary Table\n",
    "\n",
    "|  <br>Condition  \t|  <br>3NF Satisfied?  \t|  <br>BCNF Satisfied?  \t|  <br>Why?  \t|\n",
    "|---\t|---\t|---\t|---\t|\n",
    "|  <br>No transitive dependencies  \t|  <br>✅ Yes  \t|  <br>✅ Yes  \t|  <br>Already handled in 3NF  \t|\n",
    "|  <br>Functional dependency Advisor → Dept  \t|  <br>✅ Allowed  \t|  <br>❌ Violates BCNF  \t|  <br>Advisor is not a superkey  \t|\n",
    "|  <br>After decomposition  \t|  <br>✅ Yes  \t|  <br>✅ Yes  \t|  <br>All LHS are superkeys  \t|"
   ]
  },
  {
   "cell_type": "markdown",
   "id": "ccdb02be",
   "metadata": {},
   "source": [
    "## 🤖 Coding Example\n",
    "\n",
    "### Table violating BCNF\n",
    "\n",
    "Imagine a table that stores course registrations:\n",
    "\n",
    "| StudentID | CourseCode | Instructor |\n",
    "|-----------|------------|------------|\n",
    "| S1        | CS101      | Prof. Kim  |\n",
    "| S2        | CS101      | Prof. Kim  |\n",
    "| S3        | CS102      | Prof. Jones|\n",
    "\n",
    "This table seems fine. But notice:\n",
    "\n",
    "* The **instructor name is repeated** for every student in the same course.\n",
    "* What if someone **changes one instance** of the instructor to “Dr. Kim” but forgets to update the others?\n",
    "* Or if **we delete the last student from CS101**, we might lose the information about the instructor for that course.\n",
    "\n",
    "These are **update and deletion anomalies**. BCNF helps avoid them."
   ]
  },
  {
   "cell_type": "markdown",
   "id": "e6c1efb5",
   "metadata": {},
   "source": [
    "### 🧠 When is a table in BCNF?\n",
    "\n",
    "A table is in **BCNF** if:\n",
    "\n",
    "For every **functional dependency** in the table, the **left-hand side** is a candidate key.\n",
    "\n",
    "In other words:\n",
    "\n",
    "If some column(s) determine other columns, then those column(s) must uniquely identify a row in the table."
   ]
  },
  {
   "cell_type": "markdown",
   "id": "dec482c6",
   "metadata": {},
   "source": [
    "### Another Table Violating BCNF\n",
    "\n",
    "| CourseID | Instructor  | Classroom |\n",
    "|----------|-------------|-----------|\n",
    "| 1        | Dr. Smith  | Room 101  |\n",
    "| 2        | Dr. Smith  | Room 102  |\n",
    "| 3        | Dr. Johnson| Room 101  |\n",
    "\n",
    "**Why it violates BCNF:** The \"Instructor\" column determines \"Classroom\", but \"Instructor\" is not a candidate key."
   ]
  },
  {
   "cell_type": "code",
   "execution_count": 1,
   "id": "b2dd8915",
   "metadata": {},
   "outputs": [],
   "source": [
    "# Import SQLite library\n",
    "import sqlite3\n",
    "\n",
    "# Create an in-memory SQLite database\n",
    "connection = sqlite3.connect(':memory:')\n",
    "cursor = connection.cursor()"
   ]
  },
  {
   "cell_type": "code",
   "execution_count": 2,
   "id": "295379da",
   "metadata": {},
   "outputs": [
    {
     "name": "stdout",
     "output_type": "stream",
     "text": [
      "(1, 'Dr. Smith', 'Room 101')\n",
      "(2, 'Dr. Smith', 'Room 102')\n",
      "(3, 'Dr. Johnson', 'Room 101')\n"
     ]
    }
   ],
   "source": [
    "# Create a table that is not in BCNF\n",
    "cursor.execute('''\n",
    "CREATE TABLE Courses (\n",
    "    CourseID INTEGER PRIMARY KEY,\n",
    "    Instructor TEXT,\n",
    "    Classroom TEXT\n",
    ")''')\n",
    "\n",
    "# Insert data\n",
    "cursor.executemany('INSERT INTO Courses (CourseID, Instructor, Classroom) VALUES (?, ?, ?)', [\n",
    "    (1, 'Dr. Smith', 'Room 101'),\n",
    "    (2, 'Dr. Smith', 'Room 102'),\n",
    "    (3, 'Dr. Johnson', 'Room 101')\n",
    "])\n",
    "\n",
    "# Query the table\n",
    "cursor.execute('SELECT * FROM Courses')\n",
    "for row in cursor.fetchall():\n",
    "    print(row)"
   ]
  },
  {
   "cell_type": "markdown",
   "id": "a126abb3",
   "metadata": {},
   "source": [
    "### Decomposing into BCNF\n",
    "\n",
    "To convert the table into BCNF, we decompose it into two tables: one for instructors and classrooms, and another for courses and instructors."
   ]
  },
  {
   "cell_type": "code",
   "execution_count": 3,
   "id": "38b24db0",
   "metadata": {},
   "outputs": [
    {
     "name": "stdout",
     "output_type": "stream",
     "text": [
      "Instructors Table:\n",
      "('Dr. Smith', 'Room 101')\n",
      "('Dr. Smith', 'Room 102')\n",
      "('Dr. Johnson', 'Room 101')\n",
      "\n",
      "CourseAssignments Table:\n",
      "(1, 'Dr. Smith')\n",
      "(2, 'Dr. Smith')\n",
      "(3, 'Dr. Johnson')\n"
     ]
    }
   ],
   "source": [
    "# Create tables in BCNF\n",
    "cursor.execute('''\n",
    "CREATE TABLE Instructors (\n",
    "    Instructor TEXT,\n",
    "    Classroom TEXT,\n",
    "    PRIMARY KEY (Instructor, Classroom)\n",
    ")''')\n",
    "\n",
    "cursor.execute('''\n",
    "CREATE TABLE CourseAssignments (\n",
    "    CourseID INTEGER,\n",
    "    Instructor TEXT,\n",
    "    PRIMARY KEY (CourseID, Instructor),\n",
    "    FOREIGN KEY (Instructor) REFERENCES Instructors(Instructor)\n",
    ")''')\n",
    "\n",
    "# Insert data into BCNF tables\n",
    "cursor.executemany('INSERT INTO Instructors (Instructor, Classroom) VALUES (?, ?)', [\n",
    "    ('Dr. Smith', 'Room 101'),\n",
    "    ('Dr. Smith', 'Room 102'),\n",
    "    ('Dr. Johnson', 'Room 101')\n",
    "])\n",
    "\n",
    "cursor.executemany('INSERT INTO CourseAssignments (CourseID, Instructor) VALUES (?, ?)', [\n",
    "    (1, 'Dr. Smith'),\n",
    "    (2, 'Dr. Smith'),\n",
    "    (3, 'Dr. Johnson')\n",
    "])\n",
    "\n",
    "# Query the BCNF tables\n",
    "print('Instructors Table:')\n",
    "cursor.execute('SELECT * FROM Instructors')\n",
    "for row in cursor.fetchall():\n",
    "    print(row)\n",
    "\n",
    "print('\\nCourseAssignments Table:')\n",
    "cursor.execute('SELECT * FROM CourseAssignments')\n",
    "for row in cursor.fetchall():\n",
    "    print(row)"
   ]
  }
 ],
 "metadata": {
  "kernelspec": {
   "display_name": ".venv",
   "language": "python",
   "name": "python3"
  },
  "language_info": {
   "codemirror_mode": {
    "name": "ipython",
    "version": 3
   },
   "file_extension": ".py",
   "mimetype": "text/x-python",
   "name": "python",
   "nbconvert_exporter": "python",
   "pygments_lexer": "ipython3",
   "version": "3.13.3"
  }
 },
 "nbformat": 4,
 "nbformat_minor": 5
}