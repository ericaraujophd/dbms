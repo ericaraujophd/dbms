{
 "cells": [
  {
   "cell_type": "markdown",
   "metadata": {},
   "source": [
    "# INSERT\n",
    "\n",
    "\n",
    "updating sets of data\n",
    "inserting sets of data\n",
    "deleting sets of data\n",
    "views\n",
    "\n",
    "python code for sql"
   ]
  }
 ],
 "metadata": {
  "language_info": {
   "name": "python"
  }
 },
 "nbformat": 4,
 "nbformat_minor": 2
}
