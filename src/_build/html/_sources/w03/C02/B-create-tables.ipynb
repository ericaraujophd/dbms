{
 "cells": [
  {
   "cell_type": "markdown",
   "metadata": {},
   "source": [
    "# 3.2 DDL: CREATE TABLE\n",
    "\n",
    "Table design principles using DDL commands, such as CREATE TABLE, DROP TABLE, ALTER TABLE, CREATE INDEX, DROP INDEX, CREATE VIEW, DROP VIEW.\n",
    "\n",
    "Control columns values using constraints: primary keys, foreign keys, delete with CHECK, UNIQUE, NOT NULL, AUTOINCREMENT, CASCADE."
   ]
  },
  {
   "cell_type": "code",
   "execution_count": 1,
   "metadata": {},
   "outputs": [],
   "source": [
    "%%capture\n",
    "%load_ext sql\n",
    "%sql sqlite:///\n",
    "%config SqlMagic.style = '_DEPRECATED_DEFAULT'"
   ]
  },
  {
   "cell_type": "markdown",
   "metadata": {},
   "source": [
    "## CREATE TABLE\n",
    "\n",
    "In order to create a table, we need to define the table name and the columns it will contain. Each column must have a name and a data type. We can also specify constraints for each column.\n",
    "\n",
    "```sql\n",
    "CREATE TABLE [IF NOT EXISTS] [schema_name].table_name (\n",
    "\tcolumn_1 data_type PRIMARY KEY,\n",
    "   \tcolumn_2 data_type NOT NULL,\n",
    "\tcolumn_3 data_type DEFAULT 0,\n",
    "\ttable_constraints\n",
    ") [WITHOUT ROWID];\n",
    "```\n",
    "\n",
    "In this syntax:\n",
    "\n",
    "- `IF NOT EXISTS`: Optional. If specified, the table will only be created if it does not already exist.\n",
    "- `schema_name`: Optional. The name of the schema to which the table belongs.\n",
    "- `table_name`: The name of the table to be created.\n",
    "- `column_1`, `column_2`, `column_3`: The names of the columns in the table.\n",
    "- `data_type`: The data type of the column (e.g., INTEGER, TEXT, REAL, BLOB).\n",
    "- `PRIMARY KEY`: Specifies that the column is a primary key.\n",
    "- `NOT NULL`: Specifies that the column cannot contain NULL values.\n",
    "- `DEFAULT`: Specifies a default value for the column if no value is provided during insertion.\n",
    "- `table_constraints`: Optional. Additional constraints for the table, such as foreign keys or unique constraints.\n",
    "- `WITHOUT ROWID`: Optional. Specifies that the table should not use a ROWID for each row. This is useful for tables that do not require a unique identifier for each row.\n",
    "\n",
    "```{note}\n",
    "The `WITHOUT ROWID` option is specific to SQLite and is not part of the SQL standard. It is used to create a table that does not use a ROWID for each row, which can improve performance in certain cases. By default, SQLite creates a ROWID for each row in a table, which can be used as a unique identifier. However, if you do not need a ROWID, you can use the `WITHOUT ROWID` option to create a table without it. The `rowid` column stores a 64-bit signed integer that uniquely identifies a row in a table.\n",
    "```\n",
    "\n",
    "### Example"
   ]
  },
  {
   "cell_type": "code",
   "execution_count": 2,
   "metadata": {},
   "outputs": [
    {
     "name": "stdout",
     "output_type": "stream",
     "text": [
      " * sqlite:///\n",
      "Done.\n"
     ]
    },
    {
     "data": {
      "text/plain": [
       "[]"
      ]
     },
     "execution_count": 2,
     "metadata": {},
     "output_type": "execute_result"
    }
   ],
   "source": [
    "%%sql\n",
    "CREATE TABLE employees (\n",
    "    employee_id INTEGER PRIMARY KEY AUTOINCREMENT,\n",
    "    first_name TEXT NOT NULL,\n",
    "    last_name TEXT NOT NULL,\n",
    "    hire_date DATE NOT NULL,\n",
    "    salary REAL CHECK (salary > 0)\n",
    ");"
   ]
  },
  {
   "cell_type": "markdown",
   "metadata": {},
   "source": [
    "This table `employees` has five columns:\n",
    "\n",
    "- `employee_id`: an integer that is the primary key and will auto-increment with each new record.\n",
    "- `first_name`: a text field that cannot be null.\n",
    "- `last_name`: a text field that cannot be null.\n",
    "- `hire_date`: a date field that cannot be null.\n",
    "- `salary`: a real number that must be greater than 0, enforced by a CHECK constraint."
   ]
  },
  {
   "cell_type": "markdown",
   "metadata": {},
   "source": [
    "## Storage Classes (SQLite Data Types)\n",
    "\n",
    "SQLite uses the following storage classes:\n",
    "- NULL: The value is a NULL value.\n",
    "- INTEGER: The value is a signed integer, stored in 1, 2, 3, 4, or 8 bytes.\n",
    "- REAL: The value is a floating point value, stored as an 8-byte IEEE floating point number.\n",
    "- TEXT: The value is a text string, stored using the database encoding (UTF-8, UTF-16BE, or UTF-16LE).\n",
    "- BLOB: The value is a blob of data, stored exactly as it was input. BLOB stands for \"Binary Large Object\". Its size is unlimited, and it can store any kind of data, including images, audio, and video files."
   ]
  },
  {
   "cell_type": "markdown",
   "metadata": {},
   "source": [
    "SQLite determines the data type of a value based on the value itself, not the column definition. This means that you can store any type of data in any column, regardless of its declared type. However, it is a good practice to use the correct data type for each column to ensure data integrity and improve performance. For defining the data type of a column, SQLite uses the following rules:\n",
    "\n",
    "- If a value has no enclosing quotes and decimal point or exponent, it is stored as an REAL.\n",
    "- If a value has enclosing single or double quotes, it is stored as TEXT.\n",
    "- If a value has no enclosing quotes and no decimal point or exponent, it is stored as INTEGER.\n",
    "- If a value is NULL without enclosing quotes, it is stored as NULL.\n",
    "- If a value has a prefix of X, it is stored as BLOB.\n",
    "\n",
    "```{note}\n",
    "SQLite does not have date and time classes built-in. However, it is possible to store date and time values as TEXT, REAL, or INTEGER. Check the material on date and time functions for more information.\n",
    "```\n",
    "\n",
    "You can always check the data type of a column using the `PRAGMA table_info(table_name)` command. This command returns a list of all columns in the specified table, along with their data types and constraints.\n",
    "\n",
    "```sql\n",
    "PRAGMA table_info(employees);\n",
    "```"
   ]
  },
  {
   "cell_type": "code",
   "execution_count": 3,
   "metadata": {},
   "outputs": [
    {
     "name": "stdout",
     "output_type": "stream",
     "text": [
      " * sqlite:///\n",
      "Done.\n"
     ]
    },
    {
     "data": {
      "text/html": [
       "<table>\n",
       "    <thead>\n",
       "        <tr>\n",
       "            <th>cid</th>\n",
       "            <th>name</th>\n",
       "            <th>type</th>\n",
       "            <th>notnull</th>\n",
       "            <th>dflt_value</th>\n",
       "            <th>pk</th>\n",
       "        </tr>\n",
       "    </thead>\n",
       "    <tbody>\n",
       "        <tr>\n",
       "            <td>0</td>\n",
       "            <td>employee_id</td>\n",
       "            <td>INTEGER</td>\n",
       "            <td>0</td>\n",
       "            <td>None</td>\n",
       "            <td>1</td>\n",
       "        </tr>\n",
       "        <tr>\n",
       "            <td>1</td>\n",
       "            <td>first_name</td>\n",
       "            <td>TEXT</td>\n",
       "            <td>1</td>\n",
       "            <td>None</td>\n",
       "            <td>0</td>\n",
       "        </tr>\n",
       "        <tr>\n",
       "            <td>2</td>\n",
       "            <td>last_name</td>\n",
       "            <td>TEXT</td>\n",
       "            <td>1</td>\n",
       "            <td>None</td>\n",
       "            <td>0</td>\n",
       "        </tr>\n",
       "        <tr>\n",
       "            <td>3</td>\n",
       "            <td>hire_date</td>\n",
       "            <td>DATE</td>\n",
       "            <td>1</td>\n",
       "            <td>None</td>\n",
       "            <td>0</td>\n",
       "        </tr>\n",
       "        <tr>\n",
       "            <td>4</td>\n",
       "            <td>salary</td>\n",
       "            <td>REAL</td>\n",
       "            <td>0</td>\n",
       "            <td>None</td>\n",
       "            <td>0</td>\n",
       "        </tr>\n",
       "    </tbody>\n",
       "</table>"
      ],
      "text/plain": [
       "[(0, 'employee_id', 'INTEGER', 0, None, 1),\n",
       " (1, 'first_name', 'TEXT', 1, None, 0),\n",
       " (2, 'last_name', 'TEXT', 1, None, 0),\n",
       " (3, 'hire_date', 'DATE', 1, None, 0),\n",
       " (4, 'salary', 'REAL', 0, None, 0)]"
      ]
     },
     "execution_count": 3,
     "metadata": {},
     "output_type": "execute_result"
    }
   ],
   "source": [
    "%%sql\n",
    "\n",
    "PRAGMA table_info('employees');"
   ]
  },
  {
   "cell_type": "markdown",
   "metadata": {},
   "source": [
    "You can also use `typeof()` function to check the data type of a value. This function returns the storage class of the value, which can be one of the following: NULL, INTEGER, REAL, TEXT, or BLOB."
   ]
  },
  {
   "cell_type": "code",
   "execution_count": 4,
   "metadata": {},
   "outputs": [
    {
     "name": "stdout",
     "output_type": "stream",
     "text": [
      " * sqlite:///\n",
      "Done.\n"
     ]
    },
    {
     "data": {
      "text/html": [
       "<table>\n",
       "    <thead>\n",
       "        <tr>\n",
       "            <th>typeof(100)</th>\n",
       "            <th>typeof(10.0)</th>\n",
       "            <th>typeof(&#x27;100&#x27;)</th>\n",
       "            <th>typeof(x&#x27;1000&#x27;)</th>\n",
       "            <th>typeof(NULL)</th>\n",
       "        </tr>\n",
       "    </thead>\n",
       "    <tbody>\n",
       "        <tr>\n",
       "            <td>integer</td>\n",
       "            <td>real</td>\n",
       "            <td>text</td>\n",
       "            <td>blob</td>\n",
       "            <td>null</td>\n",
       "        </tr>\n",
       "    </tbody>\n",
       "</table>"
      ],
      "text/plain": [
       "[('integer', 'real', 'text', 'blob', 'null')]"
      ]
     },
     "execution_count": 4,
     "metadata": {},
     "output_type": "execute_result"
    }
   ],
   "source": [
    "%%sql\n",
    "SELECT  typeof(100),\n",
    "        typeof(10.0),\n",
    "        typeof('100'),\n",
    "        typeof(x'1000'),\n",
    "        typeof(NULL);"
   ]
  },
  {
   "cell_type": "markdown",
   "metadata": {},
   "source": [
    "## Constraints\n",
    "\n",
    "### Primary Key\n",
    "\n",
    "A primary key is a column or a set of columns that uniquely identifies each row in a table. A primary key must contain unique values and cannot contain NULL values. A table can have only one primary key, which can consist of one or more columns.\n",
    "\n",
    "SQLite offers two ways to define a primary key: for one column or for multiple columns. The syntax for defining a primary key is as follows:\n",
    "\n",
    "For only one column:\n",
    "\n",
    "```sql\n",
    "CREATE TABLE table_name (\n",
    "    column1_name INTEGER NOT NULL PRIMARY KEY,\n",
    "    ...\n",
    ");\n",
    "```\n",
    "\n",
    "For multiple columns:\n",
    "\n",
    "```sql\n",
    "CREATE TABLE table_name (\n",
    "    column1_name INTEGER NOT NULL,\n",
    "    column2_name INTEGER NOT NULL,\n",
    "    ...\n",
    "    PRIMARY KEY (column1_name, column2_name)\n",
    ");\n",
    "```\n",
    "\n",
    "Notice that for multiple columns, the primary key constraint is defined at the end of the table definition. This is because it applies to the combination of the two columns, not to each column individually.\n",
    "\n",
    "When creating a table without specifying `WITHOUT ROWID`, SQLite automatically creates a hidden column called `rowid` that serves as the primary key for the table. This column is an integer that uniquely identifies each row in the table. If you define a primary key for the table of type `INTEGER`, SQLite will use that primary key instead of the `rowid` column as an alias.\n",
    "\n",
    "Unlike other databases, SQLite does not allow to add a primary key constraint to an existing table using the `ALTER TABLE` command. Instead, you need to create a new table with the primary key constraint and copy the data from the old table to the new one. After that, you can drop the old table and rename the new one. To see more of how this works, check the material on this [SQLite tutorial website](https://www.sqlitetutorial.net/sqlite-primary-key/).\n",
    "\n"
   ]
  },
  {
   "cell_type": "markdown",
   "metadata": {},
   "source": [
    "### NOT NULL\n",
    "\n",
    "The `NOT NULL` constraint is used to ensure that a column cannot contain NULL values. This means that every row in the table must have a value for this column. If you try to insert a row without a value for a NOT NULL column, SQLite will raise an error.\n",
    "\n",
    "```sql\n",
    "CREATE TABLE table_name (\n",
    "    column1_name INTEGER NOT NULL,\n",
    "    column2_name TEXT NOT NULL,\n",
    "    ...\n",
    ");\n",
    "```\n",
    "\n",
    "### UNIQUE\n",
    "\n",
    "The `UNIQUE` constraint is used to ensure that all values in a column are unique. This means that no two rows in the table can have the same value for this column. If you try to insert a row with a duplicate value for a UNIQUE column, SQLite will raise an error.\n",
    "\n",
    "```sql\n",
    "CREATE TABLE table_name (\n",
    "    column1_name INTEGER UNIQUE,\n",
    "    column2_name TEXT UNIQUE,\n",
    "    ...\n",
    ");\n",
    "```\n",
    "\n",
    "### DEFAULT\n",
    "\n",
    "The `DEFAULT` constraint is used to specify a default value for a column. This means that if you do not provide a value for this column when inserting a row, SQLite will use the default value instead. The default value can be any valid expression, including a constant, a function call, or a subquery.\n",
    "\n",
    "```sql\n",
    "CREATE TABLE table_name (\n",
    "    column1_name INTEGER DEFAULT 0,\n",
    "    column2_name TEXT DEFAULT 'unknown',\n",
    "    ...\n",
    ");\n",
    "```\n",
    "\n",
    "### CHECK\n",
    "\n",
    "The `CHECK` constraint is used to specify a condition that must be true for each row in the table. This means that if you try to insert a row that does not satisfy the condition, SQLite will raise an error. The condition can be any valid expression, including comparisons, logical operators, and functions.\n",
    "\n",
    "```sql\n",
    "CREATE TABLE table_name (\n",
    "    column1_name INTEGER CHECK (column1_name > 0),\n",
    "    column2_name TEXT CHECK (column2_name != ''),\n",
    "    ...\n",
    ");\n",
    "```"
   ]
  }
 ],
 "metadata": {
  "kernelspec": {
   "display_name": ".venv",
   "language": "python",
   "name": "python3"
  },
  "language_info": {
   "codemirror_mode": {
    "name": "ipython",
    "version": 3
   },
   "file_extension": ".py",
   "mimetype": "text/x-python",
   "name": "python",
   "nbconvert_exporter": "python",
   "pygments_lexer": "ipython3",
   "version": "3.13.2"
  }
 },
 "nbformat": 4,
 "nbformat_minor": 2
}
