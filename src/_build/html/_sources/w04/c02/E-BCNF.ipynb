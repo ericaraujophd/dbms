{
 "cells": [
  {
   "cell_type": "markdown",
   "id": "7592a89b",
   "metadata": {},
   "source": [
    "# Boyce-Codd Normal Form (BCNF)\n",
    "\n",
    "You can think of BCNF as a stricter version of **Third Normal Form (3NF)**. It makes sure that **every piece of information in a table depends only on a “true” unique identifier**—what we call a **candidate key**.\n",
    "\n",
    "That is, if you have a table with a composite key (a key made up of two or more columns), BCNF ensures that all the other columns depend on the entire composite key, not just part of it."
   ]
  },
  {
   "cell_type": "markdown",
   "id": "ccdb02be",
   "metadata": {},
   "source": [
    "## Table violating BCNF\n",
    "\n",
    "Imagine a table that stores course registrations:\n",
    "\n",
    "| StudentID | CourseCode | Instructor |\n",
    "|-----------|------------|------------|\n",
    "| S1        | CS101      | Prof. Kim  |\n",
    "| S2        | CS101      | Prof. Kim  |\n",
    "| S3        | CS102      | Prof. Jones|\n",
    "\n",
    "This table seems fine. But notice:\n",
    "\n",
    "* The **instructor name is repeated** for every student in the same course.\n",
    "* What if someone **changes one instance** of the instructor to “Dr. Kim” but forgets to update the others?\n",
    "* Or if **we delete the last student from CS101**, we might lose the information about the instructor for that course.\n",
    "\n",
    "These are **update and deletion anomalies**. BCNF helps avoid them."
   ]
  },
  {
   "cell_type": "markdown",
   "id": "e6c1efb5",
   "metadata": {},
   "source": [
    "## 🧠 When is a table in BCNF?\n",
    "\n",
    "A table is in **BCNF** if:\n",
    "\n",
    "For every **functional dependency** in the table, the **left-hand side** is a candidate key.\n",
    "\n",
    "In other words:\n",
    "\n",
    "If some column(s) determine other columns, then those column(s) must uniquely identify a row in the table."
   ]
  },
  {
   "cell_type": "markdown",
   "id": "dec482c6",
   "metadata": {},
   "source": [
    "## Another Table Violating BCNF\n",
    "\n",
    "| CourseID | Instructor  | Classroom |\n",
    "|----------|-------------|-----------|\n",
    "| 1        | Dr. Smith  | Room 101  |\n",
    "| 2        | Dr. Smith  | Room 102  |\n",
    "| 3        | Dr. Johnson| Room 101  |\n",
    "\n",
    "**Why it violates BCNF:** The \"Instructor\" column determines \"Classroom\", but \"Instructor\" is not a candidate key."
   ]
  },
  {
   "cell_type": "code",
   "execution_count": 1,
   "id": "b2dd8915",
   "metadata": {},
   "outputs": [],
   "source": [
    "# Import SQLite library\n",
    "import sqlite3\n",
    "\n",
    "# Create an in-memory SQLite database\n",
    "connection = sqlite3.connect(':memory:')\n",
    "cursor = connection.cursor()"
   ]
  },
  {
   "cell_type": "code",
   "execution_count": 2,
   "id": "295379da",
   "metadata": {},
   "outputs": [
    {
     "name": "stdout",
     "output_type": "stream",
     "text": [
      "(1, 'Dr. Smith', 'Room 101')\n",
      "(2, 'Dr. Smith', 'Room 102')\n",
      "(3, 'Dr. Johnson', 'Room 101')\n"
     ]
    }
   ],
   "source": [
    "# Create a table that is not in BCNF\n",
    "cursor.execute('''\n",
    "CREATE TABLE Courses (\n",
    "    CourseID INTEGER PRIMARY KEY,\n",
    "    Instructor TEXT,\n",
    "    Classroom TEXT\n",
    ")''')\n",
    "\n",
    "# Insert data\n",
    "cursor.executemany('INSERT INTO Courses (CourseID, Instructor, Classroom) VALUES (?, ?, ?)', [\n",
    "    (1, 'Dr. Smith', 'Room 101'),\n",
    "    (2, 'Dr. Smith', 'Room 102'),\n",
    "    (3, 'Dr. Johnson', 'Room 101')\n",
    "])\n",
    "\n",
    "# Query the table\n",
    "cursor.execute('SELECT * FROM Courses')\n",
    "for row in cursor.fetchall():\n",
    "    print(row)"
   ]
  },
  {
   "cell_type": "markdown",
   "id": "a126abb3",
   "metadata": {},
   "source": [
    "## Decomposing into BCNF\n",
    "\n",
    "To convert the table into BCNF, we decompose it into two tables: one for instructors and classrooms, and another for courses and instructors."
   ]
  },
  {
   "cell_type": "code",
   "execution_count": 3,
   "id": "38b24db0",
   "metadata": {},
   "outputs": [
    {
     "name": "stdout",
     "output_type": "stream",
     "text": [
      "Instructors Table:\n",
      "('Dr. Smith', 'Room 101')\n",
      "('Dr. Smith', 'Room 102')\n",
      "('Dr. Johnson', 'Room 101')\n",
      "\n",
      "CourseAssignments Table:\n",
      "(1, 'Dr. Smith')\n",
      "(2, 'Dr. Smith')\n",
      "(3, 'Dr. Johnson')\n"
     ]
    }
   ],
   "source": [
    "# Create tables in BCNF\n",
    "cursor.execute('''\n",
    "CREATE TABLE Instructors (\n",
    "    Instructor TEXT,\n",
    "    Classroom TEXT,\n",
    "    PRIMARY KEY (Instructor, Classroom)\n",
    ")''')\n",
    "\n",
    "cursor.execute('''\n",
    "CREATE TABLE CourseAssignments (\n",
    "    CourseID INTEGER,\n",
    "    Instructor TEXT,\n",
    "    PRIMARY KEY (CourseID, Instructor),\n",
    "    FOREIGN KEY (Instructor) REFERENCES Instructors(Instructor)\n",
    ")''')\n",
    "\n",
    "# Insert data into BCNF tables\n",
    "cursor.executemany('INSERT INTO Instructors (Instructor, Classroom) VALUES (?, ?)', [\n",
    "    ('Dr. Smith', 'Room 101'),\n",
    "    ('Dr. Smith', 'Room 102'),\n",
    "    ('Dr. Johnson', 'Room 101')\n",
    "])\n",
    "\n",
    "cursor.executemany('INSERT INTO CourseAssignments (CourseID, Instructor) VALUES (?, ?)', [\n",
    "    (1, 'Dr. Smith'),\n",
    "    (2, 'Dr. Smith'),\n",
    "    (3, 'Dr. Johnson')\n",
    "])\n",
    "\n",
    "# Query the BCNF tables\n",
    "print('Instructors Table:')\n",
    "cursor.execute('SELECT * FROM Instructors')\n",
    "for row in cursor.fetchall():\n",
    "    print(row)\n",
    "\n",
    "print('\\nCourseAssignments Table:')\n",
    "cursor.execute('SELECT * FROM CourseAssignments')\n",
    "for row in cursor.fetchall():\n",
    "    print(row)"
   ]
  },
  {
   "cell_type": "markdown",
   "id": "23468c49",
   "metadata": {},
   "source": [
    "## 💡 Summary\n",
    "\n",
    "* BCNF is about making sure only candidate keys determine other columns.\n",
    "* It prevents data anomalies by keeping your design clean.\n",
    "* If a table has a dependency where a non-candidate key determines other data, it’s not in BCNF, and you should split it."
   ]
  }
 ],
 "metadata": {
  "kernelspec": {
   "display_name": ".venv",
   "language": "python",
   "name": "python3"
  },
  "language_info": {
   "codemirror_mode": {
    "name": "ipython",
    "version": 3
   },
   "file_extension": ".py",
   "mimetype": "text/x-python",
   "name": "python",
   "nbconvert_exporter": "python",
   "pygments_lexer": "ipython3",
   "version": "3.13.3"
  }
 },
 "nbformat": 4,
 "nbformat_minor": 5
}
