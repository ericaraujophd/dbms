{
 "cells": [
  {
   "cell_type": "markdown",
   "id": "0e287cc8",
   "metadata": {},
   "source": [
    "# Second Normal Form (2NF)\n",
    "\n",
    "A table is in 2NF if it is in 1NF and all non-key columns are fully functionally dependent on the primary key.\n",
    "\n",
    "By fully functionally dependent, we mean that if a non-key column is dependent on only part of a composite primary key, then the table is not in 2NF."
   ]
  },
  {
   "cell_type": "markdown",
   "id": "1efd6824",
   "metadata": {},
   "source": [
    "## Table Violating 2NF\n",
    "\n",
    "| OrderID | ProductID | ProductName |\n",
    "|---------|-----------|-------------|\n",
    "| 1       | 101       | Laptop      |\n",
    "| 1       | 102       | Mouse       |\n",
    "| 2       | 101       | Laptop      |\n",
    "\n",
    "**Why it violates 2NF:** The \"ProductName\" column depends only on \"ProductID\" and not on the composite primary key (OrderID, ProductID)."
   ]
  },
  {
   "cell_type": "code",
   "execution_count": 1,
   "id": "67b15bf6",
   "metadata": {},
   "outputs": [],
   "source": [
    "# Import SQLite library\n",
    "import sqlite3\n",
    "\n",
    "# Create an in-memory SQLite database\n",
    "connection = sqlite3.connect(':memory:')\n",
    "cursor = connection.cursor()"
   ]
  },
  {
   "cell_type": "code",
   "execution_count": 2,
   "id": "8ac0f270",
   "metadata": {},
   "outputs": [
    {
     "name": "stdout",
     "output_type": "stream",
     "text": [
      "(1, 101, 'Laptop')\n",
      "(1, 102, 'Mouse')\n",
      "(2, 101, 'Laptop')\n"
     ]
    }
   ],
   "source": [
    "# Create a table that violates 2NF\n",
    "cursor.execute('''\n",
    "CREATE TABLE Orders (\n",
    "    OrderID INTEGER,\n",
    "    ProductID INTEGER,\n",
    "    ProductName TEXT,\n",
    "    PRIMARY KEY (OrderID, ProductID)\n",
    ")''')\n",
    "\n",
    "# Insert data\n",
    "cursor.executemany('INSERT INTO Orders (OrderID, ProductID, ProductName) VALUES (?, ?, ?)', [\n",
    "    (1, 101, 'Laptop'),\n",
    "    (1, 102, 'Mouse'),\n",
    "    (2, 101, 'Laptop')\n",
    "])\n",
    "\n",
    "# Query the table\n",
    "cursor.execute('SELECT * FROM Orders')\n",
    "for row in cursor.fetchall():\n",
    "    print(row)"
   ]
  },
  {
   "cell_type": "markdown",
   "id": "b6d51c97",
   "metadata": {},
   "source": [
    "## Converting to 2NF\n",
    "\n",
    "To achieve 2NF, we separate the `ProductName` into a new table."
   ]
  },
  {
   "cell_type": "code",
   "execution_count": 3,
   "id": "d1cc7557",
   "metadata": {},
   "outputs": [
    {
     "name": "stdout",
     "output_type": "stream",
     "text": [
      "Products Table:\n",
      "(101, 'Laptop')\n",
      "(102, 'Mouse')\n",
      "\n",
      "OrderDetails Table:\n",
      "(1, 101)\n",
      "(1, 102)\n",
      "(2, 101)\n"
     ]
    }
   ],
   "source": [
    "# Create tables in 2NF\n",
    "cursor.execute('''\n",
    "CREATE TABLE Products (\n",
    "    ProductID INTEGER PRIMARY KEY,\n",
    "    ProductName TEXT\n",
    ")''')\n",
    "\n",
    "cursor.execute('''\n",
    "CREATE TABLE OrderDetails (\n",
    "    OrderID INTEGER,\n",
    "    ProductID INTEGER,\n",
    "    PRIMARY KEY (OrderID, ProductID),\n",
    "    FOREIGN KEY (ProductID) REFERENCES Products(ProductID)\n",
    ")''')\n",
    "\n",
    "# Insert data into 2NF tables\n",
    "cursor.executemany('INSERT INTO Products (ProductID, ProductName) VALUES (?, ?)', [\n",
    "    (101, 'Laptop'),\n",
    "    (102, 'Mouse')\n",
    "])\n",
    "\n",
    "cursor.executemany('INSERT INTO OrderDetails (OrderID, ProductID) VALUES (?, ?)', [\n",
    "    (1, 101),\n",
    "    (1, 102),\n",
    "    (2, 101)\n",
    "])\n",
    "\n",
    "# Query the 2NF tables\n",
    "print('Products Table:')\n",
    "cursor.execute('SELECT * FROM Products')\n",
    "for row in cursor.fetchall():\n",
    "    print(row)\n",
    "\n",
    "print('\\nOrderDetails Table:')\n",
    "cursor.execute('SELECT * FROM OrderDetails')\n",
    "for row in cursor.fetchall():\n",
    "    print(row)"
   ]
  }
 ],
 "metadata": {
  "kernelspec": {
   "display_name": ".venv",
   "language": "python",
   "name": "python3"
  },
  "language_info": {
   "codemirror_mode": {
    "name": "ipython",
    "version": 3
   },
   "file_extension": ".py",
   "mimetype": "text/x-python",
   "name": "python",
   "nbconvert_exporter": "python",
   "pygments_lexer": "ipython3",
   "version": "3.13.3"
  }
 },
 "nbformat": 4,
 "nbformat_minor": 5
}
