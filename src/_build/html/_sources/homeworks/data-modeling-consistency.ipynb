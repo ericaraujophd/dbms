{
 "cells": [
  {
   "cell_type": "markdown",
   "id": "b6b06265",
   "metadata": {},
   "source": [
    "# 📘 CS354 Homework: Data Modeling & Consistency\n",
    "\n",
    "🧠 Learning Objectives\n",
    "\n",
    "* Analyze data redundancy and apply normalization rules (1NF, 2NF, 3NF).\n",
    "* Design Entity-Relationship Diagrams (ERDs) and convert them to relational schemas.\n",
    "* Understand and apply the concepts of ACID properties in transactional systems.\n",
    "* Compare SQLite behavior with other DBMSs where relevant."
   ]
  },
  {
   "cell_type": "markdown",
   "id": "c354f031",
   "metadata": {},
   "source": [
    "✏️ Instructions and Deliverables\n",
    "\n",
    "* Submit **a single PDF or markdown file** with your answers on Moodle.\n",
    "* If drawing an ERD, you may use free tools like draw.io or hand-draw and scan it.\n",
    "* Provide clear explanations and label all diagrams or schemas."
   ]
  },
  {
   "cell_type": "markdown",
   "id": "6c03ba97",
   "metadata": {},
   "source": [
    "## 📂 Part 1: ERD and Schema Design\n",
    "\n",
    "### Q1. Entity Discovery (5 pts)\n",
    "\n",
    "Read the description and identify at least 4 entities.\n",
    "\n",
    "> A small library wants to store information about books, members, and loans. Each book has a title, author(s), year, and ISBN. Members have an ID, name, and address. A member can borrow multiple books, but a book can only be borrowed by one member at a time. Loans record the date borrowed and due date.\n",
    "\n",
    "1.\tList the entities and their attributes.\n",
    "2.\tIdentify the relationships between the entities.\n",
    "3.\tIdentify any many-to-many or one-to-many relations.\n",
    "\n",
    "### Q2. Draw an ERD (10 pts)\n",
    "\n",
    "Based on Q1, draw an ER diagram with primary keys, foreign keys, and cardinalities."
   ]
  },
  {
   "cell_type": "markdown",
   "id": "ef2ce3ed",
   "metadata": {},
   "source": [
    "## 🛠️ Part 2: From ERD to Relational Model\n",
    "\n",
    "### Q3. Schema Translation (5 pts)\n",
    "\n",
    "Translate your ERD into CREATE TABLE statements for SQLite. Include:\n",
    "\n",
    "* Primary and foreign keys\n",
    "* Data types\n",
    "* Any constraints (e.g., NOT NULL)"
   ]
  },
  {
   "cell_type": "markdown",
   "id": "fce34681",
   "metadata": {},
   "source": [
    "## 🧹 Part 3: Normalization\n",
    "\n",
    "### Q4. Functional Dependencies (5 pts)\n",
    "\n",
    "A functional dependency is a relationship between attributes in a relation (table) that expresses how one attribute (or a set of attributes) uniquely determines another attribute.\n",
    "\n",
    "We say that an attribute B is functionally dependent on attribute A if, for every unique value of A, there is only one corresponding value of B. This is written as:\n",
    "\n",
    "```latex\n",
    "A \\rightarrow B\n",
    "```\n",
    "\n",
    "This means: “A determines B”. Functional dependencies help us understand how data is structured and guide us when normalizing tables to remove redundancy and anomalies.\n",
    "\n",
    "\n",
    "Given the following unnormalized table, list the functional dependencies.\n",
    "\n",
    "<style type=\"text/css\">\n",
    ".tg  {border-collapse:collapse;border-spacing:0;margin:0px auto;}\n",
    ".tg td{border-color:black;border-style:solid;border-width:1px;font-family:Arial, sans-serif;font-size:14px;\n",
    "  overflow:hidden;padding:10px 5px;word-break:normal;}\n",
    ".tg th{border-color:black;border-style:solid;border-width:1px;font-family:Arial, sans-serif;font-size:14px;\n",
    "  font-weight:normal;overflow:hidden;padding:10px 5px;word-break:normal;}\n",
    ".tg .tg-0pky{border-color:inherit;text-align:left;vertical-align:top}\n",
    "@media screen and (max-width: 767px) {.tg {width: auto !important;}.tg col {width: auto !important;}.tg-wrap {overflow-x: auto;-webkit-overflow-scrolling: touch;margin: auto 0px;}}</style>\n",
    "<div class=\"tg-wrap\"><table class=\"tg\"><thead>\n",
    "  <tr>\n",
    "    <th class=\"tg-0pky\"> <br>StudentID </th>\n",
    "    <th class=\"tg-0pky\"> <br>StudentName </th>\n",
    "    <th class=\"tg-0pky\"> <br>Major </th>\n",
    "    <th class=\"tg-0pky\"> <br>AdvisorName </th>\n",
    "    <th class=\"tg-0pky\"> <br>AdvisorOffice </th>\n",
    "  </tr></thead>\n",
    "<tbody>\n",
    "  <tr>\n",
    "    <td class=\"tg-0pky\"> <br>001 </td>\n",
    "    <td class=\"tg-0pky\"> <br>Alice </td>\n",
    "    <td class=\"tg-0pky\"> <br>CS </td>\n",
    "    <td class=\"tg-0pky\"> <br>Dr. Smith </td>\n",
    "    <td class=\"tg-0pky\"> <br>Room 201 </td>\n",
    "  </tr>\n",
    "  <tr>\n",
    "    <td class=\"tg-0pky\"> <br>002 </td>\n",
    "    <td class=\"tg-0pky\"> <br>Bob </td>\n",
    "    <td class=\"tg-0pky\"> <br>Math </td>\n",
    "    <td class=\"tg-0pky\"> <br>Dr. Jones </td>\n",
    "    <td class=\"tg-0pky\"> <br>Room 305 </td>\n",
    "  </tr>\n",
    "  <tr>\n",
    "    <td class=\"tg-0pky\"> <br>003 </td>\n",
    "    <td class=\"tg-0pky\"> <br>Carol </td>\n",
    "    <td class=\"tg-0pky\"> <br>CS </td>\n",
    "    <td class=\"tg-0pky\"> <br>Dr. Smith </td>\n",
    "    <td class=\"tg-0pky\"> <br>Room 201 </td>\n",
    "  </tr>\n",
    "</tbody>\n",
    "</table></div>"
   ]
  },
  {
   "cell_type": "markdown",
   "id": "6f0fe8b5",
   "metadata": {},
   "source": [
    "1.\tList all the functional dependencies you can observe in this table.\n",
    "    * Think about which values determine others (e.g., does knowing the StudentID let you determine the StudentName?).\n",
    "2. Explain whether there are any partial or transitive dependencies."
   ]
  },
  {
   "cell_type": "markdown",
   "id": "bd5ded20",
   "metadata": {},
   "source": [
    "### Q5. Normalize to 3NF (10 pts)\n",
    "\n",
    "Using the functional dependencies from Q4, normalize the table step-by-step into:\n",
    "\n",
    "* First Normal Form (1NF): Remove repeating groups and ensure atomic values.\n",
    "* Second Normal Form (2NF): Remove partial dependencies (fields depending only on part of a composite key).\n",
    "* Third Normal Form (3NF): Remove transitive dependencies (non-key fields depending on other non-key fields).\n",
    "\n",
    "For each step:\n",
    "\n",
    "* Show the resulting tables\n",
    "* Identify primary and foreign keys\n",
    "* Briefly explain the rationale for the transformation"
   ]
  },
  {
   "cell_type": "markdown",
   "id": "c7ed4ec7",
   "metadata": {},
   "source": [
    "## 🔄 Part 4: ACID Properties\n",
    "\n",
    "### Q6. Define ACID (4 pts)\n",
    "\n",
    "Briefly define each of the ACID properties:\n",
    "\n",
    "* Atomicity\n",
    "* Consistency\n",
    "* Isolation\n",
    "* Durability\n",
    "\n",
    "### Q7. ACID in SQLite vs. Other DBMSs (6 pts)\n",
    "\n",
    "Compare how SQLite handles each ACID property compared to a system like PostgreSQL or MySQL. Provide one sentence for each:"
   ]
  },
  {
   "cell_type": "markdown",
   "id": "32d9b3d9",
   "metadata": {},
   "source": [
    "<style type=\"text/css\">\n",
    ".tg  {border-collapse:collapse;border-spacing:0;margin:0px auto;}\n",
    ".tg td{border-color:black;border-style:solid;border-width:1px;font-family:Arial, sans-serif;font-size:14px;\n",
    "  overflow:hidden;padding:10px 5px;word-break:normal;}\n",
    ".tg th{border-color:black;border-style:solid;border-width:1px;font-family:Arial, sans-serif;font-size:14px;\n",
    "  font-weight:normal;overflow:hidden;padding:10px 5px;word-break:normal;}\n",
    ".tg .tg-0lax{text-align:left;vertical-align:top}\n",
    "@media screen and (max-width: 767px) {.tg {width: auto !important;}.tg col {width: auto !important;}.tg-wrap {overflow-x: auto;-webkit-overflow-scrolling: touch;margin: auto 0px;}}</style>\n",
    "<div class=\"tg-wrap\"><table class=\"tg\"><thead>\n",
    "  <tr>\n",
    "    <th class=\"tg-0lax\"> <br>Property </th>\n",
    "    <th class=\"tg-0lax\"> <br>SQLite </th>\n",
    "    <th class=\"tg-0lax\"> <br>PostgreSQL/MySQL </th>\n",
    "  </tr></thead>\n",
    "<tbody>\n",
    "  <tr>\n",
    "    <td class=\"tg-0lax\"> <br>Atomicity </td>\n",
    "    <td class=\"tg-0lax\"> <br>✅ Uses atomic transactions via journaling (WAL or rollback journal) </td>\n",
    "    <td class=\"tg-0lax\"> <br>✅ Full support using write-ahead logging </td>\n",
    "  </tr>\n",
    "  <tr>\n",
    "    <td class=\"tg-0lax\"> <br>Consistency </td>\n",
    "    <td class=\"tg-0lax\"> <br>✅ Enforced via constraints (e.g., FK, CHECK) </td>\n",
    "    <td class=\"tg-0lax\"> <br>✅ Enforced plus advanced constraints like DEFERRABLE </td>\n",
    "  </tr>\n",
    "  <tr>\n",
    "    <td class=\"tg-0lax\"> <br>Isolation </td>\n",
    "    <td class=\"tg-0lax\"> <br>🟡 Limited (uses SERIALIZABLE mode, but it’s closer to REPEATABLE READ) </td>\n",
    "    <td class=\"tg-0lax\"> <br>✅ Full isolation levels (READ COMMITTED, REPEATABLE READ, etc.) </td>\n",
    "  </tr>\n",
    "  <tr>\n",
    "    <td class=\"tg-0lax\"> <br>Durability </td>\n",
    "    <td class=\"tg-0lax\"> <br>🟡 Optional depending on PRAGMA settings </td>\n",
    "    <td class=\"tg-0lax\"> <br>✅ Durable by default (with fsync, etc.) </td>\n",
    "  </tr>\n",
    "</tbody></table></div>"
   ]
  },
  {
   "cell_type": "markdown",
   "id": "5a1c4e00",
   "metadata": {},
   "source": [
    "## ✅ Bonus (Optional)\n",
    "\n",
    "### Q8. Trigger Thinking (3 pts)\n",
    "\n",
    "Write a simple SQLite AFTER INSERT trigger that logs each loan into a loan_log table."
   ]
  }
 ],
 "metadata": {
  "language_info": {
   "name": "python"
  }
 },
 "nbformat": 4,
 "nbformat_minor": 5
}
