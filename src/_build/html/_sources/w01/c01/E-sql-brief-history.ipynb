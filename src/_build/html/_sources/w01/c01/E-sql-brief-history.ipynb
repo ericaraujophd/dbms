{
 "cells": [
  {
   "cell_type": "markdown",
   "id": "a265208c",
   "metadata": {},
   "source": [
    "# A Brief History of SQL\n",
    "\n",
    "Structured Query Language (SQL) is a standard programming language specifically designed for managing and manipulating relational databases. This notebook explores the history and evolution of SQL."
   ]
  },
  {
   "cell_type": "markdown",
   "id": "506af7ac",
   "metadata": {},
   "source": [
    "## Origins of SQL\n",
    "\n",
    "SQL was developed in the early 1970s at IBM by Donald D. Chamberlin and Raymond F. Boyce. It was initially called SEQUEL (Structured English Query Language) and was designed to manipulate and retrieve data stored in IBM's System R, a prototype relational database."
   ]
  },
  {
   "cell_type": "markdown",
   "id": "9ce5ed34",
   "metadata": {},
   "source": [
    "### Image of Donald D. Chamberlin and Raymond F. Boyce\n",
    "\n",
    "![Donald D. Chamberlin and Raymond F. Boyce](../../imgs/Donald_Chamberlin_Raymond_Boyce.png)"
   ]
  },
  {
   "cell_type": "markdown",
   "id": "986f7aff",
   "metadata": {},
   "source": [
    "## Standardization\n",
    "\n",
    "In 1986, the American National Standards Institute (ANSI) adopted SQL as the standard language for relational database management systems (RDBMS). This was followed by the International Organization for Standardization (ISO) in 1987."
   ]
  },
  {
   "cell_type": "markdown",
   "id": "c5e5cf1e",
   "metadata": {},
   "source": [
    "## Early Adoption and Impact\n",
    "\n",
    "During the 1980s and 1990s, SQL was adopted by major database vendors such as Oracle, IBM, and Microsoft. This widespread adoption solidified SQL as the industry standard for relational database management."
   ]
  },
  {
   "cell_type": "markdown",
   "id": "a636aeab",
   "metadata": {},
   "source": [
    "## Relational Model Foundation\n",
    "\n",
    "SQL is based on the relational model proposed by Edgar F. Codd in 1970. This model introduced the concept of organizing data into tables (relations) with rows and columns, which became the foundation for modern relational databases."
   ]
  },
  {
   "cell_type": "markdown",
   "id": "4e22ad19",
   "metadata": {},
   "source": [
    "## Evolution of SQL\n",
    "\n",
    "Over the years, SQL has undergone several revisions to include new features and capabilities. Some of the major milestones include:\n",
    "\n",
    "- **SQL-92**: Introduced support for integrity constraints, date and time data types, and enhanced join operations.\n",
    "- **SQL:1999**: Added support for object-oriented features, recursive queries, and triggers.\n",
    "- **SQL:2003**: Introduced XML-related features and window functions.\n",
    "- **SQL:2011**: Added support for temporal databases.\n",
    "- **SQL:2016**: Enhanced JSON support and introduced row pattern recognition."
   ]
  },
  {
   "cell_type": "markdown",
   "id": "d648f429",
   "metadata": {},
   "source": [
    "## Open Source and Community Growth\n",
    "\n",
    "The rise of open-source relational database management systems (RDBMS) like MySQL and PostgreSQL in the 1990s and 2000s played a significant role in SQL's widespread adoption. These platforms made SQL accessible to a broader audience, fostering innovation and community-driven development."
   ]
  },
  {
   "cell_type": "markdown",
   "id": "ef27e4e2",
   "metadata": {},
   "source": [
    "## SQL Today\n",
    "\n",
    "SQL remains the most widely used language for interacting with relational databases. It is supported by all major RDBMS platforms, including MySQL, PostgreSQL, Oracle Database, and Microsoft SQL Server."
   ]
  }
 ],
 "metadata": {
  "language_info": {
   "name": "python"
  }
 },
 "nbformat": 4,
 "nbformat_minor": 5
}
