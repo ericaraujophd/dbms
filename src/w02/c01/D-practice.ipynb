{
 "cells": [
  {
   "cell_type": "markdown",
   "metadata": {},
   "source": [
    "# Class 1. Exercises\n",
    "\n",
    "INNER JOINS, OUTER JOINS"
   ]
  }
 ],
 "metadata": {
  "language_info": {
   "name": "python"
  }
 },
 "nbformat": 4,
 "nbformat_minor": 2
}
