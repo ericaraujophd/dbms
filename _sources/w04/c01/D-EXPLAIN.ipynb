{
 "cells": [
  {
   "cell_type": "markdown",
   "id": "530a536b",
   "metadata": {},
   "source": [
    "# EXPLAIN and EXPLAIN QUERY PLAN"
   ]
  },
  {
   "cell_type": "markdown",
   "id": "a2a588e0",
   "metadata": {},
   "source": [
    "## 🧠 What is EXPLAIN?\n",
    "\n",
    "SQLite provides two commands to understand how your queries will be executed:\n",
    "\n",
    "* **EXPLAIN QUERY PLAN:** Gives a high-level overview of how a query will be run\n",
    "* **EXPLAIN:** Provides a **low-level**, detailed breakdown of the query execution plan\n",
    "\n",
    "In most cases, you will use `EXPLAIN QUERY PLAN` for query optimization and teaching.\n",
    "\n",
    "`EXPLAIN` is more technical and useful if you’re digging into SQLite internals.\n"
   ]
  },
  {
   "cell_type": "markdown",
   "id": "97ccc136",
   "metadata": {},
   "source": [
    "## 🧱 Step 1: Create a Table and Populate It\n",
    "\n",
    "We’ll create a small sales table with some customer purchase data to use in our examples."
   ]
  },
  {
   "cell_type": "code",
   "execution_count": 1,
   "id": "c8d4d6c5",
   "metadata": {},
   "outputs": [],
   "source": [
    "import sqlite3\n",
    "import random\n",
    "from datetime import datetime, timedelta\n",
    "\n",
    "# Start a fresh in-memory database\n",
    "conn = sqlite3.connect(\":memory:\")\n",
    "cursor = conn.cursor()\n",
    "\n",
    "# Create a simple table for purchases\n",
    "cursor.execute('''\n",
    "CREATE TABLE sales (\n",
    "    id INTEGER PRIMARY KEY AUTOINCREMENT,\n",
    "    customer TEXT,\n",
    "    product TEXT,\n",
    "    sale_date TEXT,\n",
    "    amount REAL\n",
    ")\n",
    "''')\n",
    "\n",
    "# Fill the table with 500 sample records\n",
    "customers = ['Alice', 'Bob', 'Carol', 'David', 'Eve']\n",
    "products = ['Board Game', 'Dice Set', 'Card Sleeves']\n",
    "\n",
    "for _ in range(500):\n",
    "    customer = random.choice(customers)\n",
    "    product = random.choice(products)\n",
    "    days_ago = random.randint(0, 100)\n",
    "    date = (datetime.now() - timedelta(days=days_ago)).strftime('%Y-%m-%d')\n",
    "    amount = round(random.uniform(10, 80), 2)\n",
    "    cursor.execute(\"INSERT INTO sales (customer, product, sale_date, amount) VALUES (?, ?, ?, ?)\",\n",
    "                   (customer, product, date, amount))\n",
    "\n",
    "conn.commit()"
   ]
  },
  {
   "cell_type": "markdown",
   "id": "293d53d8",
   "metadata": {},
   "source": [
    "✅ Main point: You should understand how indexes affect performance. But before we create any indexes, let’s see how SQLite plans queries with no help."
   ]
  },
  {
   "cell_type": "markdown",
   "id": "4b888818",
   "metadata": {},
   "source": [
    "## 🔍 Step 2: Run a Query and Inspect the Plan (No Index Yet)\n",
    "\n",
    "We’ll inspect a query that searches for rows by customer. First, we run the query as usual:"
   ]
  },
  {
   "cell_type": "code",
   "execution_count": 2,
   "id": "637357d8",
   "metadata": {},
   "outputs": [
    {
     "data": {
      "text/plain": [
       "[(3, 'Bob', 'Card Sleeves', '2025-03-15', 48.89),\n",
       " (13, 'Bob', 'Card Sleeves', '2025-02-28', 45.69),\n",
       " (17, 'Bob', 'Board Game', '2025-03-02', 47.79),\n",
       " (19, 'Bob', 'Board Game', '2025-04-10', 24.67),\n",
       " (22, 'Bob', 'Board Game', '2025-02-19', 44.02),\n",
       " (23, 'Bob', 'Dice Set', '2025-01-20', 57.91),\n",
       " (24, 'Bob', 'Board Game', '2025-01-19', 26.1),\n",
       " (27, 'Bob', 'Board Game', '2025-03-08', 72.16),\n",
       " (34, 'Bob', 'Dice Set', '2025-02-26', 51.03),\n",
       " (35, 'Bob', 'Card Sleeves', '2025-02-07', 70.12),\n",
       " (42, 'Bob', 'Board Game', '2025-02-25', 38.43),\n",
       " (43, 'Bob', 'Board Game', '2025-01-26', 75.25),\n",
       " (45, 'Bob', 'Board Game', '2025-02-01', 22.39),\n",
       " (47, 'Bob', 'Card Sleeves', '2025-01-27', 30.12),\n",
       " (50, 'Bob', 'Card Sleeves', '2025-01-18', 55.62),\n",
       " (53, 'Bob', 'Card Sleeves', '2025-02-27', 76.36),\n",
       " (58, 'Bob', 'Board Game', '2025-03-23', 22.07),\n",
       " (60, 'Bob', 'Board Game', '2025-03-15', 34.27),\n",
       " (63, 'Bob', 'Dice Set', '2025-03-24', 36.11),\n",
       " (66, 'Bob', 'Board Game', '2025-01-09', 27.84),\n",
       " (75, 'Bob', 'Board Game', '2025-01-25', 38.09),\n",
       " (78, 'Bob', 'Dice Set', '2025-03-13', 38.14),\n",
       " (83, 'Bob', 'Card Sleeves', '2025-03-20', 46.08),\n",
       " (85, 'Bob', 'Dice Set', '2025-01-26', 25.36),\n",
       " (86, 'Bob', 'Card Sleeves', '2025-02-24', 54.1),\n",
       " (87, 'Bob', 'Board Game', '2025-04-01', 17.47),\n",
       " (91, 'Bob', 'Board Game', '2025-03-14', 61.9),\n",
       " (98, 'Bob', 'Board Game', '2025-04-08', 51.56),\n",
       " (100, 'Bob', 'Dice Set', '2025-01-23', 31.24),\n",
       " (101, 'Bob', 'Card Sleeves', '2025-03-01', 34.17),\n",
       " (103, 'Bob', 'Card Sleeves', '2025-02-16', 65.78),\n",
       " (106, 'Bob', 'Card Sleeves', '2025-02-26', 24.82),\n",
       " (108, 'Bob', 'Board Game', '2025-02-01', 55.85),\n",
       " (117, 'Bob', 'Dice Set', '2025-04-10', 41.62),\n",
       " (118, 'Bob', 'Card Sleeves', '2025-02-27', 55.37),\n",
       " (120, 'Bob', 'Card Sleeves', '2025-03-10', 65.21),\n",
       " (128, 'Bob', 'Dice Set', '2025-04-07', 48.29),\n",
       " (133, 'Bob', 'Dice Set', '2025-01-21', 77.8),\n",
       " (150, 'Bob', 'Card Sleeves', '2025-01-23', 36.36),\n",
       " (157, 'Bob', 'Card Sleeves', '2025-02-09', 15.75),\n",
       " (164, 'Bob', 'Dice Set', '2025-02-25', 56.47),\n",
       " (167, 'Bob', 'Dice Set', '2025-04-04', 59.88),\n",
       " (171, 'Bob', 'Dice Set', '2025-02-26', 42.7),\n",
       " (174, 'Bob', 'Dice Set', '2025-03-03', 37.55),\n",
       " (175, 'Bob', 'Board Game', '2025-02-18', 23.26),\n",
       " (180, 'Bob', 'Dice Set', '2025-03-02', 63.97),\n",
       " (181, 'Bob', 'Dice Set', '2025-03-25', 74.11),\n",
       " (182, 'Bob', 'Card Sleeves', '2025-02-20', 51.08),\n",
       " (184, 'Bob', 'Board Game', '2025-01-23', 41.24),\n",
       " (189, 'Bob', 'Board Game', '2025-03-22', 79.42),\n",
       " (217, 'Bob', 'Board Game', '2025-02-01', 37.07),\n",
       " (223, 'Bob', 'Dice Set', '2025-03-20', 70.79),\n",
       " (239, 'Bob', 'Card Sleeves', '2025-01-16', 62.41),\n",
       " (242, 'Bob', 'Dice Set', '2025-03-07', 41.45),\n",
       " (246, 'Bob', 'Dice Set', '2025-02-24', 38.61),\n",
       " (251, 'Bob', 'Dice Set', '2025-03-21', 22.96),\n",
       " (253, 'Bob', 'Card Sleeves', '2025-02-26', 39.72),\n",
       " (267, 'Bob', 'Board Game', '2025-03-08', 22.2),\n",
       " (271, 'Bob', 'Card Sleeves', '2025-02-28', 24.71),\n",
       " (272, 'Bob', 'Dice Set', '2025-01-03', 75.65),\n",
       " (273, 'Bob', 'Card Sleeves', '2025-04-07', 43.34),\n",
       " (274, 'Bob', 'Board Game', '2025-02-02', 22.53),\n",
       " (275, 'Bob', 'Board Game', '2025-03-25', 39.19),\n",
       " (277, 'Bob', 'Board Game', '2025-03-07', 12.84),\n",
       " (289, 'Bob', 'Card Sleeves', '2025-04-06', 78.37),\n",
       " (295, 'Bob', 'Board Game', '2025-01-23', 32.11),\n",
       " (304, 'Bob', 'Card Sleeves', '2025-01-09', 67.16),\n",
       " (305, 'Bob', 'Board Game', '2025-01-26', 45.99),\n",
       " (310, 'Bob', 'Board Game', '2025-02-01', 11.14),\n",
       " (318, 'Bob', 'Dice Set', '2025-01-29', 19.68),\n",
       " (320, 'Bob', 'Card Sleeves', '2025-02-13', 11.84),\n",
       " (325, 'Bob', 'Dice Set', '2025-03-08', 47.87),\n",
       " (326, 'Bob', 'Board Game', '2025-03-11', 63.85),\n",
       " (338, 'Bob', 'Dice Set', '2025-02-20', 33.53),\n",
       " (341, 'Bob', 'Dice Set', '2025-03-28', 45.85),\n",
       " (349, 'Bob', 'Board Game', '2025-03-28', 43.28),\n",
       " (355, 'Bob', 'Card Sleeves', '2025-03-24', 50.57),\n",
       " (358, 'Bob', 'Card Sleeves', '2025-02-11', 46.19),\n",
       " (363, 'Bob', 'Dice Set', '2025-02-24', 75.69),\n",
       " (373, 'Bob', 'Board Game', '2025-01-15', 44.56),\n",
       " (380, 'Bob', 'Card Sleeves', '2025-04-05', 60.56),\n",
       " (391, 'Bob', 'Dice Set', '2025-03-17', 76.81),\n",
       " (393, 'Bob', 'Dice Set', '2025-02-07', 70.74),\n",
       " (394, 'Bob', 'Board Game', '2025-04-06', 42.85),\n",
       " (412, 'Bob', 'Board Game', '2025-02-14', 19.54),\n",
       " (413, 'Bob', 'Card Sleeves', '2025-02-22', 21.94),\n",
       " (425, 'Bob', 'Dice Set', '2025-01-07', 39.01),\n",
       " (427, 'Bob', 'Dice Set', '2025-02-24', 68.4),\n",
       " (429, 'Bob', 'Card Sleeves', '2025-01-05', 11.94),\n",
       " (430, 'Bob', 'Card Sleeves', '2025-03-07', 31.12),\n",
       " (437, 'Bob', 'Board Game', '2025-01-19', 19.48),\n",
       " (438, 'Bob', 'Card Sleeves', '2025-03-08', 38.86),\n",
       " (442, 'Bob', 'Card Sleeves', '2025-02-01', 65.51),\n",
       " (443, 'Bob', 'Board Game', '2025-02-11', 40.37),\n",
       " (444, 'Bob', 'Card Sleeves', '2025-02-17', 48.53),\n",
       " (445, 'Bob', 'Card Sleeves', '2025-01-30', 21.52),\n",
       " (448, 'Bob', 'Card Sleeves', '2025-01-15', 59.64),\n",
       " (449, 'Bob', 'Board Game', '2025-03-06', 26.82),\n",
       " (450, 'Bob', 'Card Sleeves', '2025-02-27', 41.15),\n",
       " (452, 'Bob', 'Card Sleeves', '2025-02-07', 45.11),\n",
       " (454, 'Bob', 'Board Game', '2025-03-01', 19.51),\n",
       " (455, 'Bob', 'Dice Set', '2025-02-28', 63.99),\n",
       " (456, 'Bob', 'Dice Set', '2025-02-08', 26.12),\n",
       " (457, 'Bob', 'Dice Set', '2025-01-17', 22.9),\n",
       " (459, 'Bob', 'Board Game', '2025-02-04', 33.81),\n",
       " (460, 'Bob', 'Card Sleeves', '2025-03-23', 73.7),\n",
       " (482, 'Bob', 'Dice Set', '2025-03-13', 13.31),\n",
       " (487, 'Bob', 'Card Sleeves', '2025-03-30', 39.39),\n",
       " (500, 'Bob', 'Board Game', '2025-01-09', 44.56)]"
      ]
     },
     "execution_count": 2,
     "metadata": {},
     "output_type": "execute_result"
    }
   ],
   "source": [
    "query = \"SELECT * FROM sales WHERE customer = 'Bob'\"\n",
    "cursor.execute(query)\n",
    "cursor.fetchall()"
   ]
  },
  {
   "cell_type": "markdown",
   "id": "591b615a",
   "metadata": {},
   "source": [
    "Now, let’s use `EXPLAIN QUERY PLAN` to see how SQLite will execute that same query:"
   ]
  },
  {
   "cell_type": "code",
   "execution_count": 3,
   "id": "4e765df5",
   "metadata": {},
   "outputs": [
    {
     "name": "stdout",
     "output_type": "stream",
     "text": [
      "(2, 0, 216, 'SCAN sales')\n"
     ]
    }
   ],
   "source": [
    "cursor.execute(f\"EXPLAIN QUERY PLAN {query}\")\n",
    "for row in cursor.fetchall():\n",
    "    print(row)"
   ]
  },
  {
   "cell_type": "markdown",
   "id": "7911ce78",
   "metadata": {},
   "source": [
    "This means SQLite is doing a full table scan — it has to check every row to find customers named “Bob”."
   ]
  },
  {
   "cell_type": "markdown",
   "id": "686b9441",
   "metadata": {},
   "source": [
    "### 👀 Interpretation\n",
    "\n",
    "Output format:\n",
    "\n",
    "```\n",
    "(<selectid>, <order>, <from>, <detail>)\n",
    "```\n",
    "\n",
    "* **selectid:** ID of the `SELECT` query (0 for main query, >0 for subqueries)\n",
    "* **order:** Evaluation order of the `FROM` clause elements\n",
    "* **from:** Table index in the `FROM` clause (0 if only one table)\n",
    "* **detail:** How SQLite will access the data: scan, index, etc.\n"
   ]
  },
  {
   "cell_type": "markdown",
   "id": "7da62171",
   "metadata": {},
   "source": [
    "### 🧩 Step 3: Create an Index to Improve the Plan\n",
    "\n",
    "Let’s add an index on the customer column and rerun the plan."
   ]
  },
  {
   "cell_type": "code",
   "execution_count": 4,
   "id": "c27ba22e",
   "metadata": {},
   "outputs": [],
   "source": [
    "cursor.execute(\"CREATE INDEX idx_customer ON sales(customer)\")\n",
    "conn.commit()"
   ]
  },
  {
   "cell_type": "markdown",
   "id": "d32fe3c6",
   "metadata": {},
   "source": [
    "Now run the same EXPLAIN QUERY PLAN:"
   ]
  },
  {
   "cell_type": "code",
   "execution_count": 5,
   "id": "2fd0a063",
   "metadata": {},
   "outputs": [
    {
     "name": "stdout",
     "output_type": "stream",
     "text": [
      "(3, 0, 62, 'SEARCH sales USING INDEX idx_customer (customer=?)')\n"
     ]
    }
   ],
   "source": [
    "cursor.execute(f\"EXPLAIN QUERY PLAN {query}\")\n",
    "for row in cursor.fetchall():\n",
    "    print(row)"
   ]
  },
  {
   "cell_type": "markdown",
   "id": "d29d5b10",
   "metadata": {},
   "source": [
    "Now SQLite knows how the customer values are structured (via the index), it avoids the table scan. This is a key optimization concept."
   ]
  },
  {
   "cell_type": "markdown",
   "id": "9330d187",
   "metadata": {},
   "source": [
    "### 🛠️ Step 4: Use EXPLAIN to See Bytecode\n",
    "\n",
    "Let’s now explore what `EXPLAIN` does. This is more advanced and shows what SQLite will do step-by-step *internally* when running a query."
   ]
  },
  {
   "cell_type": "code",
   "execution_count": 6,
   "id": "b2069d5c",
   "metadata": {},
   "outputs": [
    {
     "name": "stdout",
     "output_type": "stream",
     "text": [
      "(0, 'Init', 0, 16, 0, None, 0, None)\n",
      "(1, 'OpenRead', 0, 2, 0, '5', 0, None)\n",
      "(2, 'OpenRead', 1, 10, 0, 'k(2,,)', 2, None)\n",
      "(3, 'String8', 0, 1, 0, 'Bob', 0, None)\n",
      "(4, 'SeekGE', 1, 15, 1, '1', 0, None)\n",
      "(5, 'IdxGT', 1, 15, 1, '1', 0, None)\n",
      "(6, 'DeferredSeek', 1, 0, 0, None, 0, None)\n",
      "(7, 'IdxRowid', 1, 2, 0, None, 0, None)\n",
      "(8, 'Column', 1, 0, 3, None, 0, None)\n",
      "(9, 'Column', 0, 2, 4, None, 0, None)\n"
     ]
    }
   ],
   "source": [
    "cursor.execute(f\"EXPLAIN {query}\")\n",
    "bytecode = cursor.fetchall()\n",
    "\n",
    "# Print first 10 instructions\n",
    "for row in bytecode[:10]:\n",
    "    print(row)"
   ]
  },
  {
   "cell_type": "markdown",
   "id": "b02a32f7",
   "metadata": {},
   "source": [
    "**🧠 What does this output mean?**\n",
    "\n",
    "```\n",
    "(addr, opcode, p1, p2, p3, p4, p5)\n",
    "```\n",
    "\n",
    "* **addr:** Address of the instruction in the bytecode\n",
    "* **opcode:** The operation to be performed (e.g., `OpenRead`, `Column`, `SeekGE`, etc.)\n",
    "* **p1-p5:** Operands used by the opcode -- meaning depends on the operation\n",
    "* **p4:** Extra text info (e.g., values, column names)\n",
    "\n",
    "**🧾 Example breakdown**\n",
    "\n",
    "```\n",
    "(0, 'Init', 0, 10, 0, '', '')\n",
    "(1, 'OpenRead', 0, 2, -1, 'sales', '')\n",
    "(2, 'String8', 0, 1, 0, 'Bob', '')\n",
    "(3, 'SeekGE', 0, 5, 1, '', '')\n",
    "```\n",
    "\n",
    "* **Init:** Starts the program\n",
    "* **OpenRead:** Opens the sales table for reading\n",
    "* **String8:** Loads the string 'Bob' into a register\n",
    "* **SeekGE:** Moves to the first row with customer >= 'Bob' using the index (if exists)\n",
    "\n",
    "🔬 This is how SQLite interprets the SQL into a series of internal instructions.\n",
    "\n",
    "Should you use this? Maybe. But this is too advanced.\n"
   ]
  },
  {
   "cell_type": "markdown",
   "id": "52f9d8d7",
   "metadata": {},
   "source": [
    "## 🧠 SQLite Query Planning Summary\n",
    "\n",
    "EXPLAIN QUERY PLAN\n",
    "\n",
    "- ✅ Shows whether SQLite will scan the table or use an index\n",
    "- ✅ Easy to interpret\n",
    "- ✅ Best tool for query optimization and teaching\n",
    "\n",
    "EXPLAIN\n",
    "\n",
    "- 🧠 Shows virtual machine (VM) bytecode steps\n",
    "- ❌ Not beginner-friendly\n",
    "- 🧪 Useful for internal debugging or performance analysis\n",
    "\n",
    "**💡 Key Insight:** Indexes change how SQLite executes queries. Use EXPLAIN QUERY PLAN to confirm your queries are efficient!\n"
   ]
  },
  {
   "cell_type": "markdown",
   "id": "721788ee",
   "metadata": {},
   "source": []
  }
 ],
 "metadata": {
  "kernelspec": {
   "display_name": ".venv",
   "language": "python",
   "name": "python3"
  },
  "language_info": {
   "codemirror_mode": {
    "name": "ipython",
    "version": 3
   },
   "file_extension": ".py",
   "mimetype": "text/x-python",
   "name": "python",
   "nbconvert_exporter": "python",
   "pygments_lexer": "ipython3",
   "version": "3.13.3"
  }
 },
 "nbformat": 4,
 "nbformat_minor": 5
}
