{
 "cells": [
  {
   "cell_type": "markdown",
   "id": "36d3d15a",
   "metadata": {
    "slideshow": {
     "slide_type": "slide"
    }
   },
   "source": [
    "# Database Normalization\n",
    "\n",
    "Normalization is the process of organizing data in a database to reduce redundancy and improve data integrity. \n",
    "\n",
    "It involves dividing a database into smaller tables and defining relationships between them."
   ]
  },
  {
   "cell_type": "code",
   "execution_count": 1,
   "id": "8302df3c",
   "metadata": {},
   "outputs": [],
   "source": [
    "# Import SQLite library\n",
    "import sqlite3\n",
    "\n",
    "# Create an in-memory SQLite database\n",
    "connection = sqlite3.connect(':memory:')\n",
    "cursor = connection.cursor()"
   ]
  },
  {
   "cell_type": "markdown",
   "id": "cbd90147",
   "metadata": {
    "slideshow": {
     "slide_type": "subslide"
    }
   },
   "source": [
    "## Why is Normalization Important?\n",
    "\n",
    "- **Reduces Redundancy**: Eliminates duplicate data, saving storage space.\n",
    "- **Improves Query Performance**: Simplifies queries and enhances performance.\n",
    "- **Minimizes Update Anomalies**: Ensures data consistency during updates.\n",
    "- **Enhances Data Integrity**: Maintains accurate and consistent data."
   ]
  },
  {
   "cell_type": "markdown",
   "id": "11066587",
   "metadata": {},
   "source": [
    "## Levels of Normalization\n",
    "\n",
    "There are multiple normal forms, whose relashionships are hierarchical and sequential.\n",
    "\n",
    "![](../../imgs/CH06_UN03_Hao.png)\n",
    "\n",
    "In practice, when all tables are in BCNF, we consider the database to be fully normalized. For that, the table has to have the following properties:\n",
    "\n",
    "- Each table has a primary key.\n",
    "- Each table has no multivalued columns.\n",
    "- All columns are functionally dependent on a key but nothing else.\n",
    "- No transitive dependencies exist."
   ]
  },
  {
   "cell_type": "markdown",
   "id": "f576c9fb",
   "metadata": {},
   "source": [
    "## First Normal Form (1NF)\n",
    "\n",
    "A table is in 1NF if it contains only atomic (indivisible) values and each column contains values of a single type.\n",
    "\n",
    "### Table Violating 1NF\n",
    "| StudentID | Name  | Subjects         |\n",
    "|-----------|-------|------------------|\n",
    "| 1         | Alice | Math, Science    |\n",
    "| 2         | Bob   | History, Literature |\n",
    "\n",
    "**Why it violates 1NF:** The \"Subjects\" column contains non-atomic values (multiple subjects in a single cell)."
   ]
  },
  {
   "cell_type": "code",
   "execution_count": 2,
   "id": "7372d248",
   "metadata": {},
   "outputs": [
    {
     "name": "stdout",
     "output_type": "stream",
     "text": [
      "(1, 'Alice', 'Math, Science')\n",
      "(2, 'Bob', 'History, Literature')\n"
     ]
    }
   ],
   "source": [
    "# Create a table that violates 1NF\n",
    "cursor.execute('''\n",
    "CREATE TABLE Students (\n",
    "    StudentID INTEGER PRIMARY KEY,\n",
    "    Name TEXT,\n",
    "    Subjects TEXT\n",
    ")''')\n",
    "\n",
    "# Insert data with non-atomic values\n",
    "cursor.executemany('INSERT INTO Students (StudentID, Name, Subjects) VALUES (?, ?, ?)', [\n",
    "    (1, 'Alice', 'Math, Science'),\n",
    "    (2, 'Bob', 'History, Literature')\n",
    "])\n",
    "\n",
    "# Query the table\n",
    "cursor.execute('SELECT * FROM Students')\n",
    "for row in cursor.fetchall():\n",
    "    print(row)"
   ]
  },
  {
   "cell_type": "markdown",
   "id": "3ddc65cd",
   "metadata": {},
   "source": [
    "### Converting to 1NF\n",
    "\n",
    "To achieve 1NF, we split the Subjects column into separate rows."
   ]
  },
  {
   "cell_type": "code",
   "execution_count": 3,
   "id": "a953e755",
   "metadata": {},
   "outputs": [
    {
     "name": "stdout",
     "output_type": "stream",
     "text": [
      "(1, 'Alice', 'Math')\n",
      "(1, 'Alice', 'Science')\n",
      "(2, 'Bob', 'History')\n",
      "(2, 'Bob', 'Literature')\n"
     ]
    }
   ],
   "source": [
    "# Create a table in 1NF\n",
    "cursor.execute('''\n",
    "CREATE TABLE StudentSubjects (\n",
    "    StudentID INTEGER,\n",
    "    Name TEXT,\n",
    "    Subject TEXT,\n",
    "    PRIMARY KEY (StudentID, Subject)\n",
    ")''')\n",
    "\n",
    "# Insert data in 1NF\n",
    "cursor.executemany('INSERT INTO StudentSubjects (StudentID, Name, Subject) VALUES (?, ?, ?)', [\n",
    "    (1, 'Alice', 'Math'),\n",
    "    (1, 'Alice', 'Science'),\n",
    "    (2, 'Bob', 'History'),\n",
    "    (2, 'Bob', 'Literature')\n",
    "])\n",
    "\n",
    "# Query the 1NF table\n",
    "cursor.execute('SELECT * FROM StudentSubjects')\n",
    "for row in cursor.fetchall():\n",
    "    print(row)"
   ]
  },
  {
   "cell_type": "markdown",
   "id": "d0863bd3",
   "metadata": {},
   "source": [
    "## Second Normal Form (2NF)\n",
    "\n",
    "A table is in 2NF if it is in 1NF and all non-key attributes are fully functionally dependent on the primary key.\n",
    "\n",
    "### Table Violating 2NF\n",
    "| OrderID | ProductID | ProductName |\n",
    "|---------|-----------|-------------|\n",
    "| 1       | 101       | Laptop      |\n",
    "| 1       | 102       | Mouse       |\n",
    "| 2       | 101       | Laptop      |\n",
    "\n",
    "**Why it violates 2NF:** The \"ProductName\" column depends only on \"ProductID\" and not on the composite primary key (OrderID, ProductID)."
   ]
  },
  {
   "cell_type": "code",
   "execution_count": 4,
   "id": "7e7f074b",
   "metadata": {},
   "outputs": [
    {
     "name": "stdout",
     "output_type": "stream",
     "text": [
      "(1, 101, 'Laptop')\n",
      "(1, 102, 'Mouse')\n",
      "(2, 101, 'Laptop')\n"
     ]
    }
   ],
   "source": [
    "# Create a table that violates 2NF\n",
    "cursor.execute('''\n",
    "CREATE TABLE Orders (\n",
    "    OrderID INTEGER,\n",
    "    ProductID INTEGER,\n",
    "    ProductName TEXT,\n",
    "    PRIMARY KEY (OrderID, ProductID)\n",
    ")''')\n",
    "\n",
    "# Insert data\n",
    "cursor.executemany('INSERT INTO Orders (OrderID, ProductID, ProductName) VALUES (?, ?, ?)', [\n",
    "    (1, 101, 'Laptop'),\n",
    "    (1, 102, 'Mouse'),\n",
    "    (2, 101, 'Laptop')\n",
    "])\n",
    "\n",
    "# Query the table\n",
    "cursor.execute('SELECT * FROM Orders')\n",
    "for row in cursor.fetchall():\n",
    "    print(row)"
   ]
  },
  {
   "cell_type": "markdown",
   "id": "832925aa",
   "metadata": {},
   "source": [
    "### Converting to 2NF\n",
    "\n",
    "To achieve 2NF, we separate the ProductName into a new table."
   ]
  },
  {
   "cell_type": "code",
   "execution_count": 5,
   "id": "b3a68e11",
   "metadata": {},
   "outputs": [
    {
     "name": "stdout",
     "output_type": "stream",
     "text": [
      "Products Table:\n",
      "(101, 'Laptop')\n",
      "(102, 'Mouse')\n",
      "\n",
      "OrderDetails Table:\n",
      "(1, 101)\n",
      "(1, 102)\n",
      "(2, 101)\n"
     ]
    }
   ],
   "source": [
    "# Create tables in 2NF\n",
    "cursor.execute('''\n",
    "CREATE TABLE Products (\n",
    "    ProductID INTEGER PRIMARY KEY,\n",
    "    ProductName TEXT\n",
    ")''')\n",
    "\n",
    "cursor.execute('''\n",
    "CREATE TABLE OrderDetails (\n",
    "    OrderID INTEGER,\n",
    "    ProductID INTEGER,\n",
    "    PRIMARY KEY (OrderID, ProductID),\n",
    "    FOREIGN KEY (ProductID) REFERENCES Products(ProductID)\n",
    ")''')\n",
    "\n",
    "# Insert data into 2NF tables\n",
    "cursor.executemany('INSERT INTO Products (ProductID, ProductName) VALUES (?, ?)', [\n",
    "    (101, 'Laptop'),\n",
    "    (102, 'Mouse')\n",
    "])\n",
    "\n",
    "cursor.executemany('INSERT INTO OrderDetails (OrderID, ProductID) VALUES (?, ?)', [\n",
    "    (1, 101),\n",
    "    (1, 102),\n",
    "    (2, 101)\n",
    "])\n",
    "\n",
    "# Query the 2NF tables\n",
    "print('Products Table:')\n",
    "cursor.execute('SELECT * FROM Products')\n",
    "for row in cursor.fetchall():\n",
    "    print(row)\n",
    "\n",
    "print('\\nOrderDetails Table:')\n",
    "cursor.execute('SELECT * FROM OrderDetails')\n",
    "for row in cursor.fetchall():\n",
    "    print(row)"
   ]
  },
  {
   "cell_type": "markdown",
   "id": "d0d259b0",
   "metadata": {},
   "source": [
    "## Third Normal Form (3NF)\n",
    "\n",
    "A table is in 3NF if it is in 2NF and all non-key attributes are not only dependent on the primary key but are also non-transitively dependent.\n",
    "\n",
    "That is, no non-key attribute depends on another non-key attribute.\n",
    "\n",
    "### Table Violating 3NF\n",
    "| EmployeeID | DepartmentID | DepartmentName |\n",
    "|------------|--------------|----------------|\n",
    "| 1          | 10           | HR             |\n",
    "| 2          | 20           | Finance        |\n",
    "| 3          | 10           | HR             |\n",
    "\n",
    "**Why it violates 3NF:** The \"DepartmentName\" column is transitively dependent on \"DepartmentID\" through \"EmployeeID\"."
   ]
  },
  {
   "cell_type": "code",
   "execution_count": 6,
   "id": "14a26660",
   "metadata": {},
   "outputs": [
    {
     "name": "stdout",
     "output_type": "stream",
     "text": [
      "(1, 10, 'HR')\n",
      "(2, 20, 'Finance')\n",
      "(3, 10, 'HR')\n"
     ]
    }
   ],
   "source": [
    "# Create a table that violates 3NF\n",
    "cursor.execute('''\n",
    "CREATE TABLE Employees (\n",
    "    EmployeeID INTEGER PRIMARY KEY,\n",
    "    DepartmentID INTEGER,\n",
    "    DepartmentName TEXT\n",
    ")''')\n",
    "\n",
    "# Insert data\n",
    "cursor.executemany('INSERT INTO Employees (EmployeeID, DepartmentID, DepartmentName) VALUES (?, ?, ?)', [\n",
    "    (1, 10, 'HR'),\n",
    "    (2, 20, 'Finance'),\n",
    "    (3, 10, 'HR')\n",
    "])\n",
    "\n",
    "# Query the table\n",
    "cursor.execute('SELECT * FROM Employees')\n",
    "for row in cursor.fetchall():\n",
    "    print(row)"
   ]
  },
  {
   "cell_type": "markdown",
   "id": "c5102af4",
   "metadata": {},
   "source": [
    "### Converting to 3NF\n",
    "\n",
    "To achieve 3NF, we separate the DepartmentName into a new table.\n",
    "\n",
    "The new tables are in 3NF as they do not contain any transitive dependencies."
   ]
  },
  {
   "cell_type": "code",
   "execution_count": 7,
   "id": "f3817ecc",
   "metadata": {},
   "outputs": [
    {
     "name": "stdout",
     "output_type": "stream",
     "text": [
      "Departments Table:\n",
      "(10, 'HR')\n",
      "(20, 'Finance')\n",
      "\n",
      "EmployeeDetails Table:\n",
      "(1, 10)\n",
      "(2, 20)\n",
      "(3, 10)\n"
     ]
    }
   ],
   "source": [
    "# Create tables in 3NF\n",
    "cursor.execute('''\n",
    "CREATE TABLE Departments (\n",
    "    DepartmentID INTEGER PRIMARY KEY,\n",
    "    DepartmentName TEXT\n",
    ")''')\n",
    "\n",
    "cursor.execute('''\n",
    "CREATE TABLE EmployeeDetails (\n",
    "    EmployeeID INTEGER PRIMARY KEY,\n",
    "    DepartmentID INTEGER,\n",
    "    FOREIGN KEY (DepartmentID) REFERENCES Departments(DepartmentID)\n",
    ")''')\n",
    "\n",
    "# Insert data into 3NF tables\n",
    "cursor.executemany('INSERT INTO Departments (DepartmentID, DepartmentName) VALUES (?, ?)', [\n",
    "    (10, 'HR'),\n",
    "    (20, 'Finance')\n",
    "])\n",
    "\n",
    "cursor.executemany('INSERT INTO EmployeeDetails (EmployeeID, DepartmentID) VALUES (?, ?)', [\n",
    "    (1, 10),\n",
    "    (2, 20),\n",
    "    (3, 10)\n",
    "])\n",
    "\n",
    "# Query the 3NF tables\n",
    "print('Departments Table:')\n",
    "cursor.execute('SELECT * FROM Departments')\n",
    "for row in cursor.fetchall():\n",
    "    print(row)\n",
    "\n",
    "print('\\nEmployeeDetails Table:')\n",
    "cursor.execute('SELECT * FROM EmployeeDetails')\n",
    "for row in cursor.fetchall():\n",
    "    print(row)"
   ]
  },
  {
   "cell_type": "markdown",
   "id": "40c8d9ed",
   "metadata": {},
   "source": [
    "## Benefits of Normalization\n",
    "\n",
    "- **Data Integrity**: Ensures data remains accurate and consistent.\n",
    "- **Storage Optimization**: Reduces unnecessary storage usage.\n",
    "- **Simplified Maintenance**: Makes it easier to update and manage data."
   ]
  },
  {
   "cell_type": "markdown",
   "id": "2e448d45",
   "metadata": {},
   "source": [
    "## Boyce-Codd Normal Form (BCNF)\n",
    "\n",
    "You can think of BCNF as a stricter version of **Third Normal Form (3NF)**. It makes sure that **every piece of information in a table depends only on a “true” unique identifier**—what we call a **candidate key**.\n",
    "\n",
    "Imagine a table that stores course registrations:\n",
    "\n",
    "| StudentID | CourseCode | Instructor |\n",
    "|-----------|------------|------------|\n",
    "| S1        | CS101      | Prof. Kim  |\n",
    "| S2        | CS101      | Prof. Kim  |\n",
    "| S3        | CS102      | Prof. Jones|\n",
    "\n",
    "This table seems fine. But notice:\n",
    "\n",
    "* The **instructor name is repeated** for every student in the same course.\n",
    "* What if someone **changes one instance** of the instructor to “Dr. Kim” but forgets to update the others?\n",
    "* Or if **we delete the last student from CS101**, we might lose the information about the instructor for that course.\n",
    "\n",
    "These are **update and deletion anomalies**. BCNF helps avoid them."
   ]
  },
  {
   "cell_type": "markdown",
   "id": "ed73b5ed",
   "metadata": {},
   "source": [
    "🧠 When is a table in BCNF?\n",
    "\n",
    "A table is in **BCNF** if:\n",
    "\n",
    "For every **functional dependency** in the table, the **left-hand side** is a candidate key.\n",
    "\n",
    "In other words:\n",
    "\n",
    "If some column(s) determine other columns, then those column(s) must uniquely identify a row in the table."
   ]
  },
  {
   "cell_type": "markdown",
   "id": "85ad1cdf",
   "metadata": {},
   "source": [
    "### Table Violating BCNF\n",
    "| CourseID | Instructor  | Classroom |\n",
    "|----------|-------------|-----------|\n",
    "| 1        | Dr. Smith  | Room 101  |\n",
    "| 2        | Dr. Smith  | Room 102  |\n",
    "| 3        | Dr. Johnson| Room 101  |\n",
    "\n",
    "**Why it violates BCNF:** The \"Instructor\" column determines \"Classroom\", but \"Instructor\" is not a candidate key."
   ]
  },
  {
   "cell_type": "markdown",
   "id": "e51ac0a7",
   "metadata": {},
   "source": [
    "### Example: A Table Not in BCNF\n",
    "\n",
    "Consider a table that stores information about courses, instructors, and classrooms."
   ]
  },
  {
   "cell_type": "code",
   "execution_count": 8,
   "id": "1e739ed4",
   "metadata": {},
   "outputs": [
    {
     "name": "stdout",
     "output_type": "stream",
     "text": [
      "(1, 'Dr. Smith', 'Room 101')\n",
      "(2, 'Dr. Smith', 'Room 102')\n",
      "(3, 'Dr. Johnson', 'Room 101')\n"
     ]
    }
   ],
   "source": [
    "# Create a table that is not in BCNF\n",
    "cursor.execute('''\n",
    "CREATE TABLE Courses (\n",
    "    CourseID INTEGER PRIMARY KEY,\n",
    "    Instructor TEXT,\n",
    "    Classroom TEXT\n",
    ")''')\n",
    "\n",
    "# Insert data\n",
    "cursor.executemany('INSERT INTO Courses (CourseID, Instructor, Classroom) VALUES (?, ?, ?)', [\n",
    "    (1, 'Dr. Smith', 'Room 101'),\n",
    "    (2, 'Dr. Smith', 'Room 102'),\n",
    "    (3, 'Dr. Johnson', 'Room 101')\n",
    "])\n",
    "\n",
    "# Query the table\n",
    "cursor.execute('SELECT * FROM Courses')\n",
    "for row in cursor.fetchall():\n",
    "    print(row)"
   ]
  },
  {
   "cell_type": "markdown",
   "id": "a58b1141",
   "metadata": {},
   "source": [
    "### Decomposing into BCNF\n",
    "\n",
    "To convert the table into BCNF, we decompose it into two tables: one for instructors and classrooms, and another for courses and instructors."
   ]
  },
  {
   "cell_type": "code",
   "execution_count": 9,
   "id": "70cb22e0",
   "metadata": {},
   "outputs": [
    {
     "name": "stdout",
     "output_type": "stream",
     "text": [
      "Instructors Table:\n",
      "('Dr. Smith', 'Room 101')\n",
      "('Dr. Smith', 'Room 102')\n",
      "('Dr. Johnson', 'Room 101')\n",
      "\n",
      "CourseAssignments Table:\n",
      "(1, 'Dr. Smith')\n",
      "(2, 'Dr. Smith')\n",
      "(3, 'Dr. Johnson')\n"
     ]
    }
   ],
   "source": [
    "# Create tables in BCNF\n",
    "cursor.execute('''\n",
    "CREATE TABLE Instructors (\n",
    "    Instructor TEXT,\n",
    "    Classroom TEXT,\n",
    "    PRIMARY KEY (Instructor, Classroom)\n",
    ")''')\n",
    "\n",
    "cursor.execute('''\n",
    "CREATE TABLE CourseAssignments (\n",
    "    CourseID INTEGER,\n",
    "    Instructor TEXT,\n",
    "    PRIMARY KEY (CourseID, Instructor),\n",
    "    FOREIGN KEY (Instructor) REFERENCES Instructors(Instructor)\n",
    ")''')\n",
    "\n",
    "# Insert data into BCNF tables\n",
    "cursor.executemany('INSERT INTO Instructors (Instructor, Classroom) VALUES (?, ?)', [\n",
    "    ('Dr. Smith', 'Room 101'),\n",
    "    ('Dr. Smith', 'Room 102'),\n",
    "    ('Dr. Johnson', 'Room 101')\n",
    "])\n",
    "\n",
    "cursor.executemany('INSERT INTO CourseAssignments (CourseID, Instructor) VALUES (?, ?)', [\n",
    "    (1, 'Dr. Smith'),\n",
    "    (2, 'Dr. Smith'),\n",
    "    (3, 'Dr. Johnson')\n",
    "])\n",
    "\n",
    "# Query the BCNF tables\n",
    "print('Instructors Table:')\n",
    "cursor.execute('SELECT * FROM Instructors')\n",
    "for row in cursor.fetchall():\n",
    "    print(row)\n",
    "\n",
    "print('\\nCourseAssignments Table:')\n",
    "cursor.execute('SELECT * FROM CourseAssignments')\n",
    "for row in cursor.fetchall():\n",
    "    print(row)"
   ]
  },
  {
   "cell_type": "markdown",
   "id": "8f454abe",
   "metadata": {},
   "source": [
    "💡 Summary\n",
    "\n",
    "* BCNF is about making sure only candidate keys determine other columns.\n",
    "* It prevents data anomalies by keeping your design clean.\n",
    "* If a table has a dependency where a non-candidate key determines other data, it’s not in BCNF, and you should split it."
   ]
  },
  {
   "cell_type": "markdown",
   "id": "bed3961a",
   "metadata": {},
   "source": [
    "## 📝 BCNF Exercises\n",
    "\n",
    "### 🔹 Level 1: Understand Functional Dependencies\n",
    "\n",
    "#### Exercise 1.1\n",
    "\n",
    "You are given a table:\n",
    "\n",
    "| BookID | Title        | Author      |\n",
    "|--------|--------------|-------------|\n",
    "| B1     | 1984         | George Orwell|\n",
    "| B2     | Animal Farm  | George Orwell|\n",
    "\n",
    "Assume:\n",
    "\t•\tA book has only one title.\n",
    "\t•\tAn author can write many books.\n",
    "\n",
    "👉 **Question:**\n",
    "\n",
    "Which of the following are true functional dependencies?\n",
    "\n",
    "- (a) BookID → Title\n",
    "- (b) Title → Author\n",
    "- (c) Author → Title\n"
   ]
  },
  {
   "cell_type": "markdown",
   "id": "2df7ef70",
   "metadata": {},
   "source": [
    "### 🔹 Level 2: Is it in BCNF?\n",
    "\n",
    "#### Exercise 2.1\n",
    "\n",
    "Consider this table:\n",
    "\n",
    "| StudentID | Major      | Advisor    |\n",
    "|-----------|------------|------------|\n",
    "| S1        | CS         | Dr. Lee    |\n",
    "| S2        | Math       | Dr. Wong   |\n",
    "| S3        | CS         | Dr. Lee    |\n",
    "\n",
    "Assume:\n",
    "\n",
    "* Each student has only one major.\n",
    "* Each major has only one advisor.\n",
    "* StudentID is the primary key.\n",
    "\n",
    "👉 **Questions**:\n",
    "\n",
    "1. What are the functional dependencies?\n",
    "2. Is this table in BCNF? Why or why not?\n",
    "\n",
    "#### Exercise 2.2\n",
    "\n",
    "This is a simplified `MovieShowings` table:\n",
    "\n",
    "| TheaterID | MovieTitle  | ShowTime  | Price |\n",
    "|-----------|-------------|-----------|-------|\n",
    "| T1        | Inception   | 6:00 PM   | 10    |\n",
    "| T1        | Inception   | 9:00 PM   | 10    |\n",
    "\n",
    "Assume:\n",
    "\n",
    "* A movie can have multiple showtimes at a theater.\n",
    "* All showings of a specific movie at a specific theater have the same price.\n",
    "\n",
    "👉 **Questions:**\n",
    "\n",
    "1. What are the candidate keys?\n",
    "2. Are there any functional dependencies violating BCNF?\n",
    "3. How would you decompose the table?\n",
    "\n"
   ]
  },
  {
   "cell_type": "markdown",
   "id": "60f54cbf",
   "metadata": {},
   "source": [
    "### 🔹 Level 3: Decompose to BCNF\n",
    "\n",
    "#### Exercise 3.1\n",
    "\n",
    "A company tracks its employees’ offices:\n",
    "\n",
    "| EmpID | OfficeNumber | Building |\n",
    "|-------|--------------|----------|\n",
    "| E1    | 101          | Main     |\n",
    "| E2    | 102          | Main     |\n",
    "| E3    | 201          | Annex    |\n",
    "\n",
    "Assume:\n",
    "\n",
    "* Each employee has a unique office.\n",
    "* Each office number appears only once in a building (i.e., OfficeNumber is not unique across all buildings).\n",
    "* So the primary key is (OfficeNumber, Building).\n",
    "\n",
    "But we also know:\n",
    "\n",
    "* EmpID → OfficeNumber, Building\n",
    "* OfficeNumber, Building → EmpID\n",
    "\n",
    "👉 **Questions:**\n",
    "\n",
    "1. Is this table in BCNF? Why or why not?\n",
    "2. If not, show how you would split the table.\n",
    "\n"
   ]
  }
 ],
 "metadata": {
  "kernelspec": {
   "display_name": ".venv",
   "language": "python",
   "name": "python3"
  },
  "language_info": {
   "codemirror_mode": {
    "name": "ipython",
    "version": 3
   },
   "file_extension": ".py",
   "mimetype": "text/x-python",
   "name": "python",
   "nbconvert_exporter": "python",
   "pygments_lexer": "ipython3",
   "version": "3.13.3"
  }
 },
 "nbformat": 4,
 "nbformat_minor": 5
}
