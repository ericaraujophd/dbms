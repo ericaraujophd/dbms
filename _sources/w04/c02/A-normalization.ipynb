{
 "cells": [
  {
   "cell_type": "markdown",
   "id": "36d3d15a",
   "metadata": {
    "slideshow": {
     "slide_type": "slide"
    }
   },
   "source": [
    "# Class 2. Database Normalization\n",
    "\n",
    "Normalization is the process of organizing data in a database to reduce redundancy and improve data integrity. \n",
    "\n",
    "It involves dividing a database into smaller tables and defining relationships between them."
   ]
  },
  {
   "cell_type": "markdown",
   "id": "cbd90147",
   "metadata": {
    "slideshow": {
     "slide_type": "subslide"
    }
   },
   "source": [
    "## Why is Normalization Important?\n",
    "\n",
    "- **Reduces Redundancy**: Eliminates duplicate data, saving storage space.\n",
    "- **Improves Query Performance**: Simplifies queries and enhances performance.\n",
    "- **Minimizes Update Anomalies**: Ensures data consistency during updates.\n",
    "- **Enhances Data Integrity**: Maintains accurate and consistent data."
   ]
  },
  {
   "cell_type": "markdown",
   "id": "11066587",
   "metadata": {},
   "source": [
    "## Levels of Normalization\n",
    "\n",
    "There are multiple normal forms, whose relashionships are hierarchical and sequential.\n",
    "\n",
    "![](../../imgs/CH06_UN03_Hao.png)\n",
    "\n",
    "In practice, when all tables are in BCNF, we consider the database to be fully normalized. For that, the table has to have the following properties:\n",
    "\n",
    "- Each table has a primary key.\n",
    "- Each table has no multivalued columns.\n",
    "- All columns are functionally dependent on a key but nothing else.\n",
    "- No transitive dependencies exist."
   ]
  },
  {
   "cell_type": "markdown",
   "id": "40c8d9ed",
   "metadata": {},
   "source": [
    "## Benefits of Normalization\n",
    "\n",
    "- **Data Integrity**: Ensures data remains accurate and consistent.\n",
    "- **Storage Optimization**: Reduces unnecessary storage usage.\n",
    "- **Simplified Maintenance**: Makes it easier to update and manage data."
   ]
  },
  {
   "cell_type": "markdown",
   "id": "bed3961a",
   "metadata": {},
   "source": [
    "## 📝 BCNF Exercises\n",
    "\n",
    "### 🔹 Level 1: Understand Functional Dependencies\n",
    "\n",
    "#### Exercise 1.1\n",
    "\n",
    "You are given a table:\n",
    "\n",
    "| BookID | Title        | Author      |\n",
    "|--------|--------------|-------------|\n",
    "| B1     | 1984         | George Orwell|\n",
    "| B2     | Animal Farm  | George Orwell|\n",
    "\n",
    "Assume:\n",
    "\t•\tA book has only one title.\n",
    "\t•\tAn author can write many books.\n",
    "\n",
    "👉 **Question:**\n",
    "\n",
    "Which of the following are true functional dependencies?\n",
    "\n",
    "- (a) BookID → Title\n",
    "- (b) Title → Author\n",
    "- (c) Author → Title\n"
   ]
  },
  {
   "cell_type": "markdown",
   "id": "2df7ef70",
   "metadata": {},
   "source": [
    "### 🔹 Level 2: Is it in BCNF?\n",
    "\n",
    "#### Exercise 2.1\n",
    "\n",
    "Consider this table:\n",
    "\n",
    "| StudentID | Major      | Advisor    |\n",
    "|-----------|------------|------------|\n",
    "| S1        | CS         | Dr. Lee    |\n",
    "| S2        | Math       | Dr. Wong   |\n",
    "| S3        | CS         | Dr. Lee    |\n",
    "\n",
    "Assume:\n",
    "\n",
    "* Each student has only one major.\n",
    "* Each major has only one advisor.\n",
    "* StudentID is the primary key.\n",
    "\n",
    "👉 **Questions**:\n",
    "\n",
    "1. What are the functional dependencies?\n",
    "2. Is this table in BCNF? Why or why not?\n",
    "\n",
    "#### Exercise 2.2\n",
    "\n",
    "This is a simplified `MovieShowings` table:\n",
    "\n",
    "| TheaterID | MovieTitle  | ShowTime  | Price |\n",
    "|-----------|-------------|-----------|-------|\n",
    "| T1        | Inception   | 6:00 PM   | 10    |\n",
    "| T1        | Inception   | 9:00 PM   | 10    |\n",
    "\n",
    "Assume:\n",
    "\n",
    "* A movie can have multiple showtimes at a theater.\n",
    "* All showings of a specific movie at a specific theater have the same price.\n",
    "\n",
    "👉 **Questions:**\n",
    "\n",
    "1. What are the candidate keys?\n",
    "2. Are there any functional dependencies violating BCNF?\n",
    "3. How would you decompose the table?\n",
    "\n"
   ]
  },
  {
   "cell_type": "markdown",
   "id": "60f54cbf",
   "metadata": {},
   "source": [
    "### 🔹 Level 3: Decompose to BCNF\n",
    "\n",
    "#### Exercise 3.1\n",
    "\n",
    "A company tracks its employees’ offices:\n",
    "\n",
    "| EmpID | OfficeNumber | Building |\n",
    "|-------|--------------|----------|\n",
    "| E1    | 101          | Main     |\n",
    "| E2    | 102          | Main     |\n",
    "| E3    | 201          | Annex    |\n",
    "\n",
    "Assume:\n",
    "\n",
    "* Each employee has a unique office.\n",
    "* Each office number appears only once in a building (i.e., OfficeNumber is not unique across all buildings).\n",
    "* So the primary key is (OfficeNumber, Building).\n",
    "\n",
    "But we also know:\n",
    "\n",
    "* EmpID → OfficeNumber, Building\n",
    "* OfficeNumber, Building → EmpID\n",
    "\n",
    "👉 **Questions:**\n",
    "\n",
    "1. Is this table in BCNF? Why or why not?\n",
    "2. If not, show how you would split the table.\n",
    "\n"
   ]
  }
 ],
 "metadata": {
  "kernelspec": {
   "display_name": ".venv",
   "language": "python",
   "name": "python3"
  },
  "language_info": {
   "codemirror_mode": {
    "name": "ipython",
    "version": 3
   },
   "file_extension": ".py",
   "mimetype": "text/x-python",
   "name": "python",
   "nbconvert_exporter": "python",
   "pygments_lexer": "ipython3",
   "version": "3.13.3"
  }
 },
 "nbformat": 4,
 "nbformat_minor": 5
}
