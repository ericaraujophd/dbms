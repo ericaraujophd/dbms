{
 "cells": [
  {
   "cell_type": "markdown",
   "id": "653100c4",
   "metadata": {},
   "source": [
    "# First Normal Form (1NF)"
   ]
  },
  {
   "cell_type": "markdown",
   "id": "4263d34d",
   "metadata": {},
   "source": [
    "## 🧠 What is 1NF?\n",
    "\n",
    "In relational database theory, a table is in **First Normal Form (1NF)** if it meets the following key criteria:\n",
    "\n",
    "> “The domain of each attribute must include only atomic (simple, indivisible) values, and the value of any attribute in a tuple must be a single value from that domain.”\n",
    "> \n",
    "> — Elmasri & Navathe, Fundamentals of Database Systems\n",
    "\n",
    "> “We assume that all relations are in 1NF. That is, each field contains only atomic values, and there are no sets or lists of values.”\n",
    "> \n",
    "> — Ramakrishnan & Gehrke, Database Management Systems\n",
    "\n",
    "> “A relation is in first normal form if the domain of each attribute contains only atomic values and the value of each attribute contains only a single value from that domain.”\n",
    "> \n",
    "> — Silberschatz, Korth & Sudarshan, Database System Concepts\n",
    "\n",
    "✅ **In Simple Terms:**\n",
    "\n",
    "* Each column contains **atomic** (indivisible) values.\n",
    "* No lists, arrays, or repeating groups in any column.\n",
    "* Each row is **uniquely identifiable** (usually by a primary key)."
   ]
  },
  {
   "cell_type": "markdown",
   "id": "ab7dca36",
   "metadata": {},
   "source": [
    "## 🚫 Example 1: Students with Multiple Phone Numbers\n",
    "\n",
    "❌ **Not in 1NF**\n",
    "\n",
    "|  <br>StudentID  \t|  <br>Name  \t|  <br>PhoneNumbers  \t|\n",
    "|---\t|---\t|---\t|\n",
    "|  <br>1001  \t|  <br>Alice  \t|  <br>555-1234, 555-5678  \t|\n",
    "|  <br>1002  \t|  <br>Bob  \t|  <br>555-8765  \t|\n",
    "|  <br>1003  \t|  <br>Clara  \t|  <br>555-1111, 555-2222  \t|\n",
    "\n",
    "**Why it violates 1NF:**\n",
    "\n",
    "* The column `PhoneNumbers` contains multiple values (comma-separated).\n",
    "* These are not **atomic**: each field should contain a single phone number.\n",
    "\n",
    "This violates the fundamental principle of 1NF as discussed by all major DBMS textbooks: no sets or lists in a column.\n",
    "\n",
    "✅ **Rewritten in 1NF**\n",
    "\n",
    "|  <br>StudentID  \t|  <br>Name  \t|  <br>PhoneNumber  \t|\n",
    "|---\t|---\t|---\t|\n",
    "|  <br>1001  \t|  <br>Alice  \t|  <br>555-1234  \t|\n",
    "|  <br>1001  \t|  <br>Alice  \t|  <br>555-5678  \t|\n",
    "|  <br>1002  \t|  <br>Bob  \t|  <br>555-8765  \t|\n",
    "|  <br>1003  \t|  <br>Clara  \t|  <br>555-1111  \t|\n",
    "|  <br>1003  \t|  <br>Clara  \t|  <br>555-2222  \t|\n",
    "\n",
    "**Now** each attribute value is **atomic**. The relation satisfies 1NF."
   ]
  },
  {
   "cell_type": "markdown",
   "id": "f833634f",
   "metadata": {},
   "source": [
    "## 🚫 Example 2: Orders and Lists of Products\n",
    "\n",
    "❌ **Not in 1NF**\n",
    "\n",
    "|  <br>OrderID  \t|  <br>Customer  \t|  <br>Products Ordered  \t|\n",
    "|---\t|---\t|---\t|\n",
    "|  <br>2001  \t|  <br>Alice  \t|  <br>Pen, Notebook, Eraser  \t|\n",
    "|  <br>2002  \t|  <br>Bob  \t|  <br>Notebook  \t|\n",
    "|  <br>2003  \t|  <br>Charlie  \t|  <br>Pencil, Marker  \t|\n",
    "\n",
    "**Violation:**\n",
    "\n",
    "* `Products Ordered` is a **repeating group**—a single attribute storing **multiple values**.\n",
    "* Querying individual products becomes harder; violates **atomicity**.\n",
    "\n",
    "✅ **1NF-Compliant Version**\n",
    "\n",
    "|  <br>OrderID  \t|  <br>Customer  \t|  <br>Product  \t|\n",
    "|---\t|---\t|---\t|\n",
    "|  <br>2001  \t|  <br>Alice  \t|  <br>Pen  \t|\n",
    "|  <br>2001  \t|  <br>Alice  \t|  <br>Notebook  \t|\n",
    "|  <br>2001  \t|  <br>Alice  \t|  <br>Eraser  \t|\n",
    "|  <br>2002  \t|  <br>Bob  \t|  <br>Notebook  \t|\n",
    "|  <br>2003  \t|  <br>Charlie  \t|  <br>Pencil  \t|\n",
    "|  <br>2003  \t|  <br>Charlie  \t|  <br>Marker  \t|\n",
    "\n",
    "Following *Silberschatz et al.*, we’ve eliminated the repeating group by **creating a separate row for each product**."
   ]
  },
  {
   "cell_type": "markdown",
   "id": "ed621e14",
   "metadata": {},
   "source": [
    "## 🚫 Example 3: Courses with Multiple Instructors\n",
    "\n",
    "❌ **Not in 1NF**\n",
    "\n",
    "|  <br>CourseID  \t|  <br>CourseName  \t|  <br>Instructors  \t|\n",
    "|---\t|---\t|---\t|\n",
    "|  <br>CS101  \t|  <br>Intro to CS  \t|  <br>Smith, Johnson  \t|\n",
    "|  <br>MATH201  \t|  <br>Calculus I  \t|  <br>Lee  \t|\n",
    "|  <br>HIST202  \t|  <br>World History  \t|  <br>Nguyen, Clark, Adams  \t|\n",
    "\n",
    "**Why it’s invalid:**\n",
    "\n",
    "* The `Instructors` field contains sets of values, stored as comma-separated lists.\n",
    "* This violates 1NF — each field must store a single instructor.\n",
    "\n",
    "✅ **Converted to 1NF**\n",
    "\n",
    "|  <br>CourseID  \t|  <br>CourseName  \t|  <br>Instructor  \t|\n",
    "|---\t|---\t|---\t|\n",
    "|  <br>CS101  \t|  <br>Intro to CS  \t|  <br>Smith  \t|\n",
    "|  <br>CS101  \t|  <br>Intro to CS  \t|  <br>Johnson  \t|\n",
    "|  <br>MATH201  \t|  <br>Calculus I  \t|  <br>Lee  \t|\n",
    "|  <br>HIST202  \t|  <br>World History  \t|  <br>Nguyen  \t|\n",
    "|  <br>HIST202  \t|  <br>World History  \t|  <br>Clark  \t|\n",
    "|  <br>HIST202  \t|  <br>World History  \t|  <br>Adams  \t|\n",
    "\n",
    "Now each tuple represents **one course–instructor pair**, and every attribute is **atomic**."
   ]
  },
  {
   "cell_type": "markdown",
   "id": "94c2a54a",
   "metadata": {},
   "source": [
    "## ⚠️ Practical Note for SQLite and Other DBMSs\n",
    "\n",
    "SQLite doesn’t support ARRAY types — which helps reinforce 1NF. However, students may use TEXT fields to store JSON or comma-separated values, like:\n",
    "\n",
    "```sql\n",
    "INSERT INTO courses (Instructors) VALUES ('[\"Smith\", \"Johnson\"]');\n",
    "```\n",
    "\n",
    "While technically valid in SQLite, this violates the **relational model** and **1NF**, as the value is not atomic in a relational sense."
   ]
  },
  {
   "cell_type": "markdown",
   "id": "1f7ae557",
   "metadata": {},
   "source": [
    "## ✅ Summary Table\n",
    "\n",
    "|  <br>Criterion  \t|  <br>Violates 1NF  \t|  <br>Reason  \t|\n",
    "|---\t|---\t|---\t|\n",
    "|  <br>Multi-valued attributes (lists)  \t|  <br>✅ Yes  \t|  <br>Not atomic  \t|\n",
    "|  <br>Single value per field  \t|  <br>❌ No  \t|  <br>1NF-compliant  \t|\n",
    "|  <br>Repeating groups  \t|  <br>✅ Yes  \t|  <br>Breaks the structure of relational tuples  \t|\n",
    "|  <br>Flattened rows per item  \t|  <br>❌ No  \t|  <br>Conforms to relational model and 1NF  \t|"
   ]
  },
  {
   "cell_type": "markdown",
   "id": "557f1c74",
   "metadata": {},
   "source": [
    "## 🤖 Coding Example\n",
    "\n",
    "### Table Violating 1NF\n",
    "\n",
    "| StudentID | Name  | Subjects         |\n",
    "|-----------|-------|------------------|\n",
    "| 1         | Alice | Math, Science    |\n",
    "| 2         | Bob   | History, Literature |\n",
    "\n",
    "**Why it violates 1NF:** The \"Subjects\" column contains non-atomic values (multiple subjects in a single cell)."
   ]
  },
  {
   "cell_type": "code",
   "execution_count": 3,
   "id": "a94f4a3e",
   "metadata": {},
   "outputs": [],
   "source": [
    "# Import SQLite library\n",
    "import sqlite3\n",
    "\n",
    "# Create an in-memory SQLite database\n",
    "connection = sqlite3.connect(':memory:')\n",
    "cursor = connection.cursor()"
   ]
  },
  {
   "cell_type": "code",
   "execution_count": 4,
   "id": "fce96d78",
   "metadata": {},
   "outputs": [
    {
     "name": "stdout",
     "output_type": "stream",
     "text": [
      "(1, 'Alice', 'Math, Science')\n",
      "(2, 'Bob', 'History, Literature')\n"
     ]
    }
   ],
   "source": [
    "# Create a table that violates 1NF\n",
    "cursor.execute('''\n",
    "CREATE TABLE Students (\n",
    "    StudentID INTEGER PRIMARY KEY,\n",
    "    Name TEXT,\n",
    "    Subjects TEXT\n",
    ")''')\n",
    "\n",
    "# Insert data with non-atomic values\n",
    "cursor.executemany('INSERT INTO Students (StudentID, Name, Subjects) VALUES (?, ?, ?)', [\n",
    "    (1, 'Alice', 'Math, Science'),\n",
    "    (2, 'Bob', 'History, Literature')\n",
    "])\n",
    "\n",
    "# Query the table\n",
    "cursor.execute('SELECT * FROM Students')\n",
    "for row in cursor.fetchall():\n",
    "    print(row)"
   ]
  },
  {
   "cell_type": "markdown",
   "id": "fab63ff6",
   "metadata": {},
   "source": [
    "### Converting to 1NF\n",
    "\n",
    "To achieve 1NF, we split the Subjects column into separate rows."
   ]
  },
  {
   "cell_type": "code",
   "execution_count": 5,
   "id": "b3357a73",
   "metadata": {},
   "outputs": [
    {
     "name": "stdout",
     "output_type": "stream",
     "text": [
      "(1, 'Alice', 'Math')\n",
      "(1, 'Alice', 'Science')\n",
      "(2, 'Bob', 'History')\n",
      "(2, 'Bob', 'Literature')\n"
     ]
    }
   ],
   "source": [
    "# Create a table in 1NF\n",
    "cursor.execute('''\n",
    "CREATE TABLE StudentSubjects (\n",
    "    StudentID INTEGER,\n",
    "    Name TEXT,\n",
    "    Subject TEXT,\n",
    "    PRIMARY KEY (StudentID, Subject)\n",
    ")''')\n",
    "\n",
    "# Insert data in 1NF\n",
    "cursor.executemany('INSERT INTO StudentSubjects (StudentID, Name, Subject) VALUES (?, ?, ?)', [\n",
    "    (1, 'Alice', 'Math'),\n",
    "    (1, 'Alice', 'Science'),\n",
    "    (2, 'Bob', 'History'),\n",
    "    (2, 'Bob', 'Literature')\n",
    "])\n",
    "\n",
    "# Query the 1NF table\n",
    "cursor.execute('SELECT * FROM StudentSubjects')\n",
    "for row in cursor.fetchall():\n",
    "    print(row)"
   ]
  }
 ],
 "metadata": {
  "kernelspec": {
   "display_name": ".venv",
   "language": "python",
   "name": "python3"
  },
  "language_info": {
   "codemirror_mode": {
    "name": "ipython",
    "version": 3
   },
   "file_extension": ".py",
   "mimetype": "text/x-python",
   "name": "python",
   "nbconvert_exporter": "python",
   "pygments_lexer": "ipython3",
   "version": "3.13.3"
  }
 },
 "nbformat": 4,
 "nbformat_minor": 5
}
