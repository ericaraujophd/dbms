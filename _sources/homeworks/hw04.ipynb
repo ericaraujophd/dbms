{
 "cells": [
  {
   "cell_type": "markdown",
   "metadata": {},
   "source": [
    "# 🎓 Week 4 Homework: University Clubs Database"
   ]
  },
  {
   "cell_type": "markdown",
   "metadata": {},
   "source": [
    "This homework can be run in the webpage, or open using Binder by clicking the Binder button above. To get your assignment graded, you will need to [accept the assignment](https://classroom.github.com/a/0P8svrst) and submit itthrough GitHub."
   ]
  },
  {
   "cell_type": "markdown",
   "metadata": {},
   "source": [
    "## 🧰 Technical Requirements\n",
    "\n",
    "After accepting the assignment, you will need to complete the following tasks:\n",
    "\n",
    "- Clone the repository to your local machine.\n",
    "- Open your project using VSCode.\n",
    "- To run this notebook locally you need to create a virtual environment and install the required packages. You can do this by running the following commands in your terminal:\n",
    "\n",
    "```bash\n",
    "python -m venv .venv\n",
    "source .venv/bin/activate  # On Windows use .venv\\Scripts\\activate\n",
    "pip3 install -r requirements.txt\n",
    "```\n",
    "\n",
    "After running these commands, you should be able to open the notebook in VS Code. Maybe you will need to install the Jupyter extension for VS Code. You can do this by searching for \"Jupyter\" in the extensions tab and installing it.\n",
    "\n",
    "To run the notebook, you can use the \"Run\" button in the top right corner of the notebook. You can also run individual cells by clicking on them and pressing Shift + Enter. If you want to run all cells, you can use the \"Run All\" button in the top menu.\n",
    "\n",
    "Make sure that, after completing the homework, you Commit and Push your changes to GitHub. You can do this on VS Code by clicking on the Source Control icon in the left sidebar, entering a commit message, and clicking on the checkmark icon to commit your changes. Then, click on the \"...\" icon and select \"Push\" to push your changes to GitHub.\n",
    "\n"
   ]
  },
  {
   "cell_type": "code",
   "execution_count": 10,
   "metadata": {},
   "outputs": [],
   "source": [
    "%%capture\n",
    "%load_ext sql\n",
    "%sql sqlite:///\n",
    "%config SqlMagic.style = '_DEPRECATED_DEFAULT'"
   ]
  },
  {
   "cell_type": "markdown",
   "metadata": {},
   "source": [
    "## 🧠 Goal\n",
    "\n",
    "Design and query a relational database for managing a fictional university’s student clubs. In this assignment, you will:\n",
    "\n",
    "* Design and create tables with primary and foreign key constraints.\n",
    "* Define and create a view for aggregation.\n",
    "* Execute SQL queries that extract useful information from your database.\n",
    "\n",
    "## 🏗️ Task Overview\n",
    "\n",
    "You are tasked with building a database that tracks:\n",
    "\n",
    "* Students and their majors\n",
    "* Clubs and their foundation years\n",
    "* Memberships (which students belong to which clubs, their role, and join date)"
   ]
  },
  {
   "cell_type": "markdown",
   "metadata": {},
   "source": [
    "## 🔧 Part 1: Create the Database Schema\n",
    "\n",
    "Write SQL CREATE TABLE statements for the following entities:\n",
    "\n",
    "### Students\n",
    "\n",
    "|  <br>Column  \t|  <br>Type  \t|  <br>Constraints  \t|\n",
    "|---\t|---\t|---\t|\n",
    "|  <br>student_id  \t|  <br>INTEGER  \t|  <br>Primary Key  \t|\n",
    "|  <br>name  \t|  <br>TEXT  \t|  <br>Not Null  \t|\n",
    "|  <br>major  \t|  <br>TEXT  \t|  <br>Not Null  \t|\n",
    "|  <br>year  \t|  <br>INTEGER  \t|  <br>Must be between 1 and 5 (inclusive)  \t|\n",
    "\n",
    "\n",
    "### Clubs\n",
    "\n",
    "|  <br>Column  \t|  <br>Type  \t|  <br>Constraints  \t|\n",
    "|---\t|---\t|---\t|\n",
    "|  <br>club_id  \t|  <br>INTEGER  \t|  <br>Primary Key  \t|\n",
    "|  <br>name  \t|  <br>TEXT  \t|  <br>Not Null  \t|\n",
    "|  <br>foundation_year  \t|  <br>INTEGER  \t|  <br>\t|\n",
    "\n",
    "### Memberships\n",
    "\n",
    "|  <br>Column  \t|  <br>Type  \t|  <br>Constraints  \t|\n",
    "|---\t|---\t|---\t|\n",
    "|  <br>student_id  \t|  <br>INTEGER  \t|  <br>Foreign Key -> Students(student_id), part of composite Primary Key  \t|\n",
    "|  <br>club_id  \t|  <br>INTEGER  \t|  <br>Foreign Key -> Clubs(club_id), part of composite Primary Key  \t|\n",
    "|  <br>joined_date  \t|  <br>DATE  \t|  <br>\t|\n",
    "|  <br>role  \t|  <br>TEXT  \t|  <br>Must be one of 'member', 'president', 'secretary'  \t|\n",
    "\n",
    "⚠️ Make sure to define primary keys and foreign keys correctly in your schema.\n"
   ]
  },
  {
   "cell_type": "markdown",
   "metadata": {},
   "source": [
    "## 🔧 Part 1: Create the Database Schema\n",
    "\n",
    "Write SQL CREATE TABLE statements for the following entities:\n",
    "\n",
    "### Students\n",
    "\n",
    "|  <br>Column  \t|  <br>Type  \t|  <br>Constraints  \t|\n",
    "|---\t|---\t|---\t|\n",
    "|  <br>student_id  \t|  <br>INTEGER  \t|  <br>Primary Key  \t|\n",
    "|  <br>name  \t|  <br>TEXT  \t|  <br>Not Null  \t|\n",
    "|  <br>major  \t|  <br>TEXT  \t|  <br>Not Null  \t|\n",
    "|  <br>year  \t|  <br>INTEGER  \t|  <br>Must be between 1 and 5 (inclusive)  \t|\n",
    "\n",
    "\n",
    "\n",
    "\n",
    "|  <br>Column  \t|  <br>Type  \t|  <br>Constraints  \t|\n",
    "|---\t|---\t|---\t|\n",
    "|  <br>student_id  \t|  <br>INTEGER  \t|  <br>Foreign Key → Students(student_id), part of composite Primary Key  \t|\n",
    "|  <br>club_id  \t|  <br>INTEGER  \t|  <br>Foreign Key → Clubs(club_id), part of composite Primary Key  \t|\n",
    "|  <br>joined_date  \t|  <br>DATE  \t|  \t|\n",
    "|  <br>role  \t|  <br>TEXT  \t|  <br>Must be one of 'member', 'president', 'secretary'  \t|\n"
   ]
  },
  {
   "cell_type": "code",
   "execution_count": 2,
   "metadata": {},
   "outputs": [
    {
     "name": "stdout",
     "output_type": "stream",
     "text": [
      " * sqlite:///\n",
      "Done.\n"
     ]
    },
    {
     "data": {
      "text/plain": [
       "[]"
      ]
     },
     "execution_count": 2,
     "metadata": {},
     "output_type": "execute_result"
    }
   ],
   "source": [
    "%%sql\n",
    "-- Create your tables in here"
   ]
  },
  {
   "cell_type": "markdown",
   "metadata": {},
   "source": [
    "To verify if your tables were created correctly, we will insert some data into them and check if the constraints are working as expected."
   ]
  },
  {
   "cell_type": "code",
   "execution_count": 9,
   "metadata": {},
   "outputs": [
    {
     "name": "stdout",
     "output_type": "stream",
     "text": [
      " * sqlite:///\n",
      "(sqlite3.OperationalError) near \"(\": syntax error\n",
      "[SQL: -- Insert sample students\n",
      "INSERT INTO Students (student_id, name, major, year) VALUES\n",
      "(1, 'Alice', 'Computer Science', 3),\n",
      "(2, 'Bob', 'Mathematics', 2),\n",
      "(3, 'Carol', 'Biology', 4),\n",
      "(4, 'Dave', 'History', 1),\n",
      "(5, 'Eva', 'Physics', 5)\n",
      "(6, 'Frank', 'Literature', 3),\n",
      "(7, 'Grace', 'Chemistry', 2),\n",
      "(8, 'Henry', 'Computer Science', 4);]\n",
      "(Background on this error at: https://sqlalche.me/e/20/e3q8)\n"
     ]
    }
   ],
   "source": [
    "%%sql\n",
    "\n",
    "-- Insert sample students\n",
    "INSERT INTO Students (student_id, name, major, year) VALUES\n",
    "(1, 'Alice', 'Computer Science', 3),\n",
    "(2, 'Bob', 'Mathematics', 2),\n",
    "(3, 'Carol', 'Biology', 4),\n",
    "(4, 'Dave', 'History', 1),\n",
    "(5, 'Eva', 'Physics', 5)\n",
    "(6, 'Frank', 'Literature', 3),\n",
    "(7, 'Grace', 'Chemistry', 2),\n",
    "(8, 'Henry', 'Computer Science', 4);\n",
    "\n",
    "-- Insert sample clubs\n",
    "INSERT INTO Clubs (club_id, name, foundation_year) VALUES\n",
    "(1, 'Robotics Club', 2005),\n",
    "(2, 'Debate Club', 2015),\n",
    "(3, 'Chess Club', 1999)\n",
    "(4, 'Environmentalists', 2012);\n",
    "\n",
    "-- Insert sample memberships\n",
    "INSERT INTO Memberships (student_id, club_id, joined_date, role) VALUES\n",
    "(1, 1, '2023-01-10', 'president'),\n",
    "(1, 3, '2024-02-14', 'member'),\n",
    "(2, 3, '2023-09-01', 'member'),\n",
    "(3, 2, '2024-03-03', 'secretary'),\n",
    "(4, 1, '2024-01-15', 'member'),\n",
    "(5, 2, '2023-11-11', 'member'),\n",
    "(5, 4, '2024-03-12', 'president'),\n",
    "(6, 4, '2024-03-12', 'member'),\n",
    "(7, 3, '2024-03-20', 'member'),\n",
    "(8, 1, '2024-04-01', 'secretary'),\n",
    "(8, 2, '2023-10-10', 'member');"
   ]
  },
  {
   "cell_type": "markdown",
   "metadata": {},
   "source": [
    "## 🛑 Warning: Only move ahead if your tables were created correctly. If you encounter any errors, please fix them before proceeding."
   ]
  },
  {
   "cell_type": "markdown",
   "metadata": {},
   "source": [
    "## 👀 Part 2: View Requirement\n",
    "\n",
    "Create a view showing each student along with the number of clubs they belong to. The view should include the following columns:\n",
    "\n",
    "* Student ID\n",
    "* Student Name\n",
    "* Number of Clubs"
   ]
  },
  {
   "cell_type": "code",
   "execution_count": null,
   "metadata": {},
   "outputs": [],
   "source": [
    "%%sql\n",
    "\n",
    "-- Create your view in here"
   ]
  },
  {
   "cell_type": "markdown",
   "metadata": {},
   "source": [
    "## 🔍 Part 3: Query Tasks\n",
    "\n",
    "Students must write SQL queries to answer:\n",
    "\n",
    "1.\tList all clubs founded before the year 2010.\n",
    "2.\tFind students who are presidents of more than one club.\n",
    "3.\tShow each club with the number of current members.\n",
    "4.\tList all students who are not part of any club.\n",
    "5.\tGet the top 3 clubs with the most members.\n",
    "6. List all students who are members of more than one club.\n",
    "7. What is the average number of clubs per student?\n"
   ]
  },
  {
   "cell_type": "code",
   "execution_count": null,
   "metadata": {},
   "outputs": [
    {
     "name": "stdout",
     "output_type": "stream",
     "text": [
      " * sqlite:///\n",
      "Done.\n"
     ]
    },
    {
     "data": {
      "text/plain": [
       "[]"
      ]
     },
     "execution_count": 3,
     "metadata": {},
     "output_type": "execute_result"
    }
   ],
   "source": [
    "%%sql\n",
    "\n",
    "-- 1. CrList all clubs founded before the year 2010.\n"
   ]
  },
  {
   "cell_type": "code",
   "execution_count": null,
   "metadata": {},
   "outputs": [
    {
     "name": "stdout",
     "output_type": "stream",
     "text": [
      " * sqlite:///\n",
      "Done.\n"
     ]
    },
    {
     "data": {
      "text/plain": [
       "[]"
      ]
     },
     "execution_count": 4,
     "metadata": {},
     "output_type": "execute_result"
    }
   ],
   "source": [
    "%%sql\n",
    "\n",
    "-- 2. Find students who are presidents of more than one club.\n"
   ]
  },
  {
   "cell_type": "code",
   "execution_count": null,
   "metadata": {},
   "outputs": [
    {
     "name": "stdout",
     "output_type": "stream",
     "text": [
      " * sqlite:///\n",
      "Done.\n"
     ]
    },
    {
     "data": {
      "text/plain": [
       "[]"
      ]
     },
     "execution_count": 5,
     "metadata": {},
     "output_type": "execute_result"
    }
   ],
   "source": [
    "%%sql\n",
    "\n",
    "-- 3. Show each club with the number of current members.\n"
   ]
  },
  {
   "cell_type": "code",
   "execution_count": null,
   "metadata": {},
   "outputs": [
    {
     "name": "stdout",
     "output_type": "stream",
     "text": [
      " * sqlite:///\n",
      "Done.\n"
     ]
    },
    {
     "data": {
      "text/plain": [
       "[]"
      ]
     },
     "execution_count": 6,
     "metadata": {},
     "output_type": "execute_result"
    }
   ],
   "source": [
    "%%sql\n",
    "\n",
    "-- 4. List all students who are not part of any club.\n"
   ]
  },
  {
   "cell_type": "code",
   "execution_count": null,
   "metadata": {},
   "outputs": [
    {
     "name": "stdout",
     "output_type": "stream",
     "text": [
      " * sqlite:///\n",
      "Done.\n"
     ]
    },
    {
     "data": {
      "text/plain": [
       "[]"
      ]
     },
     "execution_count": 7,
     "metadata": {},
     "output_type": "execute_result"
    }
   ],
   "source": [
    "%%sql\n",
    "\n",
    "-- 5. Get the top 3 clubs with the most members."
   ]
  },
  {
   "cell_type": "code",
   "execution_count": 8,
   "metadata": {},
   "outputs": [
    {
     "name": "stdout",
     "output_type": "stream",
     "text": [
      " * sqlite:///\n",
      "Done.\n"
     ]
    },
    {
     "data": {
      "text/plain": [
       "[]"
      ]
     },
     "execution_count": 8,
     "metadata": {},
     "output_type": "execute_result"
    }
   ],
   "source": [
    "%%sql\n",
    "\n",
    "-- 6. List all students who are members of more than one club.\n"
   ]
  },
  {
   "cell_type": "code",
   "execution_count": null,
   "metadata": {},
   "outputs": [],
   "source": [
    "%%sql\n",
    "\n",
    "-- 7. What is the average number of clubs per student?\n"
   ]
  },
  {
   "cell_type": "markdown",
   "metadata": {},
   "source": [
    "### Everything works? 🥳 Commit and push your changes to GitHub."
   ]
  }
 ],
 "metadata": {
  "kernelspec": {
   "display_name": ".venv",
   "language": "python",
   "name": "python3"
  },
  "language_info": {
   "codemirror_mode": {
    "name": "ipython",
    "version": 3
   },
   "file_extension": ".py",
   "mimetype": "text/x-python",
   "name": "python",
   "nbconvert_exporter": "python",
   "pygments_lexer": "ipython3",
   "version": "3.13.2"
  }
 },
 "nbformat": 4,
 "nbformat_minor": 2
}
