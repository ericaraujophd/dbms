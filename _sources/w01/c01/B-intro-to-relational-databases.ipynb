{
 "cells": [
  {
   "cell_type": "markdown",
   "id": "1bd32c4b",
   "metadata": {},
   "source": [
    "# Introduction to Database Management Systems\n",
    "\n",
    "Database Management Systems (DBMS) are software systems designed to store, manage, and retrieve data efficiently. They provide a systematic way to create, retrieve, update, and manage data in databases."
   ]
  },
  {
   "cell_type": "markdown",
   "id": "5401b7e5",
   "metadata": {},
   "source": [
    "## Purpose of DBMS\n",
    "\n",
    "- To provide a way to store and retrieve database information that is both convenient and efficient.\n",
    "- To ensure data integrity, security, and consistency."
   ]
  },
  {
   "cell_type": "markdown",
   "id": "75c170b2",
   "metadata": {},
   "source": [
    "## Key Components of DBMS\n",
    "\n",
    "1. **Database Engine**: Handles data storage, retrieval, and updates.\n",
    "2. **Database Schema**: Defines the structure of the data.\n",
    "3. **Query Processor**: Interprets and executes database queries.\n",
    "4. **Transaction Manager**: Ensures ACID properties for transactions."
   ]
  },
  {
   "cell_type": "markdown",
   "id": "02de3e2b",
   "metadata": {},
   "source": [
    "## Examples of Popular DBMS Software\n",
    "- **Relational DBMS**: These use a structured query language (SQL) for defining and manipulating data. Examples include:\n",
    "  - MySQL\n",
    "  - PostgreSQL\n",
    "  - Oracle Database\n",
    "  - Microsoft SQL Server\n",
    "- **NoSQL DBMS**: These are designed for unstructured data and do not require a fixed schema. Examples include:\n",
    "    - MongoDB\n",
    "    - Cassandra\n",
    "    - Redis\n",
    "    - Couchbase\n",
    "  "
   ]
  },
  {
   "cell_type": "raw",
   "id": "3becd349",
   "metadata": {},
   "source": [
    "# What is Relational?\n",
    "\n",
    "A relational database is a type of database that stores and provides access to data points that are related to one another. It organizes data into tables, which consist of rows and columns, making it easy to identify and access data in relation to other data in the database. This structure is based on the relational model proposed by E.F. Codd in 1970.\n",
    "\n",
    "## Key Characteristics of Relational Databases\n",
    "\n",
    "- **Data Organization**: Data is stored in tables (relations) with rows (records) and columns (fields).\n",
    "- **Schema-Based**: Each table has a predefined schema that defines the structure and constraints of the data.\n",
    "- **Relationships**: Tables can be linked using keys (primary and foreign keys) to represent relationships between data.\n",
    "- **SQL**: Structured Query Language (SQL) is used to interact with relational databases for querying, updating, and managing data.\n",
    "\n",
    "## Advantages of Relational Databases\n",
    "\n",
    "- **Data Integrity**: Ensures accuracy and consistency of data through constraints and relationships.\n",
    "- **Flexibility**: Allows complex queries and data manipulation using SQL.\n",
    "- **Scalability**: Supports large datasets and concurrent users efficiently.\n",
    "- **Security**: Provides robust mechanisms to control access and protect data.\n",
    "\n",
    "## Applications of Relational Databases\n",
    "\n",
    "Relational databases are widely used in various industries, including:\n",
    "\n",
    "- **Finance**: For managing transactions, customer data, and financial records.\n",
    "- **Healthcare**: To store patient records, appointments, and medical histories.\n",
    "- **E-commerce**: For inventory management, customer orders, and payment processing.\n",
    "- **Education**: To manage student records, courses, and grades.\n",
    "\n",
    "\n"
   ]
  },
  {
   "cell_type": "raw",
   "id": "da5700d2",
   "metadata": {},
   "source": []
  }
 ],
 "metadata": {
  "language_info": {
   "name": "python"
  }
 },
 "nbformat": 4,
 "nbformat_minor": 5
}
