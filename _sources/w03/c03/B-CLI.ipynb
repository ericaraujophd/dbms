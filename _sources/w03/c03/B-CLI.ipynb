{
 "cells": [
  {
   "cell_type": "markdown",
   "metadata": {},
   "source": [
    "# CLI: Using SQLite3 Command Line Interface"
   ]
  },
  {
   "cell_type": "markdown",
   "metadata": {},
   "source": [
    "## 1. Introduction to SQLite CLI\n",
    "\n",
    "SQLite is a command-line interface (CLI) for SQLite databases. It allows you to interact with SQLite databases using SQL commands. The CLI provides several commands that can be used to manage and manipulate SQLite databases."
   ]
  },
  {
   "cell_type": "markdown",
   "metadata": {},
   "source": [
    "### `.help` Command\n",
    "\n",
    "The `.help` command is used to display a list of available commands in the SQLite CLI. This is a great starting point to explore the CLI.\n",
    "\n",
    "```bash\n",
    "sqlite3\n",
    ".help\n",
    "```"
   ]
  },
  {
   "cell_type": "markdown",
   "metadata": {},
   "source": [
    "### `.tables` Command\n",
    "\n",
    "The `.tables` command is used to display a list of tables in the SQLite database. This is useful to get an overview of the database structure.\n",
    "\n",
    "```bash\n",
    "sqlite3 my_database.db\n",
    ".tables\n",
    "```"
   ]
  },
  {
   "cell_type": "markdown",
   "metadata": {},
   "source": [
    "### `.schema` Command\n",
    "\n",
    "The `.schema` command is used to display the schema of a SQLite database. The schema includes information about the tables, columns, and data types in the database.\n",
    "\n",
    "```bash\n",
    "sqlite3 my_database.db\n",
    ".schema my_table\n",
    "```"
   ]
  },
  {
   "cell_type": "markdown",
   "metadata": {},
   "source": [
    "### `.mode` Command\n",
    "\n",
    "The `.mode` command is used to set the output mode of the SQLite CLI. The output mode can be set to various formats, such as CSV, HTML, or tab-separated values (TSV).\n",
    "\n",
    "```bash\n",
    "sqlite3 my_database.db\n",
    ".mode csv\n",
    "```"
   ]
  },
  {
   "cell_type": "markdown",
   "metadata": {},
   "source": [
    "### `.headers` Command\n",
    "\n",
    "The `.headers` command is used to set the headers for the output of the SQLite CLI. The headers can be set to on or off.\n",
    "\n",
    "```bash\n",
    "sqlite3 my_database.db\n",
    ".headers on\n",
    "```"
   ]
  },
  {
   "cell_type": "markdown",
   "metadata": {},
   "source": [
    "### `.import` Command\n",
    "\n",
    "The `.import` command is used to import data from a file into a SQLite database. The file can be in various formats, such as CSV or TSV.\n",
    "\n",
    "```bash\n",
    "sqlite3 my_database.db\n",
    ".mode csv\n",
    ".import my_data.csv my_table\n",
    "```"
   ]
  },
  {
   "cell_type": "markdown",
   "metadata": {},
   "source": [
    "### `.output` Command\n",
    "\n",
    "The `.output` command is used to set the output file for the SQLite CLI. The output file can be in various formats, such as CSV or TSV.\n",
    "\n",
    "```bash\n",
    "sqlite3 my_database.db\n",
    ".output my_output.csv\n",
    "```"
   ]
  },
  {
   "cell_type": "markdown",
   "metadata": {},
   "source": [
    "### `.exit` Command\n",
    "\n",
    "The `.exit` command is used to exit the SQLite CLI.\n",
    "\n",
    "```bash\n",
    ".exit\n",
    "```"
   ]
  }
 ],
 "metadata": {
  "kernelspec": {
   "display_name": ".venv",
   "language": "python",
   "name": "python3"
  },
  "language_info": {
   "codemirror_mode": {
    "name": "ipython",
    "version": 3
   },
   "file_extension": ".py",
   "mimetype": "text/x-python",
   "name": "python",
   "nbconvert_exporter": "python",
   "pygments_lexer": "ipython3",
   "version": "3.13.3"
  }
 },
 "nbformat": 4,
 "nbformat_minor": 2
}
