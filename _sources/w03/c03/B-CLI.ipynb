{
 "cells": [
  {
   "cell_type": "markdown",
   "metadata": {},
   "source": [
    "# CLI: Using SQLite3 Command Line Interface"
   ]
  },
  {
   "cell_type": "markdown",
   "metadata": {},
   "source": [
    "### 1. Introduction to SQLite CLI\n",
    "\n",
    "SQLite is a command-line interface (CLI) for SQLite databases. It allows you to interact with SQLite databases using SQL commands. The CLI provides several commands that can be used to manage and manipulate SQLite databases."
   ]
  },
  {
   "cell_type": "markdown",
   "metadata": {},
   "source": [
    "#### `.help` Command\n",
    "\n",
    "The `.help` command is used to display a list of available commands in the SQLite CLI. This is a great starting point to explore the CLI."
   ]
  },
  {
   "cell_type": "code",
   "execution_count": null,
   "metadata": {
    "vscode": {
     "languageId": "bash"
    }
   },
   "outputs": [],
   "source": [
    "sqlite3\n",
    ".help"
   ]
  },
  {
   "cell_type": "markdown",
   "metadata": {},
   "source": [
    "#### `.tables` Command\n",
    "\n",
    "The `.tables` command is used to display a list of tables in the SQLite database. This is useful to get an overview of the database structure."
   ]
  },
  {
   "cell_type": "code",
   "execution_count": null,
   "metadata": {
    "vscode": {
     "languageId": "bash"
    }
   },
   "outputs": [],
   "source": [
    "sqlite3 my_database.db\n",
    ".tables"
   ]
  },
  {
   "cell_type": "markdown",
   "metadata": {},
   "source": [
    "#### `.schema` Command\n",
    "\n",
    "The `.schema` command is used to display the schema of a SQLite database. The schema includes information about the tables, columns, and data types in the database."
   ]
  },
  {
   "cell_type": "code",
   "execution_count": null,
   "metadata": {
    "vscode": {
     "languageId": "bash"
    }
   },
   "outputs": [],
   "source": [
    "sqlite3 my_database.db\n",
    ".schema my_table"
   ]
  },
  {
   "cell_type": "markdown",
   "metadata": {},
   "source": [
    "#### `.mode` Command\n",
    "\n",
    "The `.mode` command is used to set the output mode of the SQLite CLI. The output mode can be set to various formats, such as CSV, HTML, or tab-separated values (TSV)."
   ]
  },
  {
   "cell_type": "code",
   "execution_count": null,
   "metadata": {
    "vscode": {
     "languageId": "bash"
    }
   },
   "outputs": [],
   "source": [
    "sqlite3 my_database.db\n",
    ".mode csv"
   ]
  },
  {
   "cell_type": "markdown",
   "metadata": {},
   "source": [
    "#### `.headers` Command\n",
    "\n",
    "The `.headers` command is used to set the headers for the output of the SQLite CLI. The headers can be set to on or off."
   ]
  },
  {
   "cell_type": "code",
   "execution_count": null,
   "metadata": {
    "vscode": {
     "languageId": "bash"
    }
   },
   "outputs": [],
   "source": [
    "sqlite3 my_database.db\n",
    ".headers on"
   ]
  },
  {
   "cell_type": "markdown",
   "metadata": {},
   "source": [
    "#### `.import` Command\n",
    "\n",
    "The `.import` command is used to import data from a file into a SQLite database. The file can be in various formats, such as CSV or TSV."
   ]
  },
  {
   "cell_type": "code",
   "execution_count": null,
   "metadata": {
    "vscode": {
     "languageId": "bash"
    }
   },
   "outputs": [],
   "source": [
    "sqlite3 my_database.db\n",
    ".mode csv\n",
    ".import data.csv my_table"
   ]
  },
  {
   "cell_type": "markdown",
   "metadata": {},
   "source": [
    "#### `.output` Command\n",
    "\n",
    "The `.output` command is used to set the output file for the SQLite CLI. The output file can be in various formats, such as CSV or TSV."
   ]
  },
  {
   "cell_type": "code",
   "execution_count": null,
   "metadata": {
    "vscode": {
     "languageId": "bash"
    }
   },
   "outputs": [],
   "source": [
    "sqlite3 my_database.db\n",
    ".output output.csv"
   ]
  },
  {
   "cell_type": "markdown",
   "metadata": {},
   "source": [
    "#### `.exit` Command\n",
    "\n",
    "The `.exit` command is used to exit the SQLite CLI."
   ]
  },
  {
   "cell_type": "code",
   "execution_count": null,
   "metadata": {
    "vscode": {
     "languageId": "sql"
    }
   },
   "outputs": [],
   "source": [
    ".help"
   ]
  }
 ],
 "metadata": {
  "kernelspec": {
   "display_name": ".venv",
   "language": "python",
   "name": "python3"
  },
  "language_info": {
   "codemirror_mode": {
    "name": "ipython",
    "version": 3
   },
   "file_extension": ".py",
   "mimetype": "text/x-python",
   "name": "python",
   "nbconvert_exporter": "python",
   "pygments_lexer": "ipython3",
   "version": "3.13.3"
  }
 },
 "nbformat": 4,
 "nbformat_minor": 2
}
