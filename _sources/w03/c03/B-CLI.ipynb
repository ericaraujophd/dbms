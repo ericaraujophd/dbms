{
 "cells": [
  {
   "cell_type": "markdown",
   "metadata": {},
   "source": [
    "# CLI: Using SQLite3 Command Line Interface\n",
    "\n",
    "## 3.3.1 SQLite3 Command Line Interface\n",
    "\n",
    "SQLite3 is a command line tool that allows you to interact with SQLite databases. \n",
    "It is a powerful tool for executing SQL commands, managing databases, and performing various operations.\n",
    "To use SQLite3, you need to have it installed on your system. You can check if it is installed by running the following command in your terminal:\n",
    "\n",
    "```bash\n",
    "sqlite3 --version\n",
    "```\n",
    "If SQLite3 is installed, you will see the version number. If not, you can install it using your package manager.\n",
    "For example, on Ubuntu, you can install it using:\n",
    "\n",
    "```bash\n",
    "sudo apt-get install sqlite3\n",
    "```\n",
    "\n",
    "On macOS, you can use Homebrew:\n",
    "\n",
    "```bash\n",
    "brew install sqlite3\n",
    "```\n",
    "\n",
    "On Windows, you can download the SQLite3 executable from the official SQLite website and add it to your PATH.\n",
    "Once you have SQLite3 installed, you can start using it by running the following command:\n",
    "\n",
    "```bash\n",
    "sqlite3\n",
    "```\n",
    "This will open the SQLite3 command line interface, where you can start executing SQL commands.\n",
    "You can also specify a database file to open or create a new database file by running:\n",
    "\n",
    "```bash\n",
    "sqlite3 my_database.db\n",
    "```\n",
    "\n",
    "This will open the `my_database.db` file, and if it does not exist, it will create a new database file with that name.\n",
    "You can then start executing SQL commands on this database.\n",
    "To exit the SQLite3 command line interface, you can type `.exit` or press `Ctrl + D`.\n",
    "You can also use the `.help` command to see a list of available commands and options in the SQLite3 CLI.\n",
    "The SQLite3 command line interface provides a powerful and flexible way to interact with SQLite databases.   "
   ]
  }
 ],
 "metadata": {
  "kernelspec": {
   "display_name": ".venv",
   "language": "python",
   "name": "python3"
  },
  "language_info": {
   "codemirror_mode": {
    "name": "ipython",
    "version": 3
   },
   "file_extension": ".py",
   "mimetype": "text/x-python",
   "name": "python",
   "nbconvert_exporter": "python",
   "pygments_lexer": "ipython3",
   "version": "3.13.2"
  }
 },
 "nbformat": 4,
 "nbformat_minor": 2
}
