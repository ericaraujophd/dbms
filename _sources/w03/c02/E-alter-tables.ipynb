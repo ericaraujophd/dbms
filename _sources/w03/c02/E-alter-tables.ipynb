{
 "cells": [
  {
   "cell_type": "markdown",
   "metadata": {},
   "source": [
    "# 3.2.D ALTER TABLE\n",
    "\n",
    "Table design principles using DDL commands, such as CREATE TABLE, DROP TABLE, **ALTER TABLE**, CREATE INDEX, DROP INDEX, CREATE VIEW, DROP VIEW.\n",
    "\n",
    "Control columns values using constraints: primary keys, foreign keys, delete with CASCADE, CHECK, UNIQUE, NOT NULL, AUTOINCREMENT."
   ]
  },
  {
   "cell_type": "code",
   "execution_count": 1,
   "metadata": {},
   "outputs": [],
   "source": [
    "%%capture\n",
    "%load_ext sql\n",
    "%sql sqlite:///\n",
    "%config SqlMagic.style = '_DEPRECATED_DEFAULT'"
   ]
  },
  {
   "cell_type": "markdown",
   "metadata": {},
   "source": [
    "## ALTER TABLE\n",
    "\n",
    "The **ALTER TABLE** statement is used to add, delete, or modify columns in an existing table. It can also be used to add and drop various constraints on an existing table.\n",
    "\n",
    "SQLite’s ALTER TABLE command is more limited compared to other DBMSs like PostgreSQL or MySQL. Here’s a breakdown:\n",
    "\n",
    "### ✅ What ALTER TABLE Can Do in SQLite\n",
    "\n",
    "| <br>Operation \t| <br>Syntax Example \t|\n",
    "|---\t|---\t|\n",
    "| <br>Rename a table  \t|  <br>ALTER TABLE old_name RENAME TO new_name;  \t|\n",
    "| <br>Rename a column  \t|  <br>ALTER TABLE table_name RENAME COLUMN old TO new;  \t|\n",
    "| <br>Add a new column \t|  <br>ALTER TABLE table_name ADD COLUMN column_def;  \t|\n",
    "\n",
    "ℹ️ Notes:\n",
    "\n",
    "* When adding a column, you may use `DEFAULT`, `NULL`, or `NOT NULL` (if a default is provided).\n",
    "* Column and table renaming are supported in SQLite 3.25.0+ (released in 2018)."
   ]
  },
  {
   "cell_type": "markdown",
   "metadata": {},
   "source": [
    "### ❌ What ALTER TABLE Cannot Do in SQLite\n",
    "\n",
    "|  <br>Operation  \t|  <br>Status  \t|  <br>Notes  \t|\n",
    "|---\t|---\t|---\t|\n",
    "|  <br>Drop a column  \t|  <br>❌ Not supported  \t|  <br>Requires manual workaround  \t|\n",
    "|  <br>Modify a column’s type or constraint  \t|  <br>❌ Not supported  \t|  <br>Must recreate the table  \t|\n",
    "|  <br>Change default value of an existing column  \t|  <br>❌ Not supported  \t|  <br>Requires table reconstruction  \t|\n",
    "|  <br>Reorder columns  \t|  <br>❌ Not supported  \t|  <br>SQLite stores columns in defined order permanently  \t|\n",
    "|  <br>Add or drop constraints (e.g., FK, UNIQUE)  \t|  <br>❌ Not supported  \t|  <br>Must recreate table with new constraints  \t|\n",
    "|  <br>Rename multiple columns at once  \t|  <br>❌ Not supported  \t|  <br>Rename one column at a time  \t|"
   ]
  },
  {
   "cell_type": "markdown",
   "metadata": {},
   "source": [
    "### 🛠️ Workaround for Unsupported Operations\n",
    "\n",
    "To drop a column, modify constraints, or change defaults, follow this pattern:\n",
    "\n",
    "```sql\n",
    "-- 1. Create new table\n",
    "CREATE TABLE Person_new (\n",
    "    id INTEGER PRIMARY KEY,\n",
    "    name TEXT\n",
    ");\n",
    "\n",
    "-- 2. Copy data from old table\n",
    "INSERT INTO Person_new (id, name)\n",
    "SELECT id, name FROM Person;\n",
    "\n",
    "-- 3. Drop the old table\n",
    "DROP TABLE Person;\n",
    "\n",
    "-- 4. Rename the new table\n",
    "ALTER TABLE Person_new RENAME TO Person;\n",
    "````"
   ]
  },
  {
   "cell_type": "markdown",
   "metadata": {},
   "source": [
    "### 🆚 Comparison with PostgreSQL and MySQL\n",
    "\n",
    "|  <br>Feature  \t|  <br>SQLite  \t|  <br>PostgreSQL / MySQL  \t|\n",
    "|---\t|---\t|---\t|\n",
    "|  <br>Drop/modify column  \t|  <br>❌ No  \t|  <br>✅ Yes  \t|\n",
    "|  <br>Add/drop constraints  \t|  <br>❌ No  \t|  <br>✅ Yes  \t|\n",
    "|  <br>Reorder columns  \t|  <br>❌ No  \t|  <br>✅ (MySQL) / 🚫 (PostgreSQL)  \t|\n",
    "|  <br>Rename columns  \t|  <br>✅ Yes  \t|  <br>✅ Yes  \t|"
   ]
  }
 ],
 "metadata": {
  "kernelspec": {
   "display_name": ".venv",
   "language": "python",
   "name": "python3"
  },
  "language_info": {
   "codemirror_mode": {
    "name": "ipython",
    "version": 3
   },
   "file_extension": ".py",
   "mimetype": "text/x-python",
   "name": "python",
   "nbconvert_exporter": "python",
   "pygments_lexer": "ipython3",
   "version": "3.13.2"
  }
 },
 "nbformat": 4,
 "nbformat_minor": 2
}
